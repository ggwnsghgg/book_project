{
  "nbformat": 4,
  "nbformat_minor": 0,
  "metadata": {
    "colab": {
      "name": "책_추천알고리즘.ipynb",
      "provenance": [],
      "collapsed_sections": [],
      "authorship_tag": "ABX9TyNFTr2as0gTsS7XPLtCbZJ4",
      "include_colab_link": true
    },
    "kernelspec": {
      "name": "python3",
      "display_name": "Python 3"
    }
  },
  "cells": [
    {
      "cell_type": "markdown",
      "metadata": {
        "id": "view-in-github",
        "colab_type": "text"
      },
      "source": [
        "<a href=\"https://colab.research.google.com/github/ggwnsghgg/book_project/blob/main/%EC%B1%85_%EC%B6%94%EC%B2%9C%EC%95%8C%EA%B3%A0%EB%A6%AC%EC%A6%98.ipynb\" target=\"_parent\"><img src=\"https://colab.research.google.com/assets/colab-badge.svg\" alt=\"Open In Colab\"/></a>"
      ]
    },
    {
      "cell_type": "code",
      "metadata": {
        "colab": {
          "base_uri": "https://localhost:8080/"
        },
        "id": "qp5dIsNDOB0m",
        "outputId": "ff4c4436-faf4-410f-f1d2-9492d2de7e52"
      },
      "source": [
        "!pip install pymysql\r\n"
      ],
      "execution_count": 3,
      "outputs": [
        {
          "output_type": "stream",
          "text": [
            "Collecting pymysql\n",
            "\u001b[?25l  Downloading https://files.pythonhosted.org/packages/4f/52/a115fe175028b058df353c5a3d5290b71514a83f67078a6482cff24d6137/PyMySQL-1.0.2-py3-none-any.whl (43kB)\n",
            "\r\u001b[K     |███████▌                        | 10kB 16.8MB/s eta 0:00:01\r\u001b[K     |███████████████                 | 20kB 18.6MB/s eta 0:00:01\r\u001b[K     |██████████████████████▍         | 30kB 10.9MB/s eta 0:00:01\r\u001b[K     |██████████████████████████████  | 40kB 9.6MB/s eta 0:00:01\r\u001b[K     |████████████████████████████████| 51kB 4.0MB/s \n",
            "\u001b[?25hInstalling collected packages: pymysql\n",
            "Successfully installed pymysql-1.0.2\n"
          ],
          "name": "stdout"
        }
      ]
    },
    {
      "cell_type": "code",
      "metadata": {
        "colab": {
          "base_uri": "https://localhost:8080/"
        },
        "id": "wmKdnqnoOFUp",
        "outputId": "867b38da-1a83-4f1e-9dd5-2fe86c87ef88"
      },
      "source": [
        "!pip install konlpy"
      ],
      "execution_count": 4,
      "outputs": [
        {
          "output_type": "stream",
          "text": [
            "Collecting konlpy\n",
            "\u001b[?25l  Downloading https://files.pythonhosted.org/packages/85/0e/f385566fec837c0b83f216b2da65db9997b35dd675e107752005b7d392b1/konlpy-0.5.2-py2.py3-none-any.whl (19.4MB)\n",
            "\u001b[K     |████████████████████████████████| 19.4MB 79.5MB/s \n",
            "\u001b[?25hRequirement already satisfied: numpy>=1.6 in /usr/local/lib/python3.7/dist-packages (from konlpy) (1.19.5)\n",
            "Collecting JPype1>=0.7.0\n",
            "\u001b[?25l  Downloading https://files.pythonhosted.org/packages/cd/a5/9781e2ef4ca92d09912c4794642c1653aea7607f473e156cf4d423a881a1/JPype1-1.2.1-cp37-cp37m-manylinux2010_x86_64.whl (457kB)\n",
            "\u001b[K     |████████████████████████████████| 460kB 43.3MB/s \n",
            "\u001b[?25hCollecting colorama\n",
            "  Downloading https://files.pythonhosted.org/packages/44/98/5b86278fbbf250d239ae0ecb724f8572af1c91f4a11edf4d36a206189440/colorama-0.4.4-py2.py3-none-any.whl\n",
            "Requirement already satisfied: tweepy>=3.7.0 in /usr/local/lib/python3.7/dist-packages (from konlpy) (3.10.0)\n",
            "Requirement already satisfied: lxml>=4.1.0 in /usr/local/lib/python3.7/dist-packages (from konlpy) (4.2.6)\n",
            "Collecting beautifulsoup4==4.6.0\n",
            "\u001b[?25l  Downloading https://files.pythonhosted.org/packages/9e/d4/10f46e5cfac773e22707237bfcd51bbffeaf0a576b0a847ec7ab15bd7ace/beautifulsoup4-4.6.0-py3-none-any.whl (86kB)\n",
            "\u001b[K     |████████████████████████████████| 92kB 10.3MB/s \n",
            "\u001b[?25hRequirement already satisfied: typing-extensions; python_version < \"3.8\" in /usr/local/lib/python3.7/dist-packages (from JPype1>=0.7.0->konlpy) (3.7.4.3)\n",
            "Requirement already satisfied: six>=1.10.0 in /usr/local/lib/python3.7/dist-packages (from tweepy>=3.7.0->konlpy) (1.15.0)\n",
            "Requirement already satisfied: requests[socks]>=2.11.1 in /usr/local/lib/python3.7/dist-packages (from tweepy>=3.7.0->konlpy) (2.23.0)\n",
            "Requirement already satisfied: requests-oauthlib>=0.7.0 in /usr/local/lib/python3.7/dist-packages (from tweepy>=3.7.0->konlpy) (1.3.0)\n",
            "Requirement already satisfied: chardet<4,>=3.0.2 in /usr/local/lib/python3.7/dist-packages (from requests[socks]>=2.11.1->tweepy>=3.7.0->konlpy) (3.0.4)\n",
            "Requirement already satisfied: idna<3,>=2.5 in /usr/local/lib/python3.7/dist-packages (from requests[socks]>=2.11.1->tweepy>=3.7.0->konlpy) (2.10)\n",
            "Requirement already satisfied: urllib3!=1.25.0,!=1.25.1,<1.26,>=1.21.1 in /usr/local/lib/python3.7/dist-packages (from requests[socks]>=2.11.1->tweepy>=3.7.0->konlpy) (1.24.3)\n",
            "Requirement already satisfied: certifi>=2017.4.17 in /usr/local/lib/python3.7/dist-packages (from requests[socks]>=2.11.1->tweepy>=3.7.0->konlpy) (2020.12.5)\n",
            "Requirement already satisfied: PySocks!=1.5.7,>=1.5.6; extra == \"socks\" in /usr/local/lib/python3.7/dist-packages (from requests[socks]>=2.11.1->tweepy>=3.7.0->konlpy) (1.7.1)\n",
            "Requirement already satisfied: oauthlib>=3.0.0 in /usr/local/lib/python3.7/dist-packages (from requests-oauthlib>=0.7.0->tweepy>=3.7.0->konlpy) (3.1.0)\n",
            "Installing collected packages: JPype1, colorama, beautifulsoup4, konlpy\n",
            "  Found existing installation: beautifulsoup4 4.6.3\n",
            "    Uninstalling beautifulsoup4-4.6.3:\n",
            "      Successfully uninstalled beautifulsoup4-4.6.3\n",
            "Successfully installed JPype1-1.2.1 beautifulsoup4-4.6.0 colorama-0.4.4 konlpy-0.5.2\n"
          ],
          "name": "stdout"
        }
      ]
    },
    {
      "cell_type": "code",
      "metadata": {
        "id": "gkDQDSP4AiFn"
      },
      "source": [
        "import pymysql\r\n",
        "import pandas as pd\r\n",
        "import numpy as np\r\n",
        "import konlpy\r\n",
        "\r\n",
        "#데이터 가져오기\r\n",
        "db = pymysql.connect(host='220.86.191.27', port=3306, user='playdata', password='playdata123!', db='bookdata', charset='utf8')\r\n",
        "\r\n",
        "curs = db.cursor(pymysql.cursors.DictCursor)\r\n",
        "\r\n",
        "query = '''\r\n",
        "select *\r\n",
        "    from books_data'''\r\n",
        "df_books_data = pd.read_sql(query, db)"
      ],
      "execution_count": 5,
      "outputs": []
    },
    {
      "cell_type": "code",
      "metadata": {
        "colab": {
          "base_uri": "https://localhost:8080/",
          "height": 1000
        },
        "id": "BOFD6XAyAikL",
        "outputId": "b6df19f1-6ae7-4989-a6ab-bcd4d8d0aaba"
      },
      "source": [
        "df"
      ],
      "execution_count": null,
      "outputs": [
        {
          "output_type": "execute_result",
          "data": {
            "text/html": [
              "<div>\n",
              "<style scoped>\n",
              "    .dataframe tbody tr th:only-of-type {\n",
              "        vertical-align: middle;\n",
              "    }\n",
              "\n",
              "    .dataframe tbody tr th {\n",
              "        vertical-align: top;\n",
              "    }\n",
              "\n",
              "    .dataframe thead th {\n",
              "        text-align: right;\n",
              "    }\n",
              "</style>\n",
              "<table border=\"1\" class=\"dataframe\">\n",
              "  <thead>\n",
              "    <tr style=\"text-align: right;\">\n",
              "      <th></th>\n",
              "      <th>'1'</th>\n",
              "      <th>'요리코를 위해'</th>\n",
              "      <th>'노리즈키 린타로'</th>\n",
              "      <th>'모모'</th>\n",
              "      <th>'2020.03'</th>\n",
              "      <th>'13500'</th>\n",
              "      <th>'43'</th>\n",
              "      <th>'9.2'</th>\n",
              "      <th>'스스로 악마이자 신이 되어 딸을 살해한 남자를 심판한 아버지.비극의 출발이자 마지막인</th>\n",
              "      <th>그러나 끝내 실체를 파악할 수 없는 딸.진실을 밝혀냈지만 패배한 탐정.모두가 누군가가 세팅한 무대 위의 인형에 지나지 않았다!괴물은 누구이며</th>\n",
              "      <th>그 괴물을 움직이는 자는 누구인가?17세 여학생 요리코가 공원에서 변사체로 발견...'</th>\n",
              "      <th>'http://image.yes24.com/goods/89392792/L'</th>\n",
              "      <th>'추리/미스터리'</th>\n",
              "    </tr>\n",
              "  </thead>\n",
              "  <tbody>\n",
              "    <tr>\n",
              "      <th>0</th>\n",
              "      <td>'2'</td>\n",
              "      <td>'그녀는 다 계획이 있다'</td>\n",
              "      <td>'히가시노 게이고'</td>\n",
              "      <td>'하빌리스'</td>\n",
              "      <td>'2021.02'</td>\n",
              "      <td>'14220'</td>\n",
              "      <td>'13'</td>\n",
              "      <td>'9.4'</td>\n",
              "      <td>'하나야 보석점 살인사건을 둘러싼 과거와 미래의 사건경쾌하고 리듬감 있는 터치의 히...</td>\n",
              "      <td>하나야 보석점 고객 감사파티가 끝난 뒤 직장동료 에리가 호텔 밀실에서 죽은 채 발견되고</td>\n",
              "      <td>교코는 자신이 ...'</td>\n",
              "      <td>'http://image.yes24.com/goods/97561319/L'</td>\n",
              "      <td>'추리/미스터리'</td>\n",
              "    </tr>\n",
              "    <tr>\n",
              "      <th>1</th>\n",
              "      <td>'3'</td>\n",
              "      <td>'블랙 쇼맨과 이름 없는 마을의 살인'</td>\n",
              "      <td>'히가시노 게이고'</td>\n",
              "      <td>'알에이치코리아(RHK)'</td>\n",
              "      <td>'2020.11'</td>\n",
              "      <td>'16200'</td>\n",
              "      <td>'54'</td>\n",
              "      <td>'9.1'</td>\n",
              "      <td>'아버지가 살해당했다</td>\n",
              "      <td>그것도 결혼 소식을 알린 직후에. 행복하다고 느끼는 순간</td>\n",
              "      <td>비극은 시작되는 걸까? 대기업 취직 후 약혼자와 꿈꾸던 결혼식을 준비해 나가던 마...</td>\n",
              "      <td>'http://image.yes24.com/goods/95712763/L'</td>\n",
              "      <td>'추리/미스터리'</td>\n",
              "    </tr>\n",
              "    <tr>\n",
              "      <th>2</th>\n",
              "      <td>'4'</td>\n",
              "      <td>'돌이킬 수 없는 약속'</td>\n",
              "      <td>'야쿠마루 가쿠'</td>\n",
              "      <td>'북플라자'</td>\n",
              "      <td>'2017.02'</td>\n",
              "      <td>'13500'</td>\n",
              "      <td>'217'</td>\n",
              "      <td>'8.2'</td>\n",
              "      <td>'제51회 에드가와란포상 수상 작가 야쿠마루 가쿠의 미스터리 추리 소설. \"내 딸을...</td>\n",
              "      <td>그리고 15년 전에 했던 어느 노파와의 돌이킬 수 없는 약속을 둘러싸고 벌어지는 ...</td>\n",
              "      <td>'http://image.yes24.com/goods/35552641/L'</td>\n",
              "      <td>'추리/미스터리'</td>\n",
              "      <td>NaN</td>\n",
              "    </tr>\n",
              "    <tr>\n",
              "      <th>3</th>\n",
              "      <td>'5'</td>\n",
              "      <td>'루팡의 딸'</td>\n",
              "      <td>'요코제키 다이'</td>\n",
              "      <td>'북플라자'</td>\n",
              "      <td>'2019.09'</td>\n",
              "      <td>'13500'</td>\n",
              "      <td>'31'</td>\n",
              "      <td>'8.5'</td>\n",
              "      <td>'도둑 집안의 대부가 변사체로 발견되었다!도둑 집안의 대부 이와오에게는 하나코라는 ...</td>\n",
              "      <td>'http://image.yes24.com/goods/78860364/L'</td>\n",
              "      <td>'추리/미스터리'</td>\n",
              "      <td>NaN</td>\n",
              "      <td>NaN</td>\n",
              "    </tr>\n",
              "    <tr>\n",
              "      <th>4</th>\n",
              "      <td>'6'</td>\n",
              "      <td>'라플라스의 마녀'</td>\n",
              "      <td>'히가시노 게이고'</td>\n",
              "      <td>'현대문학'</td>\n",
              "      <td>'2016.01'</td>\n",
              "      <td>'13320'</td>\n",
              "      <td>'154'</td>\n",
              "      <td>'8.8'</td>\n",
              "      <td>'일본 추리소설계를 대표하는 최고의 베스트셀러 작가 히가시노 게이고가 2015년</td>\n",
              "      <td>데뷔 30주년 기념작으로 선보인 『라플라스의 마녀』가 현대문학에서 번역 출간되었다...</td>\n",
              "      <td>'http://image.yes24.com/goods/23630397/L'</td>\n",
              "      <td>'추리/미스터리'</td>\n",
              "      <td>NaN</td>\n",
              "    </tr>\n",
              "    <tr>\n",
              "      <th>...</th>\n",
              "      <td>...</td>\n",
              "      <td>...</td>\n",
              "      <td>...</td>\n",
              "      <td>...</td>\n",
              "      <td>...</td>\n",
              "      <td>...</td>\n",
              "      <td>...</td>\n",
              "      <td>...</td>\n",
              "      <td>...</td>\n",
              "      <td>...</td>\n",
              "      <td>...</td>\n",
              "      <td>...</td>\n",
              "      <td>...</td>\n",
              "    </tr>\n",
              "    <tr>\n",
              "      <th>63974</th>\n",
              "      <td>'79771'</td>\n",
              "      <td>'하루만 사랑해 2'</td>\n",
              "      <td>''</td>\n",
              "      <td>'파피루스(디앤씨미디어)'</td>\n",
              "      <td>'2003.06'</td>\n",
              "      <td>'8100'</td>\n",
              "      <td>'0'</td>\n",
              "      <td>'0.0'</td>\n",
              "      <td>'어느 날 서원은 횡단보도에서 교통사고를 당한다. 상대는 인천상고 짱인 노란머 민하...</td>\n",
              "      <td>그 사건이 잊혀질 때쯤 우연히 다시 만난(?) 그놈은 엄마 재혼상대의 아들이었는데...</td>\n",
              "      <td>'http://image.yes24.com/goods/375484/L'</td>\n",
              "      <td>'로맨스'</td>\n",
              "      <td>NaN</td>\n",
              "    </tr>\n",
              "    <tr>\n",
              "      <th>63975</th>\n",
              "      <td>'79772'</td>\n",
              "      <td>'서울 여자와 대구 남자가 만날 때'</td>\n",
              "      <td>'정민'</td>\n",
              "      <td>'영상노트'</td>\n",
              "      <td>'2003.06'</td>\n",
              "      <td>'8100'</td>\n",
              "      <td>'0'</td>\n",
              "      <td>'0.0'</td>\n",
              "      <td>''</td>\n",
              "      <td>'http://image.yes24.com/goods/376458/L'</td>\n",
              "      <td>'로맨스'</td>\n",
              "      <td>NaN</td>\n",
              "      <td>NaN</td>\n",
              "    </tr>\n",
              "    <tr>\n",
              "      <th>63976</th>\n",
              "      <td>'79773'</td>\n",
              "      <td>'kiss me...'</td>\n",
              "      <td>''</td>\n",
              "      <td>'현무'</td>\n",
              "      <td>'2003.06'</td>\n",
              "      <td>'7200'</td>\n",
              "      <td>'2'</td>\n",
              "      <td>'5.0'</td>\n",
              "      <td>''</td>\n",
              "      <td>'http://image.yes24.com/goods/377351/L'</td>\n",
              "      <td>'로맨스'</td>\n",
              "      <td>NaN</td>\n",
              "      <td>NaN</td>\n",
              "    </tr>\n",
              "    <tr>\n",
              "      <th>63977</th>\n",
              "      <td>'79774'</td>\n",
              "      <td>'어린 엄마 2'</td>\n",
              "      <td>'임은희'</td>\n",
              "      <td>'반디출판사'</td>\n",
              "      <td>'2003.07'</td>\n",
              "      <td>'8100'</td>\n",
              "      <td>'0'</td>\n",
              "      <td>'0.0'</td>\n",
              "      <td>''</td>\n",
              "      <td>'http://image.yes24.com/goods/377607/L'</td>\n",
              "      <td>'로맨스'</td>\n",
              "      <td>NaN</td>\n",
              "      <td>NaN</td>\n",
              "    </tr>\n",
              "    <tr>\n",
              "      <th>63978</th>\n",
              "      <td>'79775'</td>\n",
              "      <td>'어린 엄마 1'</td>\n",
              "      <td>'임은희'</td>\n",
              "      <td>'반디출판사'</td>\n",
              "      <td>'2003.07'</td>\n",
              "      <td>'8100'</td>\n",
              "      <td>'0'</td>\n",
              "      <td>'0.0'</td>\n",
              "      <td>''</td>\n",
              "      <td>'http://image.yes24.com/goods/377608/L'</td>\n",
              "      <td>'로맨스'</td>\n",
              "      <td>NaN</td>\n",
              "      <td>NaN</td>\n",
              "    </tr>\n",
              "  </tbody>\n",
              "</table>\n",
              "<p>63979 rows × 13 columns</p>\n",
              "</div>"
            ],
            "text/plain": [
              "           '1'  ...  '추리/미스터리'\n",
              "0          '2'  ...  '추리/미스터리'\n",
              "1          '3'  ...  '추리/미스터리'\n",
              "2          '4'  ...        NaN\n",
              "3          '5'  ...        NaN\n",
              "4          '6'  ...        NaN\n",
              "...        ...  ...        ...\n",
              "63974  '79771'  ...        NaN\n",
              "63975  '79772'  ...        NaN\n",
              "63976  '79773'  ...        NaN\n",
              "63977  '79774'  ...        NaN\n",
              "63978  '79775'  ...        NaN\n",
              "\n",
              "[63979 rows x 13 columns]"
            ]
          },
          "metadata": {
            "tags": []
          },
          "execution_count": 34
        }
      ]
    },
    {
      "cell_type": "code",
      "metadata": {
        "id": "92HFAg1uXYgQ"
      },
      "source": [
        "#스토리의 키워드를 뽑기위해 명사와 형용사만 가져오자\r\n",
        "story_words = df_books_data['story'].to_numpy()\r\n",
        "for i, document in enumerate(story_words):\r\n",
        "    okt = konlpy.tag.Okt()\r\n",
        "    clean_words = []\r\n",
        "    for word in okt.pos(document, stem = True): #어간 뽑자\r\n",
        "        if word[1] in ['Noun', 'Adjective']: #명사, 형용사만 가져와\r\n",
        "            clean_words.append(word[0])\r\n",
        "    #print(clean_words)\r\n",
        "    document = ' '.join(clean_words)\r\n",
        "    #print(document)\r\n",
        "    story_words[i] = document"
      ],
      "execution_count": null,
      "outputs": []
    },
    {
      "cell_type": "code",
      "metadata": {
        "colab": {
          "base_uri": "https://localhost:8080/",
          "height": 80
        },
        "id": "k6pBryMlZzK6",
        "outputId": "67bcbd3f-531f-4cf9-ce0b-e58a5c124f62"
      },
      "source": [
        "df"
      ],
      "execution_count": null,
      "outputs": [
        {
          "output_type": "execute_result",
          "data": {
            "text/html": [
              "<div>\n",
              "<style scoped>\n",
              "    .dataframe tbody tr th:only-of-type {\n",
              "        vertical-align: middle;\n",
              "    }\n",
              "\n",
              "    .dataframe tbody tr th {\n",
              "        vertical-align: top;\n",
              "    }\n",
              "\n",
              "    .dataframe thead th {\n",
              "        text-align: right;\n",
              "    }\n",
              "</style>\n",
              "<table border=\"1\" class=\"dataframe\">\n",
              "  <thead>\n",
              "    <tr style=\"text-align: right;\">\n",
              "      <th></th>\n",
              "      <th>0</th>\n",
              "    </tr>\n",
              "  </thead>\n",
              "  <tbody>\n",
              "    <tr>\n",
              "      <th>0</th>\n",
              "      <td>NaN</td>\n",
              "    </tr>\n",
              "  </tbody>\n",
              "</table>\n",
              "</div>"
            ],
            "text/plain": [
              "     0\n",
              "0  NaN"
            ]
          },
          "metadata": {
            "tags": []
          },
          "execution_count": 23
        }
      ]
    },
    {
      "cell_type": "code",
      "metadata": {
        "id": "C_KKVydvZ7Pf"
      },
      "source": [
        ""
      ],
      "execution_count": null,
      "outputs": []
    }
  ]
}