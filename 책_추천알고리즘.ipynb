{
  "nbformat": 4,
  "nbformat_minor": 0,
  "metadata": {
    "colab": {
      "name": "책_추천알고리즘.ipynb",
      "provenance": [],
      "collapsed_sections": [],
      "authorship_tag": "ABX9TyMQ7GdSVWyfEZHHbyAx+Xtq",
      "include_colab_link": true
    },
    "kernelspec": {
      "name": "python3",
      "display_name": "Python 3"
    }
  },
  "cells": [
    {
      "cell_type": "markdown",
      "metadata": {
        "id": "view-in-github",
        "colab_type": "text"
      },
      "source": [
        "<a href=\"https://colab.research.google.com/github/ggwnsghgg/book_project/blob/main/%EC%B1%85_%EC%B6%94%EC%B2%9C%EC%95%8C%EA%B3%A0%EB%A6%AC%EC%A6%98.ipynb\" target=\"_parent\"><img src=\"https://colab.research.google.com/assets/colab-badge.svg\" alt=\"Open In Colab\"/></a>"
      ]
    },
    {
      "cell_type": "code",
      "metadata": {
        "id": "gkDQDSP4AiFn",
        "colab": {
          "base_uri": "https://localhost:8080/"
        },
        "outputId": "3067288d-f9f5-4f58-c28e-39cbb8498c43"
      },
      "source": [
        "!pip install pymysql\n",
        "!pip install konlpy"
      ],
      "execution_count": 29,
      "outputs": [
        {
          "output_type": "stream",
          "text": [
            "Requirement already satisfied: pymysql in /usr/local/lib/python3.7/dist-packages (1.0.2)\n",
            "Requirement already satisfied: konlpy in /usr/local/lib/python3.7/dist-packages (0.5.2)\n",
            "Requirement already satisfied: JPype1>=0.7.0 in /usr/local/lib/python3.7/dist-packages (from konlpy) (1.2.1)\n",
            "Requirement already satisfied: tweepy>=3.7.0 in /usr/local/lib/python3.7/dist-packages (from konlpy) (3.10.0)\n",
            "Requirement already satisfied: lxml>=4.1.0 in /usr/local/lib/python3.7/dist-packages (from konlpy) (4.2.6)\n",
            "Requirement already satisfied: numpy>=1.6 in /usr/local/lib/python3.7/dist-packages (from konlpy) (1.19.5)\n",
            "Requirement already satisfied: colorama in /usr/local/lib/python3.7/dist-packages (from konlpy) (0.4.4)\n",
            "Requirement already satisfied: beautifulsoup4==4.6.0 in /usr/local/lib/python3.7/dist-packages (from konlpy) (4.6.0)\n",
            "Requirement already satisfied: typing-extensions; python_version < \"3.8\" in /usr/local/lib/python3.7/dist-packages (from JPype1>=0.7.0->konlpy) (3.7.4.3)\n",
            "Requirement already satisfied: requests-oauthlib>=0.7.0 in /usr/local/lib/python3.7/dist-packages (from tweepy>=3.7.0->konlpy) (1.3.0)\n",
            "Requirement already satisfied: requests[socks]>=2.11.1 in /usr/local/lib/python3.7/dist-packages (from tweepy>=3.7.0->konlpy) (2.23.0)\n",
            "Requirement already satisfied: six>=1.10.0 in /usr/local/lib/python3.7/dist-packages (from tweepy>=3.7.0->konlpy) (1.15.0)\n",
            "Requirement already satisfied: oauthlib>=3.0.0 in /usr/local/lib/python3.7/dist-packages (from requests-oauthlib>=0.7.0->tweepy>=3.7.0->konlpy) (3.1.0)\n",
            "Requirement already satisfied: idna<3,>=2.5 in /usr/local/lib/python3.7/dist-packages (from requests[socks]>=2.11.1->tweepy>=3.7.0->konlpy) (2.10)\n",
            "Requirement already satisfied: urllib3!=1.25.0,!=1.25.1,<1.26,>=1.21.1 in /usr/local/lib/python3.7/dist-packages (from requests[socks]>=2.11.1->tweepy>=3.7.0->konlpy) (1.24.3)\n",
            "Requirement already satisfied: certifi>=2017.4.17 in /usr/local/lib/python3.7/dist-packages (from requests[socks]>=2.11.1->tweepy>=3.7.0->konlpy) (2020.12.5)\n",
            "Requirement already satisfied: chardet<4,>=3.0.2 in /usr/local/lib/python3.7/dist-packages (from requests[socks]>=2.11.1->tweepy>=3.7.0->konlpy) (3.0.4)\n",
            "Requirement already satisfied: PySocks!=1.5.7,>=1.5.6; extra == \"socks\" in /usr/local/lib/python3.7/dist-packages (from requests[socks]>=2.11.1->tweepy>=3.7.0->konlpy) (1.7.1)\n"
          ],
          "name": "stdout"
        }
      ]
    },
    {
      "cell_type": "code",
      "metadata": {
        "id": "GnOvPZCLyAPv"
      },
      "source": [
        ""
      ],
      "execution_count": 29,
      "outputs": []
    },
    {
      "cell_type": "code",
      "metadata": {
        "id": "ZxqwI6RfnXWd"
      },
      "source": [
        "import pymysql\n",
        "import pandas as pd\n",
        "import numpy as np\n",
        "import os\n",
        "from tqdm import tqdm\n",
        "import konlpy\n",
        "\n",
        "\n",
        "from sklearn.model_selection import train_test_split\n",
        "from sklearn.metrics import mean_squared_error\n",
        "# from google.colab import drive\n",
        "# drive.mount('/content/drive')\n",
        "\n",
        "\n",
        "\n",
        "#데이터 가져오기\n",
        "db = pymysql.connect(host='222.111.24.101', port=3306, user='playdata', password='playdata123!', db='bookdata', charset='utf8')\n",
        "\n",
        "curs = db.cursor(pymysql.cursors.DictCursor)  \n",
        "\n",
        "query = '''\n",
        "select *\n",
        "    from books_data'''\n",
        "df_books_data = pd.read_sql(query, db)"
      ],
      "execution_count": 30,
      "outputs": []
    },
    {
      "cell_type": "code",
      "metadata": {
        "id": "4HYJuYIkerr4"
      },
      "source": [
        "# 구글 드라이브 사용시\n",
        "\n",
        "# path = '/content/drive/MyDrive/data/'\n",
        "# df_books_data = pd.read_csv(os.path.join(path, 'book_data.csv'), error_bad_lines=False)"
      ],
      "execution_count": 31,
      "outputs": []
    },
    {
      "cell_type": "code",
      "metadata": {
        "id": "nOF8K7PtjJsZ",
        "colab": {
          "base_uri": "https://localhost:8080/",
          "height": 652
        },
        "outputId": "5384d975-ed26-461b-82de-ba9eb2430df3"
      },
      "source": [
        "df_books_data"
      ],
      "execution_count": 32,
      "outputs": [
        {
          "output_type": "execute_result",
          "data": {
            "text/html": [
              "<div>\n",
              "<style scoped>\n",
              "    .dataframe tbody tr th:only-of-type {\n",
              "        vertical-align: middle;\n",
              "    }\n",
              "\n",
              "    .dataframe tbody tr th {\n",
              "        vertical-align: top;\n",
              "    }\n",
              "\n",
              "    .dataframe thead th {\n",
              "        text-align: right;\n",
              "    }\n",
              "</style>\n",
              "<table border=\"1\" class=\"dataframe\">\n",
              "  <thead>\n",
              "    <tr style=\"text-align: right;\">\n",
              "      <th></th>\n",
              "      <th>id</th>\n",
              "      <th>title</th>\n",
              "      <th>author</th>\n",
              "      <th>pub</th>\n",
              "      <th>date</th>\n",
              "      <th>price</th>\n",
              "      <th>review</th>\n",
              "      <th>rating</th>\n",
              "      <th>story</th>\n",
              "      <th>img</th>\n",
              "      <th>genre</th>\n",
              "    </tr>\n",
              "  </thead>\n",
              "  <tbody>\n",
              "    <tr>\n",
              "      <th>0</th>\n",
              "      <td>1</td>\n",
              "      <td>요리코를 위해</td>\n",
              "      <td>노리즈키 린타로</td>\n",
              "      <td>모모</td>\n",
              "      <td>2020.03</td>\n",
              "      <td>13500</td>\n",
              "      <td>43</td>\n",
              "      <td>9.2</td>\n",
              "      <td>스스로 악마이자 신이 되어 딸을 살해한 남자를 심판한 아버지.비극의 출발이자 마지막...</td>\n",
              "      <td>http://image.yes24.com/goods/89392792/L</td>\n",
              "      <td>추리/미스터리</td>\n",
              "    </tr>\n",
              "    <tr>\n",
              "      <th>1</th>\n",
              "      <td>2</td>\n",
              "      <td>그녀는 다 계획이 있다</td>\n",
              "      <td>히가시노 게이고</td>\n",
              "      <td>하빌리스</td>\n",
              "      <td>2021.02</td>\n",
              "      <td>14220</td>\n",
              "      <td>13</td>\n",
              "      <td>9.4</td>\n",
              "      <td>하나야 보석점 살인사건을 둘러싼 과거와 미래의 사건경쾌하고 리듬감 있는 터치의 히가...</td>\n",
              "      <td>http://image.yes24.com/goods/97561319/L</td>\n",
              "      <td>추리/미스터리</td>\n",
              "    </tr>\n",
              "    <tr>\n",
              "      <th>2</th>\n",
              "      <td>3</td>\n",
              "      <td>블랙 쇼맨과 이름 없는 마을의 살인</td>\n",
              "      <td>히가시노 게이고</td>\n",
              "      <td>알에이치코리아(RHK)</td>\n",
              "      <td>2020.11</td>\n",
              "      <td>16200</td>\n",
              "      <td>54</td>\n",
              "      <td>9.1</td>\n",
              "      <td>아버지가 살해당했다, 그것도 결혼 소식을 알린 직후에. 행복하다고 느끼는 순간, 비...</td>\n",
              "      <td>http://image.yes24.com/goods/95712763/L</td>\n",
              "      <td>추리/미스터리</td>\n",
              "    </tr>\n",
              "    <tr>\n",
              "      <th>3</th>\n",
              "      <td>4</td>\n",
              "      <td>돌이킬 수 없는 약속</td>\n",
              "      <td>야쿠마루 가쿠</td>\n",
              "      <td>북플라자</td>\n",
              "      <td>2017.02</td>\n",
              "      <td>13500</td>\n",
              "      <td>217</td>\n",
              "      <td>8.2</td>\n",
              "      <td>제51회 에드가와란포상 수상 작가 야쿠마루 가쿠의 미스터리 추리 소설. \"내 딸을 ...</td>\n",
              "      <td>http://image.yes24.com/goods/35552641/L</td>\n",
              "      <td>추리/미스터리</td>\n",
              "    </tr>\n",
              "    <tr>\n",
              "      <th>4</th>\n",
              "      <td>5</td>\n",
              "      <td>루팡의 딸</td>\n",
              "      <td>요코제키 다이</td>\n",
              "      <td>북플라자</td>\n",
              "      <td>2019.09</td>\n",
              "      <td>13500</td>\n",
              "      <td>31</td>\n",
              "      <td>8.5</td>\n",
              "      <td>도둑 집안의 대부가 변사체로 발견되었다!도둑 집안의 대부 이와오에게는 하나코라는 손...</td>\n",
              "      <td>http://image.yes24.com/goods/78860364/L</td>\n",
              "      <td>추리/미스터리</td>\n",
              "    </tr>\n",
              "    <tr>\n",
              "      <th>...</th>\n",
              "      <td>...</td>\n",
              "      <td>...</td>\n",
              "      <td>...</td>\n",
              "      <td>...</td>\n",
              "      <td>...</td>\n",
              "      <td>...</td>\n",
              "      <td>...</td>\n",
              "      <td>...</td>\n",
              "      <td>...</td>\n",
              "      <td>...</td>\n",
              "      <td>...</td>\n",
              "    </tr>\n",
              "    <tr>\n",
              "      <th>79770</th>\n",
              "      <td>79771</td>\n",
              "      <td>하루만 사랑해 2</td>\n",
              "      <td></td>\n",
              "      <td>파피루스(디앤씨미디어)</td>\n",
              "      <td>2003.06</td>\n",
              "      <td>8100</td>\n",
              "      <td>0</td>\n",
              "      <td>0.0</td>\n",
              "      <td>어느 날 서원은 횡단보도에서 교통사고를 당한다. 상대는 인천상고 짱인 노란머 민하루...</td>\n",
              "      <td>http://image.yes24.com/goods/375484/L</td>\n",
              "      <td>로맨스</td>\n",
              "    </tr>\n",
              "    <tr>\n",
              "      <th>79771</th>\n",
              "      <td>79772</td>\n",
              "      <td>서울 여자와 대구 남자가 만날 때</td>\n",
              "      <td>정민</td>\n",
              "      <td>영상노트</td>\n",
              "      <td>2003.06</td>\n",
              "      <td>8100</td>\n",
              "      <td>0</td>\n",
              "      <td>0.0</td>\n",
              "      <td></td>\n",
              "      <td>http://image.yes24.com/goods/376458/L</td>\n",
              "      <td>로맨스</td>\n",
              "    </tr>\n",
              "    <tr>\n",
              "      <th>79772</th>\n",
              "      <td>79773</td>\n",
              "      <td>kiss me...</td>\n",
              "      <td></td>\n",
              "      <td>현무</td>\n",
              "      <td>2003.06</td>\n",
              "      <td>7200</td>\n",
              "      <td>2</td>\n",
              "      <td>5.0</td>\n",
              "      <td></td>\n",
              "      <td>http://image.yes24.com/goods/377351/L</td>\n",
              "      <td>로맨스</td>\n",
              "    </tr>\n",
              "    <tr>\n",
              "      <th>79773</th>\n",
              "      <td>79774</td>\n",
              "      <td>어린 엄마 2</td>\n",
              "      <td>임은희</td>\n",
              "      <td>반디출판사</td>\n",
              "      <td>2003.07</td>\n",
              "      <td>8100</td>\n",
              "      <td>0</td>\n",
              "      <td>0.0</td>\n",
              "      <td></td>\n",
              "      <td>http://image.yes24.com/goods/377607/L</td>\n",
              "      <td>로맨스</td>\n",
              "    </tr>\n",
              "    <tr>\n",
              "      <th>79774</th>\n",
              "      <td>79775</td>\n",
              "      <td>어린 엄마 1</td>\n",
              "      <td>임은희</td>\n",
              "      <td>반디출판사</td>\n",
              "      <td>2003.07</td>\n",
              "      <td>8100</td>\n",
              "      <td>0</td>\n",
              "      <td>0.0</td>\n",
              "      <td></td>\n",
              "      <td>http://image.yes24.com/goods/377608/L</td>\n",
              "      <td>로맨스</td>\n",
              "    </tr>\n",
              "  </tbody>\n",
              "</table>\n",
              "<p>79775 rows × 11 columns</p>\n",
              "</div>"
            ],
            "text/plain": [
              "          id  ...    genre\n",
              "0          1  ...  추리/미스터리\n",
              "1          2  ...  추리/미스터리\n",
              "2          3  ...  추리/미스터리\n",
              "3          4  ...  추리/미스터리\n",
              "4          5  ...  추리/미스터리\n",
              "...      ...  ...      ...\n",
              "79770  79771  ...      로맨스\n",
              "79771  79772  ...      로맨스\n",
              "79772  79773  ...      로맨스\n",
              "79773  79774  ...      로맨스\n",
              "79774  79775  ...      로맨스\n",
              "\n",
              "[79775 rows x 11 columns]"
            ]
          },
          "metadata": {
            "tags": []
          },
          "execution_count": 32
        }
      ]
    },
    {
      "cell_type": "code",
      "metadata": {
        "id": "3_VI1dannCD8",
        "colab": {
          "base_uri": "https://localhost:8080/",
          "height": 428
        },
        "outputId": "5fe70a82-6a01-4d37-e97a-4e3ab068e6b6"
      },
      "source": [
        "# 장르와 타이틀 값을 이용한 books_df 제작\n",
        "\n",
        "df = pd.DataFrame(df_books_data['id'], columns=['id'])\n",
        "df1 = pd.DataFrame(df_books_data['story'], columns=['story'])\n",
        "df2 = pd.DataFrame(df_books_data['genre'], columns=['genre'])\n",
        "bookdf = pd.concat([df,df1,df2],axis=1)\n",
        "\n",
        "books_df = bookdf.set_index('id')\n",
        "books_df"
      ],
      "execution_count": 33,
      "outputs": [
        {
          "output_type": "execute_result",
          "data": {
            "text/html": [
              "<div>\n",
              "<style scoped>\n",
              "    .dataframe tbody tr th:only-of-type {\n",
              "        vertical-align: middle;\n",
              "    }\n",
              "\n",
              "    .dataframe tbody tr th {\n",
              "        vertical-align: top;\n",
              "    }\n",
              "\n",
              "    .dataframe thead th {\n",
              "        text-align: right;\n",
              "    }\n",
              "</style>\n",
              "<table border=\"1\" class=\"dataframe\">\n",
              "  <thead>\n",
              "    <tr style=\"text-align: right;\">\n",
              "      <th></th>\n",
              "      <th>title</th>\n",
              "      <th>genre</th>\n",
              "    </tr>\n",
              "    <tr>\n",
              "      <th>id</th>\n",
              "      <th></th>\n",
              "      <th></th>\n",
              "    </tr>\n",
              "  </thead>\n",
              "  <tbody>\n",
              "    <tr>\n",
              "      <th>1</th>\n",
              "      <td>요리코를 위해</td>\n",
              "      <td>추리/미스터리</td>\n",
              "    </tr>\n",
              "    <tr>\n",
              "      <th>2</th>\n",
              "      <td>그녀는 다 계획이 있다</td>\n",
              "      <td>추리/미스터리</td>\n",
              "    </tr>\n",
              "    <tr>\n",
              "      <th>3</th>\n",
              "      <td>블랙 쇼맨과 이름 없는 마을의 살인</td>\n",
              "      <td>추리/미스터리</td>\n",
              "    </tr>\n",
              "    <tr>\n",
              "      <th>4</th>\n",
              "      <td>돌이킬 수 없는 약속</td>\n",
              "      <td>추리/미스터리</td>\n",
              "    </tr>\n",
              "    <tr>\n",
              "      <th>5</th>\n",
              "      <td>루팡의 딸</td>\n",
              "      <td>추리/미스터리</td>\n",
              "    </tr>\n",
              "    <tr>\n",
              "      <th>...</th>\n",
              "      <td>...</td>\n",
              "      <td>...</td>\n",
              "    </tr>\n",
              "    <tr>\n",
              "      <th>79771</th>\n",
              "      <td>하루만 사랑해 2</td>\n",
              "      <td>로맨스</td>\n",
              "    </tr>\n",
              "    <tr>\n",
              "      <th>79772</th>\n",
              "      <td>서울 여자와 대구 남자가 만날 때</td>\n",
              "      <td>로맨스</td>\n",
              "    </tr>\n",
              "    <tr>\n",
              "      <th>79773</th>\n",
              "      <td>kiss me...</td>\n",
              "      <td>로맨스</td>\n",
              "    </tr>\n",
              "    <tr>\n",
              "      <th>79774</th>\n",
              "      <td>어린 엄마 2</td>\n",
              "      <td>로맨스</td>\n",
              "    </tr>\n",
              "    <tr>\n",
              "      <th>79775</th>\n",
              "      <td>어린 엄마 1</td>\n",
              "      <td>로맨스</td>\n",
              "    </tr>\n",
              "  </tbody>\n",
              "</table>\n",
              "<p>79775 rows × 2 columns</p>\n",
              "</div>"
            ],
            "text/plain": [
              "                     title    genre\n",
              "id                                 \n",
              "1                  요리코를 위해  추리/미스터리\n",
              "2             그녀는 다 계획이 있다  추리/미스터리\n",
              "3      블랙 쇼맨과 이름 없는 마을의 살인  추리/미스터리\n",
              "4              돌이킬 수 없는 약속  추리/미스터리\n",
              "5                    루팡의 딸  추리/미스터리\n",
              "...                    ...      ...\n",
              "79771            하루만 사랑해 2      로맨스\n",
              "79772   서울 여자와 대구 남자가 만날 때      로맨스\n",
              "79773           kiss me...      로맨스\n",
              "79774              어린 엄마 2      로맨스\n",
              "79775              어린 엄마 1      로맨스\n",
              "\n",
              "[79775 rows x 2 columns]"
            ]
          },
          "metadata": {
            "tags": []
          },
          "execution_count": 33
        }
      ]
    },
    {
      "cell_type": "code",
      "metadata": {
        "id": "0mNSW2GOBxSP"
      },
      "source": [
        "total_count = len(books_df.index)\n",
        "total_genres = list(set([genre for sublist in list(map(lambda x: x.split('|'), books_df['genre'])) for genre in sublist]))"
      ],
      "execution_count": 34,
      "outputs": []
    },
    {
      "cell_type": "code",
      "metadata": {
        "id": "9gD0dJoUpF1h",
        "outputId": "f94c0836-9396-4a36-a6aa-80cf92f539f8",
        "colab": {
          "base_uri": "https://localhost:8080/"
        }
      },
      "source": [
        "print(f\"전체 도서 수: {total_count}\")\n",
        "print(f\"장르: {total_genres}\")"
      ],
      "execution_count": 35,
      "outputs": [
        {
          "output_type": "stream",
          "text": [
            "전체 도서 수: 79775\n",
            "장르: ['추리/미스터리', '판타지', '역사', '로맨스', 'SF', '무협', '공포/스릴러']\n"
          ],
          "name": "stdout"
        }
      ]
    },
    {
      "cell_type": "code",
      "metadata": {
        "id": "eX4rPPIDtIYi",
        "outputId": "c2787135-b955-46d7-d9b4-869e938701a0",
        "colab": {
          "base_uri": "https://localhost:8080/"
        }
      },
      "source": [
        "print(len(total_genres))"
      ],
      "execution_count": 36,
      "outputs": [
        {
          "output_type": "stream",
          "text": [
            "7\n"
          ],
          "name": "stdout"
        }
      ]
    },
    {
      "cell_type": "code",
      "metadata": {
        "id": "IlRSm-_biGr3"
      },
      "source": [
        "genre_count = dict.fromkeys(total_genres)\n",
        "\n",
        "for each_genre_list in books_df['genre']:\n",
        "    for genre in each_genre_list.split('|'):\n",
        "        if genre_count[genre] == None:\n",
        "            genre_count[genre] = 1\n",
        "        else:\n",
        "            genre_count[genre] = genre_count[genre]+1"
      ],
      "execution_count": 37,
      "outputs": []
    },
    {
      "cell_type": "code",
      "metadata": {
        "id": "QWXuqBIZqxvy",
        "colab": {
          "base_uri": "https://localhost:8080/"
        },
        "outputId": "9da9584b-ad40-4df9-ab90-8943236ef492"
      },
      "source": [
        "genre_count"
      ],
      "execution_count": 38,
      "outputs": [
        {
          "output_type": "execute_result",
          "data": {
            "text/plain": [
              "{'SF': 1363,\n",
              " '공포/스릴러': 3260,\n",
              " '로맨스': 14826,\n",
              " '무협': 14527,\n",
              " '역사': 4524,\n",
              " '추리/미스터리': 4152,\n",
              " '판타지': 37123}"
            ]
          },
          "metadata": {
            "tags": []
          },
          "execution_count": 38
        }
      ]
    },
    {
      "cell_type": "code",
      "metadata": {
        "id": "Od39zNLlDEM0",
        "outputId": "06a36ef5-9c3a-4085-fdc2-3e925ca019c0",
        "colab": {
          "base_uri": "https://localhost:8080/"
        }
      },
      "source": [
        "for each_genre in genre_count:\n",
        "    genre_count[each_genre] = np.log10(total_count/genre_count[each_genre])\n",
        "  \n",
        "genre_count"
      ],
      "execution_count": 39,
      "outputs": [
        {
          "output_type": "execute_result",
          "data": {
            "text/plain": [
              "{'SF': 1.7673709570308744,\n",
              " '공포/스릴러': 1.3886492127976091,\n",
              " '로맨스': 0.730842817079825,\n",
              " '무협': 0.7396908763353855,\n",
              " '역사': 1.2463442166121304,\n",
              " '추리/미스터리': 1.2836094680251466,\n",
              " '판타지': 0.3322237475062316}"
            ]
          },
          "metadata": {
            "tags": []
          },
          "execution_count": 39
        }
      ]
    },
    {
      "cell_type": "code",
      "metadata": {
        "id": "JM9kjtOuDHup",
        "outputId": "0b766da6-89d0-4790-9666-d67ff1a52d80",
        "colab": {
          "base_uri": "https://localhost:8080/"
        }
      },
      "source": [
        "# create genre representations\n",
        "genre_representation = pd.DataFrame(columns=sorted(total_genres), index=books_df.index)\n",
        "for index, each_row in tqdm(books_df.iterrows()):\n",
        "    dict_temp = {i: genre_count[i] for i in each_row['genre'].split('|')}\n",
        "    row_to_add = pd.DataFrame(dict_temp, index=[index])\n",
        "    genre_representation.update(row_to_add)\n",
        "\n",
        "genre_representation"
      ],
      "execution_count": null,
      "outputs": [
        {
          "output_type": "stream",
          "text": [
            "48720it [09:02, 86.25it/s]"
          ],
          "name": "stderr"
        }
      ]
    },
    {
      "cell_type": "code",
      "metadata": {
        "id": "92HFAg1uXYgQ"
      },
      "source": [
        "|#스토리의 키워드를 뽑기위해 명사와 형용사만 가져오자\n",
        "story_words = df_books_data['story'].to_numpy()\n",
        "for i, document in enumerate(story_words):\n",
        "    okt = konlpy.tag.Okt()\n",
        "    clean_words = []\n",
        "    for word in okt.pos(document, stem = True): #어간 뽑자\n",
        "        if word[1] in ['Noun', 'Adjective']: #명사, 형용사만 가져와\n",
        "            clean_words.append(word[0])\n",
        "    #print(clean_words)\n",
        "    document = ' '.join(clean_words)\n",
        "    #print(document)\n",
        "    story_words[i] = document"
      ],
      "execution_count": null,
      "outputs": []
    },
    {
      "cell_type": "code",
      "metadata": {
        "id": "reE0wf7Beply"
      },
      "source": [
        ""
      ],
      "execution_count": null,
      "outputs": []
    },
    {
      "cell_type": "code",
      "metadata": {
        "id": "k6pBryMlZzK6"
      },
      "source": [
        "#넘파이 배열 데이터프레임 화\n",
        "df_story_words=pd.DataFrame(story_words,\n",
        "            columns = ['story_words'])"
      ],
      "execution_count": null,
      "outputs": []
    },
    {
      "cell_type": "code",
      "metadata": {
        "id": "C_KKVydvZ7Pf"
      },
      "source": [
        "df_books = pd.concat([df_books_data, df_story_words], axis = 1)"
      ],
      "execution_count": null,
      "outputs": []
    },
    {
      "cell_type": "code",
      "metadata": {
        "id": "ukM_jzE-QkuT"
      },
      "source": [
        "df_books.columns"
      ],
      "execution_count": null,
      "outputs": []
    },
    {
      "cell_type": "code",
      "metadata": {
        "id": "R7A8y1dgQk3i"
      },
      "source": [
        "#날짜, 아이디 날리고\n",
        "df_books = df_books.drop(['id','date'],axis = 1)"
      ],
      "execution_count": null,
      "outputs": []
    },
    {
      "cell_type": "code",
      "metadata": {
        "id": "Y46VsC-MQnJo"
      },
      "source": [
        "#혹시모를 중복 제거하자\n",
        "df_books = df_books.drop_duplicates(['title'])"
      ],
      "execution_count": null,
      "outputs": []
    },
    {
      "cell_type": "code",
      "metadata": {
        "id": "T9rvVHryQqXc"
      },
      "source": [
        "df_books.tail()"
      ],
      "execution_count": null,
      "outputs": []
    },
    {
      "cell_type": "code",
      "metadata": {
        "id": "F-LvbWEGq5lq"
      },
      "source": [
        "df_books = df_books.dropna(axis=0)"
      ],
      "execution_count": null,
      "outputs": []
    },
    {
      "cell_type": "code",
      "metadata": {
        "id": "u9kft93LrQ5F"
      },
      "source": [
        "df_books"
      ],
      "execution_count": null,
      "outputs": []
    },
    {
      "cell_type": "code",
      "metadata": {
        "id": "URdr-52irdFH"
      },
      "source": [
        "from math import log # IDF 계산을 위해"
      ],
      "execution_count": null,
      "outputs": []
    },
    {
      "cell_type": "code",
      "metadata": {
        "id": "LT7vmx8i1T2u"
      },
      "source": [
        "docs = df_books['genre'] \n",
        "vocab = list(set(w for doc in docs for w in doc.split()))\n",
        "vocab.sort()"
      ],
      "execution_count": null,
      "outputs": []
    },
    {
      "cell_type": "code",
      "metadata": {
        "id": "jYzBGGtM7Uf9"
      },
      "source": [
        "docs."
      ],
      "execution_count": null,
      "outputs": []
    },
    {
      "cell_type": "code",
      "metadata": {
        "id": "PzGTYIWO2Dzh"
      },
      "source": [
        "N = len(docs) # 총 문서의 수\n",
        "\n",
        "def tf(t, d):\n",
        "    return d.count(t)\n",
        "\n",
        "def idf(t):\n",
        "    df = 0\n",
        "    for doc in docs:\n",
        "        df += t in doc\n",
        "    return log(N/(df + 1))\n",
        "\n",
        "def tfidf(t, d):\n",
        "    return tf(t,d)* idf(t)"
      ],
      "execution_count": null,
      "outputs": []
    },
    {
      "cell_type": "code",
      "metadata": {
        "id": "H_2jSLov2IwC"
      },
      "source": [
        "result = []\n",
        "for i in range(N): # 각 문서에 대해서 아래 명령을 수행\n",
        "    result.append([])\n",
        "    d = docs[i]\n",
        "    for j in range(len(vocab)):\n",
        "        t = vocab[j]        \n",
        "        result[-1].append(tf(t, d))\n",
        "\n",
        "tf_ = pd.DataFrame(result, columns = vocab)\n",
        "tf_"
      ],
      "execution_count": null,
      "outputs": []
    },
    {
      "cell_type": "code",
      "metadata": {
        "id": "-4wLiYY14tiZ"
      },
      "source": [
        "result = []\n",
        "for j in range(len(vocab)):\n",
        "    t = vocab[j]\n",
        "    result.append(idf(t))\n",
        "\n",
        "idf_ = pd.DataFrame(result, index = vocab, columns = [\"IDF\"])\n",
        "idf_"
      ],
      "execution_count": null,
      "outputs": []
    },
    {
      "cell_type": "code",
      "metadata": {
        "id": "qex6x6224xSP"
      },
      "source": [
        "result = []\n",
        "for i in range(N):\n",
        "    result.append([])\n",
        "    d = docs[i]\n",
        "    for j in range(len(vocab)):\n",
        "        t = vocab[j]\n",
        "\n",
        "        result[-1].append(tfidf(t,d))\n",
        "\n",
        "tfidf_ = pd.DataFrame(result, columns = vocab)\n",
        "tfidf_"
      ],
      "execution_count": null,
      "outputs": []
    },
    {
      "cell_type": "markdown",
      "metadata": {
        "id": "YS5f-Gf4Ql_c"
      },
      "source": [
        ""
      ]
    },
    {
      "cell_type": "code",
      "metadata": {
        "id": "gNNCegfsx-zl"
      },
      "source": [
        ""
      ],
      "execution_count": null,
      "outputs": []
    },
    {
      "cell_type": "code",
      "metadata": {
        "id": "lguN0FwGBjjC"
      },
      "source": [
        ""
      ],
      "execution_count": null,
      "outputs": []
    }
  ]
}