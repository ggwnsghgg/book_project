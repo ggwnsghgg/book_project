{
  "nbformat": 4,
  "nbformat_minor": 0,
  "metadata": {
    "colab": {
      "name": "책_추천알고리즘.ipynb",
      "provenance": [],
      "collapsed_sections": [],
      "authorship_tag": "ABX9TyPiQds3nBYo9Gs1E+nx7PIt",
      "include_colab_link": true
    },
    "kernelspec": {
      "name": "python3",
      "display_name": "Python 3"
    }
  },
  "cells": [
    {
      "cell_type": "markdown",
      "metadata": {
        "id": "view-in-github",
        "colab_type": "text"
      },
      "source": [
        "<a href=\"https://colab.research.google.com/github/ggwnsghgg/book_project/blob/main/%EC%B1%85_%EC%B6%94%EC%B2%9C%EC%95%8C%EA%B3%A0%EB%A6%AC%EC%A6%98.ipynb\" target=\"_parent\"><img src=\"https://colab.research.google.com/assets/colab-badge.svg\" alt=\"Open In Colab\"/></a>"
      ]
    },
    {
      "cell_type": "code",
      "metadata": {
        "id": "gkDQDSP4AiFn",
        "outputId": "b6422f4c-d2a6-4d1f-fa60-1157464c322a",
        "colab": {
          "base_uri": "https://localhost:8080/"
        }
      },
      "source": [
        "!pip install pymysql\r\n",
        "!pip install konlpy"
      ],
      "execution_count": 49,
      "outputs": [
        {
          "output_type": "stream",
          "text": [
            "Requirement already satisfied: pymysql in /usr/local/lib/python3.7/dist-packages (1.0.2)\n",
            "Requirement already satisfied: konlpy in /usr/local/lib/python3.7/dist-packages (0.5.2)\n",
            "Requirement already satisfied: colorama in /usr/local/lib/python3.7/dist-packages (from konlpy) (0.4.4)\n",
            "Requirement already satisfied: numpy>=1.6 in /usr/local/lib/python3.7/dist-packages (from konlpy) (1.19.5)\n",
            "Requirement already satisfied: JPype1>=0.7.0 in /usr/local/lib/python3.7/dist-packages (from konlpy) (1.2.1)\n",
            "Requirement already satisfied: beautifulsoup4==4.6.0 in /usr/local/lib/python3.7/dist-packages (from konlpy) (4.6.0)\n",
            "Requirement already satisfied: tweepy>=3.7.0 in /usr/local/lib/python3.7/dist-packages (from konlpy) (3.10.0)\n",
            "Requirement already satisfied: lxml>=4.1.0 in /usr/local/lib/python3.7/dist-packages (from konlpy) (4.2.6)\n",
            "Requirement already satisfied: typing-extensions; python_version < \"3.8\" in /usr/local/lib/python3.7/dist-packages (from JPype1>=0.7.0->konlpy) (3.7.4.3)\n",
            "Requirement already satisfied: requests[socks]>=2.11.1 in /usr/local/lib/python3.7/dist-packages (from tweepy>=3.7.0->konlpy) (2.23.0)\n",
            "Requirement already satisfied: requests-oauthlib>=0.7.0 in /usr/local/lib/python3.7/dist-packages (from tweepy>=3.7.0->konlpy) (1.3.0)\n",
            "Requirement already satisfied: six>=1.10.0 in /usr/local/lib/python3.7/dist-packages (from tweepy>=3.7.0->konlpy) (1.15.0)\n",
            "Requirement already satisfied: chardet<4,>=3.0.2 in /usr/local/lib/python3.7/dist-packages (from requests[socks]>=2.11.1->tweepy>=3.7.0->konlpy) (3.0.4)\n",
            "Requirement already satisfied: urllib3!=1.25.0,!=1.25.1,<1.26,>=1.21.1 in /usr/local/lib/python3.7/dist-packages (from requests[socks]>=2.11.1->tweepy>=3.7.0->konlpy) (1.24.3)\n",
            "Requirement already satisfied: certifi>=2017.4.17 in /usr/local/lib/python3.7/dist-packages (from requests[socks]>=2.11.1->tweepy>=3.7.0->konlpy) (2020.12.5)\n",
            "Requirement already satisfied: idna<3,>=2.5 in /usr/local/lib/python3.7/dist-packages (from requests[socks]>=2.11.1->tweepy>=3.7.0->konlpy) (2.10)\n",
            "Requirement already satisfied: PySocks!=1.5.7,>=1.5.6; extra == \"socks\" in /usr/local/lib/python3.7/dist-packages (from requests[socks]>=2.11.1->tweepy>=3.7.0->konlpy) (1.7.1)\n",
            "Requirement already satisfied: oauthlib>=3.0.0 in /usr/local/lib/python3.7/dist-packages (from requests-oauthlib>=0.7.0->tweepy>=3.7.0->konlpy) (3.1.0)\n"
          ],
          "name": "stdout"
        }
      ]
    },
    {
      "cell_type": "code",
      "metadata": {
        "id": "ZxqwI6RfnXWd"
      },
      "source": [
        "import pymysql\r\n",
        "import pandas as pd\r\n",
        "import numpy as np\r\n",
        "import konlpy\r\n",
        "\r\n",
        "#데이터 가져오기\r\n",
        "db = pymysql.connect(host='220.86.191.27', port=3306, user='playdata', password='playdata123!', db='bookdata', charset='utf8')\r\n",
        "\r\n",
        "curs = db.cursor(pymysql.cursors.DictCursor)\r\n",
        "\r\n",
        "query = '''\r\n",
        "select *\r\n",
        "    from books_data'''\r\n",
        "df_books_data = pd.read_sql(query, db)"
      ],
      "execution_count": 50,
      "outputs": []
    },
    {
      "cell_type": "code",
      "metadata": {
        "id": "92HFAg1uXYgQ"
      },
      "source": [
        "#스토리의 키워드를 뽑기위해 명사와 형용사만 가져오자\r\n",
        "story_words = df_books_data['story'].to_numpy()\r\n",
        "for i, document in enumerate(story_words):\r\n",
        "    okt = konlpy.tag.Okt()\r\n",
        "    clean_words = []\r\n",
        "    for word in okt.pos(document, stem = True): #어간 뽑자\r\n",
        "        if word[1] in ['Noun', 'Adjective']: #명사, 형용사만 가져와\r\n",
        "            clean_words.append(word[0])\r\n",
        "    #print(clean_words)\r\n",
        "    document = ' '.join(clean_words)\r\n",
        "    #print(document)\r\n",
        "    story_words[i] = document"
      ],
      "execution_count": 51,
      "outputs": []
    },
    {
      "cell_type": "code",
      "metadata": {
        "id": "k6pBryMlZzK6"
      },
      "source": [
        "#넘파이 배열 데이터프레임 화\r\n",
        "df_story_words=pd.DataFrame(story_words,\r\n",
        "            columns = ['story_words'])"
      ],
      "execution_count": 52,
      "outputs": []
    },
    {
      "cell_type": "code",
      "metadata": {
        "id": "C_KKVydvZ7Pf"
      },
      "source": [
        "df_books = pd.concat([df_books_data, df_story_words], axis = 1)"
      ],
      "execution_count": 53,
      "outputs": []
    },
    {
      "cell_type": "code",
      "metadata": {
        "colab": {
          "base_uri": "https://localhost:8080/"
        },
        "id": "ukM_jzE-QkuT",
        "outputId": "d3548180-512a-4d5d-a0d8-24d78376be43"
      },
      "source": [
        "df_books.columns"
      ],
      "execution_count": 54,
      "outputs": [
        {
          "output_type": "execute_result",
          "data": {
            "text/plain": [
              "Index(['id', 'title', 'author', 'pub', 'date', 'price', 'review', 'rating',\n",
              "       'story', 'img', 'genre', 'story_words'],\n",
              "      dtype='object')"
            ]
          },
          "metadata": {
            "tags": []
          },
          "execution_count": 54
        }
      ]
    },
    {
      "cell_type": "code",
      "metadata": {
        "id": "R7A8y1dgQk3i"
      },
      "source": [
        "#날짜, 아이디 날리고\r\n",
        "df_books = df_books.drop(['id','date'],axis = 1)"
      ],
      "execution_count": 55,
      "outputs": []
    },
    {
      "cell_type": "code",
      "metadata": {
        "id": "Y46VsC-MQnJo"
      },
      "source": [
        "#혹시모를 중복 제거하자\r\n",
        "df_books = df_books.drop_duplicates(['title'])"
      ],
      "execution_count": 56,
      "outputs": []
    },
    {
      "cell_type": "code",
      "metadata": {
        "colab": {
          "base_uri": "https://localhost:8080/",
          "height": 289
        },
        "id": "T9rvVHryQqXc",
        "outputId": "8e238a29-cfa2-4885-b91b-7fd7472b9ce1"
      },
      "source": [
        "df_books.tail()"
      ],
      "execution_count": 57,
      "outputs": [
        {
          "output_type": "execute_result",
          "data": {
            "text/html": [
              "<div>\n",
              "<style scoped>\n",
              "    .dataframe tbody tr th:only-of-type {\n",
              "        vertical-align: middle;\n",
              "    }\n",
              "\n",
              "    .dataframe tbody tr th {\n",
              "        vertical-align: top;\n",
              "    }\n",
              "\n",
              "    .dataframe thead th {\n",
              "        text-align: right;\n",
              "    }\n",
              "</style>\n",
              "<table border=\"1\" class=\"dataframe\">\n",
              "  <thead>\n",
              "    <tr style=\"text-align: right;\">\n",
              "      <th></th>\n",
              "      <th>title</th>\n",
              "      <th>author</th>\n",
              "      <th>pub</th>\n",
              "      <th>price</th>\n",
              "      <th>review</th>\n",
              "      <th>rating</th>\n",
              "      <th>story</th>\n",
              "      <th>img</th>\n",
              "      <th>genre</th>\n",
              "      <th>story_words</th>\n",
              "    </tr>\n",
              "  </thead>\n",
              "  <tbody>\n",
              "    <tr>\n",
              "      <th>79768</th>\n",
              "      <td>그녀를 위해</td>\n",
              "      <td></td>\n",
              "      <td>신영미디어</td>\n",
              "      <td>2880</td>\n",
              "      <td>0</td>\n",
              "      <td>0.0</td>\n",
              "      <td>마르코 고아 조카 안젤리나 사람 필요하다 양육 위 편의 상의 아내 성실하다 착하다 ...</td>\n",
              "      <td>http://image.yes24.com/goods/373089/L</td>\n",
              "      <td>로맨스</td>\n",
              "      <td>마르코 고아 조카 안젤리나 사람 필요하다 양육 위 편의 상의 아내 성실하다 착하다 ...</td>\n",
              "    </tr>\n",
              "    <tr>\n",
              "      <th>79769</th>\n",
              "      <td>하루만 사랑해 1</td>\n",
              "      <td></td>\n",
              "      <td>파피루스(디앤씨미디어)</td>\n",
              "      <td>8100</td>\n",
              "      <td>1</td>\n",
              "      <td>7.0</td>\n",
              "      <td>날 서원 횡단보도 교통사고 당하다 상대 인천 상고 짱 노랗다 머 민 하루 놈 오히려...</td>\n",
              "      <td>http://image.yes24.com/goods/375482/L</td>\n",
              "      <td>로맨스</td>\n",
              "      <td>날 서원 횡단보도 교통사고 당하다 상대 인천 상고 짱 노랗다 머 민 하루 놈 오히려...</td>\n",
              "    </tr>\n",
              "    <tr>\n",
              "      <th>79770</th>\n",
              "      <td>하루만 사랑해 2</td>\n",
              "      <td></td>\n",
              "      <td>파피루스(디앤씨미디어)</td>\n",
              "      <td>8100</td>\n",
              "      <td>0</td>\n",
              "      <td>0.0</td>\n",
              "      <td>날 서원 횡단보도 교통사고 당하다 상대 인천 상고 짱 노랗다 머 민 하루 놈 오히려...</td>\n",
              "      <td>http://image.yes24.com/goods/375484/L</td>\n",
              "      <td>로맨스</td>\n",
              "      <td>날 서원 횡단보도 교통사고 당하다 상대 인천 상고 짱 노랗다 머 민 하루 놈 오히려...</td>\n",
              "    </tr>\n",
              "    <tr>\n",
              "      <th>79771</th>\n",
              "      <td>서울 여자와 대구 남자가 만날 때</td>\n",
              "      <td>정민</td>\n",
              "      <td>영상노트</td>\n",
              "      <td>8100</td>\n",
              "      <td>0</td>\n",
              "      <td>0.0</td>\n",
              "      <td></td>\n",
              "      <td>http://image.yes24.com/goods/376458/L</td>\n",
              "      <td>로맨스</td>\n",
              "      <td></td>\n",
              "    </tr>\n",
              "    <tr>\n",
              "      <th>79772</th>\n",
              "      <td>kiss me...</td>\n",
              "      <td></td>\n",
              "      <td>현무</td>\n",
              "      <td>7200</td>\n",
              "      <td>2</td>\n",
              "      <td>5.0</td>\n",
              "      <td></td>\n",
              "      <td>http://image.yes24.com/goods/377351/L</td>\n",
              "      <td>로맨스</td>\n",
              "      <td></td>\n",
              "    </tr>\n",
              "  </tbody>\n",
              "</table>\n",
              "</div>"
            ],
            "text/plain": [
              "                    title  ...                                        story_words\n",
              "79768              그녀를 위해  ...  마르코 고아 조카 안젤리나 사람 필요하다 양육 위 편의 상의 아내 성실하다 착하다 ...\n",
              "79769           하루만 사랑해 1  ...  날 서원 횡단보도 교통사고 당하다 상대 인천 상고 짱 노랗다 머 민 하루 놈 오히려...\n",
              "79770           하루만 사랑해 2  ...  날 서원 횡단보도 교통사고 당하다 상대 인천 상고 짱 노랗다 머 민 하루 놈 오히려...\n",
              "79771  서울 여자와 대구 남자가 만날 때  ...                                                   \n",
              "79772          kiss me...  ...                                                   \n",
              "\n",
              "[5 rows x 10 columns]"
            ]
          },
          "metadata": {
            "tags": []
          },
          "execution_count": 57
        }
      ]
    },
    {
      "cell_type": "code",
      "metadata": {
        "id": "F-LvbWEGq5lq"
      },
      "source": [
        "df_books = df_books.dropna(axis=0)"
      ],
      "execution_count": 58,
      "outputs": []
    },
    {
      "cell_type": "code",
      "metadata": {
        "id": "u9kft93LrQ5F",
        "outputId": "10295700-0115-4cbb-cb6c-8f0289f5b2a5",
        "colab": {
          "base_uri": "https://localhost:8080/",
          "height": 572
        }
      },
      "source": [
        "df_books"
      ],
      "execution_count": 59,
      "outputs": [
        {
          "output_type": "execute_result",
          "data": {
            "text/html": [
              "<div>\n",
              "<style scoped>\n",
              "    .dataframe tbody tr th:only-of-type {\n",
              "        vertical-align: middle;\n",
              "    }\n",
              "\n",
              "    .dataframe tbody tr th {\n",
              "        vertical-align: top;\n",
              "    }\n",
              "\n",
              "    .dataframe thead th {\n",
              "        text-align: right;\n",
              "    }\n",
              "</style>\n",
              "<table border=\"1\" class=\"dataframe\">\n",
              "  <thead>\n",
              "    <tr style=\"text-align: right;\">\n",
              "      <th></th>\n",
              "      <th>title</th>\n",
              "      <th>author</th>\n",
              "      <th>pub</th>\n",
              "      <th>price</th>\n",
              "      <th>review</th>\n",
              "      <th>rating</th>\n",
              "      <th>story</th>\n",
              "      <th>img</th>\n",
              "      <th>genre</th>\n",
              "      <th>story_words</th>\n",
              "    </tr>\n",
              "  </thead>\n",
              "  <tbody>\n",
              "    <tr>\n",
              "      <th>0</th>\n",
              "      <td>요리코를 위해</td>\n",
              "      <td>노리즈키 린타로</td>\n",
              "      <td>모모</td>\n",
              "      <td>13500</td>\n",
              "      <td>43</td>\n",
              "      <td>9.2</td>\n",
              "      <td>스스로 악마 이자 신 딸 살해 남자 심판 아버지 비극 출발 이자 마지막 끝내 실체 ...</td>\n",
              "      <td>http://image.yes24.com/goods/89392792/L</td>\n",
              "      <td>추리/미스터리</td>\n",
              "      <td>스스로 악마 이자 신 딸 살해 남자 심판 아버지 비극 출발 이자 마지막 끝내 실체 ...</td>\n",
              "    </tr>\n",
              "    <tr>\n",
              "      <th>1</th>\n",
              "      <td>그녀는 다 계획이 있다</td>\n",
              "      <td>히가시노 게이고</td>\n",
              "      <td>하빌리스</td>\n",
              "      <td>14220</td>\n",
              "      <td>13</td>\n",
              "      <td>9.4</td>\n",
              "      <td>하나 보석 점 살인 사건 과거 미래 사건 경쾌하다 리듬 감 있다 터치 게이고 복고 ...</td>\n",
              "      <td>http://image.yes24.com/goods/97561319/L</td>\n",
              "      <td>추리/미스터리</td>\n",
              "      <td>하나 보석 점 살인 사건 과거 미래 사건 경쾌하다 리듬 감 있다 터치 게이고 복고 ...</td>\n",
              "    </tr>\n",
              "    <tr>\n",
              "      <th>2</th>\n",
              "      <td>블랙 쇼맨과 이름 없는 마을의 살인</td>\n",
              "      <td>히가시노 게이고</td>\n",
              "      <td>알에이치코리아(RHK)</td>\n",
              "      <td>16200</td>\n",
              "      <td>54</td>\n",
              "      <td>9.1</td>\n",
              "      <td>아버지 살해 당하다 그것 결혼 소식 직후 행복하다 순간 비극 시작 대기업 취직 후 ...</td>\n",
              "      <td>http://image.yes24.com/goods/95712763/L</td>\n",
              "      <td>추리/미스터리</td>\n",
              "      <td>아버지 살해 당하다 그것 결혼 소식 직후 행복하다 순간 비극 시작 대기업 취직 후 ...</td>\n",
              "    </tr>\n",
              "    <tr>\n",
              "      <th>3</th>\n",
              "      <td>돌이킬 수 없는 약속</td>\n",
              "      <td>야쿠마루 가쿠</td>\n",
              "      <td>북플라자</td>\n",
              "      <td>13500</td>\n",
              "      <td>217</td>\n",
              "      <td>8.2</td>\n",
              "      <td>제 에드가 란 포상 수상 작가 야쿠 마루 가쿠 미스터리 추리 소설 내 딸 살해 놈 ...</td>\n",
              "      <td>http://image.yes24.com/goods/35552641/L</td>\n",
              "      <td>추리/미스터리</td>\n",
              "      <td>제 에드가 란 포상 수상 작가 야쿠 마루 가쿠 미스터리 추리 소설 내 딸 살해 놈 ...</td>\n",
              "    </tr>\n",
              "    <tr>\n",
              "      <th>4</th>\n",
              "      <td>루팡의 딸</td>\n",
              "      <td>요코제키 다이</td>\n",
              "      <td>북플라자</td>\n",
              "      <td>13500</td>\n",
              "      <td>31</td>\n",
              "      <td>8.5</td>\n",
              "      <td>도둑 집안 대부 변 사체 발견 도둑 집안 대부 이 오 하나 코 손녀 딸 있다 하나 ...</td>\n",
              "      <td>http://image.yes24.com/goods/78860364/L</td>\n",
              "      <td>추리/미스터리</td>\n",
              "      <td>도둑 집안 대부 변 사체 발견 도둑 집안 대부 이 오 하나 코 손녀 딸 있다 하나 ...</td>\n",
              "    </tr>\n",
              "    <tr>\n",
              "      <th>...</th>\n",
              "      <td>...</td>\n",
              "      <td>...</td>\n",
              "      <td>...</td>\n",
              "      <td>...</td>\n",
              "      <td>...</td>\n",
              "      <td>...</td>\n",
              "      <td>...</td>\n",
              "      <td>...</td>\n",
              "      <td>...</td>\n",
              "      <td>...</td>\n",
              "    </tr>\n",
              "    <tr>\n",
              "      <th>79768</th>\n",
              "      <td>그녀를 위해</td>\n",
              "      <td></td>\n",
              "      <td>신영미디어</td>\n",
              "      <td>2880</td>\n",
              "      <td>0</td>\n",
              "      <td>0.0</td>\n",
              "      <td>마르코 고아 조카 안젤리나 사람 필요하다 양육 위 편의 상의 아내 성실하다 착하다 ...</td>\n",
              "      <td>http://image.yes24.com/goods/373089/L</td>\n",
              "      <td>로맨스</td>\n",
              "      <td>마르코 고아 조카 안젤리나 사람 필요하다 양육 위 편의 상의 아내 성실하다 착하다 ...</td>\n",
              "    </tr>\n",
              "    <tr>\n",
              "      <th>79769</th>\n",
              "      <td>하루만 사랑해 1</td>\n",
              "      <td></td>\n",
              "      <td>파피루스(디앤씨미디어)</td>\n",
              "      <td>8100</td>\n",
              "      <td>1</td>\n",
              "      <td>7.0</td>\n",
              "      <td>날 서원 횡단보도 교통사고 당하다 상대 인천 상고 짱 노랗다 머 민 하루 놈 오히려...</td>\n",
              "      <td>http://image.yes24.com/goods/375482/L</td>\n",
              "      <td>로맨스</td>\n",
              "      <td>날 서원 횡단보도 교통사고 당하다 상대 인천 상고 짱 노랗다 머 민 하루 놈 오히려...</td>\n",
              "    </tr>\n",
              "    <tr>\n",
              "      <th>79770</th>\n",
              "      <td>하루만 사랑해 2</td>\n",
              "      <td></td>\n",
              "      <td>파피루스(디앤씨미디어)</td>\n",
              "      <td>8100</td>\n",
              "      <td>0</td>\n",
              "      <td>0.0</td>\n",
              "      <td>날 서원 횡단보도 교통사고 당하다 상대 인천 상고 짱 노랗다 머 민 하루 놈 오히려...</td>\n",
              "      <td>http://image.yes24.com/goods/375484/L</td>\n",
              "      <td>로맨스</td>\n",
              "      <td>날 서원 횡단보도 교통사고 당하다 상대 인천 상고 짱 노랗다 머 민 하루 놈 오히려...</td>\n",
              "    </tr>\n",
              "    <tr>\n",
              "      <th>79771</th>\n",
              "      <td>서울 여자와 대구 남자가 만날 때</td>\n",
              "      <td>정민</td>\n",
              "      <td>영상노트</td>\n",
              "      <td>8100</td>\n",
              "      <td>0</td>\n",
              "      <td>0.0</td>\n",
              "      <td></td>\n",
              "      <td>http://image.yes24.com/goods/376458/L</td>\n",
              "      <td>로맨스</td>\n",
              "      <td></td>\n",
              "    </tr>\n",
              "    <tr>\n",
              "      <th>79772</th>\n",
              "      <td>kiss me...</td>\n",
              "      <td></td>\n",
              "      <td>현무</td>\n",
              "      <td>7200</td>\n",
              "      <td>2</td>\n",
              "      <td>5.0</td>\n",
              "      <td></td>\n",
              "      <td>http://image.yes24.com/goods/377351/L</td>\n",
              "      <td>로맨스</td>\n",
              "      <td></td>\n",
              "    </tr>\n",
              "  </tbody>\n",
              "</table>\n",
              "<p>74728 rows × 10 columns</p>\n",
              "</div>"
            ],
            "text/plain": [
              "                     title  ...                                        story_words\n",
              "0                  요리코를 위해  ...  스스로 악마 이자 신 딸 살해 남자 심판 아버지 비극 출발 이자 마지막 끝내 실체 ...\n",
              "1             그녀는 다 계획이 있다  ...  하나 보석 점 살인 사건 과거 미래 사건 경쾌하다 리듬 감 있다 터치 게이고 복고 ...\n",
              "2      블랙 쇼맨과 이름 없는 마을의 살인  ...  아버지 살해 당하다 그것 결혼 소식 직후 행복하다 순간 비극 시작 대기업 취직 후 ...\n",
              "3              돌이킬 수 없는 약속  ...  제 에드가 란 포상 수상 작가 야쿠 마루 가쿠 미스터리 추리 소설 내 딸 살해 놈 ...\n",
              "4                    루팡의 딸  ...  도둑 집안 대부 변 사체 발견 도둑 집안 대부 이 오 하나 코 손녀 딸 있다 하나 ...\n",
              "...                    ...  ...                                                ...\n",
              "79768               그녀를 위해  ...  마르코 고아 조카 안젤리나 사람 필요하다 양육 위 편의 상의 아내 성실하다 착하다 ...\n",
              "79769            하루만 사랑해 1  ...  날 서원 횡단보도 교통사고 당하다 상대 인천 상고 짱 노랗다 머 민 하루 놈 오히려...\n",
              "79770            하루만 사랑해 2  ...  날 서원 횡단보도 교통사고 당하다 상대 인천 상고 짱 노랗다 머 민 하루 놈 오히려...\n",
              "79771   서울 여자와 대구 남자가 만날 때  ...                                                   \n",
              "79772           kiss me...  ...                                                   \n",
              "\n",
              "[74728 rows x 10 columns]"
            ]
          },
          "metadata": {
            "tags": []
          },
          "execution_count": 59
        }
      ]
    },
    {
      "cell_type": "code",
      "metadata": {
        "id": "URdr-52irdFH"
      },
      "source": [
        "from math import log # IDF 계산을 위해"
      ],
      "execution_count": 60,
      "outputs": []
    },
    {
      "cell_type": "code",
      "metadata": {
        "id": "LT7vmx8i1T2u"
      },
      "source": [
        "docs = df_books['genre'] \r\n",
        "vocab = list(set(w for doc in docs for w in doc.split()))\r\n",
        "vocab.sort()"
      ],
      "execution_count": 61,
      "outputs": []
    },
    {
      "cell_type": "code",
      "metadata": {
        "id": "jYzBGGtM7Uf9",
        "outputId": "ceaf6a4c-f73a-444d-c06d-53167aa6e41e",
        "colab": {
          "base_uri": "https://localhost:8080/",
          "height": 136
        }
      },
      "source": [
        "docs."
      ],
      "execution_count": 62,
      "outputs": [
        {
          "output_type": "error",
          "ename": "SyntaxError",
          "evalue": "ignored",
          "traceback": [
            "\u001b[0;36m  File \u001b[0;32m\"<ipython-input-62-e5e5445b2f55>\"\u001b[0;36m, line \u001b[0;32m1\u001b[0m\n\u001b[0;31m    docs.\u001b[0m\n\u001b[0m         ^\u001b[0m\n\u001b[0;31mSyntaxError\u001b[0m\u001b[0;31m:\u001b[0m invalid syntax\n"
          ]
        }
      ]
    },
    {
      "cell_type": "code",
      "metadata": {
        "id": "PzGTYIWO2Dzh"
      },
      "source": [
        "N = len(docs) # 총 문서의 수\r\n",
        "\r\n",
        "def tf(t, d):\r\n",
        "    return d.count(t)\r\n",
        "\r\n",
        "def idf(t):\r\n",
        "    df = 0\r\n",
        "    for doc in docs:\r\n",
        "        df += t in doc\r\n",
        "    return log(N/(df + 1))\r\n",
        "\r\n",
        "def tfidf(t, d):\r\n",
        "    return tf(t,d)* idf(t)"
      ],
      "execution_count": null,
      "outputs": []
    },
    {
      "cell_type": "code",
      "metadata": {
        "id": "H_2jSLov2IwC"
      },
      "source": [
        "result = []\r\n",
        "for i in range(N): # 각 문서에 대해서 아래 명령을 수행\r\n",
        "    result.append([])\r\n",
        "    d = docs[i]\r\n",
        "    for j in range(len(vocab)):\r\n",
        "        t = vocab[j]        \r\n",
        "        result[-1].append(tf(t, d))\r\n",
        "\r\n",
        "tf_ = pd.DataFrame(result, columns = vocab)\r\n",
        "tf_"
      ],
      "execution_count": null,
      "outputs": []
    },
    {
      "cell_type": "code",
      "metadata": {
        "id": "-4wLiYY14tiZ"
      },
      "source": [
        "result = []\r\n",
        "for j in range(len(vocab)):\r\n",
        "    t = vocab[j]\r\n",
        "    result.append(idf(t))\r\n",
        "\r\n",
        "idf_ = pd.DataFrame(result, index = vocab, columns = [\"IDF\"])\r\n",
        "idf_"
      ],
      "execution_count": null,
      "outputs": []
    },
    {
      "cell_type": "code",
      "metadata": {
        "id": "qex6x6224xSP"
      },
      "source": [
        "result = []\r\n",
        "for i in range(N):\r\n",
        "    result.append([])\r\n",
        "    d = docs[i]\r\n",
        "    for j in range(len(vocab)):\r\n",
        "        t = vocab[j]\r\n",
        "\r\n",
        "        result[-1].append(tfidf(t,d))\r\n",
        "\r\n",
        "tfidf_ = pd.DataFrame(result, columns = vocab)\r\n",
        "tfidf_"
      ],
      "execution_count": null,
      "outputs": []
    },
    {
      "cell_type": "markdown",
      "metadata": {
        "id": "YS5f-Gf4Ql_c"
      },
      "source": [
        ""
      ]
    }
  ]
}