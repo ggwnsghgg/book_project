{
  "nbformat": 4,
  "nbformat_minor": 0,
  "metadata": {
    "colab": {
      "name": "책_추천알고리즘.ipynb",
      "provenance": [],
      "collapsed_sections": [],
      "authorship_tag": "ABX9TyM4rxM6vsp4VipCY4tpT4tc",
      "include_colab_link": true
    },
    "kernelspec": {
      "name": "python3",
      "display_name": "Python 3"
    }
  },
  "cells": [
    {
      "cell_type": "markdown",
      "metadata": {
        "id": "view-in-github",
        "colab_type": "text"
      },
      "source": [
        "<a href=\"https://colab.research.google.com/github/ggwnsghgg/book_project/blob/main/%EC%B1%85_%EC%B6%94%EC%B2%9C%EC%95%8C%EA%B3%A0%EB%A6%AC%EC%A6%98.ipynb\" target=\"_parent\"><img src=\"https://colab.research.google.com/assets/colab-badge.svg\" alt=\"Open In Colab\"/></a>"
      ]
    },
    {
      "cell_type": "code",
      "metadata": {
        "id": "gkDQDSP4AiFn",
        "colab": {
          "base_uri": "https://localhost:8080/"
        },
        "outputId": "c8d5e0a2-adf1-4ee5-9872-8b22a8b9af62"
      },
      "source": [
        "!pip install pymysql\n",
        "!pip install konlpy"
      ],
      "execution_count": 1,
      "outputs": [
        {
          "output_type": "stream",
          "text": [
            "Collecting pymysql\n",
            "\u001b[?25l  Downloading https://files.pythonhosted.org/packages/4f/52/a115fe175028b058df353c5a3d5290b71514a83f67078a6482cff24d6137/PyMySQL-1.0.2-py3-none-any.whl (43kB)\n",
            "\r\u001b[K     |███████▌                        | 10kB 14.8MB/s eta 0:00:01\r\u001b[K     |███████████████                 | 20kB 20.9MB/s eta 0:00:01\r\u001b[K     |██████████████████████▍         | 30kB 11.8MB/s eta 0:00:01\r\u001b[K     |██████████████████████████████  | 40kB 8.7MB/s eta 0:00:01\r\u001b[K     |████████████████████████████████| 51kB 2.8MB/s \n",
            "\u001b[?25hInstalling collected packages: pymysql\n",
            "Successfully installed pymysql-1.0.2\n",
            "Collecting konlpy\n",
            "\u001b[?25l  Downloading https://files.pythonhosted.org/packages/85/0e/f385566fec837c0b83f216b2da65db9997b35dd675e107752005b7d392b1/konlpy-0.5.2-py2.py3-none-any.whl (19.4MB)\n",
            "\u001b[K     |████████████████████████████████| 19.4MB 1.4MB/s \n",
            "\u001b[?25hRequirement already satisfied: tweepy>=3.7.0 in /usr/local/lib/python3.7/dist-packages (from konlpy) (3.10.0)\n",
            "Collecting beautifulsoup4==4.6.0\n",
            "\u001b[?25l  Downloading https://files.pythonhosted.org/packages/9e/d4/10f46e5cfac773e22707237bfcd51bbffeaf0a576b0a847ec7ab15bd7ace/beautifulsoup4-4.6.0-py3-none-any.whl (86kB)\n",
            "\u001b[K     |████████████████████████████████| 92kB 8.0MB/s \n",
            "\u001b[?25hCollecting JPype1>=0.7.0\n",
            "\u001b[?25l  Downloading https://files.pythonhosted.org/packages/cd/a5/9781e2ef4ca92d09912c4794642c1653aea7607f473e156cf4d423a881a1/JPype1-1.2.1-cp37-cp37m-manylinux2010_x86_64.whl (457kB)\n",
            "\u001b[K     |████████████████████████████████| 460kB 46.7MB/s \n",
            "\u001b[?25hRequirement already satisfied: numpy>=1.6 in /usr/local/lib/python3.7/dist-packages (from konlpy) (1.19.5)\n",
            "Collecting colorama\n",
            "  Downloading https://files.pythonhosted.org/packages/44/98/5b86278fbbf250d239ae0ecb724f8572af1c91f4a11edf4d36a206189440/colorama-0.4.4-py2.py3-none-any.whl\n",
            "Requirement already satisfied: lxml>=4.1.0 in /usr/local/lib/python3.7/dist-packages (from konlpy) (4.2.6)\n",
            "Requirement already satisfied: requests[socks]>=2.11.1 in /usr/local/lib/python3.7/dist-packages (from tweepy>=3.7.0->konlpy) (2.23.0)\n",
            "Requirement already satisfied: requests-oauthlib>=0.7.0 in /usr/local/lib/python3.7/dist-packages (from tweepy>=3.7.0->konlpy) (1.3.0)\n",
            "Requirement already satisfied: six>=1.10.0 in /usr/local/lib/python3.7/dist-packages (from tweepy>=3.7.0->konlpy) (1.15.0)\n",
            "Requirement already satisfied: typing-extensions; python_version < \"3.8\" in /usr/local/lib/python3.7/dist-packages (from JPype1>=0.7.0->konlpy) (3.7.4.3)\n",
            "Requirement already satisfied: chardet<4,>=3.0.2 in /usr/local/lib/python3.7/dist-packages (from requests[socks]>=2.11.1->tweepy>=3.7.0->konlpy) (3.0.4)\n",
            "Requirement already satisfied: idna<3,>=2.5 in /usr/local/lib/python3.7/dist-packages (from requests[socks]>=2.11.1->tweepy>=3.7.0->konlpy) (2.10)\n",
            "Requirement already satisfied: certifi>=2017.4.17 in /usr/local/lib/python3.7/dist-packages (from requests[socks]>=2.11.1->tweepy>=3.7.0->konlpy) (2020.12.5)\n",
            "Requirement already satisfied: urllib3!=1.25.0,!=1.25.1,<1.26,>=1.21.1 in /usr/local/lib/python3.7/dist-packages (from requests[socks]>=2.11.1->tweepy>=3.7.0->konlpy) (1.24.3)\n",
            "Requirement already satisfied: PySocks!=1.5.7,>=1.5.6; extra == \"socks\" in /usr/local/lib/python3.7/dist-packages (from requests[socks]>=2.11.1->tweepy>=3.7.0->konlpy) (1.7.1)\n",
            "Requirement already satisfied: oauthlib>=3.0.0 in /usr/local/lib/python3.7/dist-packages (from requests-oauthlib>=0.7.0->tweepy>=3.7.0->konlpy) (3.1.0)\n",
            "Installing collected packages: beautifulsoup4, JPype1, colorama, konlpy\n",
            "  Found existing installation: beautifulsoup4 4.6.3\n",
            "    Uninstalling beautifulsoup4-4.6.3:\n",
            "      Successfully uninstalled beautifulsoup4-4.6.3\n",
            "Successfully installed JPype1-1.2.1 beautifulsoup4-4.6.0 colorama-0.4.4 konlpy-0.5.2\n"
          ],
          "name": "stdout"
        }
      ]
    },
    {
      "cell_type": "code",
      "metadata": {
        "id": "GnOvPZCLyAPv"
      },
      "source": [
        ""
      ],
      "execution_count": 1,
      "outputs": []
    },
    {
      "cell_type": "code",
      "metadata": {
        "id": "ZxqwI6RfnXWd"
      },
      "source": [
        "import pymysql\n",
        "import pandas as pd\n",
        "import numpy as np\n",
        "import os\n",
        "from tqdm import tqdm\n",
        "import konlpy\n",
        "\n",
        "\n",
        "from sklearn.model_selection import train_test_split\n",
        "from sklearn.metrics import mean_squared_error\n",
        "# from google.colab import drive\n",
        "# drive.mount('/content/drive')\n",
        "\n",
        "\n",
        "\n",
        "#데이터 가져오기\n",
        "db = pymysql.connect(host='222.111.24.101', port=3306, user='playdata', password='playdata123!', db='bookdata', charset='utf8')\n",
        "\n",
        "curs = db.cursor(pymysql.cursors.DictCursor)  \n",
        "\n",
        "query = '''\n",
        "select *\n",
        "    from books_data'''\n",
        "df_books_data = pd.read_sql(query, db)"
      ],
      "execution_count": 10,
      "outputs": []
    },
    {
      "cell_type": "code",
      "metadata": {
        "id": "4HYJuYIkerr4",
        "colab": {
          "base_uri": "https://localhost:8080/"
        },
        "outputId": "bf6207fe-41be-44cd-f5e3-0677b9927a48"
      },
      "source": [
        "# 구글 드라이브 사용시\n",
        "\n",
        "# path = '/content/drive/MyDrive/data/'\n",
        "# df_books_data = pd.read_csv(os.path.join(path, 'book_data.csv'), error_bad_lines=False)"
      ],
      "execution_count": 3,
      "outputs": [
        {
          "output_type": "stream",
          "text": [
            "b'Skipping line 5: expected 11 fields, saw 12\\nSkipping line 69: expected 11 fields, saw 13\\nSkipping line 105: expected 11 fields, saw 12\\nSkipping line 291: expected 11 fields, saw 12\\nSkipping line 899: expected 11 fields, saw 13\\nSkipping line 1026: expected 11 fields, saw 12\\nSkipping line 1423: expected 11 fields, saw 12\\nSkipping line 1806: expected 11 fields, saw 12\\nSkipping line 1843: expected 11 fields, saw 13\\nSkipping line 2021: expected 11 fields, saw 12\\nSkipping line 2022: expected 11 fields, saw 12\\nSkipping line 2111: expected 11 fields, saw 12\\nSkipping line 2142: expected 11 fields, saw 12\\nSkipping line 2249: expected 11 fields, saw 12\\nSkipping line 2316: expected 11 fields, saw 12\\nSkipping line 2358: expected 11 fields, saw 12\\nSkipping line 2410: expected 11 fields, saw 13\\nSkipping line 2421: expected 11 fields, saw 12\\nSkipping line 2588: expected 11 fields, saw 16\\nSkipping line 2753: expected 11 fields, saw 14\\nSkipping line 2890: expected 11 fields, saw 12\\nSkipping line 2939: expected 11 fields, saw 13\\nSkipping line 2950: expected 11 fields, saw 12\\nSkipping line 3313: expected 11 fields, saw 14\\nSkipping line 3447: expected 11 fields, saw 12\\nSkipping line 3452: expected 11 fields, saw 12\\nSkipping line 3518: expected 11 fields, saw 13\\nSkipping line 3753: expected 11 fields, saw 12\\nSkipping line 3961: expected 11 fields, saw 13\\nSkipping line 4002: expected 11 fields, saw 12\\nSkipping line 4177: expected 11 fields, saw 14\\nSkipping line 4382: expected 11 fields, saw 12\\nSkipping line 4684: expected 11 fields, saw 14\\nSkipping line 4792: expected 11 fields, saw 12\\nSkipping line 4914: expected 11 fields, saw 14\\nSkipping line 5015: expected 11 fields, saw 14\\nSkipping line 5409: expected 11 fields, saw 13\\nSkipping line 5479: expected 11 fields, saw 12\\nSkipping line 5500: expected 11 fields, saw 12\\nSkipping line 5562: expected 11 fields, saw 13\\nSkipping line 5587: expected 11 fields, saw 12\\nSkipping line 5590: expected 11 fields, saw 13\\nSkipping line 5613: expected 11 fields, saw 14\\nSkipping line 5614: expected 11 fields, saw 14\\nSkipping line 5685: expected 11 fields, saw 14\\nSkipping line 6067: expected 11 fields, saw 12\\nSkipping line 6094: expected 11 fields, saw 13\\nSkipping line 6126: expected 11 fields, saw 13\\nSkipping line 6167: expected 11 fields, saw 12\\nSkipping line 6404: expected 11 fields, saw 13\\nSkipping line 6414: expected 11 fields, saw 12\\nSkipping line 6446: expected 11 fields, saw 14\\nSkipping line 6599: expected 11 fields, saw 12\\nSkipping line 6635: expected 11 fields, saw 12\\nSkipping line 6754: expected 11 fields, saw 13\\nSkipping line 7048: expected 11 fields, saw 12\\nSkipping line 7259: expected 11 fields, saw 13\\nSkipping line 7297: expected 11 fields, saw 12\\nSkipping line 7649: expected 11 fields, saw 12\\nSkipping line 7665: expected 11 fields, saw 13\\nSkipping line 7894: expected 11 fields, saw 12\\nSkipping line 7915: expected 11 fields, saw 12\\nSkipping line 8675: expected 11 fields, saw 13\\nSkipping line 9146: expected 11 fields, saw 15\\nSkipping line 10192: expected 11 fields, saw 14\\nSkipping line 10258: expected 11 fields, saw 12\\nSkipping line 10274: expected 11 fields, saw 13\\nSkipping line 10367: expected 11 fields, saw 13\\nSkipping line 10375: expected 11 fields, saw 13\\nSkipping line 10377: expected 11 fields, saw 12\\nSkipping line 10390: expected 11 fields, saw 12\\nSkipping line 10486: expected 11 fields, saw 13\\nSkipping line 10511: expected 11 fields, saw 12\\nSkipping line 10522: expected 11 fields, saw 12\\nSkipping line 10615: expected 11 fields, saw 13\\nSkipping line 10616: expected 11 fields, saw 12\\nSkipping line 10635: expected 11 fields, saw 12\\nSkipping line 10652: expected 11 fields, saw 12\\nSkipping line 10774: expected 11 fields, saw 12\\nSkipping line 10885: expected 11 fields, saw 12\\nSkipping line 10891: expected 11 fields, saw 12\\nSkipping line 10892: expected 11 fields, saw 12\\nSkipping line 11030: expected 11 fields, saw 12\\nSkipping line 11038: expected 11 fields, saw 12\\nSkipping line 11067: expected 11 fields, saw 14\\nSkipping line 11148: expected 11 fields, saw 12\\nSkipping line 11175: expected 11 fields, saw 12\\nSkipping line 11213: expected 11 fields, saw 12\\nSkipping line 11310: expected 11 fields, saw 12\\nSkipping line 11323: expected 11 fields, saw 12\\nSkipping line 11326: expected 11 fields, saw 12\\nSkipping line 11329: expected 11 fields, saw 14\\nSkipping line 11333: expected 11 fields, saw 14\\nSkipping line 11369: expected 11 fields, saw 12\\nSkipping line 11408: expected 11 fields, saw 12\\nSkipping line 11430: expected 11 fields, saw 12\\nSkipping line 11439: expected 11 fields, saw 12\\nSkipping line 11447: expected 11 fields, saw 14\\nSkipping line 11463: expected 11 fields, saw 12\\nSkipping line 11542: expected 11 fields, saw 12\\nSkipping line 11591: expected 11 fields, saw 12\\nSkipping line 11600: expected 11 fields, saw 12\\nSkipping line 11603: expected 11 fields, saw 12\\nSkipping line 11605: expected 11 fields, saw 13\\nSkipping line 11658: expected 11 fields, saw 14\\nSkipping line 11704: expected 11 fields, saw 12\\nSkipping line 11731: expected 11 fields, saw 12\\nSkipping line 11734: expected 11 fields, saw 12\\nSkipping line 11735: expected 11 fields, saw 12\\nSkipping line 11740: expected 11 fields, saw 12\\nSkipping line 11747: expected 11 fields, saw 13\\nSkipping line 11749: expected 11 fields, saw 14\\nSkipping line 11764: expected 11 fields, saw 12\\nSkipping line 11910: expected 11 fields, saw 13\\nSkipping line 11916: expected 11 fields, saw 12\\nSkipping line 11917: expected 11 fields, saw 12\\nSkipping line 11954: expected 11 fields, saw 12\\nSkipping line 11985: expected 11 fields, saw 12\\nSkipping line 12033: expected 11 fields, saw 12\\nSkipping line 12047: expected 11 fields, saw 13\\nSkipping line 12089: expected 11 fields, saw 12\\nSkipping line 12113: expected 11 fields, saw 14\\nSkipping line 12160: expected 11 fields, saw 12\\nSkipping line 12191: expected 11 fields, saw 12\\nSkipping line 12208: expected 11 fields, saw 13\\nSkipping line 12224: expected 11 fields, saw 12\\nSkipping line 12293: expected 11 fields, saw 13\\nSkipping line 12299: expected 11 fields, saw 12\\nSkipping line 12307: expected 11 fields, saw 13\\nSkipping line 12308: expected 11 fields, saw 13\\nSkipping line 12455: expected 11 fields, saw 12\\nSkipping line 12458: expected 11 fields, saw 13\\nSkipping line 12479: expected 11 fields, saw 14\\nSkipping line 12499: expected 11 fields, saw 12\\nSkipping line 12523: expected 11 fields, saw 12\\nSkipping line 12641: expected 11 fields, saw 12\\nSkipping line 12651: expected 11 fields, saw 13\\nSkipping line 12708: expected 11 fields, saw 12\\nSkipping line 12709: expected 11 fields, saw 12\\nSkipping line 12775: expected 11 fields, saw 12\\nSkipping line 12802: expected 11 fields, saw 14\\nSkipping line 12837: expected 11 fields, saw 12\\nSkipping line 12850: expected 11 fields, saw 12\\nSkipping line 12863: expected 11 fields, saw 13\\nSkipping line 12884: expected 11 fields, saw 12\\nSkipping line 12885: expected 11 fields, saw 12\\nSkipping line 12959: expected 11 fields, saw 14\\nSkipping line 12992: expected 11 fields, saw 12\\nSkipping line 13016: expected 11 fields, saw 13\\nSkipping line 13017: expected 11 fields, saw 13\\nSkipping line 13053: expected 11 fields, saw 12\\nSkipping line 13054: expected 11 fields, saw 12\\nSkipping line 13109: expected 11 fields, saw 14\\nSkipping line 13141: expected 11 fields, saw 15\\nSkipping line 13198: expected 11 fields, saw 12\\nSkipping line 13199: expected 11 fields, saw 12\\nSkipping line 13206: expected 11 fields, saw 12\\nSkipping line 13267: expected 11 fields, saw 12\\nSkipping line 13299: expected 11 fields, saw 14\\nSkipping line 13314: expected 11 fields, saw 15\\nSkipping line 13382: expected 11 fields, saw 12\\nSkipping line 13383: expected 11 fields, saw 12\\nSkipping line 13420: expected 11 fields, saw 12\\nSkipping line 13421: expected 11 fields, saw 13\\nSkipping line 13451: expected 11 fields, saw 14\\nSkipping line 13506: expected 11 fields, saw 12\\nSkipping line 13514: expected 11 fields, saw 12\\nSkipping line 13546: expected 11 fields, saw 12\\nSkipping line 13547: expected 11 fields, saw 12\\nSkipping line 13620: expected 11 fields, saw 14\\nSkipping line 13636: expected 11 fields, saw 12\\nSkipping line 13655: expected 11 fields, saw 12\\nSkipping line 13694: expected 11 fields, saw 12\\nSkipping line 13723: expected 11 fields, saw 12\\nSkipping line 13808: expected 11 fields, saw 13\\nSkipping line 13841: expected 11 fields, saw 12\\nSkipping line 13845: expected 11 fields, saw 12\\nSkipping line 13931: expected 11 fields, saw 13\\nSkipping line 13953: expected 11 fields, saw 12\\nSkipping line 13954: expected 11 fields, saw 12\\nSkipping line 13979: expected 11 fields, saw 13\\nSkipping line 14016: expected 11 fields, saw 13\\nSkipping line 14017: expected 11 fields, saw 13\\nSkipping line 14022: expected 11 fields, saw 12\\nSkipping line 14124: expected 11 fields, saw 12\\nSkipping line 14182: expected 11 fields, saw 12\\nSkipping line 14237: expected 11 fields, saw 12\\nSkipping line 14281: expected 11 fields, saw 12\\nSkipping line 14285: expected 11 fields, saw 12\\nSkipping line 14334: expected 11 fields, saw 12\\nSkipping line 14392: expected 11 fields, saw 12\\nSkipping line 14468: expected 11 fields, saw 12\\nSkipping line 14494: expected 11 fields, saw 12\\nSkipping line 14573: expected 11 fields, saw 13\\nSkipping line 14583: expected 11 fields, saw 12\\nSkipping line 14595: expected 11 fields, saw 12\\nSkipping line 14612: expected 11 fields, saw 12\\nSkipping line 14681: expected 11 fields, saw 12\\nSkipping line 14702: expected 11 fields, saw 12\\nSkipping line 14703: expected 11 fields, saw 12\\nSkipping line 14723: expected 11 fields, saw 12\\nSkipping line 14724: expected 11 fields, saw 12\\nSkipping line 14788: expected 11 fields, saw 14\\nSkipping line 14792: expected 11 fields, saw 12\\nSkipping line 14812: expected 11 fields, saw 12\\nSkipping line 14936: expected 11 fields, saw 12\\nSkipping line 14942: expected 11 fields, saw 12\\nSkipping line 14961: expected 11 fields, saw 12\\nSkipping line 14986: expected 11 fields, saw 12\\nSkipping line 14987: expected 11 fields, saw 12\\nSkipping line 15001: expected 11 fields, saw 13\\nSkipping line 15027: expected 11 fields, saw 12\\nSkipping line 15028: expected 11 fields, saw 12\\nSkipping line 15029: expected 11 fields, saw 12\\nSkipping line 15131: expected 11 fields, saw 12\\nSkipping line 15144: expected 11 fields, saw 12\\nSkipping line 15167: expected 11 fields, saw 13\\nSkipping line 15285: expected 11 fields, saw 12\\nSkipping line 15333: expected 11 fields, saw 12\\nSkipping line 15357: expected 11 fields, saw 12\\nSkipping line 15358: expected 11 fields, saw 13\\nSkipping line 15376: expected 11 fields, saw 12\\nSkipping line 15377: expected 11 fields, saw 12\\nSkipping line 15385: expected 11 fields, saw 13\\nSkipping line 15432: expected 11 fields, saw 12\\nSkipping line 15459: expected 11 fields, saw 12\\nSkipping line 15470: expected 11 fields, saw 13\\nSkipping line 15480: expected 11 fields, saw 12\\nSkipping line 15481: expected 11 fields, saw 12\\nSkipping line 15503: expected 11 fields, saw 12\\nSkipping line 15525: expected 11 fields, saw 13\\nSkipping line 15527: expected 11 fields, saw 12\\nSkipping line 15547: expected 11 fields, saw 13\\nSkipping line 15573: expected 11 fields, saw 12\\nSkipping line 15599: expected 11 fields, saw 13\\nSkipping line 15615: expected 11 fields, saw 12\\nSkipping line 15627: expected 11 fields, saw 12\\nSkipping line 15661: expected 11 fields, saw 12\\nSkipping line 15670: expected 11 fields, saw 13\\nSkipping line 15704: expected 11 fields, saw 12\\nSkipping line 15705: expected 11 fields, saw 12\\nSkipping line 15764: expected 11 fields, saw 13\\nSkipping line 15771: expected 11 fields, saw 12\\nSkipping line 15772: expected 11 fields, saw 12\\nSkipping line 15791: expected 11 fields, saw 13\\nSkipping line 15793: expected 11 fields, saw 12\\nSkipping line 15850: expected 11 fields, saw 12\\nSkipping line 15873: expected 11 fields, saw 12\\nSkipping line 15874: expected 11 fields, saw 12\\nSkipping line 15908: expected 11 fields, saw 12\\nSkipping line 15941: expected 11 fields, saw 12\\nSkipping line 15942: expected 11 fields, saw 12\\nSkipping line 15956: expected 11 fields, saw 14\\nSkipping line 15962: expected 11 fields, saw 13\\nSkipping line 15982: expected 11 fields, saw 13\\nSkipping line 15998: expected 11 fields, saw 12\\nSkipping line 16023: expected 11 fields, saw 12\\nSkipping line 16032: expected 11 fields, saw 12\\nSkipping line 16034: expected 11 fields, saw 13\\nSkipping line 16040: expected 11 fields, saw 13\\nSkipping line 16050: expected 11 fields, saw 13\\nSkipping line 16083: expected 11 fields, saw 13\\nSkipping line 16093: expected 11 fields, saw 12\\nSkipping line 16104: expected 11 fields, saw 12\\nSkipping line 16113: expected 11 fields, saw 12\\nSkipping line 16159: expected 11 fields, saw 12\\nSkipping line 16172: expected 11 fields, saw 13\\nSkipping line 16174: expected 11 fields, saw 12\\nSkipping line 16220: expected 11 fields, saw 13\\nSkipping line 16221: expected 11 fields, saw 12\\nSkipping line 16223: expected 11 fields, saw 14\\nSkipping line 16228: expected 11 fields, saw 12\\nSkipping line 16235: expected 11 fields, saw 12\\nSkipping line 16277: expected 11 fields, saw 12\\nSkipping line 16288: expected 11 fields, saw 12\\nSkipping line 16320: expected 11 fields, saw 13\\nSkipping line 16330: expected 11 fields, saw 12\\nSkipping line 16346: expected 11 fields, saw 12\\nSkipping line 16347: expected 11 fields, saw 12\\nSkipping line 16356: expected 11 fields, saw 13\\nSkipping line 16357: expected 11 fields, saw 12\\nSkipping line 16369: expected 11 fields, saw 12\\nSkipping line 16389: expected 11 fields, saw 12\\nSkipping line 16392: expected 11 fields, saw 13\\nSkipping line 16393: expected 11 fields, saw 13\\nSkipping line 16430: expected 11 fields, saw 12\\nSkipping line 16439: expected 11 fields, saw 12\\nSkipping line 16468: expected 11 fields, saw 12\\nSkipping line 16472: expected 11 fields, saw 12\\nSkipping line 16495: expected 11 fields, saw 14\\nSkipping line 16512: expected 11 fields, saw 13\\nSkipping line 16513: expected 11 fields, saw 12\\nSkipping line 16522: expected 11 fields, saw 14\\nSkipping line 16551: expected 11 fields, saw 12\\nSkipping line 16557: expected 11 fields, saw 13\\nSkipping line 16558: expected 11 fields, saw 13\\nSkipping line 16560: expected 11 fields, saw 12\\nSkipping line 16586: expected 11 fields, saw 13\\nSkipping line 16605: expected 11 fields, saw 12\\nSkipping line 16606: expected 11 fields, saw 12\\nSkipping line 16612: expected 11 fields, saw 13\\nSkipping line 16620: expected 11 fields, saw 12\\nSkipping line 16626: expected 11 fields, saw 12\\nSkipping line 16627: expected 11 fields, saw 12\\nSkipping line 16670: expected 11 fields, saw 12\\nSkipping line 16690: expected 11 fields, saw 12\\nSkipping line 16695: expected 11 fields, saw 14\\nSkipping line 16701: expected 11 fields, saw 13\\nSkipping line 16702: expected 11 fields, saw 13\\nSkipping line 16717: expected 11 fields, saw 12\\nSkipping line 16721: expected 11 fields, saw 12\\nSkipping line 16723: expected 11 fields, saw 12\\nSkipping line 16809: expected 11 fields, saw 12\\nSkipping line 16814: expected 11 fields, saw 12\\nSkipping line 16819: expected 11 fields, saw 12\\nSkipping line 16820: expected 11 fields, saw 12\\nSkipping line 16835: expected 11 fields, saw 13\\nSkipping line 16848: expected 11 fields, saw 12\\nSkipping line 16849: expected 11 fields, saw 13\\nSkipping line 16874: expected 11 fields, saw 12\\nSkipping line 16895: expected 11 fields, saw 12\\nSkipping line 16896: expected 11 fields, saw 12\\nSkipping line 16897: expected 11 fields, saw 12\\nSkipping line 16898: expected 11 fields, saw 12\\nSkipping line 16918: expected 11 fields, saw 12\\nSkipping line 16963: expected 11 fields, saw 14\\nSkipping line 17023: expected 11 fields, saw 12\\nSkipping line 17059: expected 11 fields, saw 13\\nSkipping line 17075: expected 11 fields, saw 13\\nSkipping line 17076: expected 11 fields, saw 13\\nSkipping line 17086: expected 11 fields, saw 12\\nSkipping line 17171: expected 11 fields, saw 12\\nSkipping line 17240: expected 11 fields, saw 12\\nSkipping line 17246: expected 11 fields, saw 12\\nSkipping line 17254: expected 11 fields, saw 12\\nSkipping line 17263: expected 11 fields, saw 12\\nSkipping line 17272: expected 11 fields, saw 12\\nSkipping line 17287: expected 11 fields, saw 12\\nSkipping line 17295: expected 11 fields, saw 12\\nSkipping line 17342: expected 11 fields, saw 12\\nSkipping line 17349: expected 11 fields, saw 12\\nSkipping line 17358: expected 11 fields, saw 12\\nSkipping line 17359: expected 11 fields, saw 12\\nSkipping line 17389: expected 11 fields, saw 13\\nSkipping line 17425: expected 11 fields, saw 13\\nSkipping line 17433: expected 11 fields, saw 13\\nSkipping line 17572: expected 11 fields, saw 13\\nSkipping line 17650: expected 11 fields, saw 14\\nSkipping line 17745: expected 11 fields, saw 13\\nSkipping line 17850: expected 11 fields, saw 12\\nSkipping line 18054: expected 11 fields, saw 12\\nSkipping line 18058: expected 11 fields, saw 15\\nSkipping line 18088: expected 11 fields, saw 13\\nSkipping line 18092: expected 11 fields, saw 12\\nSkipping line 18114: expected 11 fields, saw 12\\nSkipping line 18129: expected 11 fields, saw 12\\nSkipping line 18130: expected 11 fields, saw 12\\nSkipping line 18131: expected 11 fields, saw 12\\nSkipping line 18148: expected 11 fields, saw 12\\nSkipping line 18150: expected 11 fields, saw 12\\nSkipping line 18170: expected 11 fields, saw 13\\nSkipping line 18173: expected 11 fields, saw 12\\nSkipping line 18174: expected 11 fields, saw 13\\nSkipping line 18184: expected 11 fields, saw 16\\nSkipping line 18193: expected 11 fields, saw 14\\nSkipping line 18198: expected 11 fields, saw 12\\nSkipping line 18200: expected 11 fields, saw 12\\nSkipping line 18202: expected 11 fields, saw 13\\nSkipping line 18204: expected 11 fields, saw 13\\nSkipping line 18206: expected 11 fields, saw 15\\nSkipping line 18225: expected 11 fields, saw 13\\nSkipping line 18242: expected 11 fields, saw 12\\nSkipping line 18244: expected 11 fields, saw 12\\nSkipping line 18254: expected 11 fields, saw 12\\nSkipping line 18256: expected 11 fields, saw 15\\nSkipping line 18260: expected 11 fields, saw 12\\nSkipping line 18270: expected 11 fields, saw 14\\nSkipping line 18286: expected 11 fields, saw 12\\nSkipping line 18288: expected 11 fields, saw 12\\nSkipping line 18298: expected 11 fields, saw 12\\nSkipping line 18300: expected 11 fields, saw 12\\nSkipping line 18304: expected 11 fields, saw 12\\nSkipping line 18334: expected 11 fields, saw 12\\nSkipping line 18370: expected 11 fields, saw 16\\nSkipping line 18380: expected 11 fields, saw 12\\nSkipping line 18397: expected 11 fields, saw 13\\nSkipping line 18405: expected 11 fields, saw 13\\nSkipping line 18424: expected 11 fields, saw 12\\nSkipping line 18430: expected 11 fields, saw 12\\nSkipping line 18435: expected 11 fields, saw 12\\nSkipping line 18439: expected 11 fields, saw 12\\nSkipping line 18441: expected 11 fields, saw 13\\nSkipping line 18444: expected 11 fields, saw 12\\nSkipping line 18452: expected 11 fields, saw 12\\nSkipping line 18461: expected 11 fields, saw 13\\nSkipping line 18465: expected 11 fields, saw 13\\nSkipping line 18471: expected 11 fields, saw 12\\nSkipping line 18483: expected 11 fields, saw 13\\nSkipping line 18485: expected 11 fields, saw 13\\nSkipping line 18491: expected 11 fields, saw 15\\nSkipping line 18511: expected 11 fields, saw 12\\nSkipping line 18517: expected 11 fields, saw 15\\nSkipping line 18539: expected 11 fields, saw 12\\nSkipping line 18541: expected 11 fields, saw 12\\nSkipping line 18551: expected 11 fields, saw 14\\nSkipping line 18553: expected 11 fields, saw 14\\nSkipping line 18601: expected 11 fields, saw 12\\nSkipping line 18611: expected 11 fields, saw 12\\nSkipping line 18639: expected 11 fields, saw 12\\nSkipping line 18641: expected 11 fields, saw 12\\nSkipping line 18645: expected 11 fields, saw 13\\nSkipping line 18650: expected 11 fields, saw 12\\nSkipping line 18651: expected 11 fields, saw 13\\nSkipping line 18652: expected 11 fields, saw 14\\nSkipping line 18653: expected 11 fields, saw 12\\nSkipping line 18655: expected 11 fields, saw 12\\nSkipping line 18675: expected 11 fields, saw 14\\nSkipping line 18677: expected 11 fields, saw 14\\nSkipping line 18681: expected 11 fields, saw 13\\nSkipping line 18697: expected 11 fields, saw 15\\nSkipping line 18745: expected 11 fields, saw 12\\nSkipping line 18751: expected 11 fields, saw 13\\nSkipping line 18760: expected 11 fields, saw 13\\nSkipping line 18764: expected 11 fields, saw 12\\nSkipping line 18766: expected 11 fields, saw 12\\nSkipping line 18787: expected 11 fields, saw 12\\nSkipping line 18789: expected 11 fields, saw 12\\nSkipping line 18794: expected 11 fields, saw 12\\nSkipping line 18805: expected 11 fields, saw 12\\nSkipping line 18815: expected 11 fields, saw 12\\nSkipping line 18825: expected 11 fields, saw 12\\nSkipping line 18830: expected 11 fields, saw 12\\nSkipping line 18843: expected 11 fields, saw 12\\nSkipping line 18845: expected 11 fields, saw 12\\nSkipping line 18869: expected 11 fields, saw 13\\nSkipping line 18896: expected 11 fields, saw 12\\nSkipping line 18905: expected 11 fields, saw 12\\nSkipping line 18923: expected 11 fields, saw 12\\nSkipping line 18925: expected 11 fields, saw 12\\nSkipping line 18927: expected 11 fields, saw 12\\nSkipping line 18949: expected 11 fields, saw 12\\nSkipping line 18979: expected 11 fields, saw 13\\nSkipping line 18981: expected 11 fields, saw 13\\nSkipping line 19013: expected 11 fields, saw 12\\nSkipping line 19040: expected 11 fields, saw 13\\nSkipping line 19050: expected 11 fields, saw 14\\nSkipping line 19052: expected 11 fields, saw 14\\nSkipping line 19053: expected 11 fields, saw 12\\nSkipping line 19057: expected 11 fields, saw 12\\nSkipping line 19069: expected 11 fields, saw 12\\nSkipping line 19073: expected 11 fields, saw 12\\nSkipping line 19088: expected 11 fields, saw 12\\nSkipping line 19090: expected 11 fields, saw 12\\nSkipping line 19096: expected 11 fields, saw 12\\nSkipping line 19104: expected 11 fields, saw 12\\nSkipping line 19106: expected 11 fields, saw 13\\nSkipping line 19117: expected 11 fields, saw 12\\nSkipping line 19148: expected 11 fields, saw 13\\nSkipping line 19150: expected 11 fields, saw 13\\nSkipping line 19179: expected 11 fields, saw 13\\nSkipping line 19264: expected 11 fields, saw 12\\nSkipping line 19270: expected 11 fields, saw 12\\nSkipping line 19277: expected 11 fields, saw 14\\nSkipping line 19279: expected 11 fields, saw 14\\nSkipping line 19280: expected 11 fields, saw 12\\nSkipping line 19282: expected 11 fields, saw 12\\nSkipping line 19325: expected 11 fields, saw 13\\nSkipping line 19345: expected 11 fields, saw 12\\nSkipping line 19365: expected 11 fields, saw 12\\nSkipping line 19396: expected 11 fields, saw 12\\nSkipping line 19415: expected 11 fields, saw 12\\nSkipping line 19420: expected 11 fields, saw 13\\nSkipping line 19431: expected 11 fields, saw 12\\nSkipping line 19480: expected 11 fields, saw 12\\nSkipping line 19481: expected 11 fields, saw 12\\nSkipping line 19482: expected 11 fields, saw 12\\nSkipping line 19489: expected 11 fields, saw 14\\nSkipping line 19509: expected 11 fields, saw 12\\nSkipping line 19515: expected 11 fields, saw 12\\nSkipping line 19517: expected 11 fields, saw 12\\nSkipping line 19545: expected 11 fields, saw 12\\nSkipping line 19564: expected 11 fields, saw 12\\nSkipping line 19568: expected 11 fields, saw 12\\nSkipping line 19570: expected 11 fields, saw 12\\nSkipping line 19624: expected 11 fields, saw 13\\nSkipping line 19627: expected 11 fields, saw 12\\nSkipping line 19630: expected 11 fields, saw 13\\nSkipping line 19632: expected 11 fields, saw 12\\nSkipping line 19652: expected 11 fields, saw 12\\nSkipping line 19655: expected 11 fields, saw 12\\nSkipping line 19693: expected 11 fields, saw 14\\nSkipping line 19695: expected 11 fields, saw 14\\nSkipping line 19731: expected 11 fields, saw 12\\nSkipping line 19740: expected 11 fields, saw 13\\nSkipping line 19757: expected 11 fields, saw 13\\nSkipping line 19773: expected 11 fields, saw 13\\nSkipping line 19799: expected 11 fields, saw 12\\nSkipping line 19801: expected 11 fields, saw 12\\nSkipping line 19820: expected 11 fields, saw 13\\nSkipping line 19828: expected 11 fields, saw 12\\nSkipping line 19832: expected 11 fields, saw 12\\nSkipping line 19835: expected 11 fields, saw 12\\nSkipping line 19858: expected 11 fields, saw 12\\nSkipping line 19866: expected 11 fields, saw 13\\nSkipping line 19868: expected 11 fields, saw 13\\nSkipping line 19878: expected 11 fields, saw 12\\nSkipping line 19880: expected 11 fields, saw 12\\nSkipping line 19920: expected 11 fields, saw 12\\nSkipping line 19957: expected 11 fields, saw 14\\nSkipping line 19959: expected 11 fields, saw 15\\nSkipping line 19961: expected 11 fields, saw 14\\nSkipping line 19963: expected 11 fields, saw 14\\nSkipping line 19980: expected 11 fields, saw 12\\nSkipping line 19997: expected 11 fields, saw 13\\nSkipping line 20054: expected 11 fields, saw 12\\nSkipping line 20056: expected 11 fields, saw 12\\nSkipping line 20076: expected 11 fields, saw 12\\nSkipping line 20078: expected 11 fields, saw 12\\nSkipping line 20079: expected 11 fields, saw 12\\nSkipping line 20081: expected 11 fields, saw 12\\nSkipping line 20082: expected 11 fields, saw 14\\nSkipping line 20134: expected 11 fields, saw 12\\nSkipping line 20151: expected 11 fields, saw 12\\nSkipping line 20152: expected 11 fields, saw 13\\nSkipping line 20154: expected 11 fields, saw 13\\nSkipping line 20162: expected 11 fields, saw 13\\nSkipping line 20163: expected 11 fields, saw 12\\nSkipping line 20172: expected 11 fields, saw 12\\nSkipping line 20191: expected 11 fields, saw 12\\nSkipping line 20193: expected 11 fields, saw 12\\nSkipping line 20244: expected 11 fields, saw 12\\nSkipping line 20246: expected 11 fields, saw 14\\nSkipping line 20255: expected 11 fields, saw 13\\nSkipping line 20288: expected 11 fields, saw 12\\nSkipping line 20332: expected 11 fields, saw 13\\nSkipping line 20338: expected 11 fields, saw 13\\nSkipping line 20339: expected 11 fields, saw 13\\nSkipping line 20342: expected 11 fields, saw 12\\nSkipping line 20392: expected 11 fields, saw 12\\nSkipping line 20454: expected 11 fields, saw 12\\nSkipping line 20470: expected 11 fields, saw 13\\nSkipping line 20486: expected 11 fields, saw 12\\nSkipping line 20507: expected 11 fields, saw 13\\nSkipping line 20511: expected 11 fields, saw 12\\nSkipping line 20514: expected 11 fields, saw 12\\nSkipping line 20559: expected 11 fields, saw 12\\nSkipping line 20630: expected 11 fields, saw 12\\nSkipping line 20644: expected 11 fields, saw 12\\nSkipping line 20650: expected 11 fields, saw 12\\nSkipping line 20695: expected 11 fields, saw 13\\nSkipping line 20709: expected 11 fields, saw 12\\nSkipping line 20720: expected 11 fields, saw 13\\nSkipping line 20826: expected 11 fields, saw 12\\nSkipping line 20887: expected 11 fields, saw 12\\nSkipping line 20904: expected 11 fields, saw 12\\nSkipping line 20944: expected 11 fields, saw 12\\nSkipping line 20966: expected 11 fields, saw 13\\nSkipping line 20988: expected 11 fields, saw 14\\nSkipping line 21065: expected 11 fields, saw 13\\nSkipping line 21090: expected 11 fields, saw 13\\nSkipping line 21092: expected 11 fields, saw 13\\nSkipping line 21159: expected 11 fields, saw 14\\nSkipping line 21184: expected 11 fields, saw 13\\nSkipping line 21219: expected 11 fields, saw 14\\nSkipping line 21222: expected 11 fields, saw 14\\nSkipping line 21251: expected 11 fields, saw 12\\nSkipping line 21266: expected 11 fields, saw 12\\nSkipping line 21268: expected 11 fields, saw 12\\nSkipping line 21287: expected 11 fields, saw 12\\nSkipping line 21299: expected 11 fields, saw 12\\nSkipping line 21301: expected 11 fields, saw 12\\nSkipping line 21307: expected 11 fields, saw 13\\nSkipping line 21341: expected 11 fields, saw 12\\nSkipping line 21362: expected 11 fields, saw 12\\nSkipping line 21364: expected 11 fields, saw 12\\nSkipping line 21389: expected 11 fields, saw 15\\nSkipping line 21391: expected 11 fields, saw 15\\nSkipping line 21407: expected 11 fields, saw 12\\nSkipping line 21510: expected 11 fields, saw 13\\nSkipping line 21531: expected 11 fields, saw 13\\nSkipping line 21533: expected 11 fields, saw 13\\nSkipping line 21536: expected 11 fields, saw 12\\nSkipping line 21565: expected 11 fields, saw 12\\nSkipping line 21569: expected 11 fields, saw 13\\nSkipping line 21595: expected 11 fields, saw 12\\nSkipping line 21620: expected 11 fields, saw 13\\nSkipping line 21634: expected 11 fields, saw 15\\nSkipping line 21660: expected 11 fields, saw 12\\nSkipping line 21670: expected 11 fields, saw 13\\nSkipping line 21749: expected 11 fields, saw 13\\nSkipping line 21751: expected 11 fields, saw 13\\nSkipping line 21753: expected 11 fields, saw 13\\nSkipping line 21787: expected 11 fields, saw 13\\nSkipping line 21789: expected 11 fields, saw 13\\nSkipping line 21802: expected 11 fields, saw 12\\nSkipping line 21806: expected 11 fields, saw 12\\nSkipping line 21838: expected 11 fields, saw 13\\nSkipping line 21840: expected 11 fields, saw 13\\nSkipping line 21871: expected 11 fields, saw 12\\nSkipping line 21905: expected 11 fields, saw 13\\nSkipping line 21912: expected 11 fields, saw 12\\nSkipping line 21925: expected 11 fields, saw 13\\nSkipping line 22006: expected 11 fields, saw 12\\nSkipping line 22008: expected 11 fields, saw 12\\nSkipping line 22029: expected 11 fields, saw 14\\nSkipping line 22087: expected 11 fields, saw 12\\nSkipping line 22103: expected 11 fields, saw 12\\nSkipping line 22112: expected 11 fields, saw 12\\nSkipping line 22114: expected 11 fields, saw 12\\nSkipping line 22118: expected 11 fields, saw 12\\nSkipping line 22120: expected 11 fields, saw 12\\nSkipping line 22169: expected 11 fields, saw 12\\nSkipping line 22172: expected 11 fields, saw 13\\nSkipping line 22193: expected 11 fields, saw 12\\nSkipping line 22222: expected 11 fields, saw 12\\nSkipping line 22224: expected 11 fields, saw 12\\nSkipping line 22230: expected 11 fields, saw 12\\nSkipping line 22232: expected 11 fields, saw 12\\nSkipping line 22236: expected 11 fields, saw 15\\nSkipping line 22238: expected 11 fields, saw 15\\nSkipping line 22248: expected 11 fields, saw 12\\nSkipping line 22253: expected 11 fields, saw 12\\nSkipping line 22257: expected 11 fields, saw 12\\nSkipping line 22278: expected 11 fields, saw 12\\nSkipping line 22280: expected 11 fields, saw 12\\nSkipping line 22282: expected 11 fields, saw 12\\nSkipping line 22334: expected 11 fields, saw 13\\nSkipping line 22356: expected 11 fields, saw 13\\nSkipping line 22368: expected 11 fields, saw 12\\nSkipping line 22378: expected 11 fields, saw 13\\nSkipping line 22442: expected 11 fields, saw 12\\nSkipping line 22464: expected 11 fields, saw 12\\nSkipping line 22466: expected 11 fields, saw 12\\nSkipping line 22497: expected 11 fields, saw 12\\nSkipping line 22510: expected 11 fields, saw 13\\nSkipping line 22546: expected 11 fields, saw 13\\nSkipping line 22575: expected 11 fields, saw 12\\nSkipping line 22593: expected 11 fields, saw 12\\nSkipping line 22612: expected 11 fields, saw 15\\nSkipping line 22614: expected 11 fields, saw 13\\nSkipping line 22616: expected 11 fields, saw 13\\nSkipping line 22626: expected 11 fields, saw 12\\nSkipping line 22628: expected 11 fields, saw 12\\nSkipping line 22630: expected 11 fields, saw 12\\nSkipping line 22649: expected 11 fields, saw 12\\nSkipping line 22651: expected 11 fields, saw 12\\nSkipping line 22678: expected 11 fields, saw 13\\nSkipping line 22736: expected 11 fields, saw 12\\nSkipping line 22813: expected 11 fields, saw 12\\nSkipping line 22833: expected 11 fields, saw 12\\nSkipping line 22873: expected 11 fields, saw 12\\nSkipping line 22913: expected 11 fields, saw 12\\nSkipping line 22917: expected 11 fields, saw 12\\nSkipping line 22932: expected 11 fields, saw 13\\nSkipping line 22937: expected 11 fields, saw 12\\nSkipping line 22939: expected 11 fields, saw 12\\nSkipping line 22972: expected 11 fields, saw 14\\nSkipping line 22973: expected 11 fields, saw 14\\nSkipping line 22980: expected 11 fields, saw 12\\nSkipping line 22994: expected 11 fields, saw 13\\nSkipping line 23039: expected 11 fields, saw 12\\nSkipping line 23146: expected 11 fields, saw 12\\nSkipping line 23158: expected 11 fields, saw 12\\nSkipping line 23160: expected 11 fields, saw 12\\nSkipping line 23208: expected 11 fields, saw 12\\nSkipping line 23232: expected 11 fields, saw 14\\nSkipping line 23234: expected 11 fields, saw 12\\nSkipping line 23236: expected 11 fields, saw 12\\nSkipping line 23245: expected 11 fields, saw 12\\nSkipping line 23286: expected 11 fields, saw 13\\nSkipping line 23296: expected 11 fields, saw 13\\nSkipping line 23301: expected 11 fields, saw 13\\nSkipping line 23313: expected 11 fields, saw 13\\nSkipping line 23317: expected 11 fields, saw 13\\nSkipping line 23318: expected 11 fields, saw 12\\nSkipping line 23333: expected 11 fields, saw 13\\nSkipping line 23334: expected 11 fields, saw 13\\nSkipping line 23344: expected 11 fields, saw 12\\nSkipping line 23345: expected 11 fields, saw 12\\nSkipping line 23352: expected 11 fields, saw 12\\nSkipping line 23356: expected 11 fields, saw 12\\nSkipping line 23357: expected 11 fields, saw 12\\nSkipping line 23371: expected 11 fields, saw 17\\nSkipping line 23377: expected 11 fields, saw 12\\nSkipping line 23378: expected 11 fields, saw 13\\nSkipping line 23380: expected 11 fields, saw 13\\nSkipping line 23381: expected 11 fields, saw 13\\nSkipping line 23390: expected 11 fields, saw 12\\nSkipping line 23392: expected 11 fields, saw 12\\nSkipping line 23393: expected 11 fields, saw 12\\nSkipping line 23418: expected 11 fields, saw 13\\nSkipping line 23468: expected 11 fields, saw 13\\nSkipping line 23475: expected 11 fields, saw 13\\nSkipping line 23480: expected 11 fields, saw 12\\nSkipping line 23481: expected 11 fields, saw 13\\nSkipping line 23492: expected 11 fields, saw 13\\nSkipping line 23510: expected 11 fields, saw 13\\nSkipping line 23517: expected 11 fields, saw 12\\nSkipping line 23519: expected 11 fields, saw 12\\nSkipping line 23522: expected 11 fields, saw 14\\nSkipping line 23524: expected 11 fields, saw 14\\nSkipping line 23530: expected 11 fields, saw 13\\nSkipping line 23532: expected 11 fields, saw 12\\nSkipping line 23546: expected 11 fields, saw 12\\nSkipping line 23560: expected 11 fields, saw 13\\nSkipping line 23563: expected 11 fields, saw 12\\nSkipping line 23565: expected 11 fields, saw 12\\nSkipping line 23576: expected 11 fields, saw 13\\nSkipping line 23578: expected 11 fields, saw 13\\nSkipping line 23593: expected 11 fields, saw 13\\nSkipping line 23596: expected 11 fields, saw 12\\nSkipping line 23598: expected 11 fields, saw 12\\nSkipping line 23599: expected 11 fields, saw 12\\nSkipping line 23616: expected 11 fields, saw 12\\nSkipping line 23651: expected 11 fields, saw 12\\nSkipping line 23656: expected 11 fields, saw 12\\nSkipping line 23667: expected 11 fields, saw 13\\nSkipping line 23698: expected 11 fields, saw 12\\nSkipping line 23791: expected 11 fields, saw 14\\nSkipping line 23817: expected 11 fields, saw 12\\nSkipping line 23819: expected 11 fields, saw 12\\nSkipping line 23837: expected 11 fields, saw 12\\nSkipping line 23867: expected 11 fields, saw 14\\nSkipping line 23941: expected 11 fields, saw 13\\nSkipping line 23982: expected 11 fields, saw 12\\nSkipping line 24004: expected 11 fields, saw 13\\nSkipping line 24006: expected 11 fields, saw 13\\nSkipping line 24010: expected 11 fields, saw 12\\nSkipping line 24012: expected 11 fields, saw 12\\nSkipping line 24038: expected 11 fields, saw 12\\nSkipping line 24071: expected 11 fields, saw 12\\nSkipping line 24089: expected 11 fields, saw 13\\nSkipping line 24116: expected 11 fields, saw 13\\nSkipping line 24117: expected 11 fields, saw 13\\nSkipping line 24133: expected 11 fields, saw 15\\nSkipping line 24134: expected 11 fields, saw 15\\nSkipping line 24192: expected 11 fields, saw 12\\nSkipping line 24194: expected 11 fields, saw 12\\nSkipping line 24210: expected 11 fields, saw 15\\nSkipping line 24230: expected 11 fields, saw 13\\nSkipping line 24251: expected 11 fields, saw 12\\nSkipping line 24257: expected 11 fields, saw 13\\nSkipping line 24298: expected 11 fields, saw 12\\nSkipping line 24339: expected 11 fields, saw 12\\nSkipping line 24404: expected 11 fields, saw 12\\nSkipping line 24433: expected 11 fields, saw 12\\nSkipping line 24467: expected 11 fields, saw 12\\nSkipping line 24471: expected 11 fields, saw 13\\nSkipping line 24473: expected 11 fields, saw 13\\nSkipping line 24475: expected 11 fields, saw 15\\nSkipping line 24555: expected 11 fields, saw 12\\nSkipping line 24561: expected 11 fields, saw 15\\nSkipping line 24563: expected 11 fields, saw 15\\nSkipping line 24581: expected 11 fields, saw 13\\nSkipping line 24589: expected 11 fields, saw 12\\nSkipping line 24591: expected 11 fields, saw 12\\nSkipping line 24608: expected 11 fields, saw 13\\nSkipping line 24610: expected 11 fields, saw 13\\nSkipping line 24646: expected 11 fields, saw 13\\nSkipping line 24670: expected 11 fields, saw 12\\nSkipping line 24746: expected 11 fields, saw 12\\nSkipping line 24762: expected 11 fields, saw 13\\nSkipping line 24764: expected 11 fields, saw 13\\nSkipping line 24782: expected 11 fields, saw 14\\nSkipping line 24784: expected 11 fields, saw 14\\nSkipping line 24792: expected 11 fields, saw 12\\nSkipping line 24794: expected 11 fields, saw 13\\nSkipping line 24834: expected 11 fields, saw 13\\nSkipping line 24894: expected 11 fields, saw 12\\nSkipping line 24898: expected 11 fields, saw 12\\nSkipping line 24900: expected 11 fields, saw 12\\nSkipping line 24932: expected 11 fields, saw 13\\nSkipping line 24946: expected 11 fields, saw 13\\nSkipping line 24962: expected 11 fields, saw 12\\nSkipping line 24965: expected 11 fields, saw 12\\nSkipping line 25000: expected 11 fields, saw 13\\nSkipping line 25002: expected 11 fields, saw 13\\nSkipping line 25004: expected 11 fields, saw 13\\nSkipping line 25047: expected 11 fields, saw 13\\nSkipping line 25057: expected 11 fields, saw 13\\nSkipping line 25059: expected 11 fields, saw 12\\nSkipping line 25153: expected 11 fields, saw 12\\nSkipping line 25186: expected 11 fields, saw 14\\nSkipping line 25188: expected 11 fields, saw 14\\nSkipping line 25212: expected 11 fields, saw 14\\nSkipping line 25252: expected 11 fields, saw 12\\nSkipping line 25254: expected 11 fields, saw 12\\nSkipping line 25260: expected 11 fields, saw 12\\nSkipping line 25273: expected 11 fields, saw 13\\nSkipping line 25286: expected 11 fields, saw 12\\nSkipping line 25322: expected 11 fields, saw 12\\nSkipping line 25332: expected 11 fields, saw 14\\nSkipping line 25333: expected 11 fields, saw 15\\nSkipping line 25335: expected 11 fields, saw 15\\nSkipping line 25379: expected 11 fields, saw 12\\nSkipping line 25396: expected 11 fields, saw 12\\nSkipping line 25420: expected 11 fields, saw 13\\nSkipping line 25426: expected 11 fields, saw 13\\nSkipping line 25436: expected 11 fields, saw 15\\nSkipping line 25458: expected 11 fields, saw 13\\nSkipping line 25468: expected 11 fields, saw 13\\nSkipping line 25474: expected 11 fields, saw 13\\nSkipping line 25538: expected 11 fields, saw 13\\nSkipping line 25540: expected 11 fields, saw 13\\nSkipping line 25554: expected 11 fields, saw 12\\nSkipping line 25575: expected 11 fields, saw 12\\nSkipping line 25636: expected 11 fields, saw 14\\nSkipping line 25716: expected 11 fields, saw 12\\nSkipping line 25718: expected 11 fields, saw 12\\nSkipping line 25720: expected 11 fields, saw 12\\nSkipping line 25727: expected 11 fields, saw 12\\nSkipping line 25740: expected 11 fields, saw 13\\nSkipping line 25784: expected 11 fields, saw 13\\nSkipping line 25796: expected 11 fields, saw 12\\nSkipping line 25855: expected 11 fields, saw 14\\nSkipping line 25863: expected 11 fields, saw 13\\nSkipping line 25883: expected 11 fields, saw 12\\nSkipping line 25885: expected 11 fields, saw 13\\nSkipping line 25887: expected 11 fields, saw 13\\nSkipping line 25891: expected 11 fields, saw 12\\nSkipping line 25928: expected 11 fields, saw 12\\nSkipping line 25930: expected 11 fields, saw 12\\nSkipping line 25931: expected 11 fields, saw 14\\nSkipping line 25948: expected 11 fields, saw 13\\nSkipping line 25987: expected 11 fields, saw 12\\nSkipping line 25994: expected 11 fields, saw 12\\nSkipping line 26003: expected 11 fields, saw 12\\nSkipping line 26024: expected 11 fields, saw 12\\nSkipping line 26026: expected 11 fields, saw 12\\nSkipping line 26030: expected 11 fields, saw 12\\nSkipping line 26032: expected 11 fields, saw 12\\nSkipping line 26034: expected 11 fields, saw 13\\nSkipping line 26060: expected 11 fields, saw 13\\nSkipping line 26061: expected 11 fields, saw 12\\nSkipping line 26063: expected 11 fields, saw 12\\nSkipping line 26166: expected 11 fields, saw 12\\nSkipping line 26168: expected 11 fields, saw 12\\nSkipping line 26170: expected 11 fields, saw 12\\nSkipping line 26202: expected 11 fields, saw 12\\nSkipping line 26204: expected 11 fields, saw 12\\nSkipping line 26208: expected 11 fields, saw 13\\nSkipping line 26230: expected 11 fields, saw 14\\nSkipping line 26274: expected 11 fields, saw 12\\nSkipping line 26310: expected 11 fields, saw 12\\nSkipping line 26330: expected 11 fields, saw 12\\nSkipping line 26332: expected 11 fields, saw 14\\nSkipping line 26358: expected 11 fields, saw 15\\nSkipping line 26386: expected 11 fields, saw 13\\nSkipping line 26388: expected 11 fields, saw 13\\nSkipping line 26396: expected 11 fields, saw 12\\nSkipping line 26448: expected 11 fields, saw 13\\nSkipping line 26452: expected 11 fields, saw 12\\nSkipping line 26454: expected 11 fields, saw 12\\nSkipping line 26468: expected 11 fields, saw 12\\nSkipping line 26487: expected 11 fields, saw 12\\nSkipping line 26506: expected 11 fields, saw 12\\nSkipping line 26508: expected 11 fields, saw 12\\nSkipping line 26530: expected 11 fields, saw 13\\nSkipping line 26542: expected 11 fields, saw 12\\nSkipping line 26600: expected 11 fields, saw 12\\nSkipping line 26614: expected 11 fields, saw 14\\nSkipping line 26616: expected 11 fields, saw 12\\nSkipping line 26618: expected 11 fields, saw 12\\nSkipping line 26622: expected 11 fields, saw 12\\nSkipping line 26636: expected 11 fields, saw 13\\nSkipping line 26646: expected 11 fields, saw 12\\nSkipping line 26702: expected 11 fields, saw 14\\nSkipping line 26710: expected 11 fields, saw 13\\nSkipping line 26728: expected 11 fields, saw 13\\nSkipping line 26798: expected 11 fields, saw 12\\nSkipping line 26800: expected 11 fields, saw 12\\nSkipping line 26810: expected 11 fields, saw 12\\nSkipping line 26812: expected 11 fields, saw 12\\nSkipping line 26818: expected 11 fields, saw 12\\nSkipping line 26834: expected 11 fields, saw 14\\nSkipping line 26886: expected 11 fields, saw 14\\nSkipping line 26888: expected 11 fields, saw 14\\nSkipping line 26922: expected 11 fields, saw 14\\nSkipping line 26924: expected 11 fields, saw 14\\nSkipping line 26935: expected 11 fields, saw 12\\nSkipping line 26937: expected 11 fields, saw 12\\nSkipping line 26939: expected 11 fields, saw 12\\nSkipping line 26941: expected 11 fields, saw 12\\nSkipping line 27001: expected 11 fields, saw 13\\nSkipping line 27058: expected 11 fields, saw 13\\nSkipping line 27060: expected 11 fields, saw 13\\nSkipping line 27062: expected 11 fields, saw 13\\nSkipping line 27064: expected 11 fields, saw 13\\nSkipping line 27066: expected 11 fields, saw 13\\nSkipping line 27068: expected 11 fields, saw 13\\nSkipping line 27070: expected 11 fields, saw 13\\nSkipping line 27073: expected 11 fields, saw 12\\nSkipping line 27074: expected 11 fields, saw 13\\nSkipping line 27075: expected 11 fields, saw 14\\nSkipping line 27084: expected 11 fields, saw 13\\nSkipping line 27089: expected 11 fields, saw 12\\nSkipping line 27091: expected 11 fields, saw 12\\nSkipping line 27106: expected 11 fields, saw 12\\nSkipping line 27128: expected 11 fields, saw 13\\nSkipping line 27162: expected 11 fields, saw 14\\nSkipping line 27185: expected 11 fields, saw 13\\nSkipping line 27207: expected 11 fields, saw 12\\nSkipping line 27224: expected 11 fields, saw 12\\nSkipping line 27226: expected 11 fields, saw 12\\nSkipping line 27247: expected 11 fields, saw 12\\nSkipping line 27249: expected 11 fields, saw 12\\nSkipping line 27263: expected 11 fields, saw 13\\nSkipping line 27299: expected 11 fields, saw 12\\nSkipping line 27317: expected 11 fields, saw 12\\nSkipping line 27333: expected 11 fields, saw 14\\nSkipping line 27343: expected 11 fields, saw 14\\nSkipping line 27349: expected 11 fields, saw 12\\nSkipping line 27363: expected 11 fields, saw 12\\nSkipping line 27375: expected 11 fields, saw 14\\nSkipping line 27377: expected 11 fields, saw 14\\nSkipping line 27383: expected 11 fields, saw 13\\nSkipping line 27392: expected 11 fields, saw 15\\nSkipping line 27393: expected 11 fields, saw 15\\nSkipping line 27400: expected 11 fields, saw 12\\nSkipping line 27402: expected 11 fields, saw 12\\nSkipping line 27403: expected 11 fields, saw 12\\nSkipping line 27406: expected 11 fields, saw 12\\nSkipping line 27407: expected 11 fields, saw 15\\nSkipping line 27444: expected 11 fields, saw 15\\nSkipping line 27457: expected 11 fields, saw 13\\nSkipping line 27464: expected 11 fields, saw 14\\nSkipping line 27466: expected 11 fields, saw 14\\nSkipping line 27481: expected 11 fields, saw 12\\nSkipping line 27483: expected 11 fields, saw 12\\nSkipping line 27490: expected 11 fields, saw 13\\nSkipping line 27494: expected 11 fields, saw 13\\nSkipping line 27496: expected 11 fields, saw 13\\nSkipping line 27513: expected 11 fields, saw 12\\nSkipping line 27531: expected 11 fields, saw 12\\nSkipping line 27564: expected 11 fields, saw 15\\nSkipping line 27577: expected 11 fields, saw 13\\nSkipping line 27583: expected 11 fields, saw 12\\nSkipping line 27651: expected 11 fields, saw 12\\nSkipping line 27670: expected 11 fields, saw 14\\nSkipping line 27674: expected 11 fields, saw 12\\nSkipping line 27681: expected 11 fields, saw 12\\nSkipping line 27687: expected 11 fields, saw 15\\nSkipping line 27689: expected 11 fields, saw 15\\nSkipping line 27692: expected 11 fields, saw 12\\nSkipping line 27699: expected 11 fields, saw 13\\nSkipping line 27719: expected 11 fields, saw 13\\nSkipping line 27733: expected 11 fields, saw 13\\nSkipping line 27740: expected 11 fields, saw 12\\nSkipping line 27742: expected 11 fields, saw 13\\nSkipping line 27748: expected 11 fields, saw 12\\nSkipping line 27761: expected 11 fields, saw 12\\nSkipping line 27763: expected 11 fields, saw 12\\nSkipping line 27765: expected 11 fields, saw 13\\nSkipping line 27767: expected 11 fields, saw 13\\nSkipping line 27783: expected 11 fields, saw 13\\nSkipping line 27785: expected 11 fields, saw 13\\nSkipping line 27787: expected 11 fields, saw 14\\nSkipping line 27811: expected 11 fields, saw 15\\nSkipping line 27813: expected 11 fields, saw 15\\nSkipping line 27819: expected 11 fields, saw 15\\nSkipping line 27820: expected 11 fields, saw 12\\nSkipping line 27821: expected 11 fields, saw 15\\nSkipping line 27831: expected 11 fields, saw 12\\nSkipping line 27847: expected 11 fields, saw 13\\nSkipping line 27852: expected 11 fields, saw 12\\nSkipping line 27860: expected 11 fields, saw 14\\nSkipping line 27873: expected 11 fields, saw 12\\nSkipping line 27875: expected 11 fields, saw 12\\nSkipping line 27902: expected 11 fields, saw 15\\nSkipping line 27916: expected 11 fields, saw 12\\nSkipping line 27918: expected 11 fields, saw 12\\nSkipping line 27927: expected 11 fields, saw 13\\nSkipping line 27928: expected 11 fields, saw 14\\nSkipping line 27963: expected 11 fields, saw 13\\nSkipping line 27965: expected 11 fields, saw 13\\nSkipping line 27972: expected 11 fields, saw 12\\nSkipping line 27997: expected 11 fields, saw 13\\nSkipping line 27999: expected 11 fields, saw 12\\nSkipping line 28005: expected 11 fields, saw 13\\nSkipping line 28006: expected 11 fields, saw 12\\nSkipping line 28017: expected 11 fields, saw 18\\nSkipping line 28019: expected 11 fields, saw 18\\nSkipping line 28046: expected 11 fields, saw 15\\nSkipping line 28050: expected 11 fields, saw 13\\nSkipping line 28059: expected 11 fields, saw 12\\nSkipping line 28084: expected 11 fields, saw 13\\nSkipping line 28106: expected 11 fields, saw 12\\nSkipping line 28122: expected 11 fields, saw 12\\nSkipping line 28145: expected 11 fields, saw 14\\nSkipping line 28147: expected 11 fields, saw 13\\nSkipping line 28169: expected 11 fields, saw 12\\nSkipping line 28180: expected 11 fields, saw 14\\nSkipping line 28190: expected 11 fields, saw 15\\nSkipping line 28204: expected 11 fields, saw 13\\nSkipping line 28219: expected 11 fields, saw 12\\nSkipping line 28226: expected 11 fields, saw 12\\nSkipping line 28277: expected 11 fields, saw 12\\nSkipping line 28296: expected 11 fields, saw 13\\nSkipping line 28299: expected 11 fields, saw 13\\nSkipping line 28300: expected 11 fields, saw 12\\nSkipping line 28301: expected 11 fields, saw 13\\nSkipping line 28345: expected 11 fields, saw 12\\nSkipping line 28360: expected 11 fields, saw 12\\nSkipping line 28364: expected 11 fields, saw 12\\nSkipping line 28373: expected 11 fields, saw 12\\nSkipping line 28375: expected 11 fields, saw 12\\nSkipping line 28401: expected 11 fields, saw 14\\nSkipping line 28403: expected 11 fields, saw 14\\nSkipping line 28506: expected 11 fields, saw 14\\nSkipping line 28539: expected 11 fields, saw 12\\nSkipping line 28568: expected 11 fields, saw 12\\nSkipping line 28571: expected 11 fields, saw 13\\nSkipping line 28573: expected 11 fields, saw 13\\nSkipping line 28574: expected 11 fields, saw 12\\nSkipping line 28586: expected 11 fields, saw 12\\nSkipping line 28599: expected 11 fields, saw 12\\nSkipping line 28678: expected 11 fields, saw 12\\nSkipping line 28731: expected 11 fields, saw 13\\nSkipping line 28746: expected 11 fields, saw 12\\nSkipping line 28753: expected 11 fields, saw 12\\nSkipping line 28764: expected 11 fields, saw 12\\nSkipping line 28766: expected 11 fields, saw 12\\nSkipping line 28793: expected 11 fields, saw 13\\nSkipping line 28864: expected 11 fields, saw 12\\nSkipping line 28902: expected 11 fields, saw 12\\nSkipping line 28908: expected 11 fields, saw 12\\nSkipping line 28936: expected 11 fields, saw 15\\nSkipping line 28987: expected 11 fields, saw 12\\nSkipping line 29007: expected 11 fields, saw 13\\nSkipping line 29054: expected 11 fields, saw 12\\nSkipping line 29109: expected 11 fields, saw 13\\nSkipping line 29164: expected 11 fields, saw 12\\nSkipping line 29173: expected 11 fields, saw 12\\nSkipping line 29215: expected 11 fields, saw 12\\nSkipping line 29217: expected 11 fields, saw 12\\nSkipping line 29258: expected 11 fields, saw 12\\nSkipping line 29262: expected 11 fields, saw 13\\nSkipping line 29263: expected 11 fields, saw 12\\nSkipping line 29324: expected 11 fields, saw 14\\nSkipping line 29352: expected 11 fields, saw 12\\nSkipping line 29363: expected 11 fields, saw 13\\nSkipping line 29382: expected 11 fields, saw 12\\nSkipping line 29383: expected 11 fields, saw 14\\nSkipping line 29385: expected 11 fields, saw 14\\nSkipping line 29413: expected 11 fields, saw 12\\nSkipping line 29424: expected 11 fields, saw 12\\nSkipping line 29477: expected 11 fields, saw 13\\nSkipping line 29483: expected 11 fields, saw 13\\nSkipping line 29486: expected 11 fields, saw 12\\nSkipping line 29488: expected 11 fields, saw 12\\nSkipping line 29513: expected 11 fields, saw 12\\nSkipping line 29549: expected 11 fields, saw 13\\nSkipping line 29551: expected 11 fields, saw 13\\nSkipping line 29609: expected 11 fields, saw 13\\nSkipping line 29635: expected 11 fields, saw 14\\nSkipping line 29639: expected 11 fields, saw 12\\nSkipping line 29708: expected 11 fields, saw 12\\nSkipping line 29728: expected 11 fields, saw 12\\nSkipping line 29733: expected 11 fields, saw 13\\nSkipping line 29796: expected 11 fields, saw 12\\nSkipping line 29853: expected 11 fields, saw 12\\nSkipping line 29907: expected 11 fields, saw 15\\nSkipping line 30019: expected 11 fields, saw 13\\nSkipping line 30087: expected 11 fields, saw 12\\nSkipping line 30140: expected 11 fields, saw 15\\nSkipping line 30148: expected 11 fields, saw 12\\nSkipping line 30150: expected 11 fields, saw 12\\nSkipping line 30202: expected 11 fields, saw 12\\nSkipping line 30208: expected 11 fields, saw 12\\nSkipping line 30245: expected 11 fields, saw 12\\nSkipping line 30280: expected 11 fields, saw 12\\nSkipping line 30426: expected 11 fields, saw 13\\nSkipping line 30450: expected 11 fields, saw 12\\nSkipping line 30495: expected 11 fields, saw 13\\nSkipping line 30497: expected 11 fields, saw 13\\nSkipping line 30516: expected 11 fields, saw 12\\nSkipping line 30526: expected 11 fields, saw 12\\nSkipping line 30541: expected 11 fields, saw 12\\nSkipping line 30545: expected 11 fields, saw 12\\nSkipping line 30622: expected 11 fields, saw 15\\nSkipping line 30624: expected 11 fields, saw 15\\nSkipping line 30629: expected 11 fields, saw 12\\nSkipping line 30646: expected 11 fields, saw 12\\nSkipping line 30674: expected 11 fields, saw 14\\nSkipping line 30676: expected 11 fields, saw 12\\nSkipping line 30685: expected 11 fields, saw 13\\nSkipping line 30687: expected 11 fields, saw 13\\nSkipping line 30751: expected 11 fields, saw 13\\nSkipping line 30786: expected 11 fields, saw 15\\nSkipping line 30843: expected 11 fields, saw 12\\nSkipping line 30845: expected 11 fields, saw 12\\nSkipping line 30855: expected 11 fields, saw 13\\nSkipping line 30858: expected 11 fields, saw 12\\nSkipping line 30885: expected 11 fields, saw 12\\nSkipping line 30887: expected 11 fields, saw 12\\nSkipping line 30912: expected 11 fields, saw 12\\nSkipping line 30926: expected 11 fields, saw 12\\nSkipping line 30958: expected 11 fields, saw 12\\nSkipping line 30960: expected 11 fields, saw 12\\nSkipping line 31057: expected 11 fields, saw 12\\nSkipping line 31084: expected 11 fields, saw 12\\nSkipping line 31090: expected 11 fields, saw 12\\nSkipping line 31092: expected 11 fields, saw 12\\nSkipping line 31094: expected 11 fields, saw 12\\nSkipping line 31096: expected 11 fields, saw 12\\nSkipping line 31113: expected 11 fields, saw 13\\nSkipping line 31116: expected 11 fields, saw 15\\nSkipping line 31145: expected 11 fields, saw 13\\nSkipping line 31147: expected 11 fields, saw 13\\nSkipping line 31167: expected 11 fields, saw 12\\nSkipping line 31182: expected 11 fields, saw 12\\nSkipping line 31184: expected 11 fields, saw 12\\nSkipping line 31221: expected 11 fields, saw 15\\nSkipping line 31238: expected 11 fields, saw 12\\nSkipping line 31268: expected 11 fields, saw 12\\nSkipping line 31304: expected 11 fields, saw 13\\nSkipping line 31314: expected 11 fields, saw 15\\nSkipping line 31320: expected 11 fields, saw 13\\nSkipping line 31322: expected 11 fields, saw 13\\nSkipping line 31330: expected 11 fields, saw 14\\nSkipping line 31332: expected 11 fields, saw 14\\nSkipping line 31359: expected 11 fields, saw 13\\nSkipping line 31368: expected 11 fields, saw 16\\nSkipping line 31372: expected 11 fields, saw 12\\nSkipping line 31374: expected 11 fields, saw 12\\nSkipping line 31387: expected 11 fields, saw 13\\nSkipping line 31389: expected 11 fields, saw 13\\nSkipping line 31392: expected 11 fields, saw 12\\nSkipping line 31555: expected 11 fields, saw 12\\nSkipping line 31642: expected 11 fields, saw 13\\nSkipping line 31819: expected 11 fields, saw 12\\nSkipping line 31821: expected 11 fields, saw 12\\nSkipping line 31827: expected 11 fields, saw 13\\nSkipping line 31829: expected 11 fields, saw 13\\nSkipping line 31873: expected 11 fields, saw 12\\nSkipping line 31973: expected 11 fields, saw 12\\nSkipping line 31983: expected 11 fields, saw 12\\nSkipping line 32020: expected 11 fields, saw 13\\nSkipping line 32053: expected 11 fields, saw 12\\nSkipping line 32055: expected 11 fields, saw 12\\nSkipping line 32071: expected 11 fields, saw 12\\nSkipping line 32169: expected 11 fields, saw 12\\nSkipping line 32270: expected 11 fields, saw 12\\nSkipping line 32276: expected 11 fields, saw 12\\nSkipping line 32286: expected 11 fields, saw 13\\nSkipping line 32371: expected 11 fields, saw 12\\nSkipping line 32440: expected 11 fields, saw 12\\nSkipping line 32522: expected 11 fields, saw 12\\nSkipping line 32627: expected 11 fields, saw 12\\nSkipping line 32629: expected 11 fields, saw 13\\nSkipping line 32681: expected 11 fields, saw 12\\nSkipping line 32730: expected 11 fields, saw 12\\nSkipping line 32855: expected 11 fields, saw 15\\nSkipping line 32966: expected 11 fields, saw 15\\nSkipping line 33043: expected 11 fields, saw 12\\nSkipping line 33044: expected 11 fields, saw 12\\nSkipping line 33060: expected 11 fields, saw 12\\nSkipping line 33102: expected 11 fields, saw 12\\nSkipping line 33224: expected 11 fields, saw 12\\nSkipping line 33371: expected 11 fields, saw 12\\nSkipping line 33391: expected 11 fields, saw 12\\nSkipping line 33407: expected 11 fields, saw 12\\nSkipping line 33507: expected 11 fields, saw 12\\nSkipping line 33802: expected 11 fields, saw 12\\nSkipping line 33892: expected 11 fields, saw 13\\nSkipping line 34163: expected 11 fields, saw 12\\nSkipping line 34297: expected 11 fields, saw 12\\nSkipping line 34381: expected 11 fields, saw 15\\nSkipping line 34569: expected 11 fields, saw 12\\nSkipping line 34794: expected 11 fields, saw 12\\nSkipping line 35067: expected 11 fields, saw 12\\nSkipping line 35095: expected 11 fields, saw 12\\nSkipping line 35238: expected 11 fields, saw 12\\nSkipping line 35417: expected 11 fields, saw 12\\nSkipping line 35472: expected 11 fields, saw 12\\nSkipping line 35931: expected 11 fields, saw 15\\nSkipping line 36205: expected 11 fields, saw 13\\nSkipping line 36468: expected 11 fields, saw 12\\nSkipping line 36585: expected 11 fields, saw 12\\nSkipping line 36733: expected 11 fields, saw 12\\nSkipping line 36779: expected 11 fields, saw 12\\nSkipping line 37022: expected 11 fields, saw 13\\nSkipping line 37023: expected 11 fields, saw 13\\nSkipping line 37139: expected 11 fields, saw 12\\nSkipping line 37140: expected 11 fields, saw 12\\nSkipping line 37264: expected 11 fields, saw 12\\nSkipping line 37294: expected 11 fields, saw 12\\nSkipping line 37417: expected 11 fields, saw 12\\nSkipping line 37485: expected 11 fields, saw 14\\nSkipping line 37581: expected 11 fields, saw 12\\nSkipping line 37694: expected 11 fields, saw 14\\nSkipping line 37741: expected 11 fields, saw 12\\nSkipping line 37816: expected 11 fields, saw 12\\nSkipping line 37892: expected 11 fields, saw 14\\nSkipping line 37951: expected 11 fields, saw 12\\nSkipping line 37952: expected 11 fields, saw 12\\nSkipping line 37963: expected 11 fields, saw 12\\nSkipping line 37964: expected 11 fields, saw 12\\nSkipping line 37985: expected 11 fields, saw 12\\nSkipping line 37986: expected 11 fields, saw 12\\nSkipping line 37987: expected 11 fields, saw 12\\nSkipping line 37988: expected 11 fields, saw 13\\nSkipping line 37997: expected 11 fields, saw 12\\nSkipping line 38182: expected 11 fields, saw 14\\nSkipping line 38195: expected 11 fields, saw 12\\nSkipping line 38353: expected 11 fields, saw 14\\nSkipping line 38556: expected 11 fields, saw 14\\nSkipping line 38929: expected 11 fields, saw 14\\nSkipping line 38958: expected 11 fields, saw 12\\nSkipping line 39000: expected 11 fields, saw 14\\nSkipping line 39001: expected 11 fields, saw 14\\nSkipping line 39002: expected 11 fields, saw 14\\nSkipping line 39003: expected 11 fields, saw 14\\nSkipping line 39004: expected 11 fields, saw 14\\nSkipping line 39005: expected 11 fields, saw 14\\nSkipping line 39006: expected 11 fields, saw 14\\nSkipping line 39275: expected 11 fields, saw 14\\nSkipping line 39462: expected 11 fields, saw 12\\nSkipping line 39502: expected 11 fields, saw 14\\nSkipping line 39527: expected 11 fields, saw 12\\nSkipping line 39622: expected 11 fields, saw 12\\nSkipping line 39675: expected 11 fields, saw 13\\nSkipping line 39707: expected 11 fields, saw 12\\nSkipping line 39942: expected 11 fields, saw 14\\nSkipping line 39986: expected 11 fields, saw 12\\nSkipping line 40010: expected 11 fields, saw 12\\nSkipping line 40011: expected 11 fields, saw 12\\nSkipping line 40017: expected 11 fields, saw 12\\nSkipping line 40179: expected 11 fields, saw 14\\nSkipping line 40200: expected 11 fields, saw 12\\nSkipping line 40201: expected 11 fields, saw 14\\nSkipping line 40322: expected 11 fields, saw 13\\nSkipping line 40359: expected 11 fields, saw 12\\nSkipping line 40402: expected 11 fields, saw 12\\nSkipping line 40403: expected 11 fields, saw 12\\nSkipping line 40462: expected 11 fields, saw 13\\nSkipping line 40463: expected 11 fields, saw 13\\nSkipping line 40531: expected 11 fields, saw 12\\nSkipping line 40632: expected 11 fields, saw 13\\nSkipping line 40633: expected 11 fields, saw 13\\nSkipping line 40647: expected 11 fields, saw 13\\nSkipping line 40700: expected 11 fields, saw 12\\nSkipping line 40722: expected 11 fields, saw 13\\nSkipping line 40723: expected 11 fields, saw 13\\nSkipping line 40808: expected 11 fields, saw 13\\nSkipping line 40830: expected 11 fields, saw 13\\nSkipping line 40835: expected 11 fields, saw 12\\nSkipping line 40836: expected 11 fields, saw 12\\nSkipping line 40843: expected 11 fields, saw 12\\nSkipping line 40873: expected 11 fields, saw 13\\nSkipping line 40900: expected 11 fields, saw 12\\nSkipping line 40912: expected 11 fields, saw 12\\nSkipping line 40918: expected 11 fields, saw 13\\nSkipping line 40938: expected 11 fields, saw 12\\nSkipping line 40939: expected 11 fields, saw 12\\nSkipping line 40956: expected 11 fields, saw 12\\nSkipping line 40965: expected 11 fields, saw 13\\nSkipping line 40966: expected 11 fields, saw 13\\nSkipping line 40967: expected 11 fields, saw 13\\nSkipping line 40968: expected 11 fields, saw 13\\nSkipping line 40980: expected 11 fields, saw 12\\nSkipping line 41027: expected 11 fields, saw 13\\nSkipping line 41059: expected 11 fields, saw 13\\nSkipping line 41069: expected 11 fields, saw 12\\nSkipping line 41070: expected 11 fields, saw 12\\nSkipping line 41071: expected 11 fields, saw 12\\nSkipping line 41112: expected 11 fields, saw 13\\nSkipping line 41113: expected 11 fields, saw 13\\nSkipping line 41118: expected 11 fields, saw 15\\nSkipping line 41122: expected 11 fields, saw 12\\nSkipping line 41132: expected 11 fields, saw 13\\nSkipping line 41136: expected 11 fields, saw 12\\nSkipping line 41174: expected 11 fields, saw 13\\nSkipping line 41186: expected 11 fields, saw 12\\nSkipping line 41190: expected 11 fields, saw 13\\nSkipping line 41196: expected 11 fields, saw 13\\nSkipping line 41211: expected 11 fields, saw 12\\nSkipping line 41221: expected 11 fields, saw 12\\nSkipping line 41254: expected 11 fields, saw 12\\nSkipping line 41261: expected 11 fields, saw 12\\nSkipping line 41271: expected 11 fields, saw 12\\nSkipping line 41278: expected 11 fields, saw 12\\nSkipping line 41287: expected 11 fields, saw 15\\nSkipping line 41296: expected 11 fields, saw 13\\nSkipping line 41297: expected 11 fields, saw 13\\nSkipping line 41298: expected 11 fields, saw 13\\nSkipping line 41299: expected 11 fields, saw 13\\nSkipping line 41320: expected 11 fields, saw 12\\nSkipping line 41321: expected 11 fields, saw 12\\nSkipping line 41333: expected 11 fields, saw 13\\nSkipping line 41358: expected 11 fields, saw 13\\nSkipping line 41359: expected 11 fields, saw 12\\nSkipping line 41361: expected 11 fields, saw 12\\nSkipping line 41362: expected 11 fields, saw 12\\nSkipping line 41367: expected 11 fields, saw 12\\nSkipping line 41372: expected 11 fields, saw 13\\nSkipping line 41373: expected 11 fields, saw 13\\nSkipping line 41376: expected 11 fields, saw 13\\nSkipping line 41395: expected 11 fields, saw 13\\nSkipping line 41417: expected 11 fields, saw 13\\nSkipping line 41456: expected 11 fields, saw 12\\nSkipping line 41457: expected 11 fields, saw 12\\nSkipping line 41458: expected 11 fields, saw 13\\nSkipping line 41465: expected 11 fields, saw 12\\nSkipping line 41488: expected 11 fields, saw 15\\nSkipping line 41494: expected 11 fields, saw 12\\nSkipping line 41495: expected 11 fields, saw 12\\nSkipping line 41496: expected 11 fields, saw 12\\nSkipping line 41498: expected 11 fields, saw 13\\nSkipping line 41520: expected 11 fields, saw 12\\nSkipping line 41521: expected 11 fields, saw 13\\nSkipping line 41527: expected 11 fields, saw 12\\nSkipping line 41550: expected 11 fields, saw 12\\nSkipping line 41552: expected 11 fields, saw 12\\nSkipping line 41553: expected 11 fields, saw 13\\nSkipping line 41554: expected 11 fields, saw 13\\nSkipping line 41589: expected 11 fields, saw 13\\nSkipping line 41619: expected 11 fields, saw 13\\nSkipping line 41625: expected 11 fields, saw 12\\nSkipping line 41635: expected 11 fields, saw 13\\nSkipping line 41639: expected 11 fields, saw 13\\nSkipping line 41649: expected 11 fields, saw 15\\nSkipping line 41650: expected 11 fields, saw 12\\nSkipping line 41666: expected 11 fields, saw 13\\nSkipping line 41675: expected 11 fields, saw 12\\nSkipping line 41719: expected 11 fields, saw 12\\nSkipping line 41720: expected 11 fields, saw 12\\nSkipping line 41744: expected 11 fields, saw 12\\nSkipping line 41771: expected 11 fields, saw 13\\nSkipping line 41813: expected 11 fields, saw 12\\nSkipping line 41814: expected 11 fields, saw 12\\nSkipping line 41823: expected 11 fields, saw 12\\nSkipping line 41825: expected 11 fields, saw 13\\nSkipping line 41826: expected 11 fields, saw 13\\nSkipping line 41840: expected 11 fields, saw 12\\nSkipping line 41841: expected 11 fields, saw 12\\nSkipping line 41850: expected 11 fields, saw 12\\nSkipping line 41851: expected 11 fields, saw 12\\nSkipping line 41853: expected 11 fields, saw 12\\nSkipping line 41863: expected 11 fields, saw 13\\nSkipping line 41865: expected 11 fields, saw 12\\nSkipping line 41914: expected 11 fields, saw 12\\nSkipping line 41940: expected 11 fields, saw 12\\nSkipping line 41943: expected 11 fields, saw 13\\nSkipping line 41954: expected 11 fields, saw 13\\nSkipping line 41977: expected 11 fields, saw 13\\nSkipping line 41981: expected 11 fields, saw 12\\nSkipping line 41982: expected 11 fields, saw 12\\nSkipping line 41985: expected 11 fields, saw 13\\nSkipping line 42011: expected 11 fields, saw 12\\nSkipping line 42015: expected 11 fields, saw 12\\nSkipping line 42017: expected 11 fields, saw 12\\nSkipping line 42024: expected 11 fields, saw 12\\nSkipping line 42032: expected 11 fields, saw 13\\nSkipping line 42064: expected 11 fields, saw 12\\nSkipping line 42065: expected 11 fields, saw 12\\nSkipping line 42075: expected 11 fields, saw 13\\nSkipping line 42076: expected 11 fields, saw 13\\nSkipping line 42099: expected 11 fields, saw 13\\nSkipping line 42103: expected 11 fields, saw 12\\nSkipping line 42104: expected 11 fields, saw 13\\nSkipping line 42108: expected 11 fields, saw 12\\nSkipping line 42109: expected 11 fields, saw 12\\nSkipping line 42120: expected 11 fields, saw 12\\nSkipping line 42121: expected 11 fields, saw 12\\nSkipping line 42122: expected 11 fields, saw 12\\nSkipping line 42123: expected 11 fields, saw 12\\nSkipping line 42124: expected 11 fields, saw 13\\nSkipping line 42126: expected 11 fields, saw 12\\nSkipping line 42127: expected 11 fields, saw 12\\nSkipping line 42138: expected 11 fields, saw 13\\nSkipping line 42142: expected 11 fields, saw 13\\nSkipping line 42189: expected 11 fields, saw 12\\nSkipping line 42190: expected 11 fields, saw 12\\nSkipping line 42195: expected 11 fields, saw 12\\nSkipping line 42226: expected 11 fields, saw 12\\nSkipping line 42244: expected 11 fields, saw 12\\nSkipping line 42247: expected 11 fields, saw 13\\nSkipping line 42268: expected 11 fields, saw 12\\nSkipping line 42271: expected 11 fields, saw 13\\nSkipping line 42276: expected 11 fields, saw 12\\nSkipping line 42282: expected 11 fields, saw 12\\nSkipping line 42303: expected 11 fields, saw 12\\nSkipping line 42310: expected 11 fields, saw 12\\nSkipping line 42311: expected 11 fields, saw 12\\nSkipping line 42313: expected 11 fields, saw 12\\nSkipping line 42316: expected 11 fields, saw 12\\nSkipping line 42317: expected 11 fields, saw 13\\nSkipping line 42318: expected 11 fields, saw 13\\nSkipping line 42335: expected 11 fields, saw 12\\nSkipping line 42336: expected 11 fields, saw 12\\nSkipping line 42337: expected 11 fields, saw 12\\nSkipping line 42340: expected 11 fields, saw 13\\nSkipping line 42345: expected 11 fields, saw 13\\nSkipping line 42361: expected 11 fields, saw 12\\nSkipping line 42364: expected 11 fields, saw 12\\nSkipping line 42403: expected 11 fields, saw 12\\nSkipping line 42405: expected 11 fields, saw 13\\nSkipping line 42416: expected 11 fields, saw 12\\nSkipping line 42425: expected 11 fields, saw 13\\nSkipping line 42426: expected 11 fields, saw 13\\nSkipping line 42428: expected 11 fields, saw 12\\nSkipping line 42435: expected 11 fields, saw 12\\nSkipping line 42452: expected 11 fields, saw 12\\nSkipping line 42490: expected 11 fields, saw 13\\nSkipping line 42491: expected 11 fields, saw 12\\nSkipping line 42500: expected 11 fields, saw 13\\nSkipping line 42511: expected 11 fields, saw 13\\nSkipping line 42523: expected 11 fields, saw 13\\nSkipping line 42524: expected 11 fields, saw 13\\nSkipping line 42533: expected 11 fields, saw 12\\nSkipping line 42537: expected 11 fields, saw 13\\nSkipping line 42561: expected 11 fields, saw 12\\nSkipping line 42562: expected 11 fields, saw 12\\nSkipping line 42582: expected 11 fields, saw 12\\nSkipping line 42583: expected 11 fields, saw 12\\nSkipping line 42589: expected 11 fields, saw 12\\nSkipping line 42590: expected 11 fields, saw 14\\nSkipping line 42591: expected 11 fields, saw 13\\nSkipping line 42593: expected 11 fields, saw 13\\nSkipping line 42611: expected 11 fields, saw 13\\nSkipping line 42635: expected 11 fields, saw 12\\nSkipping line 42645: expected 11 fields, saw 12\\nSkipping line 42653: expected 11 fields, saw 13\\nSkipping line 42662: expected 11 fields, saw 12\\nSkipping line 42675: expected 11 fields, saw 12\\nSkipping line 42678: expected 11 fields, saw 12\\nSkipping line 42701: expected 11 fields, saw 12\\nSkipping line 42703: expected 11 fields, saw 13\\nSkipping line 42704: expected 11 fields, saw 13\\nSkipping line 42729: expected 11 fields, saw 13\\nSkipping line 42757: expected 11 fields, saw 13\\nSkipping line 42765: expected 11 fields, saw 12\\nSkipping line 42766: expected 11 fields, saw 12\\nSkipping line 42767: expected 11 fields, saw 12\\nSkipping line 42791: expected 11 fields, saw 13\\nSkipping line 42820: expected 11 fields, saw 12\\nSkipping line 42825: expected 11 fields, saw 13\\nSkipping line 42827: expected 11 fields, saw 12\\nSkipping line 42835: expected 11 fields, saw 12\\nSkipping line 42853: expected 11 fields, saw 12\\nSkipping line 42868: expected 11 fields, saw 13\\nSkipping line 42871: expected 11 fields, saw 12\\nSkipping line 42879: expected 11 fields, saw 12\\nSkipping line 42919: expected 11 fields, saw 12\\nSkipping line 42924: expected 11 fields, saw 13\\nSkipping line 42930: expected 11 fields, saw 12\\nSkipping line 42934: expected 11 fields, saw 13\\nSkipping line 42941: expected 11 fields, saw 12\\nSkipping line 42942: expected 11 fields, saw 13\\nSkipping line 42944: expected 11 fields, saw 12\\nSkipping line 42974: expected 11 fields, saw 13\\nSkipping line 42978: expected 11 fields, saw 13\\nSkipping line 42980: expected 11 fields, saw 12\\nSkipping line 42991: expected 11 fields, saw 12\\nSkipping line 42992: expected 11 fields, saw 12\\nSkipping line 42995: expected 11 fields, saw 12\\nSkipping line 43018: expected 11 fields, saw 13\\nSkipping line 43045: expected 11 fields, saw 12\\nSkipping line 43046: expected 11 fields, saw 12\\nSkipping line 43049: expected 11 fields, saw 12\\nSkipping line 43103: expected 11 fields, saw 12\\nSkipping line 43123: expected 11 fields, saw 13\\nSkipping line 43124: expected 11 fields, saw 13\\nSkipping line 43144: expected 11 fields, saw 13\\nSkipping line 43147: expected 11 fields, saw 13\\nSkipping line 43160: expected 11 fields, saw 13\\nSkipping line 43165: expected 11 fields, saw 12\\nSkipping line 43182: expected 11 fields, saw 13\\nSkipping line 43211: expected 11 fields, saw 12\\nSkipping line 43222: expected 11 fields, saw 12\\nSkipping line 43243: expected 11 fields, saw 13\\nSkipping line 43249: expected 11 fields, saw 13\\nSkipping line 43263: expected 11 fields, saw 12\\nSkipping line 43269: expected 11 fields, saw 12\\nSkipping line 43270: expected 11 fields, saw 13\\nSkipping line 43307: expected 11 fields, saw 12\\nSkipping line 43310: expected 11 fields, saw 13\\nSkipping line 43331: expected 11 fields, saw 13\\nSkipping line 43338: expected 11 fields, saw 13\\nSkipping line 43347: expected 11 fields, saw 12\\nSkipping line 43376: expected 11 fields, saw 12\\nSkipping line 43389: expected 11 fields, saw 13\\nSkipping line 43399: expected 11 fields, saw 12\\nSkipping line 43400: expected 11 fields, saw 12\\nSkipping line 43403: expected 11 fields, saw 13\\nSkipping line 43425: expected 11 fields, saw 12\\nSkipping line 43436: expected 11 fields, saw 13\\nSkipping line 43454: expected 11 fields, saw 12\\nSkipping line 43458: expected 11 fields, saw 12\\nSkipping line 43461: expected 11 fields, saw 12\\nSkipping line 43462: expected 11 fields, saw 12\\nSkipping line 43476: expected 11 fields, saw 13\\nSkipping line 43486: expected 11 fields, saw 13\\nSkipping line 43493: expected 11 fields, saw 12\\nSkipping line 43499: expected 11 fields, saw 12\\nSkipping line 43506: expected 11 fields, saw 13\\nSkipping line 43529: expected 11 fields, saw 13\\nSkipping line 43530: expected 11 fields, saw 12\\nSkipping line 43533: expected 11 fields, saw 12\\nSkipping line 43542: expected 11 fields, saw 13\\nSkipping line 43553: expected 11 fields, saw 12\\nSkipping line 43554: expected 11 fields, saw 12\\nSkipping line 43555: expected 11 fields, saw 13\\nSkipping line 43561: expected 11 fields, saw 13\\nSkipping line 43567: expected 11 fields, saw 12\\nSkipping line 43568: expected 11 fields, saw 12\\nSkipping line 43593: expected 11 fields, saw 12\\nSkipping line 43598: expected 11 fields, saw 12\\nSkipping line 43602: expected 11 fields, saw 12\\nSkipping line 43603: expected 11 fields, saw 12\\nSkipping line 43614: expected 11 fields, saw 12\\nSkipping line 43646: expected 11 fields, saw 12\\nSkipping line 43661: expected 11 fields, saw 12\\nSkipping line 43666: expected 11 fields, saw 13\\nSkipping line 43679: expected 11 fields, saw 13\\nSkipping line 43703: expected 11 fields, saw 12\\nSkipping line 43716: expected 11 fields, saw 12\\nSkipping line 43731: expected 11 fields, saw 12\\nSkipping line 43736: expected 11 fields, saw 13\\nSkipping line 43737: expected 11 fields, saw 12\\nSkipping line 43738: expected 11 fields, saw 12\\nSkipping line 43744: expected 11 fields, saw 13\\nSkipping line 43748: expected 11 fields, saw 12\\nSkipping line 43761: expected 11 fields, saw 12\\nSkipping line 43774: expected 11 fields, saw 12\\nSkipping line 43800: expected 11 fields, saw 12\\nSkipping line 43801: expected 11 fields, saw 12\\nSkipping line 43811: expected 11 fields, saw 12\\nSkipping line 43820: expected 11 fields, saw 13\\nSkipping line 43823: expected 11 fields, saw 13\\nSkipping line 43829: expected 11 fields, saw 12\\nSkipping line 43858: expected 11 fields, saw 13\\nSkipping line 43875: expected 11 fields, saw 12\\nSkipping line 43905: expected 11 fields, saw 12\\nSkipping line 43906: expected 11 fields, saw 13\\nSkipping line 43914: expected 11 fields, saw 12\\nSkipping line 43920: expected 11 fields, saw 12\\nSkipping line 43930: expected 11 fields, saw 12\\nSkipping line 43953: expected 11 fields, saw 12\\nSkipping line 43957: expected 11 fields, saw 12\\nSkipping line 43958: expected 11 fields, saw 12\\nSkipping line 43961: expected 11 fields, saw 12\\nSkipping line 43970: expected 11 fields, saw 13\\nSkipping line 43982: expected 11 fields, saw 12\\nSkipping line 43985: expected 11 fields, saw 12\\nSkipping line 44038: expected 11 fields, saw 12\\nSkipping line 44045: expected 11 fields, saw 12\\nSkipping line 44064: expected 11 fields, saw 12\\nSkipping line 44095: expected 11 fields, saw 12\\nSkipping line 44122: expected 11 fields, saw 12\\nSkipping line 44126: expected 11 fields, saw 12\\nSkipping line 44142: expected 11 fields, saw 12\\nSkipping line 44156: expected 11 fields, saw 12\\nSkipping line 44170: expected 11 fields, saw 12\\nSkipping line 44192: expected 11 fields, saw 12\\nSkipping line 44193: expected 11 fields, saw 12\\nSkipping line 44250: expected 11 fields, saw 12\\nSkipping line 44261: expected 11 fields, saw 13\\nSkipping line 44269: expected 11 fields, saw 12\\nSkipping line 44299: expected 11 fields, saw 12\\nSkipping line 44309: expected 11 fields, saw 12\\nSkipping line 44324: expected 11 fields, saw 12\\nSkipping line 44343: expected 11 fields, saw 12\\nSkipping line 44346: expected 11 fields, saw 12\\nSkipping line 44355: expected 11 fields, saw 12\\nSkipping line 44360: expected 11 fields, saw 12\\nSkipping line 44361: expected 11 fields, saw 12\\nSkipping line 44378: expected 11 fields, saw 12\\nSkipping line 44383: expected 11 fields, saw 12\\nSkipping line 44385: expected 11 fields, saw 12\\nSkipping line 44386: expected 11 fields, saw 12\\nSkipping line 44415: expected 11 fields, saw 13\\nSkipping line 44421: expected 11 fields, saw 13\\nSkipping line 44461: expected 11 fields, saw 12\\nSkipping line 44477: expected 11 fields, saw 12\\nSkipping line 44479: expected 11 fields, saw 12\\nSkipping line 44480: expected 11 fields, saw 12\\nSkipping line 44490: expected 11 fields, saw 12\\nSkipping line 44491: expected 11 fields, saw 12\\nSkipping line 44498: expected 11 fields, saw 12\\nSkipping line 44499: expected 11 fields, saw 12\\nSkipping line 44509: expected 11 fields, saw 12\\nSkipping line 44510: expected 11 fields, saw 12\\nSkipping line 44511: expected 11 fields, saw 12\\nSkipping line 44513: expected 11 fields, saw 12\\nSkipping line 44514: expected 11 fields, saw 12\\nSkipping line 44527: expected 11 fields, saw 14\\nSkipping line 44528: expected 11 fields, saw 14\\nSkipping line 44532: expected 11 fields, saw 12\\nSkipping line 45237: expected 11 fields, saw 14\\nSkipping line 45324: expected 11 fields, saw 14\\nSkipping line 45325: expected 11 fields, saw 14\\nSkipping line 45365: expected 11 fields, saw 14\\nSkipping line 45385: expected 11 fields, saw 14\\nSkipping line 45403: expected 11 fields, saw 14\\nSkipping line 45404: expected 11 fields, saw 14\\nSkipping line 45447: expected 11 fields, saw 12\\nSkipping line 45474: expected 11 fields, saw 15\\nSkipping line 45492: expected 11 fields, saw 15\\nSkipping line 45511: expected 11 fields, saw 14\\nSkipping line 45526: expected 11 fields, saw 15\\nSkipping line 45560: expected 11 fields, saw 14\\nSkipping line 45619: expected 11 fields, saw 15\\nSkipping line 45625: expected 11 fields, saw 14\\nSkipping line 45656: expected 11 fields, saw 15\\nSkipping line 45687: expected 11 fields, saw 13\\nSkipping line 45693: expected 11 fields, saw 15\\nSkipping line 45735: expected 11 fields, saw 15\\nSkipping line 45736: expected 11 fields, saw 14\\nSkipping line 45739: expected 11 fields, saw 14\\nSkipping line 45782: expected 11 fields, saw 14\\nSkipping line 45850: expected 11 fields, saw 14\\nSkipping line 45917: expected 11 fields, saw 14\\nSkipping line 45933: expected 11 fields, saw 12\\nSkipping line 45949: expected 11 fields, saw 13\\nSkipping line 45978: expected 11 fields, saw 13\\nSkipping line 45981: expected 11 fields, saw 12\\nSkipping line 46025: expected 11 fields, saw 13\\nSkipping line 46045: expected 11 fields, saw 12\\nSkipping line 46056: expected 11 fields, saw 13\\nSkipping line 46057: expected 11 fields, saw 13\\nSkipping line 46058: expected 11 fields, saw 12\\nSkipping line 46086: expected 11 fields, saw 12\\nSkipping line 46131: expected 11 fields, saw 12\\nSkipping line 46135: expected 11 fields, saw 12\\nSkipping line 46198: expected 11 fields, saw 12\\nSkipping line 46207: expected 11 fields, saw 12\\nSkipping line 46218: expected 11 fields, saw 12\\nSkipping line 46241: expected 11 fields, saw 13\\nSkipping line 46262: expected 11 fields, saw 12\\nSkipping line 46263: expected 11 fields, saw 12\\nSkipping line 46269: expected 11 fields, saw 12\\nSkipping line 46270: expected 11 fields, saw 13\\nSkipping line 46282: expected 11 fields, saw 12\\nSkipping line 46289: expected 11 fields, saw 12\\nSkipping line 46327: expected 11 fields, saw 12\\nSkipping line 46366: expected 11 fields, saw 13\\nSkipping line 46384: expected 11 fields, saw 13\\nSkipping line 46386: expected 11 fields, saw 12\\nSkipping line 46387: expected 11 fields, saw 12\\nSkipping line 46388: expected 11 fields, saw 12\\nSkipping line 46424: expected 11 fields, saw 13\\nSkipping line 46441: expected 11 fields, saw 12\\nSkipping line 46448: expected 11 fields, saw 12\\nSkipping line 46483: expected 11 fields, saw 12\\nSkipping line 46504: expected 11 fields, saw 12\\nSkipping line 46510: expected 11 fields, saw 13\\nSkipping line 46512: expected 11 fields, saw 12\\nSkipping line 46553: expected 11 fields, saw 12\\nSkipping line 46554: expected 11 fields, saw 12\\nSkipping line 46562: expected 11 fields, saw 12\\nSkipping line 46614: expected 11 fields, saw 12\\nSkipping line 46615: expected 11 fields, saw 12\\nSkipping line 46620: expected 11 fields, saw 12\\nSkipping line 46686: expected 11 fields, saw 12\\nSkipping line 46692: expected 11 fields, saw 12\\nSkipping line 46694: expected 11 fields, saw 12\\nSkipping line 46701: expected 11 fields, saw 12\\nSkipping line 46711: expected 11 fields, saw 13\\nSkipping line 46775: expected 11 fields, saw 12\\nSkipping line 46788: expected 11 fields, saw 12\\nSkipping line 46796: expected 11 fields, saw 12\\nSkipping line 46828: expected 11 fields, saw 12\\nSkipping line 46851: expected 11 fields, saw 13\\nSkipping line 46858: expected 11 fields, saw 13\\nSkipping line 46905: expected 11 fields, saw 14\\nSkipping line 46906: expected 11 fields, saw 14\\nSkipping line 47034: expected 11 fields, saw 13\\nSkipping line 47035: expected 11 fields, saw 13\\nSkipping line 47044: expected 11 fields, saw 14\\nSkipping line 47045: expected 11 fields, saw 14\\nSkipping line 47061: expected 11 fields, saw 12\\nSkipping line 47062: expected 11 fields, saw 12\\nSkipping line 47066: expected 11 fields, saw 13\\nSkipping line 47072: expected 11 fields, saw 12\\nSkipping line 47075: expected 11 fields, saw 13\\nSkipping line 47076: expected 11 fields, saw 12\\nSkipping line 47102: expected 11 fields, saw 15\\nSkipping line 47117: expected 11 fields, saw 13\\nSkipping line 47145: expected 11 fields, saw 12\\nSkipping line 47146: expected 11 fields, saw 12\\nSkipping line 47151: expected 11 fields, saw 12\\nSkipping line 47166: expected 11 fields, saw 16\\nSkipping line 47177: expected 11 fields, saw 12\\nSkipping line 47186: expected 11 fields, saw 13\\nSkipping line 47204: expected 11 fields, saw 12\\nSkipping line 47206: expected 11 fields, saw 12\\nSkipping line 47211: expected 11 fields, saw 13\\nSkipping line 47222: expected 11 fields, saw 12\\nSkipping line 47223: expected 11 fields, saw 12\\nSkipping line 47239: expected 11 fields, saw 13\\nSkipping line 47254: expected 11 fields, saw 12\\nSkipping line 47255: expected 11 fields, saw 12\\nSkipping line 47266: expected 11 fields, saw 13\\nSkipping line 47267: expected 11 fields, saw 13\\nSkipping line 47273: expected 11 fields, saw 15\\nSkipping line 47274: expected 11 fields, saw 15\\nSkipping line 47275: expected 11 fields, saw 13\\nSkipping line 47276: expected 11 fields, saw 16\\nSkipping line 47284: expected 11 fields, saw 12\\nSkipping line 47296: expected 11 fields, saw 12\\nSkipping line 47297: expected 11 fields, saw 12\\nSkipping line 47298: expected 11 fields, saw 12\\nSkipping line 47324: expected 11 fields, saw 13\\nSkipping line 47331: expected 11 fields, saw 12\\nSkipping line 47348: expected 11 fields, saw 14\\nSkipping line 47350: expected 11 fields, saw 12\\nSkipping line 47351: expected 11 fields, saw 12\\nSkipping line 47356: expected 11 fields, saw 16\\nSkipping line 47363: expected 11 fields, saw 12\\nSkipping line 47372: expected 11 fields, saw 13\\nSkipping line 47392: expected 11 fields, saw 12\\nSkipping line 47393: expected 11 fields, saw 12\\nSkipping line 47396: expected 11 fields, saw 12\\nSkipping line 47400: expected 11 fields, saw 13\\nSkipping line 47412: expected 11 fields, saw 13\\nSkipping line 47421: expected 11 fields, saw 12\\nSkipping line 47427: expected 11 fields, saw 12\\nSkipping line 47429: expected 11 fields, saw 16\\nSkipping line 47430: expected 11 fields, saw 16\\nSkipping line 47435: expected 11 fields, saw 13\\nSkipping line 47437: expected 11 fields, saw 13\\nSkipping line 47438: expected 11 fields, saw 13\\nSkipping line 47448: expected 11 fields, saw 12\\nSkipping line 47449: expected 11 fields, saw 12\\nSkipping line 47456: expected 11 fields, saw 17\\nSkipping line 47465: expected 11 fields, saw 13\\nSkipping line 47470: expected 11 fields, saw 13\\nSkipping line 47474: expected 11 fields, saw 12\\nSkipping line 47476: expected 11 fields, saw 13\\nSkipping line 47491: expected 11 fields, saw 14\\nSkipping line 47495: expected 11 fields, saw 12\\nSkipping line 47498: expected 11 fields, saw 12\\nSkipping line 47501: expected 11 fields, saw 12\\nSkipping line 47502: expected 11 fields, saw 12\\nSkipping line 47505: expected 11 fields, saw 12\\nSkipping line 47513: expected 11 fields, saw 13\\nSkipping line 47514: expected 11 fields, saw 13\\nSkipping line 47521: expected 11 fields, saw 13\\nSkipping line 47522: expected 11 fields, saw 14\\nSkipping line 47524: expected 11 fields, saw 12\\nSkipping line 47532: expected 11 fields, saw 12\\nSkipping line 47551: expected 11 fields, saw 12\\nSkipping line 47552: expected 11 fields, saw 12\\nSkipping line 47553: expected 11 fields, saw 12\\nSkipping line 47555: expected 11 fields, saw 12\\nSkipping line 47557: expected 11 fields, saw 12\\nSkipping line 47558: expected 11 fields, saw 12\\nSkipping line 47587: expected 11 fields, saw 13\\nSkipping line 47588: expected 11 fields, saw 13\\nSkipping line 47592: expected 11 fields, saw 12\\nSkipping line 47593: expected 11 fields, saw 12\\nSkipping line 47618: expected 11 fields, saw 12\\nSkipping line 47670: expected 11 fields, saw 12\\nSkipping line 47685: expected 11 fields, saw 13\\nSkipping line 47695: expected 11 fields, saw 13\\nSkipping line 47720: expected 11 fields, saw 12\\nSkipping line 47733: expected 11 fields, saw 12\\nSkipping line 47803: expected 11 fields, saw 17\\nSkipping line 47804: expected 11 fields, saw 17\\nSkipping line 47815: expected 11 fields, saw 12\\nSkipping line 47819: expected 11 fields, saw 16\\nSkipping line 47861: expected 11 fields, saw 12\\nSkipping line 47865: expected 11 fields, saw 13\\nSkipping line 47867: expected 11 fields, saw 12\\nSkipping line 47868: expected 11 fields, saw 12\\nSkipping line 47902: expected 11 fields, saw 12\\nSkipping line 47951: expected 11 fields, saw 16\\nSkipping line 47959: expected 11 fields, saw 13\\nSkipping line 47962: expected 11 fields, saw 13\\nSkipping line 47986: expected 11 fields, saw 13\\nSkipping line 48003: expected 11 fields, saw 12\\nSkipping line 48004: expected 11 fields, saw 12\\nSkipping line 48005: expected 11 fields, saw 12\\nSkipping line 48008: expected 11 fields, saw 13\\nSkipping line 48033: expected 11 fields, saw 15\\nSkipping line 48094: expected 11 fields, saw 12\\nSkipping line 48121: expected 11 fields, saw 12\\nSkipping line 48123: expected 11 fields, saw 12\\nSkipping line 48124: expected 11 fields, saw 12\\nSkipping line 48158: expected 11 fields, saw 13\\nSkipping line 48197: expected 11 fields, saw 12\\nSkipping line 48205: expected 11 fields, saw 12\\nSkipping line 48206: expected 11 fields, saw 12\\nSkipping line 48214: expected 11 fields, saw 12\\nSkipping line 48215: expected 11 fields, saw 12\\nSkipping line 48226: expected 11 fields, saw 14\\nSkipping line 48231: expected 11 fields, saw 12\\nSkipping line 48283: expected 11 fields, saw 12\\nSkipping line 48284: expected 11 fields, saw 12\\nSkipping line 48290: expected 11 fields, saw 12\\nSkipping line 48306: expected 11 fields, saw 12\\nSkipping line 48310: expected 11 fields, saw 14\\nSkipping line 48314: expected 11 fields, saw 12\\nSkipping line 48315: expected 11 fields, saw 12\\nSkipping line 48331: expected 11 fields, saw 13\\nSkipping line 48332: expected 11 fields, saw 13\\nSkipping line 48341: expected 11 fields, saw 13\\nSkipping line 48442: expected 11 fields, saw 12\\nSkipping line 48443: expected 11 fields, saw 12\\nSkipping line 48447: expected 11 fields, saw 13\\nSkipping line 48448: expected 11 fields, saw 13\\nSkipping line 48459: expected 11 fields, saw 12\\nSkipping line 48490: expected 11 fields, saw 13\\nSkipping line 48498: expected 11 fields, saw 15\\nSkipping line 48499: expected 11 fields, saw 15\\nSkipping line 48545: expected 11 fields, saw 12\\nSkipping line 48606: expected 11 fields, saw 12\\nSkipping line 48607: expected 11 fields, saw 12\\nSkipping line 48617: expected 11 fields, saw 12\\nSkipping line 48719: expected 11 fields, saw 12\\nSkipping line 48768: expected 11 fields, saw 12\\nSkipping line 48769: expected 11 fields, saw 12\\nSkipping line 48770: expected 11 fields, saw 13\\nSkipping line 48783: expected 11 fields, saw 12\\nSkipping line 48826: expected 11 fields, saw 12\\nSkipping line 48827: expected 11 fields, saw 12\\nSkipping line 48828: expected 11 fields, saw 14\\nSkipping line 48829: expected 11 fields, saw 14\\nSkipping line 48860: expected 11 fields, saw 12\\nSkipping line 48886: expected 11 fields, saw 13\\nSkipping line 48889: expected 11 fields, saw 14\\nSkipping line 48895: expected 11 fields, saw 12\\nSkipping line 48896: expected 11 fields, saw 12\\nSkipping line 48923: expected 11 fields, saw 13\\nSkipping line 48926: expected 11 fields, saw 12\\nSkipping line 48927: expected 11 fields, saw 12\\nSkipping line 48928: expected 11 fields, saw 12\\nSkipping line 48941: expected 11 fields, saw 16\\nSkipping line 49007: expected 11 fields, saw 12\\nSkipping line 49009: expected 11 fields, saw 12\\nSkipping line 49030: expected 11 fields, saw 13\\nSkipping line 49032: expected 11 fields, saw 13\\nSkipping line 49064: expected 11 fields, saw 12\\nSkipping line 49066: expected 11 fields, saw 12\\nSkipping line 49100: expected 11 fields, saw 13\\nSkipping line 49135: expected 11 fields, saw 13\\nSkipping line 49154: expected 11 fields, saw 13\\nSkipping line 49160: expected 11 fields, saw 12\\nSkipping line 49166: expected 11 fields, saw 13\\nSkipping line 49182: expected 11 fields, saw 12\\nSkipping line 49230: expected 11 fields, saw 12\\nSkipping line 49232: expected 11 fields, saw 12\\nSkipping line 49234: expected 11 fields, saw 12\\nSkipping line 49314: expected 11 fields, saw 13\\nSkipping line 49335: expected 11 fields, saw 13\\nSkipping line 49340: expected 11 fields, saw 14\\nSkipping line 49342: expected 11 fields, saw 14\\nSkipping line 49351: expected 11 fields, saw 14\\nSkipping line 49393: expected 11 fields, saw 13\\nSkipping line 49414: expected 11 fields, saw 13\\nSkipping line 49416: expected 11 fields, saw 13\\nSkipping line 49429: expected 11 fields, saw 13\\nSkipping line 49445: expected 11 fields, saw 13\\nSkipping line 49486: expected 11 fields, saw 12\\nSkipping line 49499: expected 11 fields, saw 14\\nSkipping line 49514: expected 11 fields, saw 13\\nSkipping line 49520: expected 11 fields, saw 15\\nSkipping line 49530: expected 11 fields, saw 14\\nSkipping line 49532: expected 11 fields, saw 14\\nSkipping line 49590: expected 11 fields, saw 13\\nSkipping line 49647: expected 11 fields, saw 12\\nSkipping line 49649: expected 11 fields, saw 12\\nSkipping line 49651: expected 11 fields, saw 12\\nSkipping line 49677: expected 11 fields, saw 14\\nSkipping line 49680: expected 11 fields, saw 13\\nSkipping line 49682: expected 11 fields, saw 13\\nSkipping line 49709: expected 11 fields, saw 13\\nSkipping line 49725: expected 11 fields, saw 13\\nSkipping line 49727: expected 11 fields, saw 13\\nSkipping line 49759: expected 11 fields, saw 12\\nSkipping line 49771: expected 11 fields, saw 12\\nSkipping line 49773: expected 11 fields, saw 12\\nSkipping line 49804: expected 11 fields, saw 14\\nSkipping line 49823: expected 11 fields, saw 12\\nSkipping line 49827: expected 11 fields, saw 12\\nSkipping line 49845: expected 11 fields, saw 12\\nSkipping line 49871: expected 11 fields, saw 12\\nSkipping line 49926: expected 11 fields, saw 14\\nSkipping line 49931: expected 11 fields, saw 13\\nSkipping line 49967: expected 11 fields, saw 12\\nSkipping line 49969: expected 11 fields, saw 12\\nSkipping line 49989: expected 11 fields, saw 12\\nSkipping line 49990: expected 11 fields, saw 14\\nSkipping line 49991: expected 11 fields, saw 12\\nSkipping line 49992: expected 11 fields, saw 14\\nSkipping line 50023: expected 11 fields, saw 12\\nSkipping line 50045: expected 11 fields, saw 12\\nSkipping line 50049: expected 11 fields, saw 13\\nSkipping line 50091: expected 11 fields, saw 15\\nSkipping line 50101: expected 11 fields, saw 12\\nSkipping line 50197: expected 11 fields, saw 14\\nSkipping line 50199: expected 11 fields, saw 14\\nSkipping line 50236: expected 11 fields, saw 13\\nSkipping line 50255: expected 11 fields, saw 12\\nSkipping line 50315: expected 11 fields, saw 13\\nSkipping line 50317: expected 11 fields, saw 13\\nSkipping line 50357: expected 11 fields, saw 12\\nSkipping line 50443: expected 11 fields, saw 12\\nSkipping line 50464: expected 11 fields, saw 14\\nSkipping line 50480: expected 11 fields, saw 12\\nSkipping line 50482: expected 11 fields, saw 12\\nSkipping line 50484: expected 11 fields, saw 14\\nSkipping line 50536: expected 11 fields, saw 13\\nSkipping line 50560: expected 11 fields, saw 12\\nSkipping line 50576: expected 11 fields, saw 13\\nSkipping line 50620: expected 11 fields, saw 12\\nSkipping line 50676: expected 11 fields, saw 14\\nSkipping line 50688: expected 11 fields, saw 12\\nSkipping line 50689: expected 11 fields, saw 12\\nSkipping line 50701: expected 11 fields, saw 12\\nSkipping line 50707: expected 11 fields, saw 13\\nSkipping line 50731: expected 11 fields, saw 12\\nSkipping line 50732: expected 11 fields, saw 12\\nSkipping line 50762: expected 11 fields, saw 12\\nSkipping line 50766: expected 11 fields, saw 12\\nSkipping line 50789: expected 11 fields, saw 12\\nSkipping line 50816: expected 11 fields, saw 14\\nSkipping line 50827: expected 11 fields, saw 13\\nSkipping line 50840: expected 11 fields, saw 12\\nSkipping line 50921: expected 11 fields, saw 14\\nSkipping line 50943: expected 11 fields, saw 13\\nSkipping line 50972: expected 11 fields, saw 12\\nSkipping line 50987: expected 11 fields, saw 12\\nSkipping line 50991: expected 11 fields, saw 13\\nSkipping line 50992: expected 11 fields, saw 13\\nSkipping line 50995: expected 11 fields, saw 12\\nSkipping line 51010: expected 11 fields, saw 13\\nSkipping line 51025: expected 11 fields, saw 13\\nSkipping line 51042: expected 11 fields, saw 13\\nSkipping line 51061: expected 11 fields, saw 14\\nSkipping line 51062: expected 11 fields, saw 14\\nSkipping line 51117: expected 11 fields, saw 13\\nSkipping line 51121: expected 11 fields, saw 13\\nSkipping line 51142: expected 11 fields, saw 14\\nSkipping line 51184: expected 11 fields, saw 14\\nSkipping line 51240: expected 11 fields, saw 14\\nSkipping line 51256: expected 11 fields, saw 13\\nSkipping line 51261: expected 11 fields, saw 12\\nSkipping line 51357: expected 11 fields, saw 14\\nSkipping line 51397: expected 11 fields, saw 13\\nSkipping line 51489: expected 11 fields, saw 13\\nSkipping line 51490: expected 11 fields, saw 13\\nSkipping line 51565: expected 11 fields, saw 13\\nSkipping line 51651: expected 11 fields, saw 12\\nSkipping line 51672: expected 11 fields, saw 13\\nSkipping line 51705: expected 11 fields, saw 12\\nSkipping line 51756: expected 11 fields, saw 12\\nSkipping line 51757: expected 11 fields, saw 12\\nSkipping line 51822: expected 11 fields, saw 13\\nSkipping line 51838: expected 11 fields, saw 14\\nSkipping line 51839: expected 11 fields, saw 14\\nSkipping line 51840: expected 11 fields, saw 14\\nSkipping line 51841: expected 11 fields, saw 14\\nSkipping line 51842: expected 11 fields, saw 14\\nSkipping line 51868: expected 11 fields, saw 12\\nSkipping line 51883: expected 11 fields, saw 12\\nSkipping line 51949: expected 11 fields, saw 13\\nSkipping line 51995: expected 11 fields, saw 12\\nSkipping line 51996: expected 11 fields, saw 12\\nSkipping line 52028: expected 11 fields, saw 12\\nSkipping line 52092: expected 11 fields, saw 13\\nSkipping line 52166: expected 11 fields, saw 12\\nSkipping line 52621: expected 11 fields, saw 12\\nSkipping line 52732: expected 11 fields, saw 12\\nSkipping line 53812: expected 11 fields, saw 12\\nSkipping line 53813: expected 11 fields, saw 12\\nSkipping line 53955: expected 11 fields, saw 12\\nSkipping line 54566: expected 11 fields, saw 12\\nSkipping line 54567: expected 11 fields, saw 12\\nSkipping line 54697: expected 11 fields, saw 12\\nSkipping line 54812: expected 11 fields, saw 12\\nSkipping line 55338: expected 11 fields, saw 12\\nSkipping line 55499: expected 11 fields, saw 12\\nSkipping line 55607: expected 11 fields, saw 12\\nSkipping line 55947: expected 11 fields, saw 13\\nSkipping line 55962: expected 11 fields, saw 12\\nSkipping line 56003: expected 11 fields, saw 12\\nSkipping line 56004: expected 11 fields, saw 12\\nSkipping line 56029: expected 11 fields, saw 13\\nSkipping line 56030: expected 11 fields, saw 13\\nSkipping line 56031: expected 11 fields, saw 13\\nSkipping line 56032: expected 11 fields, saw 13\\nSkipping line 56033: expected 11 fields, saw 13\\nSkipping line 56034: expected 11 fields, saw 13\\nSkipping line 56035: expected 11 fields, saw 13\\nSkipping line 56069: expected 11 fields, saw 15\\nSkipping line 56777: expected 11 fields, saw 12\\nSkipping line 56778: expected 11 fields, saw 12\\nSkipping line 56856: expected 11 fields, saw 12\\nSkipping line 56924: expected 11 fields, saw 12\\nSkipping line 56936: expected 11 fields, saw 13\\nSkipping line 56959: expected 11 fields, saw 12\\nSkipping line 56960: expected 11 fields, saw 12\\nSkipping line 56992: expected 11 fields, saw 12\\nSkipping line 56993: expected 11 fields, saw 12\\nSkipping line 57008: expected 11 fields, saw 12\\nSkipping line 57036: expected 11 fields, saw 14\\nSkipping line 57037: expected 11 fields, saw 13\\nSkipping line 57041: expected 11 fields, saw 12\\nSkipping line 57081: expected 11 fields, saw 12\\nSkipping line 57122: expected 11 fields, saw 12\\nSkipping line 57124: expected 11 fields, saw 13\\nSkipping line 57125: expected 11 fields, saw 14\\nSkipping line 57132: expected 11 fields, saw 12\\nSkipping line 57260: expected 11 fields, saw 12\\nSkipping line 57290: expected 11 fields, saw 14\\nSkipping line 57294: expected 11 fields, saw 13\\nSkipping line 57358: expected 11 fields, saw 15\\nSkipping line 57359: expected 11 fields, saw 15\\nSkipping line 57390: expected 11 fields, saw 12\\nSkipping line 57437: expected 11 fields, saw 12\\nSkipping line 57442: expected 11 fields, saw 13\\nSkipping line 57456: expected 11 fields, saw 14\\nSkipping line 57458: expected 11 fields, saw 12\\nSkipping line 57459: expected 11 fields, saw 12\\nSkipping line 57480: expected 11 fields, saw 12\\nSkipping line 57481: expected 11 fields, saw 12\\nSkipping line 57539: expected 11 fields, saw 13\\nSkipping line 57540: expected 11 fields, saw 13\\nSkipping line 57550: expected 11 fields, saw 12\\nSkipping line 57554: expected 11 fields, saw 12\\nSkipping line 57581: expected 11 fields, saw 13\\nSkipping line 57582: expected 11 fields, saw 13\\nSkipping line 57639: expected 11 fields, saw 12\\nSkipping line 57697: expected 11 fields, saw 12\\nSkipping line 57698: expected 11 fields, saw 12\\nSkipping line 57722: expected 11 fields, saw 14\\nSkipping line 57742: expected 11 fields, saw 12\\nSkipping line 57786: expected 11 fields, saw 12\\nSkipping line 57802: expected 11 fields, saw 12\\nSkipping line 57803: expected 11 fields, saw 12\\nSkipping line 57863: expected 11 fields, saw 12\\nSkipping line 57868: expected 11 fields, saw 12\\nSkipping line 57869: expected 11 fields, saw 12\\nSkipping line 57879: expected 11 fields, saw 12\\nSkipping line 57895: expected 11 fields, saw 12\\nSkipping line 57906: expected 11 fields, saw 12\\nSkipping line 57909: expected 11 fields, saw 12\\nSkipping line 57910: expected 11 fields, saw 12\\nSkipping line 57939: expected 11 fields, saw 13\\nSkipping line 57940: expected 11 fields, saw 13\\nSkipping line 57945: expected 11 fields, saw 12\\nSkipping line 57955: expected 11 fields, saw 12\\nSkipping line 57956: expected 11 fields, saw 12\\nSkipping line 57960: expected 11 fields, saw 12\\nSkipping line 57975: expected 11 fields, saw 13\\nSkipping line 57976: expected 11 fields, saw 13\\nSkipping line 57985: expected 11 fields, saw 12\\nSkipping line 57986: expected 11 fields, saw 12\\nSkipping line 57995: expected 11 fields, saw 12\\nSkipping line 57996: expected 11 fields, saw 12\\nSkipping line 58019: expected 11 fields, saw 12\\nSkipping line 58023: expected 11 fields, saw 12\\nSkipping line 58030: expected 11 fields, saw 12\\nSkipping line 58036: expected 11 fields, saw 13\\nSkipping line 58078: expected 11 fields, saw 14\\nSkipping line 58079: expected 11 fields, saw 14\\nSkipping line 58080: expected 11 fields, saw 12\\nSkipping line 58082: expected 11 fields, saw 12\\nSkipping line 58087: expected 11 fields, saw 13\\nSkipping line 58090: expected 11 fields, saw 13\\nSkipping line 58091: expected 11 fields, saw 13\\nSkipping line 58100: expected 11 fields, saw 12\\nSkipping line 58101: expected 11 fields, saw 12\\nSkipping line 58134: expected 11 fields, saw 12\\nSkipping line 58135: expected 11 fields, saw 13\\nSkipping line 58136: expected 11 fields, saw 13\\nSkipping line 58148: expected 11 fields, saw 12\\nSkipping line 58154: expected 11 fields, saw 14\\nSkipping line 58161: expected 11 fields, saw 12\\nSkipping line 58163: expected 11 fields, saw 12\\nSkipping line 58174: expected 11 fields, saw 13\\nSkipping line 58192: expected 11 fields, saw 13\\nSkipping line 58201: expected 11 fields, saw 13\\nSkipping line 58237: expected 11 fields, saw 14\\nSkipping line 58240: expected 11 fields, saw 12\\nSkipping line 58248: expected 11 fields, saw 12\\nSkipping line 58263: expected 11 fields, saw 13\\nSkipping line 58271: expected 11 fields, saw 12\\nSkipping line 58272: expected 11 fields, saw 12\\nSkipping line 58274: expected 11 fields, saw 12\\nSkipping line 58292: expected 11 fields, saw 12\\nSkipping line 58293: expected 11 fields, saw 12\\nSkipping line 58304: expected 11 fields, saw 13\\nSkipping line 58311: expected 11 fields, saw 12\\nSkipping line 58314: expected 11 fields, saw 12\\nSkipping line 58329: expected 11 fields, saw 13\\nSkipping line 58349: expected 11 fields, saw 12\\nSkipping line 58372: expected 11 fields, saw 12\\nSkipping line 58379: expected 11 fields, saw 12\\nSkipping line 58393: expected 11 fields, saw 12\\nSkipping line 58411: expected 11 fields, saw 13\\nSkipping line 58425: expected 11 fields, saw 12\\nSkipping line 58451: expected 11 fields, saw 13\\nSkipping line 58452: expected 11 fields, saw 13\\nSkipping line 58468: expected 11 fields, saw 12\\nSkipping line 58473: expected 11 fields, saw 12\\nSkipping line 58474: expected 11 fields, saw 12\\nSkipping line 58492: expected 11 fields, saw 13\\nSkipping line 58504: expected 11 fields, saw 12\\nSkipping line 58538: expected 11 fields, saw 12\\nSkipping line 58539: expected 11 fields, saw 12\\nSkipping line 58540: expected 11 fields, saw 12\\nSkipping line 58541: expected 11 fields, saw 12\\nSkipping line 58569: expected 11 fields, saw 13\\nSkipping line 58595: expected 11 fields, saw 12\\nSkipping line 58597: expected 11 fields, saw 13\\nSkipping line 58598: expected 11 fields, saw 14\\nSkipping line 58599: expected 11 fields, saw 14\\nSkipping line 58601: expected 11 fields, saw 12\\nSkipping line 58617: expected 11 fields, saw 13\\nSkipping line 58618: expected 11 fields, saw 13\\nSkipping line 58621: expected 11 fields, saw 12\\nSkipping line 58624: expected 11 fields, saw 12\\nSkipping line 58633: expected 11 fields, saw 12\\nSkipping line 58651: expected 11 fields, saw 13\\nSkipping line 58659: expected 11 fields, saw 12\\nSkipping line 58677: expected 11 fields, saw 13\\nSkipping line 58678: expected 11 fields, saw 13\\nSkipping line 58679: expected 11 fields, saw 13\\nSkipping line 58681: expected 11 fields, saw 14\\nSkipping line 58691: expected 11 fields, saw 13\\nSkipping line 58692: expected 11 fields, saw 13\\nSkipping line 58696: expected 11 fields, saw 13\\nSkipping line 58708: expected 11 fields, saw 12\\nSkipping line 58712: expected 11 fields, saw 12\\nSkipping line 58729: expected 11 fields, saw 12\\nSkipping line 58730: expected 11 fields, saw 12\\nSkipping line 58733: expected 11 fields, saw 12\\nSkipping line 58743: expected 11 fields, saw 13\\nSkipping line 58753: expected 11 fields, saw 13\\nSkipping line 58755: expected 11 fields, saw 14\\nSkipping line 58764: expected 11 fields, saw 13\\nSkipping line 58779: expected 11 fields, saw 12\\nSkipping line 58780: expected 11 fields, saw 12\\nSkipping line 58792: expected 11 fields, saw 12\\nSkipping line 58796: expected 11 fields, saw 12\\nSkipping line 58798: expected 11 fields, saw 13\\nSkipping line 58800: expected 11 fields, saw 13\\nSkipping line 58809: expected 11 fields, saw 14\\nSkipping line 58831: expected 11 fields, saw 12\\nSkipping line 58846: expected 11 fields, saw 13\\nSkipping line 58848: expected 11 fields, saw 12\\nSkipping line 58853: expected 11 fields, saw 12\\nSkipping line 58905: expected 11 fields, saw 12\\nSkipping line 58907: expected 11 fields, saw 12\\nSkipping line 58908: expected 11 fields, saw 12\\nSkipping line 58913: expected 11 fields, saw 12\\nSkipping line 58918: expected 11 fields, saw 14\\nSkipping line 58920: expected 11 fields, saw 12\\nSkipping line 58921: expected 11 fields, saw 12\\nSkipping line 58938: expected 11 fields, saw 12\\nSkipping line 58939: expected 11 fields, saw 12\\nSkipping line 58950: expected 11 fields, saw 12\\nSkipping line 58952: expected 11 fields, saw 12\\nSkipping line 58953: expected 11 fields, saw 13\\nSkipping line 58956: expected 11 fields, saw 13\\nSkipping line 58964: expected 11 fields, saw 12\\nSkipping line 58968: expected 11 fields, saw 12\\nSkipping line 58971: expected 11 fields, saw 12\\nSkipping line 58974: expected 11 fields, saw 12\\nSkipping line 58975: expected 11 fields, saw 12\\nSkipping line 58995: expected 11 fields, saw 12\\nSkipping line 58996: expected 11 fields, saw 12\\nSkipping line 59004: expected 11 fields, saw 12\\nSkipping line 59019: expected 11 fields, saw 12\\nSkipping line 59055: expected 11 fields, saw 12\\nSkipping line 59067: expected 11 fields, saw 13\\nSkipping line 59086: expected 11 fields, saw 15\\nSkipping line 59172: expected 11 fields, saw 15\\nSkipping line 59502: expected 11 fields, saw 12\\nSkipping line 59552: expected 11 fields, saw 13\\nSkipping line 59596: expected 11 fields, saw 12\\nSkipping line 59601: expected 11 fields, saw 13\\nSkipping line 59820: expected 11 fields, saw 14\\nSkipping line 59895: expected 11 fields, saw 12\\nSkipping line 60037: expected 11 fields, saw 16\\nSkipping line 60139: expected 11 fields, saw 13\\nSkipping line 60140: expected 11 fields, saw 13\\nSkipping line 60141: expected 11 fields, saw 13\\nSkipping line 60160: expected 11 fields, saw 12\\nSkipping line 60482: expected 11 fields, saw 15\\nSkipping line 60638: expected 11 fields, saw 12\\nSkipping line 61188: expected 11 fields, saw 14\\nSkipping line 61214: expected 11 fields, saw 14\\nSkipping line 61275: expected 11 fields, saw 14\\nSkipping line 61301: expected 11 fields, saw 14\\nSkipping line 61840: expected 11 fields, saw 12\\nSkipping line 62012: expected 11 fields, saw 12\\nSkipping line 62013: expected 11 fields, saw 12\\nSkipping line 62014: expected 11 fields, saw 12\\nSkipping line 62126: expected 11 fields, saw 12\\nSkipping line 62171: expected 11 fields, saw 12\\nSkipping line 62188: expected 11 fields, saw 12\\nSkipping line 62189: expected 11 fields, saw 12\\nSkipping line 62234: expected 11 fields, saw 12\\nSkipping line 62263: expected 11 fields, saw 12\\nSkipping line 62277: expected 11 fields, saw 12\\nSkipping line 62291: expected 11 fields, saw 12\\nSkipping line 62312: expected 11 fields, saw 12\\nSkipping line 62324: expected 11 fields, saw 14\\nSkipping line 62325: expected 11 fields, saw 14\\nSkipping line 62326: expected 11 fields, saw 14\\nSkipping line 62330: expected 11 fields, saw 14\\nSkipping line 62334: expected 11 fields, saw 14\\nSkipping line 62335: expected 11 fields, saw 14\\nSkipping line 62337: expected 11 fields, saw 12\\nSkipping line 62368: expected 11 fields, saw 14\\nSkipping line 62377: expected 11 fields, saw 12\\nSkipping line 62428: expected 11 fields, saw 12\\nSkipping line 62441: expected 11 fields, saw 12\\nSkipping line 62482: expected 11 fields, saw 12\\nSkipping line 62485: expected 11 fields, saw 12\\nSkipping line 62491: expected 11 fields, saw 12\\nSkipping line 63504: expected 11 fields, saw 12\\nSkipping line 63625: expected 11 fields, saw 13\\nSkipping line 63645: expected 11 fields, saw 13\\nSkipping line 63677: expected 11 fields, saw 13\\nSkipping line 63717: expected 11 fields, saw 13\\nSkipping line 63734: expected 11 fields, saw 13\\nSkipping line 63736: expected 11 fields, saw 13\\nSkipping line 63766: expected 11 fields, saw 13\\nSkipping line 63826: expected 11 fields, saw 13\\nSkipping line 63846: expected 11 fields, saw 13\\nSkipping line 63848: expected 11 fields, saw 13\\nSkipping line 63849: expected 11 fields, saw 13\\nSkipping line 63851: expected 11 fields, saw 14\\nSkipping line 63899: expected 11 fields, saw 12\\nSkipping line 63900: expected 11 fields, saw 12\\nSkipping line 63901: expected 11 fields, saw 12\\nSkipping line 63902: expected 11 fields, saw 12\\nSkipping line 63903: expected 11 fields, saw 12\\nSkipping line 63904: expected 11 fields, saw 12\\nSkipping line 63905: expected 11 fields, saw 12\\nSkipping line 63906: expected 11 fields, saw 12\\nSkipping line 63907: expected 11 fields, saw 12\\nSkipping line 64726: expected 11 fields, saw 13\\nSkipping line 65189: expected 11 fields, saw 12\\nSkipping line 65211: expected 11 fields, saw 13\\nSkipping line 65515: expected 11 fields, saw 13\\nSkipping line 65517: expected 11 fields, saw 13\\nSkipping line 65859: expected 11 fields, saw 12\\nSkipping line 65962: expected 11 fields, saw 12\\nSkipping line 65963: expected 11 fields, saw 12\\nSkipping line 65964: expected 11 fields, saw 12\\nSkipping line 66019: expected 11 fields, saw 12\\nSkipping line 66020: expected 11 fields, saw 12\\nSkipping line 66021: expected 11 fields, saw 12\\nSkipping line 66022: expected 11 fields, saw 12\\nSkipping line 66023: expected 11 fields, saw 12\\nSkipping line 66078: expected 11 fields, saw 13\\nSkipping line 66172: expected 11 fields, saw 12\\nSkipping line 66173: expected 11 fields, saw 12\\nSkipping line 66174: expected 11 fields, saw 12\\nSkipping line 66232: expected 11 fields, saw 12\\nSkipping line 66233: expected 11 fields, saw 12\\nSkipping line 66234: expected 11 fields, saw 12\\nSkipping line 66235: expected 11 fields, saw 12\\nSkipping line 66526: expected 11 fields, saw 13\\nSkipping line 66815: expected 11 fields, saw 12\\nSkipping line 66821: expected 11 fields, saw 12\\nSkipping line 67279: expected 11 fields, saw 12\\nSkipping line 67397: expected 11 fields, saw 12\\nSkipping line 67784: expected 11 fields, saw 16\\n'\n",
            "b'Skipping line 67856: expected 11 fields, saw 16\\nSkipping line 67988: expected 11 fields, saw 13\\nSkipping line 68004: expected 11 fields, saw 12\\nSkipping line 68005: expected 11 fields, saw 12\\nSkipping line 68133: expected 11 fields, saw 12\\nSkipping line 68134: expected 11 fields, saw 13\\nSkipping line 68138: expected 11 fields, saw 13\\nSkipping line 68139: expected 11 fields, saw 13\\nSkipping line 68140: expected 11 fields, saw 13\\nSkipping line 68141: expected 11 fields, saw 12\\nSkipping line 68147: expected 11 fields, saw 14\\nSkipping line 68148: expected 11 fields, saw 14\\nSkipping line 68230: expected 11 fields, saw 12\\nSkipping line 68369: expected 11 fields, saw 12\\nSkipping line 68370: expected 11 fields, saw 12\\nSkipping line 68541: expected 11 fields, saw 12\\nSkipping line 68543: expected 11 fields, saw 12\\nSkipping line 68544: expected 11 fields, saw 12\\nSkipping line 68754: expected 11 fields, saw 12\\nSkipping line 68755: expected 11 fields, saw 12\\nSkipping line 68756: expected 11 fields, saw 12\\nSkipping line 69094: expected 11 fields, saw 14\\nSkipping line 69390: expected 11 fields, saw 12\\nSkipping line 69394: expected 11 fields, saw 12\\nSkipping line 69646: expected 11 fields, saw 12\\nSkipping line 69653: expected 11 fields, saw 13\\nSkipping line 69719: expected 11 fields, saw 12\\nSkipping line 69738: expected 11 fields, saw 12\\nSkipping line 69777: expected 11 fields, saw 12\\nSkipping line 70144: expected 11 fields, saw 12\\nSkipping line 70410: expected 11 fields, saw 13\\nSkipping line 70720: expected 11 fields, saw 12\\nSkipping line 70721: expected 11 fields, saw 12\\nSkipping line 70805: expected 11 fields, saw 12\\nSkipping line 70873: expected 11 fields, saw 13\\nSkipping line 70960: expected 11 fields, saw 13\\nSkipping line 70961: expected 11 fields, saw 13\\nSkipping line 71193: expected 11 fields, saw 12\\nSkipping line 71473: expected 11 fields, saw 15\\nSkipping line 71497: expected 11 fields, saw 14\\nSkipping line 71612: expected 11 fields, saw 12\\nSkipping line 71704: expected 11 fields, saw 12\\nSkipping line 71711: expected 11 fields, saw 12\\nSkipping line 71712: expected 11 fields, saw 12\\nSkipping line 71758: expected 11 fields, saw 13\\nSkipping line 71762: expected 11 fields, saw 18\\nSkipping line 71801: expected 11 fields, saw 15\\nSkipping line 71809: expected 11 fields, saw 12\\nSkipping line 71819: expected 11 fields, saw 12\\nSkipping line 71867: expected 11 fields, saw 13\\nSkipping line 71877: expected 11 fields, saw 15\\nSkipping line 71946: expected 11 fields, saw 12\\nSkipping line 72019: expected 11 fields, saw 12\\nSkipping line 72080: expected 11 fields, saw 13\\nSkipping line 72085: expected 11 fields, saw 12\\nSkipping line 72523: expected 11 fields, saw 13\\nSkipping line 72832: expected 11 fields, saw 12\\nSkipping line 72833: expected 11 fields, saw 12\\nSkipping line 72834: expected 11 fields, saw 12\\nSkipping line 72971: expected 11 fields, saw 13\\nSkipping line 73067: expected 11 fields, saw 13\\nSkipping line 73078: expected 11 fields, saw 12\\nSkipping line 73140: expected 11 fields, saw 14\\nSkipping line 73274: expected 11 fields, saw 13\\nSkipping line 73363: expected 11 fields, saw 12\\nSkipping line 73387: expected 11 fields, saw 14\\nSkipping line 73462: expected 11 fields, saw 12\\nSkipping line 73469: expected 11 fields, saw 12\\nSkipping line 73825: expected 11 fields, saw 12\\nSkipping line 73852: expected 11 fields, saw 12\\nSkipping line 73913: expected 11 fields, saw 15\\nSkipping line 74004: expected 11 fields, saw 12\\nSkipping line 74139: expected 11 fields, saw 13\\nSkipping line 74156: expected 11 fields, saw 13\\nSkipping line 74346: expected 11 fields, saw 12\\nSkipping line 74439: expected 11 fields, saw 14\\nSkipping line 74457: expected 11 fields, saw 12\\nSkipping line 74533: expected 11 fields, saw 13\\nSkipping line 74534: expected 11 fields, saw 13\\nSkipping line 74613: expected 11 fields, saw 13\\nSkipping line 74638: expected 11 fields, saw 12\\nSkipping line 74654: expected 11 fields, saw 12\\nSkipping line 74676: expected 11 fields, saw 13\\nSkipping line 74783: expected 11 fields, saw 12\\nSkipping line 74791: expected 11 fields, saw 12\\nSkipping line 74881: expected 11 fields, saw 13\\nSkipping line 74966: expected 11 fields, saw 14\\nSkipping line 74975: expected 11 fields, saw 12\\nSkipping line 74982: expected 11 fields, saw 14\\nSkipping line 74983: expected 11 fields, saw 14\\nSkipping line 74984: expected 11 fields, saw 12\\nSkipping line 74985: expected 11 fields, saw 12\\nSkipping line 74989: expected 11 fields, saw 13\\nSkipping line 74997: expected 11 fields, saw 12\\nSkipping line 74998: expected 11 fields, saw 12\\nSkipping line 75000: expected 11 fields, saw 12\\nSkipping line 75036: expected 11 fields, saw 12\\nSkipping line 75037: expected 11 fields, saw 12\\nSkipping line 75048: expected 11 fields, saw 13\\nSkipping line 75054: expected 11 fields, saw 12\\nSkipping line 75060: expected 11 fields, saw 13\\nSkipping line 75063: expected 11 fields, saw 12\\nSkipping line 75069: expected 11 fields, saw 12\\nSkipping line 75087: expected 11 fields, saw 12\\nSkipping line 75088: expected 11 fields, saw 12\\nSkipping line 75091: expected 11 fields, saw 12\\nSkipping line 75092: expected 11 fields, saw 13\\nSkipping line 75093: expected 11 fields, saw 13\\nSkipping line 75103: expected 11 fields, saw 13\\nSkipping line 75111: expected 11 fields, saw 12\\nSkipping line 75115: expected 11 fields, saw 13\\nSkipping line 75122: expected 11 fields, saw 14\\nSkipping line 75123: expected 11 fields, saw 12\\nSkipping line 75125: expected 11 fields, saw 14\\nSkipping line 75129: expected 11 fields, saw 15\\nSkipping line 75131: expected 11 fields, saw 16\\nSkipping line 75132: expected 11 fields, saw 16\\nSkipping line 75144: expected 11 fields, saw 13\\nSkipping line 75152: expected 11 fields, saw 12\\nSkipping line 75153: expected 11 fields, saw 12\\nSkipping line 75163: expected 11 fields, saw 12\\nSkipping line 75168: expected 11 fields, saw 12\\nSkipping line 75169: expected 11 fields, saw 12\\nSkipping line 75170: expected 11 fields, saw 12\\nSkipping line 75171: expected 11 fields, saw 12\\nSkipping line 75172: expected 11 fields, saw 13\\nSkipping line 75173: expected 11 fields, saw 13\\nSkipping line 75178: expected 11 fields, saw 14\\nSkipping line 75179: expected 11 fields, saw 14\\nSkipping line 75180: expected 11 fields, saw 16\\nSkipping line 75181: expected 11 fields, saw 16\\nSkipping line 75186: expected 11 fields, saw 12\\nSkipping line 75187: expected 11 fields, saw 12\\nSkipping line 75201: expected 11 fields, saw 12\\nSkipping line 75202: expected 11 fields, saw 12\\nSkipping line 75203: expected 11 fields, saw 12\\nSkipping line 75205: expected 11 fields, saw 14\\nSkipping line 75211: expected 11 fields, saw 12\\nSkipping line 75212: expected 11 fields, saw 12\\nSkipping line 75220: expected 11 fields, saw 13\\nSkipping line 75221: expected 11 fields, saw 13\\nSkipping line 75226: expected 11 fields, saw 12\\nSkipping line 75227: expected 11 fields, saw 12\\nSkipping line 75228: expected 11 fields, saw 14\\nSkipping line 75233: expected 11 fields, saw 12\\nSkipping line 75246: expected 11 fields, saw 13\\nSkipping line 75295: expected 11 fields, saw 13\\nSkipping line 75296: expected 11 fields, saw 13\\nSkipping line 75314: expected 11 fields, saw 13\\nSkipping line 75332: expected 11 fields, saw 13\\nSkipping line 75344: expected 11 fields, saw 12\\nSkipping line 75345: expected 11 fields, saw 12\\nSkipping line 75348: expected 11 fields, saw 13\\nSkipping line 75358: expected 11 fields, saw 16\\nSkipping line 75359: expected 11 fields, saw 15\\nSkipping line 75360: expected 11 fields, saw 16\\nSkipping line 75361: expected 11 fields, saw 16\\nSkipping line 75373: expected 11 fields, saw 15\\nSkipping line 75384: expected 11 fields, saw 15\\nSkipping line 75398: expected 11 fields, saw 14\\nSkipping line 75408: expected 11 fields, saw 15\\nSkipping line 75434: expected 11 fields, saw 12\\nSkipping line 75466: expected 11 fields, saw 12\\nSkipping line 75474: expected 11 fields, saw 12\\nSkipping line 75475: expected 11 fields, saw 12\\nSkipping line 75476: expected 11 fields, saw 12\\nSkipping line 75477: expected 11 fields, saw 12\\nSkipping line 75478: expected 11 fields, saw 12\\nSkipping line 75479: expected 11 fields, saw 12\\nSkipping line 75480: expected 11 fields, saw 12\\nSkipping line 75491: expected 11 fields, saw 13\\nSkipping line 75518: expected 11 fields, saw 12\\nSkipping line 75545: expected 11 fields, saw 14\\nSkipping line 75546: expected 11 fields, saw 14\\nSkipping line 75583: expected 11 fields, saw 12\\nSkipping line 75584: expected 11 fields, saw 12\\nSkipping line 75605: expected 11 fields, saw 14\\nSkipping line 75606: expected 11 fields, saw 14\\nSkipping line 75609: expected 11 fields, saw 12\\nSkipping line 75625: expected 11 fields, saw 13\\nSkipping line 75638: expected 11 fields, saw 12\\nSkipping line 75662: expected 11 fields, saw 12\\nSkipping line 75669: expected 11 fields, saw 13\\nSkipping line 75693: expected 11 fields, saw 12\\nSkipping line 75694: expected 11 fields, saw 12\\nSkipping line 75696: expected 11 fields, saw 14\\nSkipping line 75697: expected 11 fields, saw 14\\nSkipping line 75735: expected 11 fields, saw 13\\nSkipping line 75746: expected 11 fields, saw 13\\nSkipping line 75763: expected 11 fields, saw 12\\nSkipping line 75769: expected 11 fields, saw 15\\nSkipping line 75783: expected 11 fields, saw 12\\nSkipping line 75787: expected 11 fields, saw 12\\nSkipping line 75802: expected 11 fields, saw 12\\nSkipping line 75838: expected 11 fields, saw 15\\nSkipping line 75839: expected 11 fields, saw 13\\nSkipping line 75840: expected 11 fields, saw 13\\nSkipping line 75863: expected 11 fields, saw 12\\nSkipping line 75950: expected 11 fields, saw 12\\nSkipping line 75951: expected 11 fields, saw 13\\nSkipping line 75952: expected 11 fields, saw 13\\nSkipping line 75971: expected 11 fields, saw 16\\nSkipping line 76021: expected 11 fields, saw 13\\nSkipping line 76046: expected 11 fields, saw 12\\nSkipping line 76051: expected 11 fields, saw 12\\nSkipping line 76064: expected 11 fields, saw 12\\nSkipping line 76092: expected 11 fields, saw 12\\nSkipping line 76093: expected 11 fields, saw 13\\nSkipping line 76309: expected 11 fields, saw 14\\nSkipping line 76330: expected 11 fields, saw 12\\nSkipping line 76369: expected 11 fields, saw 12\\nSkipping line 76425: expected 11 fields, saw 12\\nSkipping line 76439: expected 11 fields, saw 14\\nSkipping line 76440: expected 11 fields, saw 14\\nSkipping line 76441: expected 11 fields, saw 15\\nSkipping line 76448: expected 11 fields, saw 12\\nSkipping line 76464: expected 11 fields, saw 13\\nSkipping line 76466: expected 11 fields, saw 12\\nSkipping line 76477: expected 11 fields, saw 12\\nSkipping line 76482: expected 11 fields, saw 15\\nSkipping line 76491: expected 11 fields, saw 12\\nSkipping line 76511: expected 11 fields, saw 13\\nSkipping line 76512: expected 11 fields, saw 12\\nSkipping line 76531: expected 11 fields, saw 12\\nSkipping line 76542: expected 11 fields, saw 12\\nSkipping line 76582: expected 11 fields, saw 12\\nSkipping line 76593: expected 11 fields, saw 12\\nSkipping line 76598: expected 11 fields, saw 12\\nSkipping line 76599: expected 11 fields, saw 12\\nSkipping line 76608: expected 11 fields, saw 12\\nSkipping line 76622: expected 11 fields, saw 13\\nSkipping line 76629: expected 11 fields, saw 12\\nSkipping line 76632: expected 11 fields, saw 12\\nSkipping line 76653: expected 11 fields, saw 14\\nSkipping line 76666: expected 11 fields, saw 12\\nSkipping line 76670: expected 11 fields, saw 13\\nSkipping line 76673: expected 11 fields, saw 15\\nSkipping line 76683: expected 11 fields, saw 13\\nSkipping line 76684: expected 11 fields, saw 13\\nSkipping line 76694: expected 11 fields, saw 12\\nSkipping line 76699: expected 11 fields, saw 13\\nSkipping line 76711: expected 11 fields, saw 13\\nSkipping line 76840: expected 11 fields, saw 14\\nSkipping line 76863: expected 11 fields, saw 12\\nSkipping line 76864: expected 11 fields, saw 12\\nSkipping line 76894: expected 11 fields, saw 12\\nSkipping line 76920: expected 11 fields, saw 12\\nSkipping line 76921: expected 11 fields, saw 12\\nSkipping line 76936: expected 11 fields, saw 13\\nSkipping line 76937: expected 11 fields, saw 12\\nSkipping line 76954: expected 11 fields, saw 12\\nSkipping line 76955: expected 11 fields, saw 12\\nSkipping line 76960: expected 11 fields, saw 12\\nSkipping line 76961: expected 11 fields, saw 12\\nSkipping line 76993: expected 11 fields, saw 14\\nSkipping line 76998: expected 11 fields, saw 16\\nSkipping line 77017: expected 11 fields, saw 13\\nSkipping line 77026: expected 11 fields, saw 15\\nSkipping line 77044: expected 11 fields, saw 13\\nSkipping line 77045: expected 11 fields, saw 13\\nSkipping line 77046: expected 11 fields, saw 12\\nSkipping line 77047: expected 11 fields, saw 14\\nSkipping line 77056: expected 11 fields, saw 13\\nSkipping line 77076: expected 11 fields, saw 13\\nSkipping line 77081: expected 11 fields, saw 13\\nSkipping line 77096: expected 11 fields, saw 12\\nSkipping line 77101: expected 11 fields, saw 13\\nSkipping line 77164: expected 11 fields, saw 14\\nSkipping line 77165: expected 11 fields, saw 14\\nSkipping line 77166: expected 11 fields, saw 12\\nSkipping line 77167: expected 11 fields, saw 12\\nSkipping line 77169: expected 11 fields, saw 16\\nSkipping line 77223: expected 11 fields, saw 12\\nSkipping line 77226: expected 11 fields, saw 13\\nSkipping line 77249: expected 11 fields, saw 13\\nSkipping line 77250: expected 11 fields, saw 13\\nSkipping line 77264: expected 11 fields, saw 12\\nSkipping line 77265: expected 11 fields, saw 12\\nSkipping line 77281: expected 11 fields, saw 13\\nSkipping line 77338: expected 11 fields, saw 13\\nSkipping line 77350: expected 11 fields, saw 12\\nSkipping line 77415: expected 11 fields, saw 12\\nSkipping line 77426: expected 11 fields, saw 12\\nSkipping line 77427: expected 11 fields, saw 12\\nSkipping line 77452: expected 11 fields, saw 12\\nSkipping line 77458: expected 11 fields, saw 13\\nSkipping line 77459: expected 11 fields, saw 13\\nSkipping line 77461: expected 11 fields, saw 12\\nSkipping line 77462: expected 11 fields, saw 12\\nSkipping line 77463: expected 11 fields, saw 12\\nSkipping line 77464: expected 11 fields, saw 12\\nSkipping line 77465: expected 11 fields, saw 12\\nSkipping line 77523: expected 11 fields, saw 12\\nSkipping line 77526: expected 11 fields, saw 13\\nSkipping line 77543: expected 11 fields, saw 12\\nSkipping line 77547: expected 11 fields, saw 12\\nSkipping line 77588: expected 11 fields, saw 12\\nSkipping line 77594: expected 11 fields, saw 12\\nSkipping line 77595: expected 11 fields, saw 12\\nSkipping line 77637: expected 11 fields, saw 14\\nSkipping line 77639: expected 11 fields, saw 12\\nSkipping line 77650: expected 11 fields, saw 12\\nSkipping line 77690: expected 11 fields, saw 13\\nSkipping line 77695: expected 11 fields, saw 13\\nSkipping line 77696: expected 11 fields, saw 12\\nSkipping line 77697: expected 11 fields, saw 12\\nSkipping line 77715: expected 11 fields, saw 12\\nSkipping line 77716: expected 11 fields, saw 12\\nSkipping line 77717: expected 11 fields, saw 12\\nSkipping line 77720: expected 11 fields, saw 14\\nSkipping line 77724: expected 11 fields, saw 12\\nSkipping line 77727: expected 11 fields, saw 12\\nSkipping line 77738: expected 11 fields, saw 15\\nSkipping line 77739: expected 11 fields, saw 15\\nSkipping line 77740: expected 11 fields, saw 12\\nSkipping line 77741: expected 11 fields, saw 15\\nSkipping line 77748: expected 11 fields, saw 14\\nSkipping line 77752: expected 11 fields, saw 12\\nSkipping line 77754: expected 11 fields, saw 12\\nSkipping line 77766: expected 11 fields, saw 12\\nSkipping line 77776: expected 11 fields, saw 12\\nSkipping line 77777: expected 11 fields, saw 12\\nSkipping line 77778: expected 11 fields, saw 12\\nSkipping line 77795: expected 11 fields, saw 14\\nSkipping line 77832: expected 11 fields, saw 13\\nSkipping line 77855: expected 11 fields, saw 14\\nSkipping line 77856: expected 11 fields, saw 14\\nSkipping line 77857: expected 11 fields, saw 13\\nSkipping line 77862: expected 11 fields, saw 13\\nSkipping line 77863: expected 11 fields, saw 13\\nSkipping line 77864: expected 11 fields, saw 13\\nSkipping line 77871: expected 11 fields, saw 12\\nSkipping line 77894: expected 11 fields, saw 15\\nSkipping line 77928: expected 11 fields, saw 12\\nSkipping line 77933: expected 11 fields, saw 12\\nSkipping line 77934: expected 11 fields, saw 12\\nSkipping line 77940: expected 11 fields, saw 16\\nSkipping line 77944: expected 11 fields, saw 14\\nSkipping line 77946: expected 11 fields, saw 12\\nSkipping line 77947: expected 11 fields, saw 12\\nSkipping line 77953: expected 11 fields, saw 13\\nSkipping line 77967: expected 11 fields, saw 13\\nSkipping line 77978: expected 11 fields, saw 14\\nSkipping line 77979: expected 11 fields, saw 14\\nSkipping line 77986: expected 11 fields, saw 15\\nSkipping line 77997: expected 11 fields, saw 12\\nSkipping line 78347: expected 11 fields, saw 12\\nSkipping line 78497: expected 11 fields, saw 17\\nSkipping line 78529: expected 11 fields, saw 13\\nSkipping line 78530: expected 11 fields, saw 13\\nSkipping line 78554: expected 11 fields, saw 12\\nSkipping line 78584: expected 11 fields, saw 12\\nSkipping line 78894: expected 11 fields, saw 13\\nSkipping line 78895: expected 11 fields, saw 12\\nSkipping line 78896: expected 11 fields, saw 12\\nSkipping line 79164: expected 11 fields, saw 12\\nSkipping line 79183: expected 11 fields, saw 12\\nSkipping line 79184: expected 11 fields, saw 12\\nSkipping line 79313: expected 11 fields, saw 13\\nSkipping line 79314: expected 11 fields, saw 13\\nSkipping line 79365: expected 11 fields, saw 13\\nSkipping line 79366: expected 11 fields, saw 13\\nSkipping line 79377: expected 11 fields, saw 15\\nSkipping line 79421: expected 11 fields, saw 12\\nSkipping line 79424: expected 11 fields, saw 13\\nSkipping line 79425: expected 11 fields, saw 13\\nSkipping line 79429: expected 11 fields, saw 12\\nSkipping line 79435: expected 11 fields, saw 12\\nSkipping line 79436: expected 11 fields, saw 12\\nSkipping line 79471: expected 11 fields, saw 12\\nSkipping line 79472: expected 11 fields, saw 12\\nSkipping line 79484: expected 11 fields, saw 12\\nSkipping line 79485: expected 11 fields, saw 12\\nSkipping line 79491: expected 11 fields, saw 13\\nSkipping line 79492: expected 11 fields, saw 12\\nSkipping line 79522: expected 11 fields, saw 13\\nSkipping line 79549: expected 11 fields, saw 12\\nSkipping line 79552: expected 11 fields, saw 12\\nSkipping line 79576: expected 11 fields, saw 13\\nSkipping line 79581: expected 11 fields, saw 14\\nSkipping line 79592: expected 11 fields, saw 14\\n'\n"
          ],
          "name": "stderr"
        }
      ]
    },
    {
      "cell_type": "code",
      "metadata": {
        "id": "nOF8K7PtjJsZ",
        "outputId": "5477ba5d-6864-4b5c-c165-7230eecb88f6",
        "colab": {
          "base_uri": "https://localhost:8080/",
          "height": 521
        }
      },
      "source": [
        "df_books_data"
      ],
      "execution_count": 46,
      "outputs": [
        {
          "output_type": "execute_result",
          "data": {
            "text/html": [
              "<div>\n",
              "<style scoped>\n",
              "    .dataframe tbody tr th:only-of-type {\n",
              "        vertical-align: middle;\n",
              "    }\n",
              "\n",
              "    .dataframe tbody tr th {\n",
              "        vertical-align: top;\n",
              "    }\n",
              "\n",
              "    .dataframe thead th {\n",
              "        text-align: right;\n",
              "    }\n",
              "</style>\n",
              "<table border=\"1\" class=\"dataframe\">\n",
              "  <thead>\n",
              "    <tr style=\"text-align: right;\">\n",
              "      <th></th>\n",
              "      <th>id</th>\n",
              "      <th>title</th>\n",
              "      <th>author</th>\n",
              "      <th>pub</th>\n",
              "      <th>date</th>\n",
              "      <th>price</th>\n",
              "      <th>review</th>\n",
              "      <th>rating</th>\n",
              "      <th>story</th>\n",
              "      <th>img</th>\n",
              "      <th>genre</th>\n",
              "    </tr>\n",
              "  </thead>\n",
              "  <tbody>\n",
              "    <tr>\n",
              "      <th>0</th>\n",
              "      <td>1</td>\n",
              "      <td>요리코를 위해</td>\n",
              "      <td>노리즈키 린타로</td>\n",
              "      <td>모모</td>\n",
              "      <td>2020.03</td>\n",
              "      <td>13500</td>\n",
              "      <td>43</td>\n",
              "      <td>9.2</td>\n",
              "      <td>스스로 악마이자 신이 되어 딸을 살해한 남자를 심판한 아버지.비극의 출발이자 마지막...</td>\n",
              "      <td>http://image.yes24.com/goods/89392792/L</td>\n",
              "      <td>추리/미스터리</td>\n",
              "    </tr>\n",
              "    <tr>\n",
              "      <th>1</th>\n",
              "      <td>2</td>\n",
              "      <td>그녀는 다 계획이 있다</td>\n",
              "      <td>히가시노 게이고</td>\n",
              "      <td>하빌리스</td>\n",
              "      <td>2021.02</td>\n",
              "      <td>14220</td>\n",
              "      <td>13</td>\n",
              "      <td>9.4</td>\n",
              "      <td>하나야 보석점 살인사건을 둘러싼 과거와 미래의 사건경쾌하고 리듬감 있는 터치의 히가...</td>\n",
              "      <td>http://image.yes24.com/goods/97561319/L</td>\n",
              "      <td>추리/미스터리</td>\n",
              "    </tr>\n",
              "    <tr>\n",
              "      <th>2</th>\n",
              "      <td>3</td>\n",
              "      <td>블랙 쇼맨과 이름 없는 마을의 살인</td>\n",
              "      <td>히가시노 게이고</td>\n",
              "      <td>알에이치코리아(RHK)</td>\n",
              "      <td>2020.11</td>\n",
              "      <td>16200</td>\n",
              "      <td>54</td>\n",
              "      <td>9.1</td>\n",
              "      <td>아버지가 살해당했다, 그것도 결혼 소식을 알린 직후에. 행복하다고 느끼는 순간, 비...</td>\n",
              "      <td>http://image.yes24.com/goods/95712763/L</td>\n",
              "      <td>추리/미스터리</td>\n",
              "    </tr>\n",
              "    <tr>\n",
              "      <th>3</th>\n",
              "      <td>4</td>\n",
              "      <td>돌이킬 수 없는 약속</td>\n",
              "      <td>야쿠마루 가쿠</td>\n",
              "      <td>북플라자</td>\n",
              "      <td>2017.02</td>\n",
              "      <td>13500</td>\n",
              "      <td>217</td>\n",
              "      <td>8.2</td>\n",
              "      <td>제51회 에드가와란포상 수상 작가 야쿠마루 가쿠의 미스터리 추리 소설. \"내 딸을 ...</td>\n",
              "      <td>http://image.yes24.com/goods/35552641/L</td>\n",
              "      <td>추리/미스터리</td>\n",
              "    </tr>\n",
              "    <tr>\n",
              "      <th>4</th>\n",
              "      <td>5</td>\n",
              "      <td>루팡의 딸</td>\n",
              "      <td>요코제키 다이</td>\n",
              "      <td>북플라자</td>\n",
              "      <td>2019.09</td>\n",
              "      <td>13500</td>\n",
              "      <td>31</td>\n",
              "      <td>8.5</td>\n",
              "      <td>도둑 집안의 대부가 변사체로 발견되었다!도둑 집안의 대부 이와오에게는 하나코라는 손...</td>\n",
              "      <td>http://image.yes24.com/goods/78860364/L</td>\n",
              "      <td>추리/미스터리</td>\n",
              "    </tr>\n",
              "    <tr>\n",
              "      <th>...</th>\n",
              "      <td>...</td>\n",
              "      <td>...</td>\n",
              "      <td>...</td>\n",
              "      <td>...</td>\n",
              "      <td>...</td>\n",
              "      <td>...</td>\n",
              "      <td>...</td>\n",
              "      <td>...</td>\n",
              "      <td>...</td>\n",
              "      <td>...</td>\n",
              "      <td>...</td>\n",
              "    </tr>\n",
              "    <tr>\n",
              "      <th>79770</th>\n",
              "      <td>79771</td>\n",
              "      <td>하루만 사랑해 2</td>\n",
              "      <td></td>\n",
              "      <td>파피루스(디앤씨미디어)</td>\n",
              "      <td>2003.06</td>\n",
              "      <td>8100</td>\n",
              "      <td>0</td>\n",
              "      <td>0.0</td>\n",
              "      <td>어느 날 서원은 횡단보도에서 교통사고를 당한다. 상대는 인천상고 짱인 노란머 민하루...</td>\n",
              "      <td>http://image.yes24.com/goods/375484/L</td>\n",
              "      <td>로맨스</td>\n",
              "    </tr>\n",
              "    <tr>\n",
              "      <th>79771</th>\n",
              "      <td>79772</td>\n",
              "      <td>서울 여자와 대구 남자가 만날 때</td>\n",
              "      <td>정민</td>\n",
              "      <td>영상노트</td>\n",
              "      <td>2003.06</td>\n",
              "      <td>8100</td>\n",
              "      <td>0</td>\n",
              "      <td>0.0</td>\n",
              "      <td></td>\n",
              "      <td>http://image.yes24.com/goods/376458/L</td>\n",
              "      <td>로맨스</td>\n",
              "    </tr>\n",
              "    <tr>\n",
              "      <th>79772</th>\n",
              "      <td>79773</td>\n",
              "      <td>kiss me...</td>\n",
              "      <td></td>\n",
              "      <td>현무</td>\n",
              "      <td>2003.06</td>\n",
              "      <td>7200</td>\n",
              "      <td>2</td>\n",
              "      <td>5.0</td>\n",
              "      <td></td>\n",
              "      <td>http://image.yes24.com/goods/377351/L</td>\n",
              "      <td>로맨스</td>\n",
              "    </tr>\n",
              "    <tr>\n",
              "      <th>79773</th>\n",
              "      <td>79774</td>\n",
              "      <td>어린 엄마 2</td>\n",
              "      <td>임은희</td>\n",
              "      <td>반디출판사</td>\n",
              "      <td>2003.07</td>\n",
              "      <td>8100</td>\n",
              "      <td>0</td>\n",
              "      <td>0.0</td>\n",
              "      <td></td>\n",
              "      <td>http://image.yes24.com/goods/377607/L</td>\n",
              "      <td>로맨스</td>\n",
              "    </tr>\n",
              "    <tr>\n",
              "      <th>79774</th>\n",
              "      <td>79775</td>\n",
              "      <td>어린 엄마 1</td>\n",
              "      <td>임은희</td>\n",
              "      <td>반디출판사</td>\n",
              "      <td>2003.07</td>\n",
              "      <td>8100</td>\n",
              "      <td>0</td>\n",
              "      <td>0.0</td>\n",
              "      <td></td>\n",
              "      <td>http://image.yes24.com/goods/377608/L</td>\n",
              "      <td>로맨스</td>\n",
              "    </tr>\n",
              "  </tbody>\n",
              "</table>\n",
              "<p>79775 rows × 11 columns</p>\n",
              "</div>"
            ],
            "text/plain": [
              "          id  ...    genre\n",
              "0          1  ...  추리/미스터리\n",
              "1          2  ...  추리/미스터리\n",
              "2          3  ...  추리/미스터리\n",
              "3          4  ...  추리/미스터리\n",
              "4          5  ...  추리/미스터리\n",
              "...      ...  ...      ...\n",
              "79770  79771  ...      로맨스\n",
              "79771  79772  ...      로맨스\n",
              "79772  79773  ...      로맨스\n",
              "79773  79774  ...      로맨스\n",
              "79774  79775  ...      로맨스\n",
              "\n",
              "[79775 rows x 11 columns]"
            ]
          },
          "metadata": {
            "tags": []
          },
          "execution_count": 46
        }
      ]
    },
    {
      "cell_type": "code",
      "metadata": {
        "id": "3_VI1dannCD8",
        "outputId": "066a4f45-f697-44ae-d91e-272e2ae802d6",
        "colab": {
          "base_uri": "https://localhost:8080/",
          "height": 419
        }
      },
      "source": [
        "# 장르와 타이틀 값을 이용한 books_df 제작\n",
        "\n",
        "df = pd.DataFrame(df_books_data['title'], columns=['title'])\n",
        "df1 = pd.DataFrame(df_books_data['genre'], columns=['genres'])\n",
        "books_df = pd.concat([df,df1],axis=1)\n",
        "\n",
        "books_df"
      ],
      "execution_count": 55,
      "outputs": [
        {
          "output_type": "execute_result",
          "data": {
            "text/html": [
              "<div>\n",
              "<style scoped>\n",
              "    .dataframe tbody tr th:only-of-type {\n",
              "        vertical-align: middle;\n",
              "    }\n",
              "\n",
              "    .dataframe tbody tr th {\n",
              "        vertical-align: top;\n",
              "    }\n",
              "\n",
              "    .dataframe thead th {\n",
              "        text-align: right;\n",
              "    }\n",
              "</style>\n",
              "<table border=\"1\" class=\"dataframe\">\n",
              "  <thead>\n",
              "    <tr style=\"text-align: right;\">\n",
              "      <th></th>\n",
              "      <th>title</th>\n",
              "      <th>genres</th>\n",
              "    </tr>\n",
              "  </thead>\n",
              "  <tbody>\n",
              "    <tr>\n",
              "      <th>0</th>\n",
              "      <td>요리코를 위해</td>\n",
              "      <td>NaN</td>\n",
              "    </tr>\n",
              "    <tr>\n",
              "      <th>1</th>\n",
              "      <td>그녀는 다 계획이 있다</td>\n",
              "      <td>NaN</td>\n",
              "    </tr>\n",
              "    <tr>\n",
              "      <th>2</th>\n",
              "      <td>블랙 쇼맨과 이름 없는 마을의 살인</td>\n",
              "      <td>NaN</td>\n",
              "    </tr>\n",
              "    <tr>\n",
              "      <th>3</th>\n",
              "      <td>돌이킬 수 없는 약속</td>\n",
              "      <td>NaN</td>\n",
              "    </tr>\n",
              "    <tr>\n",
              "      <th>4</th>\n",
              "      <td>루팡의 딸</td>\n",
              "      <td>NaN</td>\n",
              "    </tr>\n",
              "    <tr>\n",
              "      <th>...</th>\n",
              "      <td>...</td>\n",
              "      <td>...</td>\n",
              "    </tr>\n",
              "    <tr>\n",
              "      <th>79770</th>\n",
              "      <td>하루만 사랑해 2</td>\n",
              "      <td>NaN</td>\n",
              "    </tr>\n",
              "    <tr>\n",
              "      <th>79771</th>\n",
              "      <td>서울 여자와 대구 남자가 만날 때</td>\n",
              "      <td>NaN</td>\n",
              "    </tr>\n",
              "    <tr>\n",
              "      <th>79772</th>\n",
              "      <td>kiss me...</td>\n",
              "      <td>NaN</td>\n",
              "    </tr>\n",
              "    <tr>\n",
              "      <th>79773</th>\n",
              "      <td>어린 엄마 2</td>\n",
              "      <td>NaN</td>\n",
              "    </tr>\n",
              "    <tr>\n",
              "      <th>79774</th>\n",
              "      <td>어린 엄마 1</td>\n",
              "      <td>NaN</td>\n",
              "    </tr>\n",
              "  </tbody>\n",
              "</table>\n",
              "<p>79775 rows × 2 columns</p>\n",
              "</div>"
            ],
            "text/plain": [
              "                     title genres\n",
              "0                  요리코를 위해    NaN\n",
              "1             그녀는 다 계획이 있다    NaN\n",
              "2      블랙 쇼맨과 이름 없는 마을의 살인    NaN\n",
              "3              돌이킬 수 없는 약속    NaN\n",
              "4                    루팡의 딸    NaN\n",
              "...                    ...    ...\n",
              "79770            하루만 사랑해 2    NaN\n",
              "79771   서울 여자와 대구 남자가 만날 때    NaN\n",
              "79772           kiss me...    NaN\n",
              "79773              어린 엄마 2    NaN\n",
              "79774              어린 엄마 1    NaN\n",
              "\n",
              "[79775 rows x 2 columns]"
            ]
          },
          "metadata": {
            "tags": []
          },
          "execution_count": 55
        }
      ]
    },
    {
      "cell_type": "code",
      "metadata": {
        "id": "9gD0dJoUpF1h"
      },
      "source": [
        ""
      ],
      "execution_count": 53,
      "outputs": []
    },
    {
      "cell_type": "code",
      "metadata": {
        "id": "eX4rPPIDtIYi"
      },
      "source": [
        ""
      ],
      "execution_count": 53,
      "outputs": []
    },
    {
      "cell_type": "code",
      "metadata": {
        "id": "IlRSm-_biGr3",
        "outputId": "b374b2a6-9c48-498b-904e-646169175f87",
        "colab": {
          "base_uri": "https://localhost:8080/",
          "height": 419
        }
      },
      "source": [
        ""
      ],
      "execution_count": 53,
      "outputs": [
        {
          "output_type": "execute_result",
          "data": {
            "text/html": [
              "<div>\n",
              "<style scoped>\n",
              "    .dataframe tbody tr th:only-of-type {\n",
              "        vertical-align: middle;\n",
              "    }\n",
              "\n",
              "    .dataframe tbody tr th {\n",
              "        vertical-align: top;\n",
              "    }\n",
              "\n",
              "    .dataframe thead th {\n",
              "        text-align: right;\n",
              "    }\n",
              "</style>\n",
              "<table border=\"1\" class=\"dataframe\">\n",
              "  <thead>\n",
              "    <tr style=\"text-align: right;\">\n",
              "      <th></th>\n",
              "      <th>title</th>\n",
              "      <th>genre</th>\n",
              "    </tr>\n",
              "  </thead>\n",
              "  <tbody>\n",
              "    <tr>\n",
              "      <th>0</th>\n",
              "      <td>요리코를 위해</td>\n",
              "      <td>추리/미스터리</td>\n",
              "    </tr>\n",
              "    <tr>\n",
              "      <th>1</th>\n",
              "      <td>그녀는 다 계획이 있다</td>\n",
              "      <td>추리/미스터리</td>\n",
              "    </tr>\n",
              "    <tr>\n",
              "      <th>2</th>\n",
              "      <td>블랙 쇼맨과 이름 없는 마을의 살인</td>\n",
              "      <td>추리/미스터리</td>\n",
              "    </tr>\n",
              "    <tr>\n",
              "      <th>3</th>\n",
              "      <td>돌이킬 수 없는 약속</td>\n",
              "      <td>추리/미스터리</td>\n",
              "    </tr>\n",
              "    <tr>\n",
              "      <th>4</th>\n",
              "      <td>루팡의 딸</td>\n",
              "      <td>추리/미스터리</td>\n",
              "    </tr>\n",
              "    <tr>\n",
              "      <th>...</th>\n",
              "      <td>...</td>\n",
              "      <td>...</td>\n",
              "    </tr>\n",
              "    <tr>\n",
              "      <th>79770</th>\n",
              "      <td>하루만 사랑해 2</td>\n",
              "      <td>로맨스</td>\n",
              "    </tr>\n",
              "    <tr>\n",
              "      <th>79771</th>\n",
              "      <td>서울 여자와 대구 남자가 만날 때</td>\n",
              "      <td>로맨스</td>\n",
              "    </tr>\n",
              "    <tr>\n",
              "      <th>79772</th>\n",
              "      <td>kiss me...</td>\n",
              "      <td>로맨스</td>\n",
              "    </tr>\n",
              "    <tr>\n",
              "      <th>79773</th>\n",
              "      <td>어린 엄마 2</td>\n",
              "      <td>로맨스</td>\n",
              "    </tr>\n",
              "    <tr>\n",
              "      <th>79774</th>\n",
              "      <td>어린 엄마 1</td>\n",
              "      <td>로맨스</td>\n",
              "    </tr>\n",
              "  </tbody>\n",
              "</table>\n",
              "<p>79775 rows × 2 columns</p>\n",
              "</div>"
            ],
            "text/plain": [
              "                     title    genre\n",
              "0                  요리코를 위해  추리/미스터리\n",
              "1             그녀는 다 계획이 있다  추리/미스터리\n",
              "2      블랙 쇼맨과 이름 없는 마을의 살인  추리/미스터리\n",
              "3              돌이킬 수 없는 약속  추리/미스터리\n",
              "4                    루팡의 딸  추리/미스터리\n",
              "...                    ...      ...\n",
              "79770            하루만 사랑해 2      로맨스\n",
              "79771   서울 여자와 대구 남자가 만날 때      로맨스\n",
              "79772           kiss me...      로맨스\n",
              "79773              어린 엄마 2      로맨스\n",
              "79774              어린 엄마 1      로맨스\n",
              "\n",
              "[79775 rows x 2 columns]"
            ]
          },
          "metadata": {
            "tags": []
          },
          "execution_count": 53
        }
      ]
    },
    {
      "cell_type": "code",
      "metadata": {
        "id": "QWXuqBIZqxvy",
        "outputId": "7d25dc52-ade8-473a-fdc3-7a5e70e14b9b",
        "colab": {
          "base_uri": "https://localhost:8080/"
        }
      },
      "source": [
        "df_books_data['genre'].values"
      ],
      "execution_count": 24,
      "outputs": [
        {
          "output_type": "execute_result",
          "data": {
            "text/plain": [
              "array(['추리/미스터리', '추리/미스터리', '추리/미스터리', ..., '로맨스', '로맨스', '로맨스'],\n",
              "      dtype=object)"
            ]
          },
          "metadata": {
            "tags": []
          },
          "execution_count": 24
        }
      ]
    },
    {
      "cell_type": "code",
      "metadata": {
        "id": "92HFAg1uXYgQ"
      },
      "source": [
        "#스토리의 키워드를 뽑기위해 명사와 형용사만 가져오자\n",
        "story_words = df_books_data['story'].to_numpy()\n",
        "for i, document in enumerate(story_words):\n",
        "    okt = konlpy.tag.Okt()\n",
        "    clean_words = []\n",
        "    for word in okt.pos(document, stem = True): #어간 뽑자\n",
        "        if word[1] in ['Noun', 'Adjective']: #명사, 형용사만 가져와\n",
        "            clean_words.append(word[0])\n",
        "    #print(clean_words)\n",
        "    document = ' '.join(clean_words)\n",
        "    #print(document)\n",
        "    story_words[i] = document"
      ],
      "execution_count": null,
      "outputs": []
    },
    {
      "cell_type": "code",
      "metadata": {
        "id": "reE0wf7Beply"
      },
      "source": [
        ""
      ],
      "execution_count": null,
      "outputs": []
    },
    {
      "cell_type": "code",
      "metadata": {
        "id": "k6pBryMlZzK6"
      },
      "source": [
        "#넘파이 배열 데이터프레임 화\n",
        "df_story_words=pd.DataFrame(story_words,\n",
        "            columns = ['story_words'])"
      ],
      "execution_count": null,
      "outputs": []
    },
    {
      "cell_type": "code",
      "metadata": {
        "id": "C_KKVydvZ7Pf"
      },
      "source": [
        "df_books = pd.concat([df_books_data, df_story_words], axis = 1)"
      ],
      "execution_count": null,
      "outputs": []
    },
    {
      "cell_type": "code",
      "metadata": {
        "id": "ukM_jzE-QkuT"
      },
      "source": [
        "df_books.columns"
      ],
      "execution_count": null,
      "outputs": []
    },
    {
      "cell_type": "code",
      "metadata": {
        "id": "R7A8y1dgQk3i"
      },
      "source": [
        "#날짜, 아이디 날리고\n",
        "df_books = df_books.drop(['id','date'],axis = 1)"
      ],
      "execution_count": null,
      "outputs": []
    },
    {
      "cell_type": "code",
      "metadata": {
        "id": "Y46VsC-MQnJo"
      },
      "source": [
        "#혹시모를 중복 제거하자\n",
        "df_books = df_books.drop_duplicates(['title'])"
      ],
      "execution_count": null,
      "outputs": []
    },
    {
      "cell_type": "code",
      "metadata": {
        "id": "T9rvVHryQqXc"
      },
      "source": [
        "df_books.tail()"
      ],
      "execution_count": null,
      "outputs": []
    },
    {
      "cell_type": "code",
      "metadata": {
        "id": "F-LvbWEGq5lq"
      },
      "source": [
        "df_books = df_books.dropna(axis=0)"
      ],
      "execution_count": null,
      "outputs": []
    },
    {
      "cell_type": "code",
      "metadata": {
        "id": "u9kft93LrQ5F"
      },
      "source": [
        "df_books"
      ],
      "execution_count": null,
      "outputs": []
    },
    {
      "cell_type": "code",
      "metadata": {
        "id": "URdr-52irdFH"
      },
      "source": [
        "from math import log # IDF 계산을 위해"
      ],
      "execution_count": null,
      "outputs": []
    },
    {
      "cell_type": "code",
      "metadata": {
        "id": "LT7vmx8i1T2u"
      },
      "source": [
        "docs = df_books['genre'] \n",
        "vocab = list(set(w for doc in docs for w in doc.split()))\n",
        "vocab.sort()"
      ],
      "execution_count": null,
      "outputs": []
    },
    {
      "cell_type": "code",
      "metadata": {
        "id": "jYzBGGtM7Uf9"
      },
      "source": [
        "docs."
      ],
      "execution_count": null,
      "outputs": []
    },
    {
      "cell_type": "code",
      "metadata": {
        "id": "PzGTYIWO2Dzh"
      },
      "source": [
        "N = len(docs) # 총 문서의 수\n",
        "\n",
        "def tf(t, d):\n",
        "    return d.count(t)\n",
        "\n",
        "def idf(t):\n",
        "    df = 0\n",
        "    for doc in docs:\n",
        "        df += t in doc\n",
        "    return log(N/(df + 1))\n",
        "\n",
        "def tfidf(t, d):\n",
        "    return tf(t,d)* idf(t)"
      ],
      "execution_count": null,
      "outputs": []
    },
    {
      "cell_type": "code",
      "metadata": {
        "id": "H_2jSLov2IwC"
      },
      "source": [
        "result = []\n",
        "for i in range(N): # 각 문서에 대해서 아래 명령을 수행\n",
        "    result.append([])\n",
        "    d = docs[i]\n",
        "    for j in range(len(vocab)):\n",
        "        t = vocab[j]        \n",
        "        result[-1].append(tf(t, d))\n",
        "\n",
        "tf_ = pd.DataFrame(result, columns = vocab)\n",
        "tf_"
      ],
      "execution_count": null,
      "outputs": []
    },
    {
      "cell_type": "code",
      "metadata": {
        "id": "-4wLiYY14tiZ"
      },
      "source": [
        "result = []\n",
        "for j in range(len(vocab)):\n",
        "    t = vocab[j]\n",
        "    result.append(idf(t))\n",
        "\n",
        "idf_ = pd.DataFrame(result, index = vocab, columns = [\"IDF\"])\n",
        "idf_"
      ],
      "execution_count": null,
      "outputs": []
    },
    {
      "cell_type": "code",
      "metadata": {
        "id": "qex6x6224xSP"
      },
      "source": [
        "result = []\n",
        "for i in range(N):\n",
        "    result.append([])\n",
        "    d = docs[i]\n",
        "    for j in range(len(vocab)):\n",
        "        t = vocab[j]\n",
        "\n",
        "        result[-1].append(tfidf(t,d))\n",
        "\n",
        "tfidf_ = pd.DataFrame(result, columns = vocab)\n",
        "tfidf_"
      ],
      "execution_count": null,
      "outputs": []
    },
    {
      "cell_type": "markdown",
      "metadata": {
        "id": "YS5f-Gf4Ql_c"
      },
      "source": [
        ""
      ]
    },
    {
      "cell_type": "code",
      "metadata": {
        "id": "gNNCegfsx-zl"
      },
      "source": [
        ""
      ],
      "execution_count": null,
      "outputs": []
    }
  ]
}