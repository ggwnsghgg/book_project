{
  "nbformat": 4,
  "nbformat_minor": 0,
  "metadata": {
    "colab": {
      "name": "책_추천알고리즘_fin.ipynb",
      "provenance": [],
      "collapsed_sections": [],
      "authorship_tag": "ABX9TyNfS0tiTsnoMwnu1CXNf0VD",
      "include_colab_link": true
    },
    "kernelspec": {
      "name": "python3",
      "display_name": "Python 3"
    }
  },
  "cells": [
    {
      "cell_type": "markdown",
      "metadata": {
        "id": "view-in-github",
        "colab_type": "text"
      },
      "source": [
        "<a href=\"https://colab.research.google.com/github/ggwnsghgg/book_project/blob/main/2021%20/%2004%20/%2003%20/%20%EC%9C%A0%EC%82%AC%EB%8F%84%20%EA%B2%80%EC%A6%9D_fin.ipynb\" target=\"_parent\"><img src=\"https://colab.research.google.com/assets/colab-badge.svg\" alt=\"Open In Colab\"/></a>"
      ]
    },
    {
      "cell_type": "markdown",
      "metadata": {
        "id": "OshXu90RJyBj"
      },
      "source": [
        "## 필요한 패키지 install"
      ]
    },
    {
      "cell_type": "code",
      "metadata": {
        "id": "gkDQDSP4AiFn",
        "colab": {
          "base_uri": "https://localhost:8080/"
        },
        "outputId": "72b79625-2a01-40f0-8efa-d16a398a809e"
      },
      "source": [
        "!pip install pymysql\n",
        "\n",
        "\n",
        "# 형태소 기반 토크나이징 (Konlpy)\n",
        "!python3 -m pip install konlpy\n",
        "!bash <(curl -s https://raw.githubusercontent.com/konlpy/konlpy/master/scripts/mecab.sh)\n",
        "\n",
        "\n",
        "\n",
        "#한국어 문장 분리모델\n",
        "!pip install kss\n",
        "\n",
        "\n",
        "!sudo apt-get install curl git\n",
        "!bash <(curl -s https://raw.githubusercontent.com/konlpy/konlpy/master/scripts/mecab.sh)\n",
        "\n",
        "\n",
        "#mecab 코랩서 오류 안나게!\n",
        "!apt-get update\n",
        "!apt-get install g++ openjdk-8-jdk \n",
        "!pip3 install konlpy JPype1-py3\n",
        "!bash <(curl -s https://raw.githubusercontent.com/konlpy/konlpy/master/scripts/mecab.sh)"
      ],
      "execution_count": 3,
      "outputs": [
        {
          "output_type": "stream",
          "text": [
            "Requirement already satisfied: pymysql in /usr/local/lib/python3.7/dist-packages (1.0.2)\n",
            "Requirement already satisfied: konlpy in /usr/local/lib/python3.7/dist-packages (0.5.2)\n",
            "Requirement already satisfied: colorama in /usr/local/lib/python3.7/dist-packages (from konlpy) (0.4.4)\n",
            "Requirement already satisfied: lxml>=4.1.0 in /usr/local/lib/python3.7/dist-packages (from konlpy) (4.2.6)\n",
            "Requirement already satisfied: tweepy>=3.7.0 in /usr/local/lib/python3.7/dist-packages (from konlpy) (3.10.0)\n",
            "Requirement already satisfied: JPype1>=0.7.0 in /usr/local/lib/python3.7/dist-packages (from konlpy) (1.2.1)\n",
            "Requirement already satisfied: beautifulsoup4==4.6.0 in /usr/local/lib/python3.7/dist-packages (from konlpy) (4.6.0)\n",
            "Requirement already satisfied: numpy>=1.6 in /usr/local/lib/python3.7/dist-packages (from konlpy) (1.19.5)\n",
            "Requirement already satisfied: six>=1.10.0 in /usr/local/lib/python3.7/dist-packages (from tweepy>=3.7.0->konlpy) (1.15.0)\n",
            "Requirement already satisfied: requests-oauthlib>=0.7.0 in /usr/local/lib/python3.7/dist-packages (from tweepy>=3.7.0->konlpy) (1.3.0)\n",
            "Requirement already satisfied: requests[socks]>=2.11.1 in /usr/local/lib/python3.7/dist-packages (from tweepy>=3.7.0->konlpy) (2.23.0)\n",
            "Requirement already satisfied: typing-extensions; python_version < \"3.8\" in /usr/local/lib/python3.7/dist-packages (from JPype1>=0.7.0->konlpy) (3.7.4.3)\n",
            "Requirement already satisfied: oauthlib>=3.0.0 in /usr/local/lib/python3.7/dist-packages (from requests-oauthlib>=0.7.0->tweepy>=3.7.0->konlpy) (3.1.0)\n",
            "Requirement already satisfied: chardet<4,>=3.0.2 in /usr/local/lib/python3.7/dist-packages (from requests[socks]>=2.11.1->tweepy>=3.7.0->konlpy) (3.0.4)\n",
            "Requirement already satisfied: certifi>=2017.4.17 in /usr/local/lib/python3.7/dist-packages (from requests[socks]>=2.11.1->tweepy>=3.7.0->konlpy) (2020.12.5)\n",
            "Requirement already satisfied: urllib3!=1.25.0,!=1.25.1,<1.26,>=1.21.1 in /usr/local/lib/python3.7/dist-packages (from requests[socks]>=2.11.1->tweepy>=3.7.0->konlpy) (1.24.3)\n",
            "Requirement already satisfied: idna<3,>=2.5 in /usr/local/lib/python3.7/dist-packages (from requests[socks]>=2.11.1->tweepy>=3.7.0->konlpy) (2.10)\n",
            "Requirement already satisfied: PySocks!=1.5.7,>=1.5.6; extra == \"socks\" in /usr/local/lib/python3.7/dist-packages (from requests[socks]>=2.11.1->tweepy>=3.7.0->konlpy) (1.7.1)\n",
            "mecab-ko is already installed\n",
            "mecab-ko-dic is already installed\n",
            "mecab-python is already installed\n",
            "Done.\n",
            "Requirement already satisfied: kss in /usr/local/lib/python3.7/dist-packages (2.5.0)\n",
            "Reading package lists... Done\n",
            "Building dependency tree       \n",
            "Reading state information... Done\n",
            "curl is already the newest version (7.58.0-2ubuntu3.13).\n",
            "git is already the newest version (1:2.17.1-1ubuntu0.8).\n",
            "0 upgraded, 0 newly installed, 0 to remove and 47 not upgraded.\n",
            "mecab-ko is already installed\n",
            "mecab-ko-dic is already installed\n",
            "mecab-python is already installed\n",
            "Done.\n",
            "Hit:1 https://cloud.r-project.org/bin/linux/ubuntu bionic-cran40/ InRelease\n",
            "Ign:2 https://developer.download.nvidia.com/compute/cuda/repos/ubuntu1804/x86_64  InRelease\n",
            "Get:3 http://security.ubuntu.com/ubuntu bionic-security InRelease [88.7 kB]\n",
            "Hit:4 http://archive.ubuntu.com/ubuntu bionic InRelease\n",
            "Ign:5 https://developer.download.nvidia.com/compute/machine-learning/repos/ubuntu1804/x86_64  InRelease\n",
            "Hit:6 https://developer.download.nvidia.com/compute/cuda/repos/ubuntu1804/x86_64  Release\n",
            "Hit:7 http://ppa.launchpad.net/c2d4u.team/c2d4u4.0+/ubuntu bionic InRelease\n",
            "Hit:8 https://developer.download.nvidia.com/compute/machine-learning/repos/ubuntu1804/x86_64  Release\n",
            "Hit:9 http://archive.ubuntu.com/ubuntu bionic-updates InRelease\n",
            "Hit:10 http://archive.ubuntu.com/ubuntu bionic-backports InRelease\n",
            "Hit:11 http://ppa.launchpad.net/cran/libgit2/ubuntu bionic InRelease\n",
            "Hit:12 http://ppa.launchpad.net/deadsnakes/ppa/ubuntu bionic InRelease\n",
            "Hit:13 http://ppa.launchpad.net/graphics-drivers/ppa/ubuntu bionic InRelease\n",
            "Fetched 88.7 kB in 3s (29.8 kB/s)\n",
            "Reading package lists... Done\n",
            "Reading package lists... Done\n",
            "Building dependency tree       \n",
            "Reading state information... Done\n",
            "g++ is already the newest version (4:7.4.0-1ubuntu2.3).\n",
            "openjdk-8-jdk is already the newest version (8u282-b08-0ubuntu1~18.04).\n",
            "0 upgraded, 0 newly installed, 0 to remove and 47 not upgraded.\n",
            "Requirement already satisfied: konlpy in /usr/local/lib/python3.7/dist-packages (0.5.2)\n",
            "Requirement already satisfied: JPype1-py3 in /usr/local/lib/python3.7/dist-packages (0.5.5.4)\n",
            "Requirement already satisfied: numpy>=1.6 in /usr/local/lib/python3.7/dist-packages (from konlpy) (1.19.5)\n",
            "Requirement already satisfied: beautifulsoup4==4.6.0 in /usr/local/lib/python3.7/dist-packages (from konlpy) (4.6.0)\n",
            "Requirement already satisfied: JPype1>=0.7.0 in /usr/local/lib/python3.7/dist-packages (from konlpy) (1.2.1)\n",
            "Requirement already satisfied: tweepy>=3.7.0 in /usr/local/lib/python3.7/dist-packages (from konlpy) (3.10.0)\n",
            "Requirement already satisfied: colorama in /usr/local/lib/python3.7/dist-packages (from konlpy) (0.4.4)\n",
            "Requirement already satisfied: lxml>=4.1.0 in /usr/local/lib/python3.7/dist-packages (from konlpy) (4.2.6)\n",
            "Requirement already satisfied: typing-extensions; python_version < \"3.8\" in /usr/local/lib/python3.7/dist-packages (from JPype1>=0.7.0->konlpy) (3.7.4.3)\n",
            "Requirement already satisfied: six>=1.10.0 in /usr/local/lib/python3.7/dist-packages (from tweepy>=3.7.0->konlpy) (1.15.0)\n",
            "Requirement already satisfied: requests[socks]>=2.11.1 in /usr/local/lib/python3.7/dist-packages (from tweepy>=3.7.0->konlpy) (2.23.0)\n",
            "Requirement already satisfied: requests-oauthlib>=0.7.0 in /usr/local/lib/python3.7/dist-packages (from tweepy>=3.7.0->konlpy) (1.3.0)\n",
            "Requirement already satisfied: chardet<4,>=3.0.2 in /usr/local/lib/python3.7/dist-packages (from requests[socks]>=2.11.1->tweepy>=3.7.0->konlpy) (3.0.4)\n",
            "Requirement already satisfied: certifi>=2017.4.17 in /usr/local/lib/python3.7/dist-packages (from requests[socks]>=2.11.1->tweepy>=3.7.0->konlpy) (2020.12.5)\n",
            "Requirement already satisfied: urllib3!=1.25.0,!=1.25.1,<1.26,>=1.21.1 in /usr/local/lib/python3.7/dist-packages (from requests[socks]>=2.11.1->tweepy>=3.7.0->konlpy) (1.24.3)\n",
            "Requirement already satisfied: idna<3,>=2.5 in /usr/local/lib/python3.7/dist-packages (from requests[socks]>=2.11.1->tweepy>=3.7.0->konlpy) (2.10)\n",
            "Requirement already satisfied: PySocks!=1.5.7,>=1.5.6; extra == \"socks\" in /usr/local/lib/python3.7/dist-packages (from requests[socks]>=2.11.1->tweepy>=3.7.0->konlpy) (1.7.1)\n",
            "Requirement already satisfied: oauthlib>=3.0.0 in /usr/local/lib/python3.7/dist-packages (from requests-oauthlib>=0.7.0->tweepy>=3.7.0->konlpy) (3.1.0)\n",
            "mecab-ko is already installed\n",
            "mecab-ko-dic is already installed\n",
            "mecab-python is already installed\n",
            "Done.\n"
          ],
          "name": "stdout"
        }
      ]
    },
    {
      "cell_type": "code",
      "metadata": {
        "id": "ZxqwI6RfnXWd",
        "colab": {
          "base_uri": "https://localhost:8080/"
        },
        "outputId": "9890f884-3410-4b14-af30-07dbb7ce36b6"
      },
      "source": [
        "import os\n",
        "import kss\n",
        "import re\n",
        "import pandas as pd\n",
        "import numpy as np\n",
        "import konlpy\n",
        "from tqdm import tqdm\n",
        "from konlpy.tag import Mecab\n",
        "import pymysql\n",
        "\n",
        "from sklearn.model_selection import train_test_split\n",
        "from sklearn.metrics import mean_squared_error\n",
        "from google.colab import drive\n",
        "drive.mount('/content/drive')\n",
        "\n",
        "\n",
        "\n",
        "# # mysql용 데이터 가져오기\n",
        "# db = pymysql.connect(host='220.86.191.27', port=3306, user='playdata', password='playdata123!', db='bookdata', charset='utf8')\n",
        "\n",
        "# curs = db.cursor(pymysql.cursors.DictCursor)  \n",
        "\n",
        "# query = '''\n",
        "# select *\n",
        "#     from books_data'''\n",
        "# df_books_data = pd.read_sql(query, db)"
      ],
      "execution_count": 2,
      "outputs": [
        {
          "output_type": "stream",
          "text": [
            "Go to this URL in a browser: https://accounts.google.com/o/oauth2/auth?client_id=947318989803-6bn6qk8qdgf4n4g3pfee6491hc0brc4i.apps.googleusercontent.com&redirect_uri=urn%3aietf%3awg%3aoauth%3a2.0%3aoob&scope=email%20https%3a%2f%2fwww.googleapis.com%2fauth%2fdocs.test%20https%3a%2f%2fwww.googleapis.com%2fauth%2fdrive%20https%3a%2f%2fwww.googleapis.com%2fauth%2fdrive.photos.readonly%20https%3a%2f%2fwww.googleapis.com%2fauth%2fpeopleapi.readonly%20https%3a%2f%2fwww.googleapis.com%2fauth%2fdrive.activity.readonly%20https%3a%2f%2fwww.googleapis.com%2fauth%2fexperimentsandconfigs%20https%3a%2f%2fwww.googleapis.com%2fauth%2fphotos.native&response_type=code\n",
            "\n",
            "Enter your authorization code:\n",
            "4/1AY0e-g4_MoDG_6t5xuKE5yWgxkQQ8ZoY0fOLrm1PyWxnB8LYLNxS-oQUvyk\n",
            "Mounted at /content/drive\n"
          ],
          "name": "stdout"
        }
      ]
    },
    {
      "cell_type": "code",
      "metadata": {
        "id": "4HYJuYIkerr4"
      },
      "source": [
        "# 구글 드라이브\n",
        "\n",
        "path = '/content/drive/MyDrive/'\n",
        "df_books = pd.read_excel(os.path.join(path, 'book_fin.xlsx'))"
      ],
      "execution_count": null,
      "outputs": []
    },
    {
      "cell_type": "code",
      "metadata": {
        "id": "nOF8K7PtjJsZ",
        "colab": {
          "base_uri": "https://localhost:8080/",
          "height": 586
        },
        "outputId": "2b5cf832-7157-47f5-f381-308630e7a3c8"
      },
      "source": [
        "df_books"
      ],
      "execution_count": null,
      "outputs": [
        {
          "output_type": "execute_result",
          "data": {
            "text/html": [
              "<div>\n",
              "<style scoped>\n",
              "    .dataframe tbody tr th:only-of-type {\n",
              "        vertical-align: middle;\n",
              "    }\n",
              "\n",
              "    .dataframe tbody tr th {\n",
              "        vertical-align: top;\n",
              "    }\n",
              "\n",
              "    .dataframe thead th {\n",
              "        text-align: right;\n",
              "    }\n",
              "</style>\n",
              "<table border=\"1\" class=\"dataframe\">\n",
              "  <thead>\n",
              "    <tr style=\"text-align: right;\">\n",
              "      <th></th>\n",
              "      <th>Unnamed: 0</th>\n",
              "      <th>index</th>\n",
              "      <th>book_id</th>\n",
              "      <th>title</th>\n",
              "      <th>genre</th>\n",
              "      <th>words</th>\n",
              "      <th>Unnamed: 6</th>\n",
              "      <th>Unnamed: 7</th>\n",
              "      <th>Unnamed: 8</th>\n",
              "    </tr>\n",
              "  </thead>\n",
              "  <tbody>\n",
              "    <tr>\n",
              "      <th>0</th>\n",
              "      <td>0</td>\n",
              "      <td>0</td>\n",
              "      <td>0</td>\n",
              "      <td>요리코를 위해</td>\n",
              "      <td>추리/미스터리</td>\n",
              "      <td>리코 수 이자 위 누구 출발 탐정 사체 심판 무대 남자 진실 딸 패배 세팅 파악 괴...</td>\n",
              "      <td>NaN</td>\n",
              "      <td>NaN</td>\n",
              "      <td>1</td>\n",
              "    </tr>\n",
              "    <tr>\n",
              "      <th>1</th>\n",
              "      <td>1</td>\n",
              "      <td>1</td>\n",
              "      <td>1</td>\n",
              "      <td>그녀는 다 계획이 있다</td>\n",
              "      <td>추리/미스터리</td>\n",
              "      <td>미래 복고 동료 교코 호텔 원대 미스터리 직장 컴 자신 계획 터치 날 감사 파티 살...</td>\n",
              "      <td>NaN</td>\n",
              "      <td>NaN</td>\n",
              "      <td>1</td>\n",
              "    </tr>\n",
              "    <tr>\n",
              "      <th>2</th>\n",
              "      <td>2</td>\n",
              "      <td>2</td>\n",
              "      <td>2</td>\n",
              "      <td>블랙 쇼맨과 이름 없는 마을의 살인</td>\n",
              "      <td>추리/미스터리</td>\n",
              "      <td>소식 통화 살 순간 너 결혼식 시작 취직 통 약혼자 전화 경 생전 결혼 마지막 고향...</td>\n",
              "      <td>NaN</td>\n",
              "      <td>NaN</td>\n",
              "      <td>1</td>\n",
              "    </tr>\n",
              "    <tr>\n",
              "      <th>3</th>\n",
              "      <td>3</td>\n",
              "      <td>3</td>\n",
              "      <td>3</td>\n",
              "      <td>돌이킬 수 없는 약속</td>\n",
              "      <td>추리/미스터리</td>\n",
              "      <td>소설 수 야쿠 가쿠 전 작가 미스터리 죄 포상 놈 딸 제 란 마루 숨 추리 약속 주...</td>\n",
              "      <td>NaN</td>\n",
              "      <td>NaN</td>\n",
              "      <td>1</td>\n",
              "    </tr>\n",
              "    <tr>\n",
              "      <th>4</th>\n",
              "      <td>4</td>\n",
              "      <td>4</td>\n",
              "      <td>4</td>\n",
              "      <td>루팡의 딸</td>\n",
              "      <td>추리/미스터리</td>\n",
              "      <td>이 발생 카즈마 사체 자신 딸 코 날 대부 변 경찰 손녀 오 괴한 신분 도둑 발견 ...</td>\n",
              "      <td>NaN</td>\n",
              "      <td>NaN</td>\n",
              "      <td>1</td>\n",
              "    </tr>\n",
              "    <tr>\n",
              "      <th>...</th>\n",
              "      <td>...</td>\n",
              "      <td>...</td>\n",
              "      <td>...</td>\n",
              "      <td>...</td>\n",
              "      <td>...</td>\n",
              "      <td>...</td>\n",
              "      <td>...</td>\n",
              "      <td>...</td>\n",
              "      <td>...</td>\n",
              "    </tr>\n",
              "    <tr>\n",
              "      <th>2484</th>\n",
              "      <td>2484</td>\n",
              "      <td>2484</td>\n",
              "      <td>3617</td>\n",
              "      <td>드래건 살인사건</td>\n",
              "      <td>추리/미스터리</td>\n",
              "      <td>본성 풀 작품 알 구성 반 지적 분석 대 파일 미스터리 심리 내면 주말 특유 인우드...</td>\n",
              "      <td>NaN</td>\n",
              "      <td>NaN</td>\n",
              "      <td>1</td>\n",
              "    </tr>\n",
              "    <tr>\n",
              "      <th>2485</th>\n",
              "      <td>2485</td>\n",
              "      <td>2485</td>\n",
              "      <td>3618</td>\n",
              "      <td>가든 살인사건</td>\n",
              "      <td>추리/미스터리</td>\n",
              "      <td>상류층 본성 실내 내기 작품 경마 구성 반 가든 지적 분석 대 파일 미스터리 심리 ...</td>\n",
              "      <td>NaN</td>\n",
              "      <td>NaN</td>\n",
              "      <td>1</td>\n",
              "    </tr>\n",
              "    <tr>\n",
              "      <th>2486</th>\n",
              "      <td>2486</td>\n",
              "      <td>2486</td>\n",
              "      <td>3619</td>\n",
              "      <td>카지노 살인사건</td>\n",
              "      <td>추리/미스터리</td>\n",
              "      <td>불리 피해자 상류층 어디 맨해튼 미심 발생 꼬리 케이드 보이 미국 물 파일 몬테카를...</td>\n",
              "      <td>NaN</td>\n",
              "      <td>NaN</td>\n",
              "      <td>1</td>\n",
              "    </tr>\n",
              "    <tr>\n",
              "      <th>2487</th>\n",
              "      <td>2487</td>\n",
              "      <td>2487</td>\n",
              "      <td>3620</td>\n",
              "      <td>단테클럽 1</td>\n",
              "      <td>추리/미스터리</td>\n",
              "      <td>다빈치 활동 과정 작품 소설 번역 저자 미국 공로 실화 협회 단테 제작 붐 신곡 살...</td>\n",
              "      <td>NaN</td>\n",
              "      <td>NaN</td>\n",
              "      <td>1</td>\n",
              "    </tr>\n",
              "    <tr>\n",
              "      <th>2488</th>\n",
              "      <td>2488</td>\n",
              "      <td>2488</td>\n",
              "      <td>3621</td>\n",
              "      <td>단테클럽 2</td>\n",
              "      <td>추리/미스터리</td>\n",
              "      <td>다빈치 역사 작품 베스트셀러 매튜 소설 포스트 미국 즉시 보더스 단테 붐 보스턴 펄...</td>\n",
              "      <td>NaN</td>\n",
              "      <td>NaN</td>\n",
              "      <td>1</td>\n",
              "    </tr>\n",
              "  </tbody>\n",
              "</table>\n",
              "<p>2489 rows × 9 columns</p>\n",
              "</div>"
            ],
            "text/plain": [
              "      Unnamed: 0  index  book_id  ... Unnamed: 6 Unnamed: 7 Unnamed: 8\n",
              "0              0      0        0  ...        NaN        NaN          1\n",
              "1              1      1        1  ...        NaN        NaN          1\n",
              "2              2      2        2  ...        NaN        NaN          1\n",
              "3              3      3        3  ...        NaN        NaN          1\n",
              "4              4      4        4  ...        NaN        NaN          1\n",
              "...          ...    ...      ...  ...        ...        ...        ...\n",
              "2484        2484   2484     3617  ...        NaN        NaN          1\n",
              "2485        2485   2485     3618  ...        NaN        NaN          1\n",
              "2486        2486   2486     3619  ...        NaN        NaN          1\n",
              "2487        2487   2487     3620  ...        NaN        NaN          1\n",
              "2488        2488   2488     3621  ...        NaN        NaN          1\n",
              "\n",
              "[2489 rows x 9 columns]"
            ]
          },
          "metadata": {
            "tags": []
          },
          "execution_count": 5
        }
      ]
    },
    {
      "cell_type": "code",
      "metadata": {
        "id": "xmMGD1_k-Lap",
        "colab": {
          "base_uri": "https://localhost:8080/"
        },
        "outputId": "ed9b00ee-11e1-4b1f-f4b2-1c2686622a55"
      },
      "source": [
        "df_books.info()"
      ],
      "execution_count": null,
      "outputs": [
        {
          "output_type": "stream",
          "text": [
            "<class 'pandas.core.frame.DataFrame'>\n",
            "RangeIndex: 73508 entries, 0 to 73507\n",
            "Data columns (total 10 columns):\n",
            " #   Column      Non-Null Count  Dtype  \n",
            "---  ------      --------------  -----  \n",
            " 0   Unnamed: 0  73508 non-null  int64  \n",
            " 1   title       73508 non-null  object \n",
            " 2   author      64865 non-null  object \n",
            " 3   pub         73508 non-null  object \n",
            " 4   price       73508 non-null  int64  \n",
            " 5   review      73508 non-null  int64  \n",
            " 6   rating      73508 non-null  float64\n",
            " 7   story       67630 non-null  object \n",
            " 8   img         65530 non-null  object \n",
            " 9   genre       73508 non-null  object \n",
            "dtypes: float64(1), int64(3), object(6)\n",
            "memory usage: 5.6+ MB\n"
          ],
          "name": "stdout"
        }
      ]
    },
    {
      "cell_type": "markdown",
      "metadata": {
        "id": "h_2IFgqCYPQ5"
      },
      "source": [
        "# 유사도 검증 "
      ]
    },
    {
      "cell_type": "code",
      "metadata": {
        "id": "_VP1dnquGBN5",
        "colab": {
          "base_uri": "https://localhost:8080/",
          "height": 244
        },
        "outputId": "32a64d54-c39f-486b-8754-3cfdab5cd998"
      },
      "source": [
        "# 유사도 검증에 필요한 패키지 import\n",
        "import pandas as pd\n",
        "from numpy import dot\n",
        "from numpy.linalg import norm\n",
        "import numpy as np\n",
        "\n",
        "from sklearn.feature_extraction.text import TfidfVectorizer\n",
        "from sklearn.metrics.pairwise import cosine_similarity\n",
        "\n",
        "\n",
        "\n",
        "# words(스토리)에 대해서 tf_idf 수행\n",
        "tfidf = TfidfVectorizer()\n",
        "tfidf_matrix_mys = tfidf.fit_transform(df_books['words'])\n",
        "print(tfidf_matrix_mys.shape)\n",
        "\n",
        "# 유사도 진행\n",
        "cosine_matrix_mys = cosine_similarity(tfidf_matrix_mys, tfidf_matrix_mys)\n",
        "\n",
        "# 결과에 얻고자 하는 책 타이틀 리스트\n",
        "books_mys_id = {}\n",
        "for i, c in enumerate(df_books['words']): books_mys_id[i] = c\n",
        "        \n",
        "# 결과에 얻고자 하는 책 id 리스트\n",
        "id2books_mys = {}\n",
        "for i, c in books_mys_id.items(): id2books_mys[c] = i\n",
        "\n",
        "\n",
        "def get_recommendations(title, cosine_sim=cosine_matrix_mys):\n",
        "\n",
        "    idx = id2books_mys[title]\n",
        "    sim_scores_mys = [(i,c) for i, c in enumerate(cosine_matrix_mys[idx]) if i !=idx] \n",
        "    sim_scores_mys = sorted(sim_scores_mys, key =lambda x: x[1], reverse = True)\n",
        "    sim_scores_mys[0:10]\n",
        "    \n",
        "\n",
        "    sim_scores_mys = [(books_mys_id[i], score) for i, score in sim_scores_mys[0:10]]\n",
        "    return sim_scores_mys"
      ],
      "execution_count": 4,
      "outputs": [
        {
          "output_type": "error",
          "ename": "NameError",
          "evalue": "ignored",
          "traceback": [
            "\u001b[0;31m---------------------------------------------------------------------------\u001b[0m",
            "\u001b[0;31mNameError\u001b[0m                                 Traceback (most recent call last)",
            "\u001b[0;32m<ipython-input-4-6bfde26b6056>\u001b[0m in \u001b[0;36m<module>\u001b[0;34m()\u001b[0m\n\u001b[1;32m     12\u001b[0m \u001b[0;31m# words(스토리)에 대해서 tf_idf 수행\u001b[0m\u001b[0;34m\u001b[0m\u001b[0;34m\u001b[0m\u001b[0;34m\u001b[0m\u001b[0m\n\u001b[1;32m     13\u001b[0m \u001b[0mtfidf\u001b[0m \u001b[0;34m=\u001b[0m \u001b[0mTfidfVectorizer\u001b[0m\u001b[0;34m(\u001b[0m\u001b[0;34m)\u001b[0m\u001b[0;34m\u001b[0m\u001b[0;34m\u001b[0m\u001b[0m\n\u001b[0;32m---> 14\u001b[0;31m \u001b[0mtfidf_matrix_mys\u001b[0m \u001b[0;34m=\u001b[0m \u001b[0mtfidf\u001b[0m\u001b[0;34m.\u001b[0m\u001b[0mfit_transform\u001b[0m\u001b[0;34m(\u001b[0m\u001b[0mdf_books_mystery\u001b[0m\u001b[0;34m[\u001b[0m\u001b[0;34m'words'\u001b[0m\u001b[0;34m]\u001b[0m\u001b[0;34m)\u001b[0m\u001b[0;34m\u001b[0m\u001b[0;34m\u001b[0m\u001b[0m\n\u001b[0m\u001b[1;32m     15\u001b[0m \u001b[0mprint\u001b[0m\u001b[0;34m(\u001b[0m\u001b[0mtfidf_matrix_mys\u001b[0m\u001b[0;34m.\u001b[0m\u001b[0mshape\u001b[0m\u001b[0;34m)\u001b[0m\u001b[0;34m\u001b[0m\u001b[0;34m\u001b[0m\u001b[0m\n\u001b[1;32m     16\u001b[0m \u001b[0;34m\u001b[0m\u001b[0m\n",
            "\u001b[0;31mNameError\u001b[0m: name 'df_books_mystery' is not defined"
          ]
        }
      ]
    },
    {
      "cell_type": "code",
      "metadata": {
        "id": "AuzCD1wDaDeW",
        "colab": {
          "base_uri": "https://localhost:8080/"
        },
        "outputId": "3b40d239-d87c-4465-ce43-335fd1705a17"
      },
      "source": [
        "# 유사도 검증하고 하고자하는 책 입력\n",
        "get_recommendations('돌이킬 수 없는 약속')"
      ],
      "execution_count": null,
      "outputs": [
        {
          "output_type": "execute_result",
          "data": {
            "text/plain": [
              "[('단테 클럽 2', 0.9744196724179254),\n",
              " ('단테 클럽 1', 0.9744196724179254),\n",
              " ('단테클럽 2', 0.256154929588162),\n",
              " ('로스트 심벌 2', 0.16397715030813564),\n",
              " ('공개수배', 0.16034001007004794),\n",
              " ('로스트 심벌 1', 0.159380637654646),\n",
              " ('살인게임', 0.15849356786754487),\n",
              " ('�A빠이, 이상', 0.1437867786664614),\n",
              " ('롱기누스의 창', 0.14301579936497277),\n",
              " ('4의 규칙 2', 0.14301080471633362)]"
            ]
          },
          "metadata": {
            "tags": []
          },
          "execution_count": 19
        }
      ]
    },
    {
      "cell_type": "code",
      "metadata": {
        "colab": {
          "base_uri": "https://localhost:8080/"
        },
        "id": "CVMQoK7gU15s",
        "outputId": "43f775ea-dfe4-4e8a-82a0-4caa1e53fd6e"
      },
      "source": [
        ""
      ],
      "execution_count": null,
      "outputs": [
        {
          "output_type": "stream",
          "text": [
            "(2489, 9006)\n"
          ],
          "name": "stdout"
        }
      ]
    },
    {
      "cell_type": "code",
      "metadata": {
        "id": "-R2vP9s-VABO"
      },
      "source": [
        ""
      ],
      "execution_count": null,
      "outputs": []
    }
  ]
}