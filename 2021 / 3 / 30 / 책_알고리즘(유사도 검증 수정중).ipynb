{
  "nbformat": 4,
  "nbformat_minor": 0,
  "metadata": {
    "colab": {
      "name": "책_추천알고리즘.ipynb",
      "provenance": [],
      "collapsed_sections": [],
      "toc_visible": true,
      "authorship_tag": "ABX9TyOlYUbPK3V5wVN8Ctry4dC+",
      "include_colab_link": true
    },
    "kernelspec": {
      "name": "python3",
      "display_name": "Python 3"
    }
  },
  "cells": [
    {
      "cell_type": "markdown",
      "metadata": {
        "id": "view-in-github",
        "colab_type": "text"
      },
      "source": [
        "<a href=\"https://colab.research.google.com/github/ggwnsghgg/book_project/blob/main/2021%20/%203%20/%2030%20/%20%EC%B1%85_%EC%95%8C%EA%B3%A0%EB%A6%AC%EC%A6%98(%EC%9C%A0%EC%82%AC%EB%8F%84%20%EA%B2%80%EC%A6%9D%20%EC%88%98%EC%A0%95%EC%A4%91).ipynb\" target=\"_parent\"><img src=\"https://colab.research.google.com/assets/colab-badge.svg\" alt=\"Open In Colab\"/></a>"
      ]
    },
    {
      "cell_type": "markdown",
      "metadata": {
        "id": "OshXu90RJyBj"
      },
      "source": [
        "## 필요한 패키지 install"
      ]
    },
    {
      "cell_type": "code",
      "metadata": {
        "id": "gkDQDSP4AiFn",
        "colab": {
          "base_uri": "https://localhost:8080/"
        },
        "outputId": "f52e11e7-5b73-4daa-e71e-eeceffb0b716"
      },
      "source": [
        "!pip install pymysql\n",
        "\n",
        "\n",
        "# 형태소 기반 토크나이징 (Konlpy)\n",
        "!python3 -m pip install konlpy\n",
        "!bash <(curl -s https://raw.githubusercontent.com/konlpy/konlpy/master/scripts/mecab.sh)\n",
        "\n",
        "\n",
        "\n",
        "#한국어 문장 분리모델\n",
        "!pip install kss\n",
        "\n",
        "\n",
        "!sudo apt-get install curl git\n",
        "!bash <(curl -s https://raw.githubusercontent.com/konlpy/konlpy/master/scripts/mecab.sh)\n",
        "\n",
        "\n",
        "#mecab 코랩서 오류 안나게!\n",
        "!apt-get update\n",
        "!apt-get install g++ openjdk-8-jdk \n",
        "!pip3 install konlpy JPype1-py3\n",
        "!bash <(curl -s https://raw.githubusercontent.com/konlpy/konlpy/master/scripts/mecab.sh)"
      ],
      "execution_count": 5,
      "outputs": [
        {
          "output_type": "stream",
          "text": [
            "Requirement already satisfied: pymysql in /usr/local/lib/python3.7/dist-packages (1.0.2)\n",
            "Requirement already satisfied: konlpy in /usr/local/lib/python3.7/dist-packages (0.5.2)\n",
            "Requirement already satisfied: tweepy>=3.7.0 in /usr/local/lib/python3.7/dist-packages (from konlpy) (3.10.0)\n",
            "Requirement already satisfied: beautifulsoup4==4.6.0 in /usr/local/lib/python3.7/dist-packages (from konlpy) (4.6.0)\n",
            "Requirement already satisfied: colorama in /usr/local/lib/python3.7/dist-packages (from konlpy) (0.4.4)\n",
            "Requirement already satisfied: lxml>=4.1.0 in /usr/local/lib/python3.7/dist-packages (from konlpy) (4.2.6)\n",
            "Requirement already satisfied: numpy>=1.6 in /usr/local/lib/python3.7/dist-packages (from konlpy) (1.19.5)\n",
            "Requirement already satisfied: JPype1>=0.7.0 in /usr/local/lib/python3.7/dist-packages (from konlpy) (1.2.1)\n",
            "Requirement already satisfied: requests-oauthlib>=0.7.0 in /usr/local/lib/python3.7/dist-packages (from tweepy>=3.7.0->konlpy) (1.3.0)\n",
            "Requirement already satisfied: requests[socks]>=2.11.1 in /usr/local/lib/python3.7/dist-packages (from tweepy>=3.7.0->konlpy) (2.23.0)\n",
            "Requirement already satisfied: six>=1.10.0 in /usr/local/lib/python3.7/dist-packages (from tweepy>=3.7.0->konlpy) (1.15.0)\n",
            "Requirement already satisfied: typing-extensions; python_version < \"3.8\" in /usr/local/lib/python3.7/dist-packages (from JPype1>=0.7.0->konlpy) (3.7.4.3)\n",
            "Requirement already satisfied: oauthlib>=3.0.0 in /usr/local/lib/python3.7/dist-packages (from requests-oauthlib>=0.7.0->tweepy>=3.7.0->konlpy) (3.1.0)\n",
            "Requirement already satisfied: idna<3,>=2.5 in /usr/local/lib/python3.7/dist-packages (from requests[socks]>=2.11.1->tweepy>=3.7.0->konlpy) (2.10)\n",
            "Requirement already satisfied: urllib3!=1.25.0,!=1.25.1,<1.26,>=1.21.1 in /usr/local/lib/python3.7/dist-packages (from requests[socks]>=2.11.1->tweepy>=3.7.0->konlpy) (1.24.3)\n",
            "Requirement already satisfied: certifi>=2017.4.17 in /usr/local/lib/python3.7/dist-packages (from requests[socks]>=2.11.1->tweepy>=3.7.0->konlpy) (2020.12.5)\n",
            "Requirement already satisfied: chardet<4,>=3.0.2 in /usr/local/lib/python3.7/dist-packages (from requests[socks]>=2.11.1->tweepy>=3.7.0->konlpy) (3.0.4)\n",
            "Requirement already satisfied: PySocks!=1.5.7,>=1.5.6; extra == \"socks\" in /usr/local/lib/python3.7/dist-packages (from requests[socks]>=2.11.1->tweepy>=3.7.0->konlpy) (1.7.1)\n",
            "mecab-ko is already installed\n",
            "mecab-ko-dic is already installed\n",
            "mecab-python is already installed\n",
            "Done.\n",
            "Requirement already satisfied: kss in /usr/local/lib/python3.7/dist-packages (2.5.0)\n",
            "Reading package lists... Done\n",
            "Building dependency tree       \n",
            "Reading state information... Done\n",
            "curl is already the newest version (7.58.0-2ubuntu3.12).\n",
            "git is already the newest version (1:2.17.1-1ubuntu0.8).\n",
            "0 upgraded, 0 newly installed, 0 to remove and 60 not upgraded.\n",
            "mecab-ko is already installed\n",
            "mecab-ko-dic is already installed\n",
            "mecab-python is already installed\n",
            "Done.\n",
            "Hit:1 https://cloud.r-project.org/bin/linux/ubuntu bionic-cran40/ InRelease\n",
            "Ign:2 https://developer.download.nvidia.com/compute/cuda/repos/ubuntu1804/x86_64  InRelease\n",
            "Ign:3 https://developer.download.nvidia.com/compute/machine-learning/repos/ubuntu1804/x86_64  InRelease\n",
            "Hit:4 https://developer.download.nvidia.com/compute/cuda/repos/ubuntu1804/x86_64  Release\n",
            "Hit:5 https://developer.download.nvidia.com/compute/machine-learning/repos/ubuntu1804/x86_64  Release\n",
            "Get:6 http://security.ubuntu.com/ubuntu bionic-security InRelease [88.7 kB]\n",
            "Hit:7 http://archive.ubuntu.com/ubuntu bionic InRelease\n",
            "Hit:8 http://ppa.launchpad.net/c2d4u.team/c2d4u4.0+/ubuntu bionic InRelease\n",
            "Get:10 http://archive.ubuntu.com/ubuntu bionic-updates InRelease [88.7 kB]\n",
            "Hit:12 http://ppa.launchpad.net/cran/libgit2/ubuntu bionic InRelease\n",
            "Hit:13 http://ppa.launchpad.net/deadsnakes/ppa/ubuntu bionic InRelease\n",
            "Get:14 http://archive.ubuntu.com/ubuntu bionic-backports InRelease [74.6 kB]\n",
            "Hit:15 http://ppa.launchpad.net/graphics-drivers/ppa/ubuntu bionic InRelease\n",
            "Fetched 252 kB in 2s (108 kB/s)\n",
            "Reading package lists... Done\n",
            "Reading package lists... Done\n",
            "Building dependency tree       \n",
            "Reading state information... Done\n",
            "g++ is already the newest version (4:7.4.0-1ubuntu2.3).\n",
            "openjdk-8-jdk is already the newest version (8u282-b08-0ubuntu1~18.04).\n",
            "0 upgraded, 0 newly installed, 0 to remove and 60 not upgraded.\n",
            "Requirement already satisfied: konlpy in /usr/local/lib/python3.7/dist-packages (0.5.2)\n",
            "Requirement already satisfied: JPype1-py3 in /usr/local/lib/python3.7/dist-packages (0.5.5.4)\n",
            "Requirement already satisfied: tweepy>=3.7.0 in /usr/local/lib/python3.7/dist-packages (from konlpy) (3.10.0)\n",
            "Requirement already satisfied: lxml>=4.1.0 in /usr/local/lib/python3.7/dist-packages (from konlpy) (4.2.6)\n",
            "Requirement already satisfied: colorama in /usr/local/lib/python3.7/dist-packages (from konlpy) (0.4.4)\n",
            "Requirement already satisfied: JPype1>=0.7.0 in /usr/local/lib/python3.7/dist-packages (from konlpy) (1.2.1)\n",
            "Requirement already satisfied: numpy>=1.6 in /usr/local/lib/python3.7/dist-packages (from konlpy) (1.19.5)\n",
            "Requirement already satisfied: beautifulsoup4==4.6.0 in /usr/local/lib/python3.7/dist-packages (from konlpy) (4.6.0)\n",
            "Requirement already satisfied: requests[socks]>=2.11.1 in /usr/local/lib/python3.7/dist-packages (from tweepy>=3.7.0->konlpy) (2.23.0)\n",
            "Requirement already satisfied: six>=1.10.0 in /usr/local/lib/python3.7/dist-packages (from tweepy>=3.7.0->konlpy) (1.15.0)\n",
            "Requirement already satisfied: requests-oauthlib>=0.7.0 in /usr/local/lib/python3.7/dist-packages (from tweepy>=3.7.0->konlpy) (1.3.0)\n",
            "Requirement already satisfied: typing-extensions; python_version < \"3.8\" in /usr/local/lib/python3.7/dist-packages (from JPype1>=0.7.0->konlpy) (3.7.4.3)\n",
            "Requirement already satisfied: urllib3!=1.25.0,!=1.25.1,<1.26,>=1.21.1 in /usr/local/lib/python3.7/dist-packages (from requests[socks]>=2.11.1->tweepy>=3.7.0->konlpy) (1.24.3)\n",
            "Requirement already satisfied: certifi>=2017.4.17 in /usr/local/lib/python3.7/dist-packages (from requests[socks]>=2.11.1->tweepy>=3.7.0->konlpy) (2020.12.5)\n",
            "Requirement already satisfied: idna<3,>=2.5 in /usr/local/lib/python3.7/dist-packages (from requests[socks]>=2.11.1->tweepy>=3.7.0->konlpy) (2.10)\n",
            "Requirement already satisfied: chardet<4,>=3.0.2 in /usr/local/lib/python3.7/dist-packages (from requests[socks]>=2.11.1->tweepy>=3.7.0->konlpy) (3.0.4)\n",
            "Requirement already satisfied: PySocks!=1.5.7,>=1.5.6; extra == \"socks\" in /usr/local/lib/python3.7/dist-packages (from requests[socks]>=2.11.1->tweepy>=3.7.0->konlpy) (1.7.1)\n",
            "Requirement already satisfied: oauthlib>=3.0.0 in /usr/local/lib/python3.7/dist-packages (from requests-oauthlib>=0.7.0->tweepy>=3.7.0->konlpy) (3.1.0)\n",
            "mecab-ko is already installed\n",
            "mecab-ko-dic is already installed\n",
            "mecab-python is already installed\n",
            "Done.\n"
          ],
          "name": "stdout"
        }
      ]
    },
    {
      "cell_type": "code",
      "metadata": {
        "id": "ZxqwI6RfnXWd",
        "colab": {
          "base_uri": "https://localhost:8080/"
        },
        "outputId": "986a63c1-9d2a-4c5b-8145-bd9aa542816f"
      },
      "source": [
        "import os\n",
        "import kss\n",
        "import re\n",
        "import pandas as pd\n",
        "import numpy as np\n",
        "import konlpy\n",
        "from tqdm import tqdm\n",
        "from konlpy.tag import Mecab\n",
        "import pymysql\n",
        "\n",
        "from sklearn.model_selection import train_test_split\n",
        "from sklearn.metrics import mean_squared_error\n",
        "from google.colab import drive\n",
        "drive.mount('/content/drive')\n",
        "\n",
        "\n",
        "\n",
        "#데이터 가져오기\n",
        "db = pymysql.connect(host='220.86.191.27', port=3306, user='playdata', password='playdata123!', db='bookdata', charset='utf8')\n",
        "\n",
        "curs = db.cursor(pymysql.cursors.DictCursor)  \n",
        "\n",
        "query = '''\n",
        "select *\n",
        "    from books_data'''\n",
        "df_books_data = pd.read_sql(query, db)"
      ],
      "execution_count": 6,
      "outputs": [
        {
          "output_type": "stream",
          "text": [
            "Drive already mounted at /content/drive; to attempt to forcibly remount, call drive.mount(\"/content/drive\", force_remount=True).\n"
          ],
          "name": "stdout"
        }
      ]
    },
    {
      "cell_type": "code",
      "metadata": {
        "id": "JOMhuzjk97RD"
      },
      "source": [
        "removal_list =  \"‘, ’, ◇, ‘, ”,  ’, ', ·, \\“, ·, △, ●,  , ■, (, ), \\\", >>, `, /, -,∼,=,ㆍ<,>, .,?, !,【,】, …, ◆,%\"\n",
        "\n",
        "def cleansing_special(sentence):\n",
        "    # 특수문자를 전처리를 하는 함수\n",
        "    sentence = re.sub(\"[.,\\'\\\"’‘”“!?]\", \"\", sentence)\n",
        "    sentence = re.sub(\"[^가-힣0-9a-zA-Z\\\\s]\", \" \", sentence)\n",
        "    sentence = re.sub(\"\\s+\", \" \", sentence)\n",
        "    \n",
        "    sentence = sentence.translate(str.maketrans(removal_list, ' '*len(removal_list)))\n",
        "    sentence = sentence.strip()\n",
        "    \n",
        "    return sentence\n",
        "\n",
        "def cleansing_numbers(sentence):\n",
        "    # 숫자를 전처리(delexicalization) 하는 함수    \n",
        "    sentence = re.sub('[0-9]+', 'NUM', sentence)\n",
        "    sentence = re.sub('NUM\\s+', \"NUM\", sentence)\n",
        "    sentence = re.sub('[NUM]+', \"NUM\", sentence)\n",
        "    \n",
        "    return sentence"
      ],
      "execution_count": 7,
      "outputs": []
    },
    {
      "cell_type": "code",
      "metadata": {
        "id": "4HYJuYIkerr4"
      },
      "source": [
        "# 구글 드라이브 사용시\n",
        "\n",
        "path = '/content/drive/MyDrive/'\n",
        "df_books = pd.read_excel(os.path.join(path, 'book_preprocessing.xlsx'))"
      ],
      "execution_count": 5,
      "outputs": []
    },
    {
      "cell_type": "code",
      "metadata": {
        "id": "nOF8K7PtjJsZ",
        "colab": {
          "base_uri": "https://localhost:8080/",
          "height": 922
        },
        "outputId": "bd43572e-3758-4024-aa52-0beb51164993"
      },
      "source": [
        "df_books_data"
      ],
      "execution_count": 8,
      "outputs": [
        {
          "output_type": "execute_result",
          "data": {
            "text/html": [
              "<div>\n",
              "<style scoped>\n",
              "    .dataframe tbody tr th:only-of-type {\n",
              "        vertical-align: middle;\n",
              "    }\n",
              "\n",
              "    .dataframe tbody tr th {\n",
              "        vertical-align: top;\n",
              "    }\n",
              "\n",
              "    .dataframe thead th {\n",
              "        text-align: right;\n",
              "    }\n",
              "</style>\n",
              "<table border=\"1\" class=\"dataframe\">\n",
              "  <thead>\n",
              "    <tr style=\"text-align: right;\">\n",
              "      <th></th>\n",
              "      <th>id</th>\n",
              "      <th>title</th>\n",
              "      <th>author</th>\n",
              "      <th>pub</th>\n",
              "      <th>date</th>\n",
              "      <th>price</th>\n",
              "      <th>review</th>\n",
              "      <th>rating</th>\n",
              "      <th>story</th>\n",
              "      <th>img</th>\n",
              "      <th>genre</th>\n",
              "    </tr>\n",
              "  </thead>\n",
              "  <tbody>\n",
              "    <tr>\n",
              "      <th>0</th>\n",
              "      <td>1</td>\n",
              "      <td>요리코를 위해</td>\n",
              "      <td>노리즈키 린타로</td>\n",
              "      <td>모모</td>\n",
              "      <td>2020.03</td>\n",
              "      <td>13500</td>\n",
              "      <td>43</td>\n",
              "      <td>9.2</td>\n",
              "      <td>스스로 악마이자 신이 되어 딸을 살해한 남자를 심판한 아버지.비극의 출발이자 마지막...</td>\n",
              "      <td>http://image.yes24.com/goods/89392792/L</td>\n",
              "      <td>추리/미스터리</td>\n",
              "    </tr>\n",
              "    <tr>\n",
              "      <th>1</th>\n",
              "      <td>2</td>\n",
              "      <td>그녀는 다 계획이 있다</td>\n",
              "      <td>히가시노 게이고</td>\n",
              "      <td>하빌리스</td>\n",
              "      <td>2021.02</td>\n",
              "      <td>14220</td>\n",
              "      <td>13</td>\n",
              "      <td>9.4</td>\n",
              "      <td>하나야 보석점 살인사건을 둘러싼 과거와 미래의 사건경쾌하고 리듬감 있는 터치의 히가...</td>\n",
              "      <td>http://image.yes24.com/goods/97561319/L</td>\n",
              "      <td>추리/미스터리</td>\n",
              "    </tr>\n",
              "    <tr>\n",
              "      <th>2</th>\n",
              "      <td>3</td>\n",
              "      <td>블랙 쇼맨과 이름 없는 마을의 살인</td>\n",
              "      <td>히가시노 게이고</td>\n",
              "      <td>알에이치코리아(RHK)</td>\n",
              "      <td>2020.11</td>\n",
              "      <td>16200</td>\n",
              "      <td>54</td>\n",
              "      <td>9.1</td>\n",
              "      <td>아버지가 살해당했다, 그것도 결혼 소식을 알린 직후에. 행복하다고 느끼는 순간, 비...</td>\n",
              "      <td>http://image.yes24.com/goods/95712763/L</td>\n",
              "      <td>추리/미스터리</td>\n",
              "    </tr>\n",
              "    <tr>\n",
              "      <th>3</th>\n",
              "      <td>4</td>\n",
              "      <td>돌이킬 수 없는 약속</td>\n",
              "      <td>야쿠마루 가쿠</td>\n",
              "      <td>북플라자</td>\n",
              "      <td>2017.02</td>\n",
              "      <td>13500</td>\n",
              "      <td>217</td>\n",
              "      <td>8.2</td>\n",
              "      <td>제51회 에드가와란포상 수상 작가 야쿠마루 가쿠의 미스터리 추리 소설. \"내 딸을 ...</td>\n",
              "      <td>http://image.yes24.com/goods/35552641/L</td>\n",
              "      <td>추리/미스터리</td>\n",
              "    </tr>\n",
              "    <tr>\n",
              "      <th>4</th>\n",
              "      <td>5</td>\n",
              "      <td>루팡의 딸</td>\n",
              "      <td>요코제키 다이</td>\n",
              "      <td>북플라자</td>\n",
              "      <td>2019.09</td>\n",
              "      <td>13500</td>\n",
              "      <td>31</td>\n",
              "      <td>8.5</td>\n",
              "      <td>도둑 집안의 대부가 변사체로 발견되었다!도둑 집안의 대부 이와오에게는 하나코라는 손...</td>\n",
              "      <td>http://image.yes24.com/goods/78860364/L</td>\n",
              "      <td>추리/미스터리</td>\n",
              "    </tr>\n",
              "    <tr>\n",
              "      <th>...</th>\n",
              "      <td>...</td>\n",
              "      <td>...</td>\n",
              "      <td>...</td>\n",
              "      <td>...</td>\n",
              "      <td>...</td>\n",
              "      <td>...</td>\n",
              "      <td>...</td>\n",
              "      <td>...</td>\n",
              "      <td>...</td>\n",
              "      <td>...</td>\n",
              "      <td>...</td>\n",
              "    </tr>\n",
              "    <tr>\n",
              "      <th>79770</th>\n",
              "      <td>79771</td>\n",
              "      <td>하루만 사랑해 2</td>\n",
              "      <td></td>\n",
              "      <td>파피루스(디앤씨미디어)</td>\n",
              "      <td>2003.06</td>\n",
              "      <td>8100</td>\n",
              "      <td>0</td>\n",
              "      <td>0.0</td>\n",
              "      <td>어느 날 서원은 횡단보도에서 교통사고를 당한다. 상대는 인천상고 짱인 노란머 민하루...</td>\n",
              "      <td>http://image.yes24.com/goods/375484/L</td>\n",
              "      <td>로맨스</td>\n",
              "    </tr>\n",
              "    <tr>\n",
              "      <th>79771</th>\n",
              "      <td>79772</td>\n",
              "      <td>서울 여자와 대구 남자가 만날 때</td>\n",
              "      <td>정민</td>\n",
              "      <td>영상노트</td>\n",
              "      <td>2003.06</td>\n",
              "      <td>8100</td>\n",
              "      <td>0</td>\n",
              "      <td>0.0</td>\n",
              "      <td></td>\n",
              "      <td>http://image.yes24.com/goods/376458/L</td>\n",
              "      <td>로맨스</td>\n",
              "    </tr>\n",
              "    <tr>\n",
              "      <th>79772</th>\n",
              "      <td>79773</td>\n",
              "      <td>kiss me...</td>\n",
              "      <td></td>\n",
              "      <td>현무</td>\n",
              "      <td>2003.06</td>\n",
              "      <td>7200</td>\n",
              "      <td>2</td>\n",
              "      <td>5.0</td>\n",
              "      <td></td>\n",
              "      <td>http://image.yes24.com/goods/377351/L</td>\n",
              "      <td>로맨스</td>\n",
              "    </tr>\n",
              "    <tr>\n",
              "      <th>79773</th>\n",
              "      <td>79774</td>\n",
              "      <td>어린 엄마 2</td>\n",
              "      <td>임은희</td>\n",
              "      <td>반디출판사</td>\n",
              "      <td>2003.07</td>\n",
              "      <td>8100</td>\n",
              "      <td>0</td>\n",
              "      <td>0.0</td>\n",
              "      <td></td>\n",
              "      <td>http://image.yes24.com/goods/377607/L</td>\n",
              "      <td>로맨스</td>\n",
              "    </tr>\n",
              "    <tr>\n",
              "      <th>79774</th>\n",
              "      <td>79775</td>\n",
              "      <td>어린 엄마 1</td>\n",
              "      <td>임은희</td>\n",
              "      <td>반디출판사</td>\n",
              "      <td>2003.07</td>\n",
              "      <td>8100</td>\n",
              "      <td>0</td>\n",
              "      <td>0.0</td>\n",
              "      <td></td>\n",
              "      <td>http://image.yes24.com/goods/377608/L</td>\n",
              "      <td>로맨스</td>\n",
              "    </tr>\n",
              "  </tbody>\n",
              "</table>\n",
              "<p>79775 rows × 11 columns</p>\n",
              "</div>"
            ],
            "text/plain": [
              "          id  ...    genre\n",
              "0          1  ...  추리/미스터리\n",
              "1          2  ...  추리/미스터리\n",
              "2          3  ...  추리/미스터리\n",
              "3          4  ...  추리/미스터리\n",
              "4          5  ...  추리/미스터리\n",
              "...      ...  ...      ...\n",
              "79770  79771  ...      로맨스\n",
              "79771  79772  ...      로맨스\n",
              "79772  79773  ...      로맨스\n",
              "79773  79774  ...      로맨스\n",
              "79774  79775  ...      로맨스\n",
              "\n",
              "[79775 rows x 11 columns]"
            ]
          },
          "metadata": {
            "tags": []
          },
          "execution_count": 8
        }
      ]
    },
    {
      "cell_type": "code",
      "metadata": {
        "id": "xmMGD1_k-Lap",
        "colab": {
          "base_uri": "https://localhost:8080/"
        },
        "outputId": "03894661-e885-4e2d-a681-7b11e42ff9b1"
      },
      "source": [
        "df_books_data.info()"
      ],
      "execution_count": 9,
      "outputs": [
        {
          "output_type": "stream",
          "text": [
            "<class 'pandas.core.frame.DataFrame'>\n",
            "RangeIndex: 79775 entries, 0 to 79774\n",
            "Data columns (total 11 columns):\n",
            " #   Column  Non-Null Count  Dtype  \n",
            "---  ------  --------------  -----  \n",
            " 0   id      79775 non-null  int64  \n",
            " 1   title   79775 non-null  object \n",
            " 2   author  79775 non-null  object \n",
            " 3   pub     79775 non-null  object \n",
            " 4   date    79775 non-null  object \n",
            " 5   price   79775 non-null  int64  \n",
            " 6   review  79775 non-null  int64  \n",
            " 7   rating  79775 non-null  float64\n",
            " 8   story   79775 non-null  object \n",
            " 9   img     79775 non-null  object \n",
            " 10  genre   79775 non-null  object \n",
            "dtypes: float64(1), int64(3), object(7)\n",
            "memory usage: 6.7+ MB\n"
          ],
          "name": "stdout"
        }
      ]
    },
    {
      "cell_type": "code",
      "metadata": {
        "id": "jvN1byGa-P55"
      },
      "source": [
        "# df_books=df_books.rename(columns = {'Unnamed: 0' : 'book_id'})\n",
        "#결측값 제거\n",
        "df_books_data = df_books_data.dropna()"
      ],
      "execution_count": 10,
      "outputs": []
    },
    {
      "cell_type": "code",
      "metadata": {
        "id": "Fc9r1o9z-UME",
        "colab": {
          "base_uri": "https://localhost:8080/"
        },
        "outputId": "d89b1712-7fd7-4e98-f9d7-7adef665bc8b"
      },
      "source": [
        "df_books_data.value_counts(df_books_data['rating'].values, sort=False)"
      ],
      "execution_count": 14,
      "outputs": [
        {
          "output_type": "execute_result",
          "data": {
            "text/plain": [
              "0.0     60957\n",
              "2.0       109\n",
              "2.5         2\n",
              "3.0        47\n",
              "3.5         5\n",
              "        ...  \n",
              "9.6       252\n",
              "9.7        96\n",
              "9.8       115\n",
              "9.9        21\n",
              "10.0     1819\n",
              "Length: 64, dtype: int64"
            ]
          },
          "metadata": {
            "tags": []
          },
          "execution_count": 14
        }
      ]
    },
    {
      "cell_type": "code",
      "metadata": {
        "id": "OpqCHRnX-b1q"
      },
      "source": [
        "#레이팅, 리뷰값 모두 0점인것 제거 (다행히 리뷰와 레이팅이 모두 0점인게 공통적이다)\n",
        "df_books_data =df_books_data[df_books_data.review != 0]"
      ],
      "execution_count": 15,
      "outputs": []
    },
    {
      "cell_type": "code",
      "metadata": {
        "id": "1qsB1rVs-fZS"
      },
      "source": [
        "df_books=df_books_data.reset_index(drop = False, inplace = False)"
      ],
      "execution_count": 17,
      "outputs": []
    },
    {
      "cell_type": "code",
      "metadata": {
        "id": "HBImDyQTSl_w",
        "outputId": "bbca919c-222a-48d5-da0d-229b3a735159",
        "colab": {
          "base_uri": "https://localhost:8080/",
          "height": 1000
        }
      },
      "source": [
        "df_books"
      ],
      "execution_count": 18,
      "outputs": [
        {
          "output_type": "execute_result",
          "data": {
            "text/html": [
              "<div>\n",
              "<style scoped>\n",
              "    .dataframe tbody tr th:only-of-type {\n",
              "        vertical-align: middle;\n",
              "    }\n",
              "\n",
              "    .dataframe tbody tr th {\n",
              "        vertical-align: top;\n",
              "    }\n",
              "\n",
              "    .dataframe thead th {\n",
              "        text-align: right;\n",
              "    }\n",
              "</style>\n",
              "<table border=\"1\" class=\"dataframe\">\n",
              "  <thead>\n",
              "    <tr style=\"text-align: right;\">\n",
              "      <th></th>\n",
              "      <th>index</th>\n",
              "      <th>id</th>\n",
              "      <th>title</th>\n",
              "      <th>author</th>\n",
              "      <th>pub</th>\n",
              "      <th>date</th>\n",
              "      <th>price</th>\n",
              "      <th>review</th>\n",
              "      <th>rating</th>\n",
              "      <th>story</th>\n",
              "      <th>img</th>\n",
              "      <th>genre</th>\n",
              "    </tr>\n",
              "  </thead>\n",
              "  <tbody>\n",
              "    <tr>\n",
              "      <th>0</th>\n",
              "      <td>0</td>\n",
              "      <td>1</td>\n",
              "      <td>요리코를 위해</td>\n",
              "      <td>노리즈키 린타로</td>\n",
              "      <td>모모</td>\n",
              "      <td>2020.03</td>\n",
              "      <td>13500</td>\n",
              "      <td>43</td>\n",
              "      <td>9.2</td>\n",
              "      <td>스스로 악마이자 신이 되어 딸을 살해한 남자를 심판한 아버지.비극의 출발이자 마지막...</td>\n",
              "      <td>http://image.yes24.com/goods/89392792/L</td>\n",
              "      <td>추리/미스터리</td>\n",
              "    </tr>\n",
              "    <tr>\n",
              "      <th>1</th>\n",
              "      <td>1</td>\n",
              "      <td>2</td>\n",
              "      <td>그녀는 다 계획이 있다</td>\n",
              "      <td>히가시노 게이고</td>\n",
              "      <td>하빌리스</td>\n",
              "      <td>2021.02</td>\n",
              "      <td>14220</td>\n",
              "      <td>13</td>\n",
              "      <td>9.4</td>\n",
              "      <td>하나야 보석점 살인사건을 둘러싼 과거와 미래의 사건경쾌하고 리듬감 있는 터치의 히가...</td>\n",
              "      <td>http://image.yes24.com/goods/97561319/L</td>\n",
              "      <td>추리/미스터리</td>\n",
              "    </tr>\n",
              "    <tr>\n",
              "      <th>2</th>\n",
              "      <td>2</td>\n",
              "      <td>3</td>\n",
              "      <td>블랙 쇼맨과 이름 없는 마을의 살인</td>\n",
              "      <td>히가시노 게이고</td>\n",
              "      <td>알에이치코리아(RHK)</td>\n",
              "      <td>2020.11</td>\n",
              "      <td>16200</td>\n",
              "      <td>54</td>\n",
              "      <td>9.1</td>\n",
              "      <td>아버지가 살해당했다, 그것도 결혼 소식을 알린 직후에. 행복하다고 느끼는 순간, 비...</td>\n",
              "      <td>http://image.yes24.com/goods/95712763/L</td>\n",
              "      <td>추리/미스터리</td>\n",
              "    </tr>\n",
              "    <tr>\n",
              "      <th>3</th>\n",
              "      <td>3</td>\n",
              "      <td>4</td>\n",
              "      <td>돌이킬 수 없는 약속</td>\n",
              "      <td>야쿠마루 가쿠</td>\n",
              "      <td>북플라자</td>\n",
              "      <td>2017.02</td>\n",
              "      <td>13500</td>\n",
              "      <td>217</td>\n",
              "      <td>8.2</td>\n",
              "      <td>제51회 에드가와란포상 수상 작가 야쿠마루 가쿠의 미스터리 추리 소설. \"내 딸을 ...</td>\n",
              "      <td>http://image.yes24.com/goods/35552641/L</td>\n",
              "      <td>추리/미스터리</td>\n",
              "    </tr>\n",
              "    <tr>\n",
              "      <th>4</th>\n",
              "      <td>4</td>\n",
              "      <td>5</td>\n",
              "      <td>루팡의 딸</td>\n",
              "      <td>요코제키 다이</td>\n",
              "      <td>북플라자</td>\n",
              "      <td>2019.09</td>\n",
              "      <td>13500</td>\n",
              "      <td>31</td>\n",
              "      <td>8.5</td>\n",
              "      <td>도둑 집안의 대부가 변사체로 발견되었다!도둑 집안의 대부 이와오에게는 하나코라는 손...</td>\n",
              "      <td>http://image.yes24.com/goods/78860364/L</td>\n",
              "      <td>추리/미스터리</td>\n",
              "    </tr>\n",
              "    <tr>\n",
              "      <th>...</th>\n",
              "      <td>...</td>\n",
              "      <td>...</td>\n",
              "      <td>...</td>\n",
              "      <td>...</td>\n",
              "      <td>...</td>\n",
              "      <td>...</td>\n",
              "      <td>...</td>\n",
              "      <td>...</td>\n",
              "      <td>...</td>\n",
              "      <td>...</td>\n",
              "      <td>...</td>\n",
              "      <td>...</td>\n",
              "    </tr>\n",
              "    <tr>\n",
              "      <th>18813</th>\n",
              "      <td>79741</td>\n",
              "      <td>79742</td>\n",
              "      <td>나는 그놈의 전부였다 1</td>\n",
              "      <td></td>\n",
              "      <td>청어람</td>\n",
              "      <td>2003.05</td>\n",
              "      <td>7200</td>\n",
              "      <td>3</td>\n",
              "      <td>5.7</td>\n",
              "      <td></td>\n",
              "      <td>http://image.yes24.com/goods/362884/L</td>\n",
              "      <td>로맨스</td>\n",
              "    </tr>\n",
              "    <tr>\n",
              "      <th>18814</th>\n",
              "      <td>79761</td>\n",
              "      <td>79762</td>\n",
              "      <td>맥그리거의 운명</td>\n",
              "      <td>노라 노버츠</td>\n",
              "      <td>신영미디어</td>\n",
              "      <td>2003.06</td>\n",
              "      <td>7650</td>\n",
              "      <td>3</td>\n",
              "      <td>7.3</td>\n",
              "      <td>돈독한 우애를 자랑하는 맥그리거 남매들! 케인의 여동생 세레나와 다이애너의 오빠가 ...</td>\n",
              "      <td>http://image.yes24.com/goods/370757/L</td>\n",
              "      <td>로맨스</td>\n",
              "    </tr>\n",
              "    <tr>\n",
              "      <th>18815</th>\n",
              "      <td>79762</td>\n",
              "      <td>79763</td>\n",
              "      <td>악마의 키스</td>\n",
              "      <td></td>\n",
              "      <td>신영미디어</td>\n",
              "      <td>2003.06</td>\n",
              "      <td>8100</td>\n",
              "      <td>2</td>\n",
              "      <td>8.5</td>\n",
              "      <td>\"스테파니 로렌스가 전하는 신스터(Cynster) 가문 이야기! ?바 신스터?일당의...</td>\n",
              "      <td>http://image.yes24.com/goods/373141/L</td>\n",
              "      <td>로맨스</td>\n",
              "    </tr>\n",
              "    <tr>\n",
              "      <th>18816</th>\n",
              "      <td>79769</td>\n",
              "      <td>79770</td>\n",
              "      <td>하루만 사랑해 1</td>\n",
              "      <td></td>\n",
              "      <td>파피루스(디앤씨미디어)</td>\n",
              "      <td>2003.06</td>\n",
              "      <td>8100</td>\n",
              "      <td>1</td>\n",
              "      <td>7.0</td>\n",
              "      <td>어느 날 서원은 횡단보도에서 교통사고를 당한다. 상대는 인천상고 짱인 노란머 민하루...</td>\n",
              "      <td>http://image.yes24.com/goods/375482/L</td>\n",
              "      <td>로맨스</td>\n",
              "    </tr>\n",
              "    <tr>\n",
              "      <th>18817</th>\n",
              "      <td>79772</td>\n",
              "      <td>79773</td>\n",
              "      <td>kiss me...</td>\n",
              "      <td></td>\n",
              "      <td>현무</td>\n",
              "      <td>2003.06</td>\n",
              "      <td>7200</td>\n",
              "      <td>2</td>\n",
              "      <td>5.0</td>\n",
              "      <td></td>\n",
              "      <td>http://image.yes24.com/goods/377351/L</td>\n",
              "      <td>로맨스</td>\n",
              "    </tr>\n",
              "  </tbody>\n",
              "</table>\n",
              "<p>18818 rows × 12 columns</p>\n",
              "</div>"
            ],
            "text/plain": [
              "       index     id  ...                                      img    genre\n",
              "0          0      1  ...  http://image.yes24.com/goods/89392792/L  추리/미스터리\n",
              "1          1      2  ...  http://image.yes24.com/goods/97561319/L  추리/미스터리\n",
              "2          2      3  ...  http://image.yes24.com/goods/95712763/L  추리/미스터리\n",
              "3          3      4  ...  http://image.yes24.com/goods/35552641/L  추리/미스터리\n",
              "4          4      5  ...  http://image.yes24.com/goods/78860364/L  추리/미스터리\n",
              "...      ...    ...  ...                                      ...      ...\n",
              "18813  79741  79742  ...    http://image.yes24.com/goods/362884/L      로맨스\n",
              "18814  79761  79762  ...    http://image.yes24.com/goods/370757/L      로맨스\n",
              "18815  79762  79763  ...    http://image.yes24.com/goods/373141/L      로맨스\n",
              "18816  79769  79770  ...    http://image.yes24.com/goods/375482/L      로맨스\n",
              "18817  79772  79773  ...    http://image.yes24.com/goods/377351/L      로맨스\n",
              "\n",
              "[18818 rows x 12 columns]"
            ]
          },
          "metadata": {
            "tags": []
          },
          "execution_count": 18
        }
      ]
    },
    {
      "cell_type": "code",
      "metadata": {
        "id": "tCXIMEhU-hYf",
        "colab": {
          "base_uri": "https://localhost:8080/",
          "height": 397
        },
        "outputId": "f9828a2b-7328-4a90-e080-9c1c9d42f1bf"
      },
      "source": [
        "df_books_data.tail()"
      ],
      "execution_count": 16,
      "outputs": [
        {
          "output_type": "execute_result",
          "data": {
            "text/html": [
              "<div>\n",
              "<style scoped>\n",
              "    .dataframe tbody tr th:only-of-type {\n",
              "        vertical-align: middle;\n",
              "    }\n",
              "\n",
              "    .dataframe tbody tr th {\n",
              "        vertical-align: top;\n",
              "    }\n",
              "\n",
              "    .dataframe thead th {\n",
              "        text-align: right;\n",
              "    }\n",
              "</style>\n",
              "<table border=\"1\" class=\"dataframe\">\n",
              "  <thead>\n",
              "    <tr style=\"text-align: right;\">\n",
              "      <th></th>\n",
              "      <th>id</th>\n",
              "      <th>title</th>\n",
              "      <th>author</th>\n",
              "      <th>pub</th>\n",
              "      <th>date</th>\n",
              "      <th>price</th>\n",
              "      <th>review</th>\n",
              "      <th>rating</th>\n",
              "      <th>story</th>\n",
              "      <th>img</th>\n",
              "      <th>genre</th>\n",
              "    </tr>\n",
              "  </thead>\n",
              "  <tbody>\n",
              "    <tr>\n",
              "      <th>79741</th>\n",
              "      <td>79742</td>\n",
              "      <td>나는 그놈의 전부였다 1</td>\n",
              "      <td></td>\n",
              "      <td>청어람</td>\n",
              "      <td>2003.05</td>\n",
              "      <td>7200</td>\n",
              "      <td>3</td>\n",
              "      <td>5.7</td>\n",
              "      <td></td>\n",
              "      <td>http://image.yes24.com/goods/362884/L</td>\n",
              "      <td>로맨스</td>\n",
              "    </tr>\n",
              "    <tr>\n",
              "      <th>79761</th>\n",
              "      <td>79762</td>\n",
              "      <td>맥그리거의 운명</td>\n",
              "      <td>노라 노버츠</td>\n",
              "      <td>신영미디어</td>\n",
              "      <td>2003.06</td>\n",
              "      <td>7650</td>\n",
              "      <td>3</td>\n",
              "      <td>7.3</td>\n",
              "      <td>돈독한 우애를 자랑하는 맥그리거 남매들! 케인의 여동생 세레나와 다이애너의 오빠가 ...</td>\n",
              "      <td>http://image.yes24.com/goods/370757/L</td>\n",
              "      <td>로맨스</td>\n",
              "    </tr>\n",
              "    <tr>\n",
              "      <th>79762</th>\n",
              "      <td>79763</td>\n",
              "      <td>악마의 키스</td>\n",
              "      <td></td>\n",
              "      <td>신영미디어</td>\n",
              "      <td>2003.06</td>\n",
              "      <td>8100</td>\n",
              "      <td>2</td>\n",
              "      <td>8.5</td>\n",
              "      <td>\"스테파니 로렌스가 전하는 신스터(Cynster) 가문 이야기! ?바 신스터?일당의...</td>\n",
              "      <td>http://image.yes24.com/goods/373141/L</td>\n",
              "      <td>로맨스</td>\n",
              "    </tr>\n",
              "    <tr>\n",
              "      <th>79769</th>\n",
              "      <td>79770</td>\n",
              "      <td>하루만 사랑해 1</td>\n",
              "      <td></td>\n",
              "      <td>파피루스(디앤씨미디어)</td>\n",
              "      <td>2003.06</td>\n",
              "      <td>8100</td>\n",
              "      <td>1</td>\n",
              "      <td>7.0</td>\n",
              "      <td>어느 날 서원은 횡단보도에서 교통사고를 당한다. 상대는 인천상고 짱인 노란머 민하루...</td>\n",
              "      <td>http://image.yes24.com/goods/375482/L</td>\n",
              "      <td>로맨스</td>\n",
              "    </tr>\n",
              "    <tr>\n",
              "      <th>79772</th>\n",
              "      <td>79773</td>\n",
              "      <td>kiss me...</td>\n",
              "      <td></td>\n",
              "      <td>현무</td>\n",
              "      <td>2003.06</td>\n",
              "      <td>7200</td>\n",
              "      <td>2</td>\n",
              "      <td>5.0</td>\n",
              "      <td></td>\n",
              "      <td>http://image.yes24.com/goods/377351/L</td>\n",
              "      <td>로맨스</td>\n",
              "    </tr>\n",
              "  </tbody>\n",
              "</table>\n",
              "</div>"
            ],
            "text/plain": [
              "          id          title  ...                                    img genre\n",
              "79741  79742  나는 그놈의 전부였다 1  ...  http://image.yes24.com/goods/362884/L   로맨스\n",
              "79761  79762       맥그리거의 운명  ...  http://image.yes24.com/goods/370757/L   로맨스\n",
              "79762  79763         악마의 키스  ...  http://image.yes24.com/goods/373141/L   로맨스\n",
              "79769  79770      하루만 사랑해 1  ...  http://image.yes24.com/goods/375482/L   로맨스\n",
              "79772  79773     kiss me...  ...  http://image.yes24.com/goods/377351/L   로맨스\n",
              "\n",
              "[5 rows x 11 columns]"
            ]
          },
          "metadata": {
            "tags": []
          },
          "execution_count": 16
        }
      ]
    },
    {
      "cell_type": "code",
      "metadata": {
        "id": "7kuAo4EY-j0M",
        "colab": {
          "base_uri": "https://localhost:8080/"
        },
        "outputId": "4939f998-4bac-4956-b222-9fdade1edc31"
      },
      "source": [
        "df_mystery=df_books[df_books['genre']=='추리/미스터리']\n",
        "df_horror =df_books[df_books['genre']== '공포/스릴러']\n",
        "df_fantasy = df_books[df_books['genre']=='판타지']\n",
        "df_martial = df_books[df_books['genre']=='무협']\n",
        "df_sf = df_books[df_books['genre']=='SF']\n",
        "df_history = df_books[df_books['genre']=='역사']\n",
        "df_romance = df_books[df_books['genre']=='로맨스']\n",
        "\n",
        "\n",
        "print(df_mystery.shape)\n",
        "print(df_horror.shape)\n",
        "print(df_fantasy.shape)\n",
        "print(df_martial.shape)\n",
        "print(df_sf.shape)\n",
        "print(df_history.shape)\n",
        "print(df_romance.shape)"
      ],
      "execution_count": 19,
      "outputs": [
        {
          "output_type": "stream",
          "text": [
            "(3203, 12)\n",
            "(2575, 12)\n",
            "(3385, 12)\n",
            "(665, 12)\n",
            "(968, 12)\n",
            "(1918, 12)\n",
            "(6104, 12)\n"
          ],
          "name": "stdout"
        }
      ]
    },
    {
      "cell_type": "code",
      "metadata": {
        "id": "2gnmFB7w-qd0"
      },
      "source": [
        "# 형태소 작업 형태소 작업\n",
        "\n",
        "from konlpy.tag import Mecab\n",
        "\n",
        "df_mystery_list = list(np.array(df_mystery['story'].tolist()))\n",
        "df_horror_list = list(np.array(df_horror['story'].tolist()))\n",
        "df_fantasy_list = list(np.array(df_fantasy['story'].tolist()))\n",
        "df_martial_list = list(np.array(df_martial['story'].tolist()))\n",
        "df_sf_list = list(np.array(df_sf['story'].tolist()))\n",
        "df_history_list = list(np.array(df_history['story'].tolist()))\n",
        "df_romance_list = list(np.array(df_romance['story'].tolist()))"
      ],
      "execution_count": 20,
      "outputs": []
    },
    {
      "cell_type": "code",
      "metadata": {
        "id": "0DLHUM2o-vN7"
      },
      "source": [
        "\n",
        "mecab = Mecab()"
      ],
      "execution_count": 21,
      "outputs": []
    },
    {
      "cell_type": "code",
      "metadata": {
        "id": "8Vw3-fMeUPtm"
      },
      "source": [
        "\n",
        "#미스터리\n",
        "all_sentences_mystery = []\n",
        "for idx, line in enumerate(df_mystery_list):\n",
        "  #print(f\"--미스테리소설{idx}번--\")\n",
        "  preprocessed = cleansing_numbers(line)\n",
        "  preprocessed = cleansing_special(preprocessed)\n",
        "  #명사\n",
        "  preprocessed_list = ' '.join(list(set(mecab.nouns(preprocessed))))\n",
        "  #print(preprocessed_list)\n",
        "  all_sentences_mystery.append(preprocessed_list)"
      ],
      "execution_count": 22,
      "outputs": []
    },
    {
      "cell_type": "code",
      "metadata": {
        "id": "ctN-2dzeUQO7"
      },
      "source": [
        "#호러\n",
        "all_sentences_horror = []\n",
        "for idx, line in enumerate(df_horror_list):\n",
        "  #print(f\"--호러소설{idx}번--\")\n",
        "  preprocessed = cleansing_numbers(line)\n",
        "  preprocessed = cleansing_special(preprocessed)\n",
        "  #명사\n",
        "  preprocessed_list = ' '.join(list(set(mecab.nouns(preprocessed))))\n",
        "  #print(preprocessed_list)\n",
        "  all_sentences_horror.append(preprocessed_list)"
      ],
      "execution_count": 23,
      "outputs": []
    },
    {
      "cell_type": "code",
      "metadata": {
        "id": "ts0d80dwUT9n"
      },
      "source": [
        "#판타지\n",
        "all_sentences_fantasy = []\n",
        "for idx, line in enumerate(df_fantasy_list):\n",
        "  #print(f\"--판타지소설{idx}번--\")\n",
        "  preprocessed = cleansing_numbers(line)\n",
        "  preprocessed = cleansing_special(preprocessed)\n",
        "  #명사\n",
        "  preprocessed_list = ' '.join(list(set(mecab.nouns(preprocessed))))\n",
        "  #print(preprocessed_list)\n",
        "  all_sentences_fantasy.append(preprocessed_list)"
      ],
      "execution_count": 24,
      "outputs": []
    },
    {
      "cell_type": "code",
      "metadata": {
        "id": "RwqD5yWtUUWO"
      },
      "source": [
        "#무협\n",
        "all_sentences_martial = []\n",
        "for idx, line in enumerate(df_martial_list):\n",
        "  #print(f\"--무협소설{idx}번--\")\n",
        "  preprocessed = cleansing_numbers(line)\n",
        "  preprocessed = cleansing_special(preprocessed)\n",
        "  #명사\n",
        "  preprocessed_list = ' '.join(list(set(mecab.nouns(preprocessed))))\n",
        "  #print(preprocessed_list)\n",
        "  all_sentences_martial.append(preprocessed_list)"
      ],
      "execution_count": 25,
      "outputs": []
    },
    {
      "cell_type": "code",
      "metadata": {
        "id": "ORVazuK3UUwl"
      },
      "source": [
        "\n",
        "#sf\n",
        "all_sentences_sf = []\n",
        "for idx, line in enumerate(df_sf_list):\n",
        "  #print(f\"--sf소설{idx}번--\")\n",
        "  preprocessed = cleansing_numbers(line)\n",
        "  preprocessed = cleansing_special(preprocessed)\n",
        "  #명사\n",
        "  preprocessed_list = ' '.join(list(set(mecab.nouns(preprocessed))))\n",
        "  #print(preprocessed_list)\n",
        "  all_sentences_sf.append(preprocessed_list)"
      ],
      "execution_count": 26,
      "outputs": []
    },
    {
      "cell_type": "code",
      "metadata": {
        "id": "Awl0vYQ4UU_8"
      },
      "source": [
        "#역사\n",
        "all_sentences_history = []\n",
        "for idx, line in enumerate(df_history_list):\n",
        "  #print(f\"--역사소설{idx}번--\")\n",
        "  preprocessed = cleansing_numbers(line)\n",
        "  preprocessed = cleansing_special(preprocessed)\n",
        "  #명사\n",
        "  preprocessed_list = ' '.join(list(set(mecab.nouns(preprocessed))))\n",
        "  #print(preprocessed_list)\n",
        "  all_sentences_history.append(preprocessed_list)"
      ],
      "execution_count": 27,
      "outputs": []
    },
    {
      "cell_type": "code",
      "metadata": {
        "id": "IamIqi0eUbFq"
      },
      "source": [
        "#로맨스\n",
        "all_sentences_romance = []\n",
        "for idx, line in enumerate(df_romance_list):\n",
        "  #print(f\"--연애소설{idx}번--\")\n",
        "  preprocessed = cleansing_numbers(line)\n",
        "  preprocessed = cleansing_special(preprocessed)\n",
        "  #명사\n",
        "  preprocessed_list = ' '.join(list(set(mecab.nouns(preprocessed))))\n",
        "  #print(preprocessed_list)\n",
        "  all_sentences_romance.append(preprocessed_list)"
      ],
      "execution_count": 28,
      "outputs": []
    },
    {
      "cell_type": "code",
      "metadata": {
        "id": "ppmNzGztUbpB"
      },
      "source": [
        "from sklearn.feature_extraction.text import TfidfVectorizer\n",
        "from collections import defaultdict  #단어 개수를 세고, 빈도와 리스트 셋 항목 정리리"
      ],
      "execution_count": 29,
      "outputs": []
    },
    {
      "cell_type": "code",
      "metadata": {
        "id": "ulRDjpZM-4gI",
        "colab": {
          "base_uri": "https://localhost:8080/"
        },
        "outputId": "1af105ed-ab0c-457b-eadf-86a767139f99"
      },
      "source": [
        "\n",
        "print(len(all_sentences_mystery))\n",
        "print(len(all_sentences_horror))\n",
        "print(len(all_sentences_fantasy))\n",
        "print(len(all_sentences_martial))\n",
        "print(len(all_sentences_sf))\n",
        "print(len(all_sentences_history))\n",
        "print(len(all_sentences_romance))"
      ],
      "execution_count": 30,
      "outputs": [
        {
          "output_type": "stream",
          "text": [
            "3203\n",
            "2575\n",
            "3385\n",
            "665\n",
            "968\n",
            "1918\n",
            "6104\n"
          ],
          "name": "stdout"
        }
      ]
    },
    {
      "cell_type": "code",
      "metadata": {
        "id": "oAuAVPHB-nL3"
      },
      "source": [
        "\n",
        "tfidf_vectorizer = TfidfVectorizer()\n",
        "tfidf_matrix = tfidf_vectorizer.fit_transform(all_sentences_mystery)\n",
        "\n",
        "word2id = defaultdict(lambda : 0)\n",
        "for idx, feature in enumerate(tfidf_vectorizer.get_feature_names()):\n",
        "  word2id[feature] = idx\n",
        "\n",
        "for idx, sent in enumerate(all_sentences_mystery):\n",
        "    #print(f'---미스테리 소설 {idx} 번---')\n",
        "    results_mystery = [(token, tfidf_matrix[idx, word2id[token]]) for token in sent.split()]\n",
        "    results_mystery.sort(key = lambda element : element[1], reverse = True)\n",
        "    #print(results_mystery)\n",
        "    #print(\"\\n\")"
      ],
      "execution_count": 31,
      "outputs": []
    },
    {
      "cell_type": "code",
      "metadata": {
        "id": "Wfiftn-R-TUT",
        "colab": {
          "base_uri": "https://localhost:8080/"
        },
        "outputId": "592a71bb-d289-47f2-c1cd-792267351855"
      },
      "source": [
        "#tfidf_vectorizer.vocabulary_  #어떤 단어가 어떤 번호를 할당받았는지!\n",
        "tfidf_matrix.shape"
      ],
      "execution_count": 32,
      "outputs": [
        {
          "output_type": "execute_result",
          "data": {
            "text/plain": [
              "(3203, 11156)"
            ]
          },
          "metadata": {
            "tags": []
          },
          "execution_count": 32
        }
      ]
    },
    {
      "cell_type": "code",
      "metadata": {
        "id": "u0hzY8OX-cPs"
      },
      "source": [
        "\n",
        "#호러\n",
        "tfidf_vectorizer = TfidfVectorizer()\n",
        "tfidf_matrix = tfidf_vectorizer.fit_transform(all_sentences_horror)\n",
        "\n",
        "word2id = defaultdict(lambda : 0)\n",
        "for idx, feature in enumerate(tfidf_vectorizer.get_feature_names()):\n",
        "  word2id[feature] = idx\n",
        "\n",
        "for idx, sent in enumerate(all_sentences_horror):\n",
        "  #print(f'---공포 소설 {idx} 번---')\n",
        "  results_horror = [(token, tfidf_matrix[idx, word2id[token]]) for token in sent.split()]\n",
        "  results_horror.sort(key = lambda element : element[1], reverse = True)\n",
        "  #print(results_horror)\n",
        "  #print(\"\\n\")"
      ],
      "execution_count": 33,
      "outputs": []
    },
    {
      "cell_type": "code",
      "metadata": {
        "id": "8VyCHl54H0lj"
      },
      "source": [
        "#판타지\n",
        "tfidf_vectorizer = TfidfVectorizer()\n",
        "tfidf_matrix = tfidf_vectorizer.fit_transform(all_sentences_fantasy)\n",
        "\n",
        "word2id = defaultdict(lambda : 0)\n",
        "for idx, feature in enumerate(tfidf_vectorizer.get_feature_names()):\n",
        "  word2id[feature] = idx\n",
        "\n",
        "for idx, sent in enumerate(all_sentences_fantasy):\n",
        "  #print(f'--- 판타지 소설 {idx} 번---')\n",
        "  results_fantasy = [(token, tfidf_matrix[idx, word2id[token]]) for token in sent.split()]\n",
        "  results_fantasy.sort(key = lambda element : element[1], reverse = True)\n",
        "  #print(results_fantasy)\n",
        "  #print(\"\\n\")"
      ],
      "execution_count": 34,
      "outputs": []
    },
    {
      "cell_type": "code",
      "metadata": {
        "id": "WgtGKxpcJe4a"
      },
      "source": [
        "#무협\n",
        "tfidf_vectorizer = TfidfVectorizer()\n",
        "tfidf_matrix = tfidf_vectorizer.fit_transform(all_sentences_martial)\n",
        "\n",
        "word2id = defaultdict(lambda : 0)\n",
        "for idx, feature in enumerate(tfidf_vectorizer.get_feature_names()):\n",
        "  word2id[feature] = idx\n",
        "  \n",
        "for idx, sent in enumerate(all_sentences_martial):\n",
        "  #print(f'--- 무협 소설 {idx} 번---')\n",
        "  results_martial = [(token, tfidf_matrix[idx, word2id[token]]) for token in sent.split()]\n",
        "  results_martial.sort(key = lambda element : element[1], reverse = True)\n",
        "  #print(results_martial)\n",
        "  #print(\"\\n\")"
      ],
      "execution_count": 35,
      "outputs": []
    },
    {
      "cell_type": "code",
      "metadata": {
        "id": "uD51m3IX-gDv"
      },
      "source": [
        "#sf\n",
        "tfidf_vectorizer = TfidfVectorizer()\n",
        "tfidf_matrix = tfidf_vectorizer.fit_transform(all_sentences_sf)\n",
        "\n",
        "word2id = defaultdict(lambda : 0)\n",
        "for idx, feature in enumerate(tfidf_vectorizer.get_feature_names()):\n",
        "  word2id[feature] = idx\n",
        "\n",
        "for idx, sent in enumerate(all_sentences_sf):\n",
        "  #print(f'--- sf 소설 {idx} 번---')\n",
        "  results_sf = [(token, tfidf_matrix[idx, word2id[token]]) for token in sent.split()]\n",
        "  results_sf.sort(key = lambda element : element[1], reverse = True)\n",
        "  #print(results_sf)\n",
        "  #print(\"\\n\")"
      ],
      "execution_count": 36,
      "outputs": []
    },
    {
      "cell_type": "code",
      "metadata": {
        "id": "HQ49Am5hVhHq"
      },
      "source": [
        "#역사\n",
        "tfidf_vectorizer = TfidfVectorizer()\n",
        "tfidf_matrix = tfidf_vectorizer.fit_transform(all_sentences_history)\n",
        "\n",
        "word2id = defaultdict(lambda : 0)\n",
        "for idx, feature in enumerate(tfidf_vectorizer.get_feature_names()):\n",
        "  word2id[feature] = idx\n",
        "  \n",
        "for idx, sent in enumerate(all_sentences_history):\n",
        "  #print(f'--- sf 소설 {idx} 번---')\n",
        "  results_history = [(token, tfidf_matrix[idx, word2id[token]]) for token in sent.split()]\n",
        "  results_history.sort(key = lambda element : element[1], reverse = True)\n",
        "  #print(results_history)\n",
        "  #print(\"\\n\")"
      ],
      "execution_count": 37,
      "outputs": []
    },
    {
      "cell_type": "code",
      "metadata": {
        "id": "A6Iyf65g-gqz"
      },
      "source": [
        "#연애\n",
        "tfidf_vectorizer = TfidfVectorizer()\n",
        "tfidf_matrix = tfidf_vectorizer.fit_transform(all_sentences_romance)\n",
        "\n",
        "word2id = defaultdict(lambda : 0)\n",
        "for idx, feature in enumerate(tfidf_vectorizer.get_feature_names()):\n",
        "  word2id[feature] = idx\n",
        "for idx, sent in enumerate(all_sentences_romance):\n",
        "  #print(f'--- 연애 소설 {idx} 번---')\n",
        "  results_romance = [(token, tfidf_matrix[idx, word2id[token]]) for token in sent.split()]\n",
        "  results_romance.sort(key = lambda element : element[1], reverse = True)\n",
        "  #print(results_romance)\n",
        "  #print(\"\\n\")"
      ],
      "execution_count": 38,
      "outputs": []
    },
    {
      "cell_type": "code",
      "metadata": {
        "id": "XspO0r9-CEXt",
        "colab": {
          "base_uri": "https://localhost:8080/"
        },
        "outputId": "8b122236-7555-4a7a-b22b-e0c2e3df00cf"
      },
      "source": [
        "print(results_romance)\n",
        "print(results_fantasy)\n",
        "print(results_history)\n",
        "print(results_horror)\n",
        "print(results_martial)\n",
        "print(results_sf)\n",
        "print(results_mystery)"
      ],
      "execution_count": 39,
      "outputs": [
        {
          "output_type": "stream",
          "text": [
            "[]\n",
            "[('태곳적', 0.41762871029104454), ('불로불사', 0.41762871029104454), ('고통', 0.3216154876463946), ('행복', 0.29615096110402), ('만큼', 0.2855604804698291), ('누구', 0.24683738179823825), ('그것', 0.24129192930211454), ('남자', 0.22841464613174067), ('상상', 0.22404094675088906), ('시간', 0.2151903065671379), ('존재', 0.2064191634715358), ('자신', 0.18861900678059348), ('사람', 0.18020784007012874), ('힘', 0.0), ('그', 0.0)]\n",
            "[('천손', 0.24051687800703264), ('제천', 0.24051687800703264), ('상고사', 0.24051687800703264), ('주민', 0.24051687800703264), ('신시', 0.24051687800703264), ('마고성', 0.24051687800703264), ('신성', 0.23303495878332126), ('교환', 0.23303495878332126), ('물품', 0.23303495878332126), ('화합', 0.23303495878332126), ('종족', 0.23303495878332126), ('공간', 0.22692178565938517), ('장소', 0.22175317142897116), ('고도', 0.22175317142897116), ('교류', 0.20979399490805214), ('의식', 0.16778932445472153), ('하늘', 0.16088718261589338), ('문화', 0.15583014793380254), ('등장', 0.15203027980316383), ('기록', 0.12969967836426766), ('하나', 0.12969967836426766), ('민족', 0.12732490749980957), ('사람', 0.12106875069084178), ('한국', 0.11967148087745486), ('시대', 0.08519764230906751), ('영', 0.0), ('장', 0.0), ('족', 0.0), ('뒤', 0.0)]\n",
            "[('영장류', 0.22845983497543002), ('염색체', 0.22845983497543002), ('공학', 0.2199852286982038), ('도덕', 0.2199852286982038), ('추진', 0.2199852286982038), ('돌연변이', 0.2199852286982038), ('이식', 0.21341181338395296), ('복제', 0.21341181338395296), ('시스', 0.21341181338395296), ('제공', 0.20804094200322523), ('생명체', 0.20349993495412685), ('생물', 0.19299292041174818), ('흥분', 0.19018525067699726), ('프로젝트', 0.18762204903102048), ('신간', 0.18762204903102048), ('유전자', 0.18104863371676963), ('장기', 0.17914744275379424), ('로빈', 0.17736154835925863), ('가능', 0.1756777623360419), ('관련', 0.1672031560588157), ('이용', 0.16484523911559001), ('회사', 0.15872854978158946), ('거대', 0.1467842630866109), ('여름', 0.1455817191530878), ('문제', 0.1433145826688586), ('이번', 0.13483997639163237), ('소재', 0.12053777275342814), ('비밀', 0.1176615157103209), ('인간', 0.09961957569856736), ('독자', 0.09805291999122366), ('것', 0.0), ('소', 0.0), ('쿡', 0.0), ('젠', 0.0), ('번', 0.0)]\n",
            "[('최후', 0.3197656397809624), ('간접', 0.3197656397809624), ('공간', 0.3197656397809624), ('축복', 0.3197656397809624), ('마감', 0.3197656397809624), ('비선', 0.3197656397809624), ('눈앞', 0.30072170674138865), ('저주', 0.2546540026551778), ('선택', 0.2251294369681535), ('평화', 0.2251294369681535), ('은거', 0.22209818409228546), ('시간', 0.2165661365760303), ('세상', 0.1436584899283092), ('무림', 0.113950095756158), ('것', 0.0), ('길', 0.0), ('그', 0.0), ('파', 0.0), ('삶', 0.0), ('이', 0.0), ('속', 0.0), ('공', 0.0)]\n",
            "[('용어', 0.26006168753767556), ('스노', 0.26006168753767556), ('스티븐슨', 0.26006168753767556), ('다루', 0.24538199710238787), ('해커', 0.24538199710238787), ('영예', 0.24538199710238787), ('크래시', 0.24538199710238787), ('다이아몬드', 0.24538199710238787), ('아바타', 0.24538199710238787), ('창시자', 0.2268877743607924), ('명성', 0.21470594126369977), ('나노', 0.21470594126369977), ('첨단', 0.20987149443233905), ('가상', 0.19519180399705136), ('본격', 0.17493115427574388), ('현실', 0.16451574815836328), ('기술', 0.15968130132700256), ('발표', 0.1554170170090954), ('휴고', 0.1554170170090954), ('시대', 0.14007300387373603), ('우리', 0.13573565278764413), ('시작', 0.13082828635188037), ('이야기', 0.10279607422397516), ('세계', 0.08397420606661872), ('작가', 0.07586744303318359), ('그', 0.0), ('책', 0.0), ('년', 0.0), ('상', 0.0), ('닐', 0.0)]\n",
            "[('보더스', 0.3110100840487467), ('글로브', 0.2959601240259429), ('스타덤', 0.2852820074553756), ('매튜', 0.25955393086200446), ('보스턴', 0.2551820874097679), ('단테', 0.2512713401791843), ('뉴스', 0.2512713401791843), ('포스트', 0.24773363898828754), ('다빈치', 0.23382585426863328), ('워싱턴', 0.23382585426863328), ('신인', 0.20477157431307993), ('클럽', 0.20270894544162113), ('코드', 0.19889865231433465), ('타임스', 0.197130805417232), ('뉴욕', 0.17140272882386084), ('미국', 0.15175780369835187), ('베스트셀러', 0.14859174785020363), ('역사', 0.13687771934283197), ('문학', 0.1253995291397626), ('출간', 0.12049003730042636), ('작품', 0.08806765786411645), ('추리', 0.08457985733300463), ('소설', 0.07065647144947253), ('년', 0.0), ('붐', 0.0), ('펄', 0.0), ('등', 0.0)]\n"
          ],
          "name": "stdout"
        }
      ]
    },
    {
      "cell_type": "markdown",
      "metadata": {
        "id": "h_2IFgqCYPQ5"
      },
      "source": [
        "# 유사도 검증 "
      ]
    },
    {
      "cell_type": "code",
      "metadata": {
        "id": "2aWzBhLNVsDW"
      },
      "source": [
        "import pandas as pd\n",
        "from sklearn.feature_extraction.text import TfidfVectorizer \n",
        "from sklearn.metrics.pairwise import linear_kernel"
      ],
      "execution_count": 40,
      "outputs": []
    },
    {
      "cell_type": "code",
      "metadata": {
        "colab": {
          "base_uri": "https://localhost:8080/",
          "height": 990
        },
        "id": "vv-H4GEsZYfM",
        "outputId": "1a0618bc-957b-4d3a-c29b-c2905f1eeb2f"
      },
      "source": [
        "df_books_data"
      ],
      "execution_count": 41,
      "outputs": [
        {
          "output_type": "execute_result",
          "data": {
            "text/html": [
              "<div>\n",
              "<style scoped>\n",
              "    .dataframe tbody tr th:only-of-type {\n",
              "        vertical-align: middle;\n",
              "    }\n",
              "\n",
              "    .dataframe tbody tr th {\n",
              "        vertical-align: top;\n",
              "    }\n",
              "\n",
              "    .dataframe thead th {\n",
              "        text-align: right;\n",
              "    }\n",
              "</style>\n",
              "<table border=\"1\" class=\"dataframe\">\n",
              "  <thead>\n",
              "    <tr style=\"text-align: right;\">\n",
              "      <th></th>\n",
              "      <th>id</th>\n",
              "      <th>title</th>\n",
              "      <th>author</th>\n",
              "      <th>pub</th>\n",
              "      <th>date</th>\n",
              "      <th>price</th>\n",
              "      <th>review</th>\n",
              "      <th>rating</th>\n",
              "      <th>story</th>\n",
              "      <th>img</th>\n",
              "      <th>genre</th>\n",
              "    </tr>\n",
              "  </thead>\n",
              "  <tbody>\n",
              "    <tr>\n",
              "      <th>0</th>\n",
              "      <td>1</td>\n",
              "      <td>요리코를 위해</td>\n",
              "      <td>노리즈키 린타로</td>\n",
              "      <td>모모</td>\n",
              "      <td>2020.03</td>\n",
              "      <td>13500</td>\n",
              "      <td>43</td>\n",
              "      <td>9.2</td>\n",
              "      <td>스스로 악마이자 신이 되어 딸을 살해한 남자를 심판한 아버지.비극의 출발이자 마지막...</td>\n",
              "      <td>http://image.yes24.com/goods/89392792/L</td>\n",
              "      <td>추리/미스터리</td>\n",
              "    </tr>\n",
              "    <tr>\n",
              "      <th>1</th>\n",
              "      <td>2</td>\n",
              "      <td>그녀는 다 계획이 있다</td>\n",
              "      <td>히가시노 게이고</td>\n",
              "      <td>하빌리스</td>\n",
              "      <td>2021.02</td>\n",
              "      <td>14220</td>\n",
              "      <td>13</td>\n",
              "      <td>9.4</td>\n",
              "      <td>하나야 보석점 살인사건을 둘러싼 과거와 미래의 사건경쾌하고 리듬감 있는 터치의 히가...</td>\n",
              "      <td>http://image.yes24.com/goods/97561319/L</td>\n",
              "      <td>추리/미스터리</td>\n",
              "    </tr>\n",
              "    <tr>\n",
              "      <th>2</th>\n",
              "      <td>3</td>\n",
              "      <td>블랙 쇼맨과 이름 없는 마을의 살인</td>\n",
              "      <td>히가시노 게이고</td>\n",
              "      <td>알에이치코리아(RHK)</td>\n",
              "      <td>2020.11</td>\n",
              "      <td>16200</td>\n",
              "      <td>54</td>\n",
              "      <td>9.1</td>\n",
              "      <td>아버지가 살해당했다, 그것도 결혼 소식을 알린 직후에. 행복하다고 느끼는 순간, 비...</td>\n",
              "      <td>http://image.yes24.com/goods/95712763/L</td>\n",
              "      <td>추리/미스터리</td>\n",
              "    </tr>\n",
              "    <tr>\n",
              "      <th>3</th>\n",
              "      <td>4</td>\n",
              "      <td>돌이킬 수 없는 약속</td>\n",
              "      <td>야쿠마루 가쿠</td>\n",
              "      <td>북플라자</td>\n",
              "      <td>2017.02</td>\n",
              "      <td>13500</td>\n",
              "      <td>217</td>\n",
              "      <td>8.2</td>\n",
              "      <td>제51회 에드가와란포상 수상 작가 야쿠마루 가쿠의 미스터리 추리 소설. \"내 딸을 ...</td>\n",
              "      <td>http://image.yes24.com/goods/35552641/L</td>\n",
              "      <td>추리/미스터리</td>\n",
              "    </tr>\n",
              "    <tr>\n",
              "      <th>4</th>\n",
              "      <td>5</td>\n",
              "      <td>루팡의 딸</td>\n",
              "      <td>요코제키 다이</td>\n",
              "      <td>북플라자</td>\n",
              "      <td>2019.09</td>\n",
              "      <td>13500</td>\n",
              "      <td>31</td>\n",
              "      <td>8.5</td>\n",
              "      <td>도둑 집안의 대부가 변사체로 발견되었다!도둑 집안의 대부 이와오에게는 하나코라는 손...</td>\n",
              "      <td>http://image.yes24.com/goods/78860364/L</td>\n",
              "      <td>추리/미스터리</td>\n",
              "    </tr>\n",
              "    <tr>\n",
              "      <th>...</th>\n",
              "      <td>...</td>\n",
              "      <td>...</td>\n",
              "      <td>...</td>\n",
              "      <td>...</td>\n",
              "      <td>...</td>\n",
              "      <td>...</td>\n",
              "      <td>...</td>\n",
              "      <td>...</td>\n",
              "      <td>...</td>\n",
              "      <td>...</td>\n",
              "      <td>...</td>\n",
              "    </tr>\n",
              "    <tr>\n",
              "      <th>79741</th>\n",
              "      <td>79742</td>\n",
              "      <td>나는 그놈의 전부였다 1</td>\n",
              "      <td></td>\n",
              "      <td>청어람</td>\n",
              "      <td>2003.05</td>\n",
              "      <td>7200</td>\n",
              "      <td>3</td>\n",
              "      <td>5.7</td>\n",
              "      <td></td>\n",
              "      <td>http://image.yes24.com/goods/362884/L</td>\n",
              "      <td>로맨스</td>\n",
              "    </tr>\n",
              "    <tr>\n",
              "      <th>79761</th>\n",
              "      <td>79762</td>\n",
              "      <td>맥그리거의 운명</td>\n",
              "      <td>노라 노버츠</td>\n",
              "      <td>신영미디어</td>\n",
              "      <td>2003.06</td>\n",
              "      <td>7650</td>\n",
              "      <td>3</td>\n",
              "      <td>7.3</td>\n",
              "      <td>돈독한 우애를 자랑하는 맥그리거 남매들! 케인의 여동생 세레나와 다이애너의 오빠가 ...</td>\n",
              "      <td>http://image.yes24.com/goods/370757/L</td>\n",
              "      <td>로맨스</td>\n",
              "    </tr>\n",
              "    <tr>\n",
              "      <th>79762</th>\n",
              "      <td>79763</td>\n",
              "      <td>악마의 키스</td>\n",
              "      <td></td>\n",
              "      <td>신영미디어</td>\n",
              "      <td>2003.06</td>\n",
              "      <td>8100</td>\n",
              "      <td>2</td>\n",
              "      <td>8.5</td>\n",
              "      <td>\"스테파니 로렌스가 전하는 신스터(Cynster) 가문 이야기! ?바 신스터?일당의...</td>\n",
              "      <td>http://image.yes24.com/goods/373141/L</td>\n",
              "      <td>로맨스</td>\n",
              "    </tr>\n",
              "    <tr>\n",
              "      <th>79769</th>\n",
              "      <td>79770</td>\n",
              "      <td>하루만 사랑해 1</td>\n",
              "      <td></td>\n",
              "      <td>파피루스(디앤씨미디어)</td>\n",
              "      <td>2003.06</td>\n",
              "      <td>8100</td>\n",
              "      <td>1</td>\n",
              "      <td>7.0</td>\n",
              "      <td>어느 날 서원은 횡단보도에서 교통사고를 당한다. 상대는 인천상고 짱인 노란머 민하루...</td>\n",
              "      <td>http://image.yes24.com/goods/375482/L</td>\n",
              "      <td>로맨스</td>\n",
              "    </tr>\n",
              "    <tr>\n",
              "      <th>79772</th>\n",
              "      <td>79773</td>\n",
              "      <td>kiss me...</td>\n",
              "      <td></td>\n",
              "      <td>현무</td>\n",
              "      <td>2003.06</td>\n",
              "      <td>7200</td>\n",
              "      <td>2</td>\n",
              "      <td>5.0</td>\n",
              "      <td></td>\n",
              "      <td>http://image.yes24.com/goods/377351/L</td>\n",
              "      <td>로맨스</td>\n",
              "    </tr>\n",
              "  </tbody>\n",
              "</table>\n",
              "<p>18818 rows × 11 columns</p>\n",
              "</div>"
            ],
            "text/plain": [
              "          id  ...    genre\n",
              "0          1  ...  추리/미스터리\n",
              "1          2  ...  추리/미스터리\n",
              "2          3  ...  추리/미스터리\n",
              "3          4  ...  추리/미스터리\n",
              "4          5  ...  추리/미스터리\n",
              "...      ...  ...      ...\n",
              "79741  79742  ...      로맨스\n",
              "79761  79762  ...      로맨스\n",
              "79762  79763  ...      로맨스\n",
              "79769  79770  ...      로맨스\n",
              "79772  79773  ...      로맨스\n",
              "\n",
              "[18818 rows x 11 columns]"
            ]
          },
          "metadata": {
            "tags": []
          },
          "execution_count": 41
        }
      ]
    },
    {
      "cell_type": "code",
      "metadata": {
        "id": "VSWveqfYPLrZ",
        "outputId": "bedded95-a758-441c-f409-b0a844fe1642",
        "colab": {
          "base_uri": "https://localhost:8080/",
          "height": 1000
        }
      },
      "source": [
        "df_books"
      ],
      "execution_count": 42,
      "outputs": [
        {
          "output_type": "execute_result",
          "data": {
            "text/html": [
              "<div>\n",
              "<style scoped>\n",
              "    .dataframe tbody tr th:only-of-type {\n",
              "        vertical-align: middle;\n",
              "    }\n",
              "\n",
              "    .dataframe tbody tr th {\n",
              "        vertical-align: top;\n",
              "    }\n",
              "\n",
              "    .dataframe thead th {\n",
              "        text-align: right;\n",
              "    }\n",
              "</style>\n",
              "<table border=\"1\" class=\"dataframe\">\n",
              "  <thead>\n",
              "    <tr style=\"text-align: right;\">\n",
              "      <th></th>\n",
              "      <th>index</th>\n",
              "      <th>id</th>\n",
              "      <th>title</th>\n",
              "      <th>author</th>\n",
              "      <th>pub</th>\n",
              "      <th>date</th>\n",
              "      <th>price</th>\n",
              "      <th>review</th>\n",
              "      <th>rating</th>\n",
              "      <th>story</th>\n",
              "      <th>img</th>\n",
              "      <th>genre</th>\n",
              "    </tr>\n",
              "  </thead>\n",
              "  <tbody>\n",
              "    <tr>\n",
              "      <th>0</th>\n",
              "      <td>0</td>\n",
              "      <td>1</td>\n",
              "      <td>요리코를 위해</td>\n",
              "      <td>노리즈키 린타로</td>\n",
              "      <td>모모</td>\n",
              "      <td>2020.03</td>\n",
              "      <td>13500</td>\n",
              "      <td>43</td>\n",
              "      <td>9.2</td>\n",
              "      <td>스스로 악마이자 신이 되어 딸을 살해한 남자를 심판한 아버지.비극의 출발이자 마지막...</td>\n",
              "      <td>http://image.yes24.com/goods/89392792/L</td>\n",
              "      <td>추리/미스터리</td>\n",
              "    </tr>\n",
              "    <tr>\n",
              "      <th>1</th>\n",
              "      <td>1</td>\n",
              "      <td>2</td>\n",
              "      <td>그녀는 다 계획이 있다</td>\n",
              "      <td>히가시노 게이고</td>\n",
              "      <td>하빌리스</td>\n",
              "      <td>2021.02</td>\n",
              "      <td>14220</td>\n",
              "      <td>13</td>\n",
              "      <td>9.4</td>\n",
              "      <td>하나야 보석점 살인사건을 둘러싼 과거와 미래의 사건경쾌하고 리듬감 있는 터치의 히가...</td>\n",
              "      <td>http://image.yes24.com/goods/97561319/L</td>\n",
              "      <td>추리/미스터리</td>\n",
              "    </tr>\n",
              "    <tr>\n",
              "      <th>2</th>\n",
              "      <td>2</td>\n",
              "      <td>3</td>\n",
              "      <td>블랙 쇼맨과 이름 없는 마을의 살인</td>\n",
              "      <td>히가시노 게이고</td>\n",
              "      <td>알에이치코리아(RHK)</td>\n",
              "      <td>2020.11</td>\n",
              "      <td>16200</td>\n",
              "      <td>54</td>\n",
              "      <td>9.1</td>\n",
              "      <td>아버지가 살해당했다, 그것도 결혼 소식을 알린 직후에. 행복하다고 느끼는 순간, 비...</td>\n",
              "      <td>http://image.yes24.com/goods/95712763/L</td>\n",
              "      <td>추리/미스터리</td>\n",
              "    </tr>\n",
              "    <tr>\n",
              "      <th>3</th>\n",
              "      <td>3</td>\n",
              "      <td>4</td>\n",
              "      <td>돌이킬 수 없는 약속</td>\n",
              "      <td>야쿠마루 가쿠</td>\n",
              "      <td>북플라자</td>\n",
              "      <td>2017.02</td>\n",
              "      <td>13500</td>\n",
              "      <td>217</td>\n",
              "      <td>8.2</td>\n",
              "      <td>제51회 에드가와란포상 수상 작가 야쿠마루 가쿠의 미스터리 추리 소설. \"내 딸을 ...</td>\n",
              "      <td>http://image.yes24.com/goods/35552641/L</td>\n",
              "      <td>추리/미스터리</td>\n",
              "    </tr>\n",
              "    <tr>\n",
              "      <th>4</th>\n",
              "      <td>4</td>\n",
              "      <td>5</td>\n",
              "      <td>루팡의 딸</td>\n",
              "      <td>요코제키 다이</td>\n",
              "      <td>북플라자</td>\n",
              "      <td>2019.09</td>\n",
              "      <td>13500</td>\n",
              "      <td>31</td>\n",
              "      <td>8.5</td>\n",
              "      <td>도둑 집안의 대부가 변사체로 발견되었다!도둑 집안의 대부 이와오에게는 하나코라는 손...</td>\n",
              "      <td>http://image.yes24.com/goods/78860364/L</td>\n",
              "      <td>추리/미스터리</td>\n",
              "    </tr>\n",
              "    <tr>\n",
              "      <th>...</th>\n",
              "      <td>...</td>\n",
              "      <td>...</td>\n",
              "      <td>...</td>\n",
              "      <td>...</td>\n",
              "      <td>...</td>\n",
              "      <td>...</td>\n",
              "      <td>...</td>\n",
              "      <td>...</td>\n",
              "      <td>...</td>\n",
              "      <td>...</td>\n",
              "      <td>...</td>\n",
              "      <td>...</td>\n",
              "    </tr>\n",
              "    <tr>\n",
              "      <th>18813</th>\n",
              "      <td>79741</td>\n",
              "      <td>79742</td>\n",
              "      <td>나는 그놈의 전부였다 1</td>\n",
              "      <td></td>\n",
              "      <td>청어람</td>\n",
              "      <td>2003.05</td>\n",
              "      <td>7200</td>\n",
              "      <td>3</td>\n",
              "      <td>5.7</td>\n",
              "      <td></td>\n",
              "      <td>http://image.yes24.com/goods/362884/L</td>\n",
              "      <td>로맨스</td>\n",
              "    </tr>\n",
              "    <tr>\n",
              "      <th>18814</th>\n",
              "      <td>79761</td>\n",
              "      <td>79762</td>\n",
              "      <td>맥그리거의 운명</td>\n",
              "      <td>노라 노버츠</td>\n",
              "      <td>신영미디어</td>\n",
              "      <td>2003.06</td>\n",
              "      <td>7650</td>\n",
              "      <td>3</td>\n",
              "      <td>7.3</td>\n",
              "      <td>돈독한 우애를 자랑하는 맥그리거 남매들! 케인의 여동생 세레나와 다이애너의 오빠가 ...</td>\n",
              "      <td>http://image.yes24.com/goods/370757/L</td>\n",
              "      <td>로맨스</td>\n",
              "    </tr>\n",
              "    <tr>\n",
              "      <th>18815</th>\n",
              "      <td>79762</td>\n",
              "      <td>79763</td>\n",
              "      <td>악마의 키스</td>\n",
              "      <td></td>\n",
              "      <td>신영미디어</td>\n",
              "      <td>2003.06</td>\n",
              "      <td>8100</td>\n",
              "      <td>2</td>\n",
              "      <td>8.5</td>\n",
              "      <td>\"스테파니 로렌스가 전하는 신스터(Cynster) 가문 이야기! ?바 신스터?일당의...</td>\n",
              "      <td>http://image.yes24.com/goods/373141/L</td>\n",
              "      <td>로맨스</td>\n",
              "    </tr>\n",
              "    <tr>\n",
              "      <th>18816</th>\n",
              "      <td>79769</td>\n",
              "      <td>79770</td>\n",
              "      <td>하루만 사랑해 1</td>\n",
              "      <td></td>\n",
              "      <td>파피루스(디앤씨미디어)</td>\n",
              "      <td>2003.06</td>\n",
              "      <td>8100</td>\n",
              "      <td>1</td>\n",
              "      <td>7.0</td>\n",
              "      <td>어느 날 서원은 횡단보도에서 교통사고를 당한다. 상대는 인천상고 짱인 노란머 민하루...</td>\n",
              "      <td>http://image.yes24.com/goods/375482/L</td>\n",
              "      <td>로맨스</td>\n",
              "    </tr>\n",
              "    <tr>\n",
              "      <th>18817</th>\n",
              "      <td>79772</td>\n",
              "      <td>79773</td>\n",
              "      <td>kiss me...</td>\n",
              "      <td></td>\n",
              "      <td>현무</td>\n",
              "      <td>2003.06</td>\n",
              "      <td>7200</td>\n",
              "      <td>2</td>\n",
              "      <td>5.0</td>\n",
              "      <td></td>\n",
              "      <td>http://image.yes24.com/goods/377351/L</td>\n",
              "      <td>로맨스</td>\n",
              "    </tr>\n",
              "  </tbody>\n",
              "</table>\n",
              "<p>18818 rows × 12 columns</p>\n",
              "</div>"
            ],
            "text/plain": [
              "       index     id  ...                                      img    genre\n",
              "0          0      1  ...  http://image.yes24.com/goods/89392792/L  추리/미스터리\n",
              "1          1      2  ...  http://image.yes24.com/goods/97561319/L  추리/미스터리\n",
              "2          2      3  ...  http://image.yes24.com/goods/95712763/L  추리/미스터리\n",
              "3          3      4  ...  http://image.yes24.com/goods/35552641/L  추리/미스터리\n",
              "4          4      5  ...  http://image.yes24.com/goods/78860364/L  추리/미스터리\n",
              "...      ...    ...  ...                                      ...      ...\n",
              "18813  79741  79742  ...    http://image.yes24.com/goods/362884/L      로맨스\n",
              "18814  79761  79762  ...    http://image.yes24.com/goods/370757/L      로맨스\n",
              "18815  79762  79763  ...    http://image.yes24.com/goods/373141/L      로맨스\n",
              "18816  79769  79770  ...    http://image.yes24.com/goods/375482/L      로맨스\n",
              "18817  79772  79773  ...    http://image.yes24.com/goods/377351/L      로맨스\n",
              "\n",
              "[18818 rows x 12 columns]"
            ]
          },
          "metadata": {
            "tags": []
          },
          "execution_count": 42
        }
      ]
    },
    {
      "cell_type": "code",
      "metadata": {
        "colab": {
          "base_uri": "https://localhost:8080/"
        },
        "id": "tUUq-6iOcBsp",
        "outputId": "cdd604d2-95d2-4c02-834a-c348ef4c39bd"
      },
      "source": [
        "df_books_data['story'].isnull().sum()"
      ],
      "execution_count": 43,
      "outputs": [
        {
          "output_type": "execute_result",
          "data": {
            "text/plain": [
              "0"
            ]
          },
          "metadata": {
            "tags": []
          },
          "execution_count": 43
        }
      ]
    },
    {
      "cell_type": "code",
      "metadata": {
        "id": "Y3kTBzQtdoWP"
      },
      "source": [
        "df_books['story'] = df_books['story'].fillna('')"
      ],
      "execution_count": 44,
      "outputs": []
    },
    {
      "cell_type": "code",
      "metadata": {
        "colab": {
          "base_uri": "https://localhost:8080/"
        },
        "id": "zfoUF00EdyI5",
        "outputId": "4f65ee40-dc80-4d50-c186-dda7ee5ce6a5"
      },
      "source": [
        "tfidf = TfidfVectorizer()\n",
        "# overview에 대해서 tf-idf 수행\n",
        "tfidf_matrix = tfidf.fit_transform(df_books_data['story'])\n",
        "print(tfidf_matrix.shape)"
      ],
      "execution_count": 45,
      "outputs": [
        {
          "output_type": "stream",
          "text": [
            "(18818, 130823)\n"
          ],
          "name": "stdout"
        }
      ]
    },
    {
      "cell_type": "code",
      "metadata": {
        "id": "BRh8m-5mHkvu"
      },
      "source": [
        "cosine_sim = linear_kernel(tfidf_matrix, tfidf_matrix)"
      ],
      "execution_count": 46,
      "outputs": []
    },
    {
      "cell_type": "code",
      "metadata": {
        "colab": {
          "base_uri": "https://localhost:8080/"
        },
        "id": "z9Zx1Rl3CerI",
        "outputId": "97619353-bff1-4357-8a79-1a9fda34d0b0"
      },
      "source": [
        "indices = pd.Series(df_books.index, index=df_books['title']).drop_duplicates()\n",
        "print(indices.head())"
      ],
      "execution_count": 47,
      "outputs": [
        {
          "output_type": "stream",
          "text": [
            "title\n",
            "요리코를 위해                0\n",
            "그녀는 다 계획이 있다           1\n",
            "블랙 쇼맨과 이름 없는 마을의 살인    2\n",
            "돌이킬 수 없는 약속            3\n",
            "루팡의 딸                  4\n",
            "dtype: int64\n"
          ],
          "name": "stdout"
        }
      ]
    },
    {
      "cell_type": "code",
      "metadata": {
        "colab": {
          "base_uri": "https://localhost:8080/"
        },
        "id": "DpzfG_ubANTW",
        "outputId": "ee234d03-0eee-48dc-8b21-b8c0d2765956"
      },
      "source": [
        "idx = indices['요리코를 위해']\n",
        "print(idx)"
      ],
      "execution_count": 41,
      "outputs": [
        {
          "output_type": "stream",
          "text": [
            "0\n"
          ],
          "name": "stdout"
        }
      ]
    },
    {
      "cell_type": "code",
      "metadata": {
        "colab": {
          "base_uri": "https://localhost:8080/"
        },
        "id": "ckC-CselrN3B",
        "outputId": "806c07cf-b0cf-4344-f528-6c16aac49278"
      },
      "source": [
        "idx2 = indices['그녀는 다 계획이 있다']\n",
        "print(idx2)"
      ],
      "execution_count": 47,
      "outputs": [
        {
          "output_type": "stream",
          "text": [
            "1\n"
          ],
          "name": "stdout"
        }
      ]
    },
    {
      "cell_type": "code",
      "metadata": {
        "id": "_PFT3_8GFlc9"
      },
      "source": [
        "idx3 = indices['루팡의 딸']\n",
        "print(idx3)"
      ],
      "execution_count": null,
      "outputs": []
    },
    {
      "cell_type": "code",
      "metadata": {
        "colab": {
          "base_uri": "https://localhost:8080/"
        },
        "id": "evbjgVGkkTWr",
        "outputId": "8a2f7994-8db6-4602-dade-8ea0c9bce66c"
      },
      "source": [
        "indices"
      ],
      "execution_count": 43,
      "outputs": [
        {
          "output_type": "execute_result",
          "data": {
            "text/plain": [
              "title\n",
              "요리코를 위해                    0\n",
              "그녀는 다 계획이 있다               1\n",
              "블랙 쇼맨과 이름 없는 마을의 살인        2\n",
              "돌이킬 수 없는 약속                3\n",
              "루팡의 딸                      4\n",
              "                       ...  \n",
              "범상치 않은 관계 1            11151\n",
              "보통의 세계                 11152\n",
              "미주부동산 2                11153\n",
              "미주부동산 1                11154\n",
              "나쁜 결혼                  11155\n",
              "Length: 11156, dtype: int64"
            ]
          },
          "metadata": {
            "tags": []
          },
          "execution_count": 43
        }
      ]
    },
    {
      "cell_type": "code",
      "metadata": {
        "id": "pmqZwZxDD3yg"
      },
      "source": [
        "def get_recommendations(title, cosine_sim=cosine_sim):\n",
        "    # for i in range(title):\n",
        "        # 선택된 책의 장르로부터 해당되는 인덱스를 받아옵니다. 이제 선택한 장르를 가지고 연산할 수 있습니다.\n",
        "        idx = indices[title]\n",
        "        \n",
        "        # 모든 에 대해서 해당 영화와의 유사도를 구합니다.\n",
        "        sim_scores = list(enumerate(cosine_sim[idx]))\n",
        "\n",
        "        # 유사도에 따라 영화들을 정렬합니다.\n",
        "        sim_scores = sorted(sim_scores, key=lambda x: x[1], reverse=True)\n",
        "\n",
        "        # 가장 유사한 10개의 영화를 받아옵니다.\n",
        "        sim_scores = sim_scores[1:11]\n",
        "\n",
        "        # 가장 유사한 10개의 영화의 인덱스를 받아옵니다.\n",
        "        movie_indices = [i[0] for i in sim_scores]\n",
        "\n",
        "        # 가장 유사한 10개의 영화의 제목을 리턴합니다.\n",
        "        return df_books['title'].iloc[movie_indices]"
      ],
      "execution_count": 63,
      "outputs": []
    },
    {
      "cell_type": "code",
      "metadata": {
        "colab": {
          "base_uri": "https://localhost:8080/"
        },
        "id": "fbHG2EOOMWqN",
        "outputId": "1e210687-ab55-4c98-de12-c2b47f8dfc55"
      },
      "source": [
        "get_recommendations('요리코를 위해')"
      ],
      "execution_count": 64,
      "outputs": [
        {
          "output_type": "execute_result",
          "data": {
            "text/plain": [
              "4275        이노엘리 2\n",
              "2772        블랙 러시안\n",
              "3831    괴물 이야기 (하)\n",
              "4612    괴물 이야기 (상)\n",
              "1715    소풍 버스 납치사건\n",
              "8705        너는 누구니\n",
              "2771        복수의 미학\n",
              "1205         1의 비극\n",
              "9681      괴물이 산다 3\n",
              "9682      괴물이 산다 2\n",
              "Name: title, dtype: object"
            ]
          },
          "metadata": {
            "tags": []
          },
          "execution_count": 64
        }
      ]
    },
    {
      "cell_type": "code",
      "metadata": {
        "id": "lguN0FwGBjjC"
      },
      "source": [
        "def get_recommendations2(title, cosine_sim=cosine_sim):\n",
        "    # for i in range(title):\n",
        "        # 선택된 책의 장르로부터 해당되는 인덱스를 받아옵니다. 이제 선택한 장르를 가지고 연산할 수 있습니다.\n",
        "        idx = indices[title]\n",
        "        \n",
        "        # 모든 에 대해서 해당 영화와의 유사도를 구합니다.\n",
        "        sim_scores = list(enumerate(cosine_sim[idx]))\n",
        "\n",
        "        # 유사도에 따라 영화들을 정렬합니다.\n",
        "        sim_scores = sorted(sim_scores, key=lambda x: x[1], reverse=True)\n",
        "\n",
        "        # 가장 유사한 10개의 영화를 받아옵니다.\n",
        "        sim_scores = sim_scores[1:2]\n",
        "\n",
        "        # 가장 유사한 10개의 영화의 인덱스를 받아옵니다.\n",
        "        movie_indices = [i[0] for i in sim_scores]\n",
        "\n",
        "        # 가장 유사한 10개의 영화의 제목을 리턴합니다.\n",
        "        return df_books['title'].iloc[movie_indices]"
      ],
      "execution_count": 71,
      "outputs": []
    },
    {
      "cell_type": "code",
      "metadata": {
        "id": "szkgFFVbz-P9",
        "outputId": "efeef8aa-0400-4fb4-b515-9d29fff7520b",
        "colab": {
          "base_uri": "https://localhost:8080/"
        }
      },
      "source": [
        "get_recommendations2('루팡의 딸')"
      ],
      "execution_count": 72,
      "outputs": [
        {
          "output_type": "execute_result",
          "data": {
            "text/plain": [
              "2905    어둠의 도둑\n",
              "Name: title, dtype: object"
            ]
          },
          "metadata": {
            "tags": []
          },
          "execution_count": 72
        }
      ]
    },
    {
      "cell_type": "code",
      "metadata": {
        "id": "ZA2nO5pk19Ro"
      },
      "source": [
        "def get_recommendations3(title, cosine_sim=cosine_sim):\n",
        "    # for i in range(title):\n",
        "        # 선택된 책의 장르로부터 해당되는 인덱스를 받아옵니다. 이제 선택한 장르를 가지고 연산할 수 있습니다.\n",
        "        idx = indices[title]\n",
        "        \n",
        "        # 모든 에 대해서 해당 영화와의 유사도를 구합니다.\n",
        "        sim_scores = list(enumerate(cosine_sim[idx]))\n",
        "\n",
        "        # 유사도에 따라 영화들을 정렬합니다.\n",
        "        sim_scores = sorted(sim_scores, key=lambda x: x[1], reverse=True)\n",
        "\n",
        "        # 가장 유사한 10개의 영화를 받아옵니다.\n",
        "        sim_scores = sim_scores[1:11]\n",
        "\n",
        "        # 가장 유사한 10개의 영화의 인덱스를 받아옵니다.\n",
        "        movie_indices = [i[0] for i in sim_scores]\n",
        "\n",
        "        # 가장 유사한 10개의 영화의 제목을 리턴합니다.\n",
        "        return df_books['title'].iloc[movie_indices]"
      ],
      "execution_count": 67,
      "outputs": []
    },
    {
      "cell_type": "code",
      "metadata": {
        "id": "Ot5gB1ydvyJu",
        "outputId": "545adcea-11da-408e-a6fb-507a9b5a2d45",
        "colab": {
          "base_uri": "https://localhost:8080/"
        }
      },
      "source": [
        "get_recommendations3('그녀는 다 계획이 있다')"
      ],
      "execution_count": 68,
      "outputs": [
        {
          "output_type": "execute_result",
          "data": {
            "text/plain": [
              "1809             악마, 할로윈 파티에서 죽다\n",
              "1296                    보라색 위크엔드\n",
              "2709                    청계산장의 재판\n",
              "10107                 파티시엘 강나예 2\n",
              "10108                 파티시엘 강나예 1\n",
              "414                      46번째 밀실\n",
              "19                    하쿠바산장 살인사건\n",
              "2551             다잉 아이 Dying Eye\n",
              "8640                    인소의 법칙 6\n",
              "9786     인소의 법칙 6 오디오 드라마 CD 한정판\n",
              "Name: title, dtype: object"
            ]
          },
          "metadata": {
            "tags": []
          },
          "execution_count": 68
        }
      ]
    },
    {
      "cell_type": "code",
      "metadata": {
        "id": "_VP1dnquGBN5"
      },
      "source": [
        ""
      ],
      "execution_count": null,
      "outputs": []
    }
  ]
}