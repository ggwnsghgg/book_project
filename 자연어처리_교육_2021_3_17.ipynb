{
  "nbformat": 4,
  "nbformat_minor": 0,
  "metadata": {
    "colab": {
      "name": "자연어처리 교육 2021/3/17.ipynb",
      "provenance": [],
      "collapsed_sections": [],
      "include_colab_link": true
    },
    "kernelspec": {
      "name": "python3",
      "display_name": "Python 3"
    }
  },
  "cells": [
    {
      "cell_type": "markdown",
      "metadata": {
        "id": "view-in-github",
        "colab_type": "text"
      },
      "source": [
        "<a href=\"https://colab.research.google.com/github/ggwnsghgg/book_project/blob/main/%EC%9E%90%EC%97%B0%EC%96%B4%EC%B2%98%EB%A6%AC_%EA%B5%90%EC%9C%A1_2021_3_17.ipynb\" target=\"_parent\"><img src=\"https://colab.research.google.com/assets/colab-badge.svg\" alt=\"Open In Colab\"/></a>"
      ]
    },
    {
      "cell_type": "markdown",
      "metadata": {
        "id": "EmJDckweJu_V"
      },
      "source": [
        "# 1. 환경 준비\n",
        "1. 라이브러리 다운로드\n",
        "2. 3줄짜리 간단한 데이터셋(dataset.txt)이 만들어집니다. (파일보기 +  새로고침 후 확인)\n",
        "\n",
        "**자체 데이터셋을 사용할 경우 한 문장이 한줄에 들어가는 파일로 dataset.txt로 저장 후 기존 파일을 덮어쓰기 하면 됩니다.**"
      ]
    },
    {
      "cell_type": "code",
      "metadata": {
        "id": "yAbZ99ufAUus",
        "colab": {
          "base_uri": "https://localhost:8080/"
        },
        "outputId": "cd9a4b92-fbb9-46f0-89ca-873efac4a764"
      },
      "source": [
        "!git clone https://github.com/kiyoungkim1/ReadyToUseAI\n",
        "\n",
        "from ReadyToUseAI.src.nlp import make_sample_dataset, count, tfidf\n",
        "make_sample_dataset.simple()"
      ],
      "execution_count": null,
      "outputs": [
        {
          "output_type": "stream",
          "text": [
            "Cloning into 'ReadyToUseAI'...\n",
            "remote: Enumerating objects: 152, done.\u001b[K\n",
            "remote: Counting objects: 100% (152/152), done.\u001b[K\n",
            "remote: Compressing objects: 100% (99/99), done.\u001b[K\n",
            "remote: Total 152 (delta 78), reused 81 (delta 38), pack-reused 0\u001b[K\n",
            "Receiving objects: 100% (152/152), 33.61 KiB | 3.73 MiB/s, done.\n",
            "Resolving deltas: 100% (78/78), done.\n"
          ],
          "name": "stdout"
        },
        {
          "output_type": "execute_result",
          "data": {
            "text/plain": [
              "['학교에 가서 수업을 들었다. 학교에 간건 오랜만이다.', '학교에 가서 친구 얘기를 들었다.', '내일 가서 뭐 먹지?']"
            ]
          },
          "metadata": {
            "tags": []
          },
          "execution_count": 1
        }
      ]
    },
    {
      "cell_type": "markdown",
      "metadata": {
        "id": "pEPi_qnDK577"
      },
      "source": [
        "# 2.1. COUNT or TFIDF 실행"
      ]
    },
    {
      "cell_type": "code",
      "metadata": {
        "id": "81DaDwtHH0sG",
        "colab": {
          "base_uri": "https://localhost:8080/",
          "height": 191
        },
        "outputId": "5fa6ec00-8738-4d5f-fe0d-0837b117c061"
      },
      "source": [
        "# 단어 빈도수를 계산 후 결과를 엑셀파일로 저장할 경우 실행\r\n",
        "\r\n",
        "df, _ = count.apply(dataset_path='dataset.txt', save_path='count.xlsx')\r\n",
        "df"
      ],
      "execution_count": null,
      "outputs": [
        {
          "output_type": "stream",
          "text": [
            "Result is saved at count.xlsx\n"
          ],
          "name": "stdout"
        },
        {
          "output_type": "execute_result",
          "data": {
            "text/html": [
              "<div>\n",
              "<style scoped>\n",
              "    .dataframe tbody tr th:only-of-type {\n",
              "        vertical-align: middle;\n",
              "    }\n",
              "\n",
              "    .dataframe tbody tr th {\n",
              "        vertical-align: top;\n",
              "    }\n",
              "\n",
              "    .dataframe thead th {\n",
              "        text-align: right;\n",
              "    }\n",
              "</style>\n",
              "<table border=\"1\" class=\"dataframe\">\n",
              "  <thead>\n",
              "    <tr style=\"text-align: right;\">\n",
              "      <th></th>\n",
              "      <th>가서</th>\n",
              "      <th>학교에</th>\n",
              "      <th>들었다</th>\n",
              "      <th>간건</th>\n",
              "      <th>내일</th>\n",
              "      <th>먹지</th>\n",
              "      <th>수업을</th>\n",
              "      <th>얘기를</th>\n",
              "      <th>오랜만이다</th>\n",
              "      <th>친구</th>\n",
              "    </tr>\n",
              "  </thead>\n",
              "  <tbody>\n",
              "    <tr>\n",
              "      <th>total</th>\n",
              "      <td>3</td>\n",
              "      <td>3</td>\n",
              "      <td>2</td>\n",
              "      <td>1</td>\n",
              "      <td>1</td>\n",
              "      <td>1</td>\n",
              "      <td>1</td>\n",
              "      <td>1</td>\n",
              "      <td>1</td>\n",
              "      <td>1</td>\n",
              "    </tr>\n",
              "    <tr>\n",
              "      <th>학교에 가서 수업을 들었다. 학교에 간건 오랜만이다.</th>\n",
              "      <td>1</td>\n",
              "      <td>2</td>\n",
              "      <td>1</td>\n",
              "      <td>1</td>\n",
              "      <td>0</td>\n",
              "      <td>0</td>\n",
              "      <td>1</td>\n",
              "      <td>0</td>\n",
              "      <td>1</td>\n",
              "      <td>0</td>\n",
              "    </tr>\n",
              "    <tr>\n",
              "      <th>학교에 가서 친구 얘기를 들었다.</th>\n",
              "      <td>1</td>\n",
              "      <td>1</td>\n",
              "      <td>1</td>\n",
              "      <td>0</td>\n",
              "      <td>0</td>\n",
              "      <td>0</td>\n",
              "      <td>0</td>\n",
              "      <td>1</td>\n",
              "      <td>0</td>\n",
              "      <td>1</td>\n",
              "    </tr>\n",
              "    <tr>\n",
              "      <th>내일 가서 뭐 먹지?</th>\n",
              "      <td>1</td>\n",
              "      <td>0</td>\n",
              "      <td>0</td>\n",
              "      <td>0</td>\n",
              "      <td>1</td>\n",
              "      <td>1</td>\n",
              "      <td>0</td>\n",
              "      <td>0</td>\n",
              "      <td>0</td>\n",
              "      <td>0</td>\n",
              "    </tr>\n",
              "  </tbody>\n",
              "</table>\n",
              "</div>"
            ],
            "text/plain": [
              "                               가서  학교에  들었다  간건  내일  먹지  수업을  얘기를  오랜만이다  친구\n",
              "total                           3    3    2   1   1   1    1    1      1   1\n",
              "학교에 가서 수업을 들었다. 학교에 간건 오랜만이다.   1    2    1   1   0   0    1    0      1   0\n",
              "학교에 가서 친구 얘기를 들었다.              1    1    1   0   0   0    0    1      0   1\n",
              "내일 가서 뭐 먹지?                     1    0    0   0   1   1    0    0      0   0"
            ]
          },
          "metadata": {
            "tags": []
          },
          "execution_count": 2
        }
      ]
    },
    {
      "cell_type": "code",
      "metadata": {
        "id": "80bH9LIWJmZb",
        "colab": {
          "base_uri": "https://localhost:8080/",
          "height": 191
        },
        "outputId": "3c03e656-2f4a-414b-cc5c-72b0bb7c7a1d"
      },
      "source": [
        "# TFIDF를 계산 후 결과를 엑셀파일로 저장할 경우 실행\r\n",
        "\r\n",
        "df, _ = tfidf.apply(dataset_path='dataset.txt', save_path='tfidf.xlsx')\r\n",
        "df"
      ],
      "execution_count": null,
      "outputs": [
        {
          "output_type": "stream",
          "text": [
            "Result is saved at tfidf.xlsx\n"
          ],
          "name": "stdout"
        },
        {
          "output_type": "execute_result",
          "data": {
            "text/html": [
              "<div>\n",
              "<style scoped>\n",
              "    .dataframe tbody tr th:only-of-type {\n",
              "        vertical-align: middle;\n",
              "    }\n",
              "\n",
              "    .dataframe tbody tr th {\n",
              "        vertical-align: top;\n",
              "    }\n",
              "\n",
              "    .dataframe thead th {\n",
              "        text-align: right;\n",
              "    }\n",
              "</style>\n",
              "<table border=\"1\" class=\"dataframe\">\n",
              "  <thead>\n",
              "    <tr style=\"text-align: right;\">\n",
              "      <th></th>\n",
              "      <th>학교에</th>\n",
              "      <th>가서</th>\n",
              "      <th>들었다</th>\n",
              "      <th>내일</th>\n",
              "      <th>먹지</th>\n",
              "      <th>얘기를</th>\n",
              "      <th>친구</th>\n",
              "      <th>간건</th>\n",
              "      <th>수업을</th>\n",
              "      <th>오랜만이다</th>\n",
              "    </tr>\n",
              "  </thead>\n",
              "  <tbody>\n",
              "    <tr>\n",
              "      <th>total</th>\n",
              "      <td>1.015059</td>\n",
              "      <td>0.937236</td>\n",
              "      <td>0.710626</td>\n",
              "      <td>0.652491</td>\n",
              "      <td>0.652491</td>\n",
              "      <td>0.534093</td>\n",
              "      <td>0.534093</td>\n",
              "      <td>0.400294</td>\n",
              "      <td>0.400294</td>\n",
              "      <td>0.400294</td>\n",
              "    </tr>\n",
              "    <tr>\n",
              "      <th>학교에 가서 수업을 들었다. 학교에 간건 오랜만이다.</th>\n",
              "      <td>0.608868</td>\n",
              "      <td>0.236420</td>\n",
              "      <td>0.304434</td>\n",
              "      <td>0.000000</td>\n",
              "      <td>0.000000</td>\n",
              "      <td>0.000000</td>\n",
              "      <td>0.000000</td>\n",
              "      <td>0.400294</td>\n",
              "      <td>0.400294</td>\n",
              "      <td>0.400294</td>\n",
              "    </tr>\n",
              "    <tr>\n",
              "      <th>학교에 가서 친구 얘기를 들었다.</th>\n",
              "      <td>0.406192</td>\n",
              "      <td>0.315444</td>\n",
              "      <td>0.406192</td>\n",
              "      <td>0.000000</td>\n",
              "      <td>0.000000</td>\n",
              "      <td>0.534093</td>\n",
              "      <td>0.534093</td>\n",
              "      <td>0.000000</td>\n",
              "      <td>0.000000</td>\n",
              "      <td>0.000000</td>\n",
              "    </tr>\n",
              "    <tr>\n",
              "      <th>내일 가서 뭐 먹지?</th>\n",
              "      <td>0.000000</td>\n",
              "      <td>0.385372</td>\n",
              "      <td>0.000000</td>\n",
              "      <td>0.652491</td>\n",
              "      <td>0.652491</td>\n",
              "      <td>0.000000</td>\n",
              "      <td>0.000000</td>\n",
              "      <td>0.000000</td>\n",
              "      <td>0.000000</td>\n",
              "      <td>0.000000</td>\n",
              "    </tr>\n",
              "  </tbody>\n",
              "</table>\n",
              "</div>"
            ],
            "text/plain": [
              "                                    학교에        가서  ...       수업을     오랜만이다\n",
              "total                          1.015059  0.937236  ...  0.400294  0.400294\n",
              "학교에 가서 수업을 들었다. 학교에 간건 오랜만이다.  0.608868  0.236420  ...  0.400294  0.400294\n",
              "학교에 가서 친구 얘기를 들었다.             0.406192  0.315444  ...  0.000000  0.000000\n",
              "내일 가서 뭐 먹지?                    0.000000  0.385372  ...  0.000000  0.000000\n",
              "\n",
              "[4 rows x 10 columns]"
            ]
          },
          "metadata": {
            "tags": []
          },
          "execution_count": 3
        }
      ]
    },
    {
      "cell_type": "markdown",
      "metadata": {
        "id": "SDkh8OVRNmOo"
      },
      "source": [
        "# 2.2. 문장 유사도 구하기\r\n",
        "2.1.을 실행할 필요없이 바로 실행해도 된다.    \r\n",
        "text에 원하는 문장을 넣고 실행하면, 해당 문장과 가장 유사한 문장을 dataset.txt에서 찾아 순서대로 보여준다."
      ]
    },
    {
      "cell_type": "code",
      "metadata": {
        "id": "sF57eE6XNmsH",
        "colab": {
          "base_uri": "https://localhost:8080/",
          "height": 191
        },
        "outputId": "0bdc4291-d15b-4ec6-b554-b10b0059aac1"
      },
      "source": [
        "# 단어 빈도수를 계산 후 아래의 text와 유사한 문장 고르기\r\n",
        "\r\n",
        "text = '학교 가서'\r\n",
        "df = count.find_similar_sentence(text, dataset_path='dataset.txt', save_path='count_similarity.xlsx')\r\n",
        "df"
      ],
      "execution_count": null,
      "outputs": [
        {
          "output_type": "stream",
          "text": [
            "Result is saved at count_similarity.xlsx\n"
          ],
          "name": "stdout"
        },
        {
          "output_type": "execute_result",
          "data": {
            "text/html": [
              "<div>\n",
              "<style scoped>\n",
              "    .dataframe tbody tr th:only-of-type {\n",
              "        vertical-align: middle;\n",
              "    }\n",
              "\n",
              "    .dataframe tbody tr th {\n",
              "        vertical-align: top;\n",
              "    }\n",
              "\n",
              "    .dataframe thead th {\n",
              "        text-align: right;\n",
              "    }\n",
              "</style>\n",
              "<table border=\"1\" class=\"dataframe\">\n",
              "  <thead>\n",
              "    <tr style=\"text-align: right;\">\n",
              "      <th></th>\n",
              "      <th>similarity</th>\n",
              "      <th>가서</th>\n",
              "      <th>학교에</th>\n",
              "      <th>들었다</th>\n",
              "      <th>간건</th>\n",
              "      <th>내일</th>\n",
              "      <th>먹지</th>\n",
              "      <th>수업을</th>\n",
              "      <th>얘기를</th>\n",
              "      <th>오랜만이다</th>\n",
              "      <th>친구</th>\n",
              "    </tr>\n",
              "  </thead>\n",
              "  <tbody>\n",
              "    <tr>\n",
              "      <th>내일 가서 뭐 먹지?</th>\n",
              "      <td>0.577350</td>\n",
              "      <td>1</td>\n",
              "      <td>0</td>\n",
              "      <td>0</td>\n",
              "      <td>0</td>\n",
              "      <td>1</td>\n",
              "      <td>1</td>\n",
              "      <td>0</td>\n",
              "      <td>0</td>\n",
              "      <td>0</td>\n",
              "      <td>0</td>\n",
              "    </tr>\n",
              "    <tr>\n",
              "      <th>total</th>\n",
              "      <td>0.557086</td>\n",
              "      <td>3</td>\n",
              "      <td>3</td>\n",
              "      <td>2</td>\n",
              "      <td>1</td>\n",
              "      <td>1</td>\n",
              "      <td>1</td>\n",
              "      <td>1</td>\n",
              "      <td>1</td>\n",
              "      <td>1</td>\n",
              "      <td>1</td>\n",
              "    </tr>\n",
              "    <tr>\n",
              "      <th>학교에 가서 친구 얘기를 들었다.</th>\n",
              "      <td>0.447214</td>\n",
              "      <td>1</td>\n",
              "      <td>1</td>\n",
              "      <td>1</td>\n",
              "      <td>0</td>\n",
              "      <td>0</td>\n",
              "      <td>0</td>\n",
              "      <td>0</td>\n",
              "      <td>1</td>\n",
              "      <td>0</td>\n",
              "      <td>1</td>\n",
              "    </tr>\n",
              "    <tr>\n",
              "      <th>학교에 가서 수업을 들었다. 학교에 간건 오랜만이다.</th>\n",
              "      <td>0.333333</td>\n",
              "      <td>1</td>\n",
              "      <td>2</td>\n",
              "      <td>1</td>\n",
              "      <td>1</td>\n",
              "      <td>0</td>\n",
              "      <td>0</td>\n",
              "      <td>1</td>\n",
              "      <td>0</td>\n",
              "      <td>1</td>\n",
              "      <td>0</td>\n",
              "    </tr>\n",
              "  </tbody>\n",
              "</table>\n",
              "</div>"
            ],
            "text/plain": [
              "                               similarity  가서  학교에  들었다  ...  수업을  얘기를  오랜만이다  친구\n",
              "내일 가서 뭐 먹지?                      0.577350   1    0    0  ...    0    0      0   0\n",
              "total                            0.557086   3    3    2  ...    1    1      1   1\n",
              "학교에 가서 친구 얘기를 들었다.               0.447214   1    1    1  ...    0    1      0   1\n",
              "학교에 가서 수업을 들었다. 학교에 간건 오랜만이다.    0.333333   1    2    1  ...    1    0      1   0\n",
              "\n",
              "[4 rows x 11 columns]"
            ]
          },
          "metadata": {
            "tags": []
          },
          "execution_count": 4
        }
      ]
    },
    {
      "cell_type": "code",
      "metadata": {
        "id": "fFFMZoFmOAaW",
        "colab": {
          "base_uri": "https://localhost:8080/",
          "height": 191
        },
        "outputId": "aa02b67f-aef2-4340-a7b1-8aef7cf3b2f0"
      },
      "source": [
        "# 단어 빈도수를 계산 후 아래의 text와 유사한 문장 고르기\r\n",
        "\r\n",
        "text = '학교 가서'\r\n",
        "df = tfidf.find_similar_sentence(text, dataset_path='dataset.txt', save_path='tfidf_similarity.xlsx')\r\n",
        "df"
      ],
      "execution_count": null,
      "outputs": [
        {
          "output_type": "stream",
          "text": [
            "Result is saved at tfidf_similarity.xlsx\n"
          ],
          "name": "stdout"
        },
        {
          "output_type": "execute_result",
          "data": {
            "text/html": [
              "<div>\n",
              "<style scoped>\n",
              "    .dataframe tbody tr th:only-of-type {\n",
              "        vertical-align: middle;\n",
              "    }\n",
              "\n",
              "    .dataframe tbody tr th {\n",
              "        vertical-align: top;\n",
              "    }\n",
              "\n",
              "    .dataframe thead th {\n",
              "        text-align: right;\n",
              "    }\n",
              "</style>\n",
              "<table border=\"1\" class=\"dataframe\">\n",
              "  <thead>\n",
              "    <tr style=\"text-align: right;\">\n",
              "      <th></th>\n",
              "      <th>similarity</th>\n",
              "      <th>학교에</th>\n",
              "      <th>가서</th>\n",
              "      <th>들었다</th>\n",
              "      <th>내일</th>\n",
              "      <th>먹지</th>\n",
              "      <th>얘기를</th>\n",
              "      <th>친구</th>\n",
              "      <th>간건</th>\n",
              "      <th>수업을</th>\n",
              "      <th>오랜만이다</th>\n",
              "    </tr>\n",
              "  </thead>\n",
              "  <tbody>\n",
              "    <tr>\n",
              "      <th>학교에 가서 수업을 들었다. 학교에 간건 오랜만이다.</th>\n",
              "      <td>0.608868</td>\n",
              "      <td>0.608868</td>\n",
              "      <td>0.236420</td>\n",
              "      <td>0.304434</td>\n",
              "      <td>0.000000</td>\n",
              "      <td>0.000000</td>\n",
              "      <td>0.000000</td>\n",
              "      <td>0.000000</td>\n",
              "      <td>0.400294</td>\n",
              "      <td>0.400294</td>\n",
              "      <td>0.400294</td>\n",
              "    </tr>\n",
              "    <tr>\n",
              "      <th>total</th>\n",
              "      <td>0.488571</td>\n",
              "      <td>1.015059</td>\n",
              "      <td>0.937236</td>\n",
              "      <td>0.710626</td>\n",
              "      <td>0.652491</td>\n",
              "      <td>0.652491</td>\n",
              "      <td>0.534093</td>\n",
              "      <td>0.534093</td>\n",
              "      <td>0.400294</td>\n",
              "      <td>0.400294</td>\n",
              "      <td>0.400294</td>\n",
              "    </tr>\n",
              "    <tr>\n",
              "      <th>학교에 가서 친구 얘기를 들었다.</th>\n",
              "      <td>0.406192</td>\n",
              "      <td>0.406192</td>\n",
              "      <td>0.315444</td>\n",
              "      <td>0.406192</td>\n",
              "      <td>0.000000</td>\n",
              "      <td>0.000000</td>\n",
              "      <td>0.534093</td>\n",
              "      <td>0.534093</td>\n",
              "      <td>0.000000</td>\n",
              "      <td>0.000000</td>\n",
              "      <td>0.000000</td>\n",
              "    </tr>\n",
              "    <tr>\n",
              "      <th>내일 가서 뭐 먹지?</th>\n",
              "      <td>0.000000</td>\n",
              "      <td>0.000000</td>\n",
              "      <td>0.385372</td>\n",
              "      <td>0.000000</td>\n",
              "      <td>0.652491</td>\n",
              "      <td>0.652491</td>\n",
              "      <td>0.000000</td>\n",
              "      <td>0.000000</td>\n",
              "      <td>0.000000</td>\n",
              "      <td>0.000000</td>\n",
              "      <td>0.000000</td>\n",
              "    </tr>\n",
              "  </tbody>\n",
              "</table>\n",
              "</div>"
            ],
            "text/plain": [
              "                               similarity       학교에  ...       수업을     오랜만이다\n",
              "학교에 가서 수업을 들었다. 학교에 간건 오랜만이다.    0.608868  0.608868  ...  0.400294  0.400294\n",
              "total                            0.488571  1.015059  ...  0.400294  0.400294\n",
              "학교에 가서 친구 얘기를 들었다.               0.406192  0.406192  ...  0.000000  0.000000\n",
              "내일 가서 뭐 먹지?                      0.000000  0.000000  ...  0.000000  0.000000\n",
              "\n",
              "[4 rows x 11 columns]"
            ]
          },
          "metadata": {
            "tags": []
          },
          "execution_count": 5
        }
      ]
    }
  ]
}